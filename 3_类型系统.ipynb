{
 "cells": [
  {
   "cell_type": "markdown",
   "id": "24790dc9",
   "metadata": {},
   "source": [
    "# 类型系统 "
   ]
  },
  {
   "cell_type": "code",
   "execution_count": 1,
   "id": "4cd9a4cc",
   "metadata": {},
   "outputs": [
    {
     "data": {
      "text/plain": [
       "2-element Vector{Function}:\n",
       " revise (generic function with 3 methods)\n",
       " format_current_cell (generic function with 1 method)"
      ]
     },
     "execution_count": 1,
     "metadata": {},
     "output_type": "execute_result"
    }
   ],
   "source": [
    "using JupyterFormatter\n",
    "enable_autoformat()"
   ]
  },
  {
   "cell_type": "markdown",
   "id": "4b8d0fbf",
   "metadata": {},
   "source": [
    "+ 与二进制存储结构相关联的成为元类型 `primitive type`, 如`Int32`, `Int64`这种，在定义元类型时要声明**位数**， 且位数必须为8的倍数"
   ]
  },
  {
   "cell_type": "markdown",
   "id": "4e2a0850",
   "metadata": {},
   "source": [
    "## 元类型"
   ]
  },
  {
   "cell_type": "code",
   "execution_count": 2,
   "id": "6730945b",
   "metadata": {},
   "outputs": [],
   "source": [
    "# 256位正数\n",
    "primitive type Int256 <: Integer 256 end"
   ]
  },
  {
   "cell_type": "code",
   "execution_count": 3,
   "id": "a6d9b9cb",
   "metadata": {},
   "outputs": [],
   "source": [
    "# 8位浮点数\n",
    "primitive type Float8 <: AbstractFloat 8 end"
   ]
  },
  {
   "cell_type": "markdown",
   "id": "439659c5",
   "metadata": {},
   "source": [
    "+ 与抽象概念相关，被用来继承的类型为`Abstract Type`, 如`Real`, `Integer`, `AbstractFloat`"
   ]
  },
  {
   "cell_type": "markdown",
   "id": "1cdacfdd",
   "metadata": {},
   "source": [
    "## 抽象类型"
   ]
  },
  {
   "cell_type": "code",
   "execution_count": 4,
   "id": "5b70d1b3",
   "metadata": {},
   "outputs": [],
   "source": [
    "abstract type name end\n",
    "abstract type family_name <: name end"
   ]
  },
  {
   "cell_type": "code",
   "execution_count": 5,
   "id": "f5ee98ba",
   "metadata": {},
   "outputs": [
    {
     "data": {
      "text/plain": [
       "true"
      ]
     },
     "execution_count": 5,
     "metadata": {},
     "output_type": "execute_result"
    }
   ],
   "source": [
    "family_name <: name"
   ]
  },
  {
   "cell_type": "code",
   "execution_count": 6,
   "id": "e41ff430",
   "metadata": {},
   "outputs": [
    {
     "data": {
      "text/plain": [
       "name"
      ]
     },
     "execution_count": 6,
     "metadata": {},
     "output_type": "execute_result"
    }
   ],
   "source": [
    "supertype(family_name)"
   ]
  },
  {
   "cell_type": "code",
   "execution_count": 7,
   "id": "231bf556",
   "metadata": {},
   "outputs": [
    {
     "data": {
      "text/plain": [
       "1-element Vector{Any}:\n",
       " family_name"
      ]
     },
     "execution_count": 7,
     "metadata": {},
     "output_type": "execute_result"
    }
   ],
   "source": [
    "subtypes(name)"
   ]
  },
  {
   "cell_type": "code",
   "execution_count": 8,
   "id": "43963d7a",
   "metadata": {},
   "outputs": [
    {
     "data": {
      "text/plain": [
       "4-element Vector{Any}:\n",
       " Bool\n",
       " Int256\n",
       " Signed\n",
       " Unsigned"
      ]
     },
     "execution_count": 8,
     "metadata": {},
     "output_type": "execute_result"
    }
   ],
   "source": [
    "# 并不会递归查询\n",
    "subtypes(Integer)"
   ]
  },
  {
   "cell_type": "code",
   "execution_count": 9,
   "id": "73f6c302",
   "metadata": {},
   "outputs": [
    {
     "data": {
      "text/plain": [
       "6-element Vector{Any}:\n",
       " BigInt\n",
       " Int128\n",
       " Int16\n",
       " Int32\n",
       " Int64\n",
       " Int8"
      ]
     },
     "execution_count": 9,
     "metadata": {},
     "output_type": "execute_result"
    }
   ],
   "source": [
    "subtypes(Signed)"
   ]
  },
  {
   "cell_type": "markdown",
   "id": "87c957e2",
   "metadata": {},
   "source": [
    "##  类型的类型"
   ]
  },
  {
   "cell_type": "code",
   "execution_count": 10,
   "id": "cc02605f",
   "metadata": {},
   "outputs": [
    {
     "data": {
      "text/plain": [
       "DataType"
      ]
     },
     "execution_count": 10,
     "metadata": {},
     "output_type": "execute_result"
    }
   ],
   "source": [
    "typeof(Int64)"
   ]
  },
  {
   "cell_type": "code",
   "execution_count": 11,
   "id": "2d0bbc95",
   "metadata": {},
   "outputs": [
    {
     "data": {
      "text/plain": [
       "DataType"
      ]
     },
     "execution_count": 11,
     "metadata": {},
     "output_type": "execute_result"
    }
   ],
   "source": [
    "typeof(AbstractFloat)"
   ]
  },
  {
   "cell_type": "code",
   "execution_count": 12,
   "id": "51ec5fbb",
   "metadata": {},
   "outputs": [
    {
     "data": {
      "text/plain": [
       "DataType"
      ]
     },
     "execution_count": 12,
     "metadata": {},
     "output_type": "execute_result"
    }
   ],
   "source": [
    "typeof(DataType)"
   ]
  },
  {
   "cell_type": "markdown",
   "id": "3a709000",
   "metadata": {},
   "source": [
    "所有类型的类型是`DataType`，所有类型的父类型是`Any`, 所有类型的子类型都包含`Union`"
   ]
  },
  {
   "cell_type": "code",
   "execution_count": 13,
   "id": "f4569004",
   "metadata": {},
   "outputs": [
    {
     "data": {
      "text/plain": [
       "Real"
      ]
     },
     "execution_count": 13,
     "metadata": {},
     "output_type": "execute_result"
    }
   ],
   "source": [
    "Real::Any"
   ]
  },
  {
   "cell_type": "code",
   "execution_count": 14,
   "id": "b87a0d07",
   "metadata": {},
   "outputs": [
    {
     "data": {
      "text/plain": [
       "Any"
      ]
     },
     "execution_count": 14,
     "metadata": {},
     "output_type": "execute_result"
    }
   ],
   "source": [
    "# DataType和Any都是类型，Any是所有类型的父类型，而DataType是所有类型的类型\n",
    "\n",
    "DataType::Any\n",
    "\n",
    "Any::DataType"
   ]
  },
  {
   "cell_type": "code",
   "execution_count": 15,
   "id": "bab8a867",
   "metadata": {},
   "outputs": [
    {
     "data": {
      "text/plain": [
       "Union"
      ]
     },
     "execution_count": 15,
     "metadata": {},
     "output_type": "execute_result"
    }
   ],
   "source": [
    "Union::DataType"
   ]
  },
  {
   "cell_type": "code",
   "execution_count": 16,
   "id": "57be729a",
   "metadata": {},
   "outputs": [
    {
     "data": {
      "text/plain": [
       "Type{T}"
      ]
     },
     "execution_count": 16,
     "metadata": {},
     "output_type": "execute_result"
    }
   ],
   "source": [
    "# ?\n",
    "supertype(Union)"
   ]
  },
  {
   "cell_type": "markdown",
   "id": "aac15466",
   "metadata": {},
   "source": [
    "`DataType`的父类型是参数化类型`Type{T}`"
   ]
  },
  {
   "cell_type": "code",
   "execution_count": 17,
   "id": "d2a71915",
   "metadata": {},
   "outputs": [
    {
     "data": {
      "text/plain": [
       "Type{T}"
      ]
     },
     "execution_count": 17,
     "metadata": {},
     "output_type": "execute_result"
    }
   ],
   "source": [
    "supertype(DataType)"
   ]
  },
  {
   "cell_type": "code",
   "execution_count": 18,
   "id": "0363976e",
   "metadata": {},
   "outputs": [
    {
     "data": {
      "text/plain": [
       "Any"
      ]
     },
     "execution_count": 18,
     "metadata": {},
     "output_type": "execute_result"
    }
   ],
   "source": [
    "supertype(Type)"
   ]
  },
  {
   "cell_type": "markdown",
   "id": "f15b0dee",
   "metadata": {},
   "source": [
    "`Type{T}`可以看作类型生成器"
   ]
  },
  {
   "cell_type": "code",
   "execution_count": 19,
   "id": "ef4dbec8",
   "metadata": {},
   "outputs": [
    {
     "data": {
      "text/plain": [
       "true"
      ]
     },
     "execution_count": 19,
     "metadata": {},
     "output_type": "execute_result"
    }
   ],
   "source": [
    "isa(Int64, Type{Int64})"
   ]
  },
  {
   "cell_type": "code",
   "execution_count": 20,
   "id": "936b7eb3",
   "metadata": {},
   "outputs": [
    {
     "ename": "LoadError",
     "evalue": "UndefVarError: Pointy not defined",
     "output_type": "error",
     "traceback": [
      "UndefVarError: Pointy not defined",
      "",
      "Stacktrace:",
      " [1] top-level scope",
      "   @ In[20]:1",
      " [2] eval",
      "   @ .\\boot.jl:373 [inlined]",
      " [3] include_string(mapexpr::typeof(REPL.softscope), mod::Module, code::String, filename::String)",
      "   @ Base .\\loading.jl:1196"
     ]
    }
   ],
   "source": [
    "isa(Pointy, Type{Pointy})"
   ]
  },
  {
   "cell_type": "markdown",
   "id": "7c097fcc",
   "metadata": {},
   "source": [
    "##  复合类型"
   ]
  },
  {
   "cell_type": "code",
   "execution_count": 21,
   "id": "3ea4e65f",
   "metadata": {},
   "outputs": [],
   "source": [
    "struct FooA\n",
    "    a::Any\n",
    "    b::Float64\n",
    "end"
   ]
  },
  {
   "cell_type": "code",
   "execution_count": 22,
   "id": "53609f25",
   "metadata": {},
   "outputs": [],
   "source": [
    "mutable struct FooC\n",
    "    a::Any\n",
    "    b::Float64\n",
    "end"
   ]
  },
  {
   "cell_type": "code",
   "execution_count": 23,
   "id": "d2cc10fe",
   "metadata": {},
   "outputs": [
    {
     "name": "stdout",
     "output_type": "stream",
     "text": [
      "FooC <: Any\n",
      "  a::Any\n",
      "  b::Float64\n"
     ]
    }
   ],
   "source": [
    "dump(FooC)"
   ]
  },
  {
   "cell_type": "code",
   "execution_count": 24,
   "id": "1d180577",
   "metadata": {},
   "outputs": [
    {
     "data": {
      "text/plain": [
       "(:a, :b)"
      ]
     },
     "execution_count": 24,
     "metadata": {},
     "output_type": "execute_result"
    }
   ],
   "source": [
    "fieldnames(FooC)"
   ]
  },
  {
   "cell_type": "code",
   "execution_count": 25,
   "id": "4c92816f",
   "metadata": {},
   "outputs": [
    {
     "data": {
      "text/plain": [
       "DataType"
      ]
     },
     "execution_count": 25,
     "metadata": {},
     "output_type": "execute_result"
    }
   ],
   "source": [
    "typeof(FooA)"
   ]
  },
  {
   "cell_type": "code",
   "execution_count": 26,
   "id": "223ba5ab",
   "metadata": {},
   "outputs": [
    {
     "data": {
      "text/plain": [
       "FooA"
      ]
     },
     "execution_count": 26,
     "metadata": {},
     "output_type": "execute_result"
    }
   ],
   "source": [
    "typeof(FooA(1, 1.2::Float64))"
   ]
  },
  {
   "cell_type": "markdown",
   "id": "9d72d5af",
   "metadata": {},
   "source": [
    "###  构造函数"
   ]
  },
  {
   "cell_type": "markdown",
   "id": "dd8a8f41",
   "metadata": {},
   "source": [
    "+ 按照struct中类型指定，手动指定每一个field的类型\n",
    "+ 不指定每一个field的类型，julia会自动进行convert到struct的类型指定（不建议）\n",
    "\n",
    "> 一个struct实例化后，如果更改某一个field的值，他会自动将该值convert到struct的类型指定。\n",
    "\n",
    "任何一个struct在定义时对field进行了类型声明，那么任何一个实例化的struct的field的值都是该field的类型"
   ]
  },
  {
   "cell_type": "code",
   "execution_count": 27,
   "id": "19ee20d3",
   "metadata": {},
   "outputs": [
    {
     "data": {
      "text/plain": [
       "FooC(\"xue\", 23.0)"
      ]
     },
     "execution_count": 27,
     "metadata": {},
     "output_type": "execute_result"
    }
   ],
   "source": [
    "fooc = FooC(\"xue\", 23::Int64)"
   ]
  },
  {
   "cell_type": "code",
   "execution_count": 28,
   "id": "74fcb51e",
   "metadata": {},
   "outputs": [
    {
     "data": {
      "text/plain": [
       "2"
      ]
     },
     "execution_count": 28,
     "metadata": {},
     "output_type": "execute_result"
    }
   ],
   "source": [
    "fooc.b = Int16(2)"
   ]
  },
  {
   "cell_type": "code",
   "execution_count": 29,
   "id": "a5281b0b",
   "metadata": {},
   "outputs": [
    {
     "data": {
      "text/plain": [
       "Float64"
      ]
     },
     "execution_count": 29,
     "metadata": {},
     "output_type": "execute_result"
    }
   ],
   "source": [
    "typeof(fooc.b)"
   ]
  },
  {
   "cell_type": "code",
   "execution_count": 30,
   "id": "c6a8778e",
   "metadata": {},
   "outputs": [
    {
     "ename": "LoadError",
     "evalue": "InexactError: Float64(2 + 2im)",
     "output_type": "error",
     "traceback": [
      "InexactError: Float64(2 + 2im)",
      "",
      "Stacktrace:",
      " [1] Real",
      "   @ .\\complex.jl:44 [inlined]",
      " [2] convert",
      "   @ .\\number.jl:7 [inlined]",
      " [3] setproperty!(x::FooC, f::Symbol, v::Complex{Int64})",
      "   @ Base .\\Base.jl:43",
      " [4] top-level scope",
      "   @ In[30]:1",
      " [5] eval",
      "   @ .\\boot.jl:373 [inlined]",
      " [6] include_string(mapexpr::typeof(REPL.softscope), mod::Module, code::String, filename::String)",
      "   @ Base .\\loading.jl:1196"
     ]
    }
   ],
   "source": [
    "fooc.b = 2+2im"
   ]
  },
  {
   "cell_type": "code",
   "execution_count": 31,
   "id": "f847a95a",
   "metadata": {},
   "outputs": [],
   "source": [
    "mutable struct FooD\n",
    "    c::Any\n",
    "    d::FooC\n",
    "end"
   ]
  },
  {
   "cell_type": "code",
   "execution_count": 32,
   "id": "0b11de5e",
   "metadata": {},
   "outputs": [
    {
     "data": {
      "text/plain": [
       "FooD(1, FooC(2, 3.0))"
      ]
     },
     "execution_count": 32,
     "metadata": {},
     "output_type": "execute_result"
    }
   ],
   "source": [
    "food = FooD(1, FooC(2, 3))"
   ]
  },
  {
   "cell_type": "code",
   "execution_count": 33,
   "id": "df949160",
   "metadata": {},
   "outputs": [
    {
     "data": {
      "text/plain": [
       "3.0"
      ]
     },
     "execution_count": 33,
     "metadata": {},
     "output_type": "execute_result"
    }
   ],
   "source": [
    "food.d.b"
   ]
  },
  {
   "cell_type": "markdown",
   "id": "bc7f96ed",
   "metadata": {},
   "source": [
    "struct的mutable的标识符只控制着本层的可变性，它不会涉及到外层和内层，也不会在上下层中传播"
   ]
  },
  {
   "cell_type": "code",
   "execution_count": 34,
   "id": "e7cd3dd6",
   "metadata": {},
   "outputs": [
    {
     "data": {
      "text/plain": [
       "Int64<:a<:Real"
      ]
     },
     "execution_count": 34,
     "metadata": {},
     "output_type": "execute_result"
    }
   ],
   "source": [
    "T = TypeVar(:a, Int64, Real)"
   ]
  },
  {
   "cell_type": "code",
   "execution_count": 35,
   "id": "e8e8a3cf",
   "metadata": {},
   "outputs": [
    {
     "data": {
      "text/plain": [
       ":a"
      ]
     },
     "execution_count": 35,
     "metadata": {},
     "output_type": "execute_result"
    }
   ],
   "source": [
    "T.name"
   ]
  },
  {
   "cell_type": "code",
   "execution_count": 36,
   "id": "f2ca10f0",
   "metadata": {},
   "outputs": [
    {
     "name": "stdout",
     "output_type": "stream",
     "text": [
      "TypeVar\n",
      "  name: Symbol a\n",
      "  lb: Int64 <: Signed\n",
      "  ub: Real <: Number\n"
     ]
    }
   ],
   "source": [
    "dump(T)"
   ]
  },
  {
   "cell_type": "markdown",
   "id": "3fe05a47",
   "metadata": {},
   "source": [
    "## 参数化类型"
   ]
  },
  {
   "cell_type": "markdown",
   "id": "5e1ad4d0",
   "metadata": {},
   "source": [
    "### 参数化复合类型"
   ]
  },
  {
   "cell_type": "code",
   "execution_count": 37,
   "id": "a052b911",
   "metadata": {},
   "outputs": [],
   "source": [
    "mutable struct Point1D{T}\n",
    "    x::T\n",
    "end"
   ]
  },
  {
   "cell_type": "code",
   "execution_count": 38,
   "id": "912959e9",
   "metadata": {},
   "outputs": [
    {
     "data": {
      "text/plain": [
       "true"
      ]
     },
     "execution_count": 38,
     "metadata": {},
     "output_type": "execute_result"
    }
   ],
   "source": [
    "# Poin1D可以被看作泛型\n",
    "Point1D{Int64} <: Point1D"
   ]
  },
  {
   "cell_type": "code",
   "execution_count": 39,
   "id": "c39bdf91",
   "metadata": {},
   "outputs": [
    {
     "data": {
      "text/plain": [
       "false"
      ]
     },
     "execution_count": 39,
     "metadata": {},
     "output_type": "execute_result"
    }
   ],
   "source": [
    "# 即使参数存在继承关系, 参数化符合类型也不存在继承关系\n",
    "Point1D{Int64} <: Point1D{Integer}"
   ]
  },
  {
   "cell_type": "code",
   "execution_count": 40,
   "id": "5c028a37",
   "metadata": {},
   "outputs": [
    {
     "data": {
      "text/plain": [
       "Point1D{Int64}(1)"
      ]
     },
     "execution_count": 40,
     "metadata": {},
     "output_type": "execute_result"
    }
   ],
   "source": [
    "point1 = Point1D{Int64}(1)"
   ]
  },
  {
   "cell_type": "code",
   "execution_count": 41,
   "id": "a579b63e",
   "metadata": {},
   "outputs": [
    {
     "data": {
      "text/plain": [
       "1"
      ]
     },
     "execution_count": 41,
     "metadata": {},
     "output_type": "execute_result"
    }
   ],
   "source": [
    "point1.x"
   ]
  },
  {
   "cell_type": "code",
   "execution_count": 42,
   "id": "83e1032c",
   "metadata": {},
   "outputs": [],
   "source": [
    "mutable struct Point3D{T1,T2}\n",
    "    x::T1\n",
    "    y::T1\n",
    "    z::T2\n",
    "end"
   ]
  },
  {
   "cell_type": "code",
   "execution_count": 43,
   "id": "4c81f1d5",
   "metadata": {},
   "outputs": [
    {
     "data": {
      "text/plain": [
       "Point3D{Int64, Float64}(1, 1, 2.0)"
      ]
     },
     "execution_count": 43,
     "metadata": {},
     "output_type": "execute_result"
    }
   ],
   "source": [
    "point2 = Point3D{Int64,Float64}(1, 1, 2)"
   ]
  },
  {
   "cell_type": "code",
   "execution_count": 44,
   "id": "c8e8ba1d",
   "metadata": {},
   "outputs": [
    {
     "data": {
      "text/plain": [
       "1"
      ]
     },
     "execution_count": 44,
     "metadata": {},
     "output_type": "execute_result"
    }
   ],
   "source": [
    "point2.x"
   ]
  },
  {
   "cell_type": "code",
   "execution_count": 45,
   "id": "126dbcda",
   "metadata": {},
   "outputs": [
    {
     "data": {
      "text/plain": [
       "2.0"
      ]
     },
     "execution_count": 45,
     "metadata": {},
     "output_type": "execute_result"
    }
   ],
   "source": [
    "point2.z"
   ]
  },
  {
   "cell_type": "markdown",
   "id": "f41bb629",
   "metadata": {},
   "source": [
    "实例化时，尽量不要在`fields`处指定类型，而是在复合类型处指定，这样julia会自动convert你设置的`fields`值到复合类型指定的类型，更加简洁"
   ]
  },
  {
   "cell_type": "code",
   "execution_count": 46,
   "id": "7bbc2503",
   "metadata": {},
   "outputs": [
    {
     "data": {
      "text/html": [
       "Point3D(x::<b>T1</b>, y::<b>T1</b>, z::<b>T2</b>)<i> where {T1, T2}</i> in Main at In[42]:2"
      ],
      "text/plain": [
       "Point3D(x::T1, y::T1, z::T2) where {T1, T2} in Main at In[42]:2"
      ]
     },
     "execution_count": 46,
     "metadata": {},
     "output_type": "execute_result"
    }
   ],
   "source": [
    "# 不恰当的做法\n",
    "@which Point3D(Int64(1), Int64(2), 3.0)"
   ]
  },
  {
   "cell_type": "markdown",
   "id": "7cd546f8",
   "metadata": {},
   "source": [
    "### 参数化抽象类型"
   ]
  },
  {
   "cell_type": "markdown",
   "id": "95951289",
   "metadata": {},
   "source": [
    "**restart kenerl**"
   ]
  },
  {
   "cell_type": "code",
   "execution_count": 47,
   "id": "2016d430",
   "metadata": {},
   "outputs": [],
   "source": [
    "abstract type Pointy{T} end"
   ]
  },
  {
   "cell_type": "code",
   "execution_count": 48,
   "id": "1e32318b",
   "metadata": {},
   "outputs": [
    {
     "ename": "LoadError",
     "evalue": "invalid redefinition of constant Point1D",
     "output_type": "error",
     "traceback": [
      "invalid redefinition of constant Point1D",
      "",
      "Stacktrace:",
      " [1] top-level scope",
      "   @ In[48]:1",
      " [2] eval",
      "   @ .\\boot.jl:373 [inlined]",
      " [3] include_string(mapexpr::typeof(REPL.softscope), mod::Module, code::String, filename::String)",
      "   @ Base .\\loading.jl:1196"
     ]
    }
   ],
   "source": [
    "mutable struct Point1D{T} <: Pointy{T}\n",
    "    x::T\n",
    "end"
   ]
  },
  {
   "cell_type": "code",
   "execution_count": 49,
   "id": "4e73432b",
   "metadata": {},
   "outputs": [],
   "source": [
    "mutable struct Poin2D{T} <: Pointy{T}\n",
    "    x::T\n",
    "    y::T\n",
    "end"
   ]
  },
  {
   "cell_type": "code",
   "execution_count": 50,
   "id": "0b3c3f45",
   "metadata": {},
   "outputs": [
    {
     "ename": "LoadError",
     "evalue": "invalid redefinition of constant Point3D",
     "output_type": "error",
     "traceback": [
      "invalid redefinition of constant Point3D",
      "",
      "Stacktrace:",
      " [1] top-level scope",
      "   @ In[50]:1",
      " [2] eval",
      "   @ .\\boot.jl:373 [inlined]",
      " [3] include_string(mapexpr::typeof(REPL.softscope), mod::Module, code::String, filename::String)",
      "   @ Base .\\loading.jl:1196"
     ]
    }
   ],
   "source": [
    "mutable struct Point3D{T} <: Pointy{T}\n",
    "    x::T\n",
    "    y::T\n",
    "    z::T\n",
    "end"
   ]
  },
  {
   "cell_type": "code",
   "execution_count": 51,
   "id": "d3365663",
   "metadata": {},
   "outputs": [
    {
     "data": {
      "text/plain": [
       "module_t (generic function with 1 method)"
      ]
     },
     "execution_count": 51,
     "metadata": {},
     "output_type": "execute_result"
    }
   ],
   "source": [
    "function module_t(p::Pointy)\n",
    "    m = 0\n",
    "    for field in fieldnames(typeof(p))\n",
    "        m += getfield(p, field)^2\n",
    "    end\n",
    "    return sqrt(m)\n",
    "end"
   ]
  },
  {
   "cell_type": "code",
   "execution_count": 52,
   "id": "4ec14cec",
   "metadata": {},
   "outputs": [
    {
     "data": {
      "text/plain": [
       "Poin2D{Float64}(2.0, 3.0)"
      ]
     },
     "execution_count": 52,
     "metadata": {},
     "output_type": "execute_result"
    }
   ],
   "source": [
    "p1 = Poin2D{Float64}(2, 3.0)"
   ]
  },
  {
   "cell_type": "code",
   "execution_count": 53,
   "id": "f21b3408",
   "metadata": {},
   "outputs": [
    {
     "data": {
      "text/plain": [
       "3.605551275463989"
      ]
     },
     "execution_count": 53,
     "metadata": {},
     "output_type": "execute_result"
    }
   ],
   "source": [
    "module_t(Poin2D(2.0, 3.0))"
   ]
  },
  {
   "cell_type": "code",
   "execution_count": 54,
   "id": "052f592d",
   "metadata": {},
   "outputs": [
    {
     "data": {
      "text/plain": [
       ":x"
      ]
     },
     "execution_count": 54,
     "metadata": {},
     "output_type": "execute_result"
    }
   ],
   "source": [
    "fieldnames(typeof(p1))[1]"
   ]
  },
  {
   "cell_type": "code",
   "execution_count": 55,
   "id": "bcccc0eb",
   "metadata": {},
   "outputs": [
    {
     "data": {
      "text/plain": [
       "2.0"
      ]
     },
     "execution_count": 55,
     "metadata": {},
     "output_type": "execute_result"
    }
   ],
   "source": [
    "getfield(p1, :x)"
   ]
  },
  {
   "cell_type": "markdown",
   "id": "4c6b5202",
   "metadata": {},
   "source": [
    "### 参数化元类型"
   ]
  },
  {
   "cell_type": "code",
   "execution_count": 56,
   "id": "42b8ac16",
   "metadata": {},
   "outputs": [],
   "source": [
    "primitive type ptr{T} 64 end"
   ]
  },
  {
   "cell_type": "markdown",
   "id": "4b99c99d",
   "metadata": {},
   "source": [
    "### 参数化基本原理（跳过）"
   ]
  },
  {
   "cell_type": "markdown",
   "id": "df5101e5",
   "metadata": {},
   "source": [
    "从这一块到最后有点麻烦，先跳过"
   ]
  },
  {
   "cell_type": "markdown",
   "id": "f969f9d4",
   "metadata": {},
   "source": [
    "+ `Union`是一个类型，`Union{T}`是`Union`的实例，`T`不为空时仍然是一个类型\n",
    "+ `Type`是一个类型，`Type{T}`是`Type`的一个实例，仍然是一个类型\n",
    "+ `DataType`是一个类型，也是一个实例\n",
    "+ `Type{T}`是`Any`的子类型，是`DataType`,`UnionAll`,`Union`,`Core.TypeofBottom`的父类型"
   ]
  },
  {
   "cell_type": "code",
   "execution_count": 57,
   "id": "42d4b03d",
   "metadata": {},
   "outputs": [
    {
     "data": {
      "text/plain": [
       "Type{T}"
      ]
     },
     "execution_count": 57,
     "metadata": {},
     "output_type": "execute_result"
    }
   ],
   "source": [
    "supertype(Union)"
   ]
  },
  {
   "cell_type": "code",
   "execution_count": 58,
   "id": "1e2b1e8a",
   "metadata": {},
   "outputs": [
    {
     "data": {
      "text/plain": [
       "Core.TypeofBottom"
      ]
     },
     "execution_count": 58,
     "metadata": {},
     "output_type": "execute_result"
    }
   ],
   "source": [
    "typeof(Union{})"
   ]
  },
  {
   "cell_type": "code",
   "execution_count": 59,
   "id": "278e8204",
   "metadata": {},
   "outputs": [
    {
     "data": {
      "text/plain": [
       "Signed"
      ]
     },
     "execution_count": 59,
     "metadata": {},
     "output_type": "execute_result"
    }
   ],
   "source": [
    "supertype(Union{Int64})"
   ]
  },
  {
   "cell_type": "code",
   "execution_count": 60,
   "id": "f2f2816a",
   "metadata": {},
   "outputs": [
    {
     "data": {
      "text/plain": [
       "Any"
      ]
     },
     "execution_count": 60,
     "metadata": {},
     "output_type": "execute_result"
    }
   ],
   "source": [
    "supertype(Any)"
   ]
  },
  {
   "cell_type": "code",
   "execution_count": 61,
   "id": "1af3c779",
   "metadata": {},
   "outputs": [
    {
     "data": {
      "text/plain": [
       "DataType"
      ]
     },
     "execution_count": 61,
     "metadata": {},
     "output_type": "execute_result"
    }
   ],
   "source": [
    "typeof(Core.TypeofBottom)"
   ]
  },
  {
   "cell_type": "code",
   "execution_count": 62,
   "id": "878ecb3b",
   "metadata": {},
   "outputs": [
    {
     "data": {
      "text/plain": [
       "Core.TypeofBottom"
      ]
     },
     "execution_count": 62,
     "metadata": {},
     "output_type": "execute_result"
    }
   ],
   "source": [
    "typeof(Union{})"
   ]
  },
  {
   "cell_type": "code",
   "execution_count": 63,
   "id": "052f80f6",
   "metadata": {},
   "outputs": [
    {
     "data": {
      "text/plain": [
       "UnionAll"
      ]
     },
     "execution_count": 63,
     "metadata": {},
     "output_type": "execute_result"
    }
   ],
   "source": [
    "typeof(Type{})"
   ]
  },
  {
   "cell_type": "code",
   "execution_count": null,
   "id": "3d8282d9",
   "metadata": {},
   "outputs": [],
   "source": []
  },
  {
   "cell_type": "code",
   "execution_count": 64,
   "id": "3377279b",
   "metadata": {},
   "outputs": [
    {
     "data": {
      "text/plain": [
       "UnionAll"
      ]
     },
     "execution_count": 64,
     "metadata": {},
     "output_type": "execute_result"
    }
   ],
   "source": [
    "typeof(Type)"
   ]
  },
  {
   "cell_type": "markdown",
   "id": "2914ec9a",
   "metadata": {},
   "source": [
    "### 参数化继承(跳过）"
   ]
  },
  {
   "cell_type": "markdown",
   "id": "f0186bac",
   "metadata": {},
   "source": [
    "## 常用数据类型"
   ]
  },
  {
   "cell_type": "markdown",
   "id": "1688f746",
   "metadata": {},
   "source": [
    "### 元组"
   ]
  },
  {
   "cell_type": "code",
   "execution_count": 65,
   "id": "cba71334",
   "metadata": {},
   "outputs": [
    {
     "data": {
      "text/plain": [
       "(1.0, 2.0, 3.0, 4.0)"
      ]
     },
     "execution_count": 65,
     "metadata": {},
     "output_type": "execute_result"
    }
   ],
   "source": [
    "tp1 = (1.0, 2.0, 3.0, 4.0)"
   ]
  },
  {
   "cell_type": "code",
   "execution_count": 66,
   "id": "93f74d44",
   "metadata": {},
   "outputs": [
    {
     "data": {
      "text/plain": [
       "NTuple{4, Float64}"
      ]
     },
     "execution_count": 66,
     "metadata": {},
     "output_type": "execute_result"
    }
   ],
   "source": [
    "typeof(tp1)"
   ]
  },
  {
   "cell_type": "code",
   "execution_count": 67,
   "id": "9d9e79f9",
   "metadata": {},
   "outputs": [
    {
     "ename": "LoadError",
     "evalue": "MethodError: no method matching Tuple{Float64, Float64, Float64}(::Float64, ::Float64, ::Float64)\n\u001b[0mClosest candidates are:\n\u001b[0m  (::Type{T})(::Any) where T<:Tuple at C:\\Users\\XJZ\\AppData\\Local\\julias\\julia-1.7\\share\\julia\\base\\tuple.jl:317",
     "output_type": "error",
     "traceback": [
      "MethodError: no method matching Tuple{Float64, Float64, Float64}(::Float64, ::Float64, ::Float64)\n\u001b[0mClosest candidates are:\n\u001b[0m  (::Type{T})(::Any) where T<:Tuple at C:\\Users\\XJZ\\AppData\\Local\\julias\\julia-1.7\\share\\julia\\base\\tuple.jl:317",
      "",
      "Stacktrace:",
      " [1] top-level scope",
      "   @ In[67]:2",
      " [2] eval",
      "   @ .\\boot.jl:373 [inlined]",
      " [3] include_string(mapexpr::typeof(REPL.softscope), mod::Module, code::String, filename::String)",
      "   @ Base .\\loading.jl:1196"
     ]
    }
   ],
   "source": [
    "# NTuple不是一个复合类型\n",
    "tp3 = NTuple{3, Float64}(1.0, 2.0, 3.0)"
   ]
  },
  {
   "cell_type": "code",
   "execution_count": 68,
   "id": "1c689842",
   "metadata": {},
   "outputs": [
    {
     "data": {
      "text/plain": [
       "1.0"
      ]
     },
     "execution_count": 68,
     "metadata": {},
     "output_type": "execute_result"
    }
   ],
   "source": [
    "tp1[1]"
   ]
  },
  {
   "cell_type": "code",
   "execution_count": 69,
   "id": "87c6c21f",
   "metadata": {},
   "outputs": [
    {
     "data": {
      "text/plain": [
       "(1, 2, 3, 4, 5, 6, 7)"
      ]
     },
     "execution_count": 69,
     "metadata": {},
     "output_type": "execute_result"
    }
   ],
   "source": [
    "tp2 = (1, 2, (3, 4, 5)..., 6, 7)"
   ]
  },
  {
   "cell_type": "code",
   "execution_count": 70,
   "id": "4307a66e",
   "metadata": {},
   "outputs": [
    {
     "data": {
      "text/plain": [
       "(1, \"a\", \"china\")"
      ]
     },
     "execution_count": 70,
     "metadata": {},
     "output_type": "execute_result"
    }
   ],
   "source": [
    "tp3 = (1, \"a\", \"china\")"
   ]
  },
  {
   "cell_type": "markdown",
   "id": "a9363ad8",
   "metadata": {},
   "source": [
    "### 命名元组"
   ]
  },
  {
   "cell_type": "code",
   "execution_count": 71,
   "id": "bbfb815e",
   "metadata": {},
   "outputs": [
    {
     "data": {
      "text/plain": [
       "(a = 1, b = 2, c = 3)"
      ]
     },
     "execution_count": 71,
     "metadata": {},
     "output_type": "execute_result"
    }
   ],
   "source": [
    "ntp1 = (a = 1, b = 2, c = 3)"
   ]
  },
  {
   "cell_type": "code",
   "execution_count": 72,
   "id": "976f1cbd",
   "metadata": {},
   "outputs": [
    {
     "data": {
      "text/plain": [
       "NamedTuple{(:a, :b, :c), Tuple{Int64, Int64, Int64}}"
      ]
     },
     "execution_count": 72,
     "metadata": {},
     "output_type": "execute_result"
    }
   ],
   "source": [
    "typeof(ntp1)"
   ]
  },
  {
   "cell_type": "code",
   "execution_count": 73,
   "id": "29aad904",
   "metadata": {},
   "outputs": [
    {
     "data": {
      "text/plain": [
       "1"
      ]
     },
     "execution_count": 73,
     "metadata": {},
     "output_type": "execute_result"
    }
   ],
   "source": [
    "ntp1.a"
   ]
  },
  {
   "cell_type": "code",
   "execution_count": 74,
   "id": "7816fe24",
   "metadata": {},
   "outputs": [
    {
     "data": {
      "text/plain": [
       "(a = 1, b = 2, c = 3.0)"
      ]
     },
     "execution_count": 74,
     "metadata": {},
     "output_type": "execute_result"
    }
   ],
   "source": [
    "# 说明命名元组是一个参数化复合类型\n",
    "ntp2 = NamedTuple{(:a, :b, :c),Tuple{Int64,Int64,Float64}}((1, 2, 3.0))"
   ]
  },
  {
   "cell_type": "markdown",
   "id": "c16efbfa",
   "metadata": {},
   "source": [
    "### 键值对"
   ]
  },
  {
   "cell_type": "code",
   "execution_count": 75,
   "id": "a9610ef1",
   "metadata": {},
   "outputs": [
    {
     "name": "stdout",
     "output_type": "stream",
     "text": [
      "UnionAll\n",
      "  var: TypeVar\n",
      "    name: Symbol A\n",
      "    lb: Union{}\n",
      "    ub: Any\n",
      "  body: UnionAll\n",
      "    var: TypeVar\n",
      "      name: Symbol B\n",
      "      lb: Union{}\n",
      "      ub: Any\n",
      "    body: Pair{A, B} <: Any\n",
      "      first::A\n",
      "      second::B\n"
     ]
    }
   ],
   "source": [
    "dump(Pair) # 先只关注body部分吧，其它的部分先别管"
   ]
  },
  {
   "cell_type": "code",
   "execution_count": 76,
   "id": "f8eedd11",
   "metadata": {},
   "outputs": [
    {
     "data": {
      "text/plain": [
       "(:first, :second)"
      ]
     },
     "execution_count": 76,
     "metadata": {},
     "output_type": "execute_result"
    }
   ],
   "source": [
    "fieldnames(Pair)"
   ]
  },
  {
   "cell_type": "code",
   "execution_count": 77,
   "id": "ca082102",
   "metadata": {},
   "outputs": [
    {
     "data": {
      "text/plain": [
       "1 => 3.2"
      ]
     },
     "execution_count": 77,
     "metadata": {},
     "output_type": "execute_result"
    }
   ],
   "source": [
    "p1 = Pair(1, 3.2)"
   ]
  },
  {
   "cell_type": "code",
   "execution_count": 78,
   "id": "2f377bde",
   "metadata": {},
   "outputs": [
    {
     "data": {
      "text/plain": [
       "Pair{Int64, Float64}"
      ]
     },
     "execution_count": 78,
     "metadata": {},
     "output_type": "execute_result"
    }
   ],
   "source": [
    "typeof(p1)"
   ]
  },
  {
   "cell_type": "code",
   "execution_count": 79,
   "id": "049447a7",
   "metadata": {},
   "outputs": [
    {
     "data": {
      "text/plain": [
       "2 => \"3\""
      ]
     },
     "execution_count": 79,
     "metadata": {},
     "output_type": "execute_result"
    }
   ],
   "source": [
    "p2 = 2 => \"3\""
   ]
  },
  {
   "cell_type": "code",
   "execution_count": 80,
   "id": "5b52add9",
   "metadata": {},
   "outputs": [
    {
     "data": {
      "text/plain": [
       "1"
      ]
     },
     "execution_count": 80,
     "metadata": {},
     "output_type": "execute_result"
    }
   ],
   "source": [
    "p1.first"
   ]
  },
  {
   "cell_type": "code",
   "execution_count": 81,
   "id": "1ed8aff8",
   "metadata": {},
   "outputs": [
    {
     "data": {
      "text/plain": [
       "\"3\""
      ]
     },
     "execution_count": 81,
     "metadata": {},
     "output_type": "execute_result"
    }
   ],
   "source": [
    "p2.second"
   ]
  },
  {
   "cell_type": "code",
   "execution_count": 82,
   "id": "67f7296b",
   "metadata": {},
   "outputs": [
    {
     "data": {
      "text/plain": [
       "(1, 3.2)"
      ]
     },
     "execution_count": 82,
     "metadata": {},
     "output_type": "execute_result"
    }
   ],
   "source": [
    "# Pair to Turple\n",
    "Tuple(p1)"
   ]
  },
  {
   "cell_type": "markdown",
   "id": "26ae0550",
   "metadata": {},
   "source": [
    "### 字典"
   ]
  },
  {
   "cell_type": "code",
   "execution_count": 83,
   "id": "032ae025",
   "metadata": {},
   "outputs": [
    {
     "data": {
      "text/plain": [
       "Dict{Int64, Float64} with 2 entries:\n",
       "  2 => 2.2\n",
       "  1 => 1.1"
      ]
     },
     "execution_count": 83,
     "metadata": {},
     "output_type": "execute_result"
    }
   ],
   "source": [
    "d1 = Dict(1 => 1.1, 2 => 2.2)"
   ]
  },
  {
   "cell_type": "code",
   "execution_count": null,
   "id": "171e817f",
   "metadata": {},
   "outputs": [],
   "source": [
    "d2 = Dict{String,Int64}(\"a\" => 3, \"b\" => 4.0)"
   ]
  },
  {
   "cell_type": "code",
   "execution_count": 85,
   "id": "42f8bf78",
   "metadata": {},
   "outputs": [
    {
     "data": {
      "text/plain": [
       "Dict{Int64, Int64} with 10 entries:\n",
       "  5  => 25\n",
       "  4  => 16\n",
       "  6  => 36\n",
       "  7  => 49\n",
       "  2  => 4\n",
       "  10 => 100\n",
       "  9  => 81\n",
       "  8  => 64\n",
       "  3  => 9\n",
       "  1  => 1"
      ]
     },
     "execution_count": 85,
     "metadata": {},
     "output_type": "execute_result"
    }
   ],
   "source": [
    "# 字典推导式\n",
    "d3 = Dict(i => i^2 for i ∈ 1:10)"
   ]
  },
  {
   "cell_type": "code",
   "execution_count": 86,
   "id": "d6f2ae50",
   "metadata": {},
   "outputs": [
    {
     "data": {
      "text/plain": [
       "(a = 1, b = 2, c = 3.0)"
      ]
     },
     "execution_count": 86,
     "metadata": {},
     "output_type": "execute_result"
    }
   ],
   "source": [
    "ntp2"
   ]
  },
  {
   "cell_type": "code",
   "execution_count": 87,
   "id": "662e5d9d",
   "metadata": {},
   "outputs": [
    {
     "data": {
      "text/plain": [
       "pairs(::NamedTuple) with 3 entries:\n",
       "  :a => 1\n",
       "  :b => 2\n",
       "  :c => 3.0"
      ]
     },
     "execution_count": 87,
     "metadata": {},
     "output_type": "execute_result"
    }
   ],
   "source": [
    "pairs(ntp2)"
   ]
  },
  {
   "cell_type": "code",
   "execution_count": 88,
   "id": "344cd1e0",
   "metadata": {},
   "outputs": [
    {
     "data": {
      "text/plain": [
       "Dict{Symbol, Real} with 3 entries:\n",
       "  :a => 1\n",
       "  :b => 2\n",
       "  :c => 3.0"
      ]
     },
     "execution_count": 88,
     "metadata": {},
     "output_type": "execute_result"
    }
   ],
   "source": [
    "# NamedTuple to Dict\n",
    "d4 = Dict(pairs(ntp2))"
   ]
  },
  {
   "cell_type": "code",
   "execution_count": 89,
   "id": "c21f9b09",
   "metadata": {},
   "outputs": [
    {
     "data": {
      "text/plain": [
       "2"
      ]
     },
     "execution_count": 89,
     "metadata": {},
     "output_type": "execute_result"
    }
   ],
   "source": [
    "d4[:b]"
   ]
  },
  {
   "cell_type": "code",
   "execution_count": 90,
   "id": "1166d724",
   "metadata": {},
   "outputs": [
    {
     "data": {
      "text/plain": [
       "Dict{Symbol, Real} with 2 entries:\n",
       "  :b => 2\n",
       "  :c => 3.0"
      ]
     },
     "execution_count": 90,
     "metadata": {},
     "output_type": "execute_result"
    }
   ],
   "source": [
    "delete!(d4, :a)"
   ]
  },
  {
   "cell_type": "code",
   "execution_count": 91,
   "id": "ba02b9e2",
   "metadata": {},
   "outputs": [
    {
     "data": {
      "text/plain": [
       "2"
      ]
     },
     "execution_count": 91,
     "metadata": {},
     "output_type": "execute_result"
    }
   ],
   "source": [
    "pop!(d4, :b)"
   ]
  },
  {
   "cell_type": "code",
   "execution_count": 92,
   "id": "8a27ec31",
   "metadata": {},
   "outputs": [
    {
     "data": {
      "text/plain": [
       "Dict{Symbol, Real} with 1 entry:\n",
       "  :c => 3.0"
      ]
     },
     "execution_count": 92,
     "metadata": {},
     "output_type": "execute_result"
    }
   ],
   "source": [
    "d4"
   ]
  },
  {
   "cell_type": "code",
   "execution_count": 93,
   "id": "37b598b5",
   "metadata": {},
   "outputs": [
    {
     "data": {
      "text/plain": [
       "1"
      ]
     },
     "execution_count": 93,
     "metadata": {},
     "output_type": "execute_result"
    }
   ],
   "source": [
    "d4.count"
   ]
  },
  {
   "cell_type": "code",
   "execution_count": 94,
   "id": "ad522be5",
   "metadata": {},
   "outputs": [
    {
     "data": {
      "text/plain": [
       "KeySet for a Dict{String, Int64} with 2 entries. Keys:\n",
       "  \"b\"\n",
       "  \"a\""
      ]
     },
     "execution_count": 94,
     "metadata": {},
     "output_type": "execute_result"
    }
   ],
   "source": [
    "keys(d2)"
   ]
  },
  {
   "cell_type": "code",
   "execution_count": 95,
   "id": "be6afed5",
   "metadata": {},
   "outputs": [
    {
     "name": "stdout",
     "output_type": "stream",
     "text": [
      "b \t4\n",
      "a \t3\n"
     ]
    }
   ],
   "source": [
    "for key in keys(d2)\n",
    "    println(\"$key \\t\", d2[key])\n",
    "end"
   ]
  },
  {
   "cell_type": "code",
   "execution_count": 96,
   "id": "e17c925f",
   "metadata": {},
   "outputs": [
    {
     "data": {
      "text/plain": [
       "ValueIterator for a Dict{String, Int64} with 2 entries. Values:\n",
       "  4\n",
       "  3"
      ]
     },
     "execution_count": 96,
     "metadata": {},
     "output_type": "execute_result"
    }
   ],
   "source": [
    "values(d2)"
   ]
  },
  {
   "cell_type": "code",
   "execution_count": 97,
   "id": "874eb434",
   "metadata": {},
   "outputs": [
    {
     "data": {
      "text/plain": [
       "2-element Vector{Int64}:\n",
       " 4\n",
       " 3"
      ]
     },
     "execution_count": 97,
     "metadata": {},
     "output_type": "execute_result"
    }
   ],
   "source": [
    "# collect iterator\n",
    "collect(values(d2))"
   ]
  },
  {
   "cell_type": "code",
   "execution_count": 98,
   "id": "e283adb6",
   "metadata": {},
   "outputs": [
    {
     "data": {
      "text/plain": [
       "Set{Int64} with 5 elements:\n",
       "  5\n",
       "  4\n",
       "  2\n",
       "  3\n",
       "  1"
      ]
     },
     "execution_count": 98,
     "metadata": {},
     "output_type": "execute_result"
    }
   ],
   "source": [
    "# Set(可迭代数据结构)\n",
    "a = Set(1:5)"
   ]
  },
  {
   "cell_type": "code",
   "execution_count": 99,
   "id": "ed2b45be",
   "metadata": {},
   "outputs": [
    {
     "ename": "LoadError",
     "evalue": "MethodError: no method matching Set(::Int64, ::Int64, ::Int64)\n\u001b[0mClosest candidates are:\n\u001b[0m  Set(::Any) at C:\\Users\\XJZ\\AppData\\Local\\julias\\julia-1.7\\share\\julia\\base\\set.jl:23",
     "output_type": "error",
     "traceback": [
      "MethodError: no method matching Set(::Int64, ::Int64, ::Int64)\n\u001b[0mClosest candidates are:\n\u001b[0m  Set(::Any) at C:\\Users\\XJZ\\AppData\\Local\\julias\\julia-1.7\\share\\julia\\base\\set.jl:23",
      "",
      "Stacktrace:",
      " [1] top-level scope",
      "   @ In[99]:1",
      " [2] eval",
      "   @ .\\boot.jl:373 [inlined]",
      " [3] include_string(mapexpr::typeof(REPL.softscope), mod::Module, code::String, filename::String)",
      "   @ Base .\\loading.jl:1196"
     ]
    }
   ],
   "source": [
    "b = Set(1, 2, 3)"
   ]
  },
  {
   "cell_type": "code",
   "execution_count": null,
   "id": "27bdb2d1",
   "metadata": {},
   "outputs": [],
   "source": [
    "b = Set((\"a\", 1, 2))"
   ]
  },
  {
   "cell_type": "code",
   "execution_count": 101,
   "id": "a2c5bae2",
   "metadata": {},
   "outputs": [
    {
     "ename": "LoadError",
     "evalue": "MethodError: no method matching getindex(::Set{Any}, ::Int64)",
     "output_type": "error",
     "traceback": [
      "MethodError: no method matching getindex(::Set{Any}, ::Int64)",
      "",
      "Stacktrace:",
      " [1] top-level scope",
      "   @ In[101]:1",
      " [2] eval",
      "   @ .\\boot.jl:373 [inlined]",
      " [3] include_string(mapexpr::typeof(REPL.softscope), mod::Module, code::String, filename::String)",
      "   @ Base .\\loading.jl:1196"
     ]
    }
   ],
   "source": [
    "b[1]"
   ]
  },
  {
   "cell_type": "code",
   "execution_count": 102,
   "id": "7b3683b6",
   "metadata": {},
   "outputs": [
    {
     "data": {
      "text/plain": [
       "true"
      ]
     },
     "execution_count": 102,
     "metadata": {},
     "output_type": "execute_result"
    }
   ],
   "source": [
    "1 in b"
   ]
  },
  {
   "cell_type": "code",
   "execution_count": 103,
   "id": "0115183e",
   "metadata": {},
   "outputs": [
    {
     "data": {
      "text/plain": [
       "false"
      ]
     },
     "execution_count": 103,
     "metadata": {},
     "output_type": "execute_result"
    }
   ],
   "source": [
    "isempty(a)"
   ]
  },
  {
   "cell_type": "code",
   "execution_count": 104,
   "id": "0e096806",
   "metadata": {},
   "outputs": [
    {
     "data": {
      "text/plain": [
       "Set{Int64}()"
      ]
     },
     "execution_count": 104,
     "metadata": {},
     "output_type": "execute_result"
    }
   ],
   "source": [
    "empty!(a)"
   ]
  },
  {
   "cell_type": "markdown",
   "id": "00e7cfe9",
   "metadata": {},
   "source": [
    "### 缺失值missing "
   ]
  },
  {
   "cell_type": "code",
   "execution_count": 105,
   "id": "2db2d43e",
   "metadata": {},
   "outputs": [],
   "source": [
    "# NaN是一个数并不代表缺失值"
   ]
  },
  {
   "cell_type": "code",
   "execution_count": 106,
   "id": "3398d763",
   "metadata": {},
   "outputs": [
    {
     "data": {
      "text/plain": [
       "missing"
      ]
     },
     "execution_count": 106,
     "metadata": {},
     "output_type": "execute_result"
    }
   ],
   "source": [
    "missing + 1"
   ]
  },
  {
   "cell_type": "code",
   "execution_count": null,
   "id": "92500d9f",
   "metadata": {},
   "outputs": [],
   "source": [
    "ismissing([1, 2, 3, missing])"
   ]
  },
  {
   "cell_type": "code",
   "execution_count": null,
   "id": "56ec4388",
   "metadata": {},
   "outputs": [],
   "source": [
    "ismissing.([1, 2, 3, missing])"
   ]
  },
  {
   "cell_type": "code",
   "execution_count": 109,
   "id": "3aeb3428",
   "metadata": {},
   "outputs": [
    {
     "data": {
      "text/plain": [
       "false"
      ]
     },
     "execution_count": 109,
     "metadata": {},
     "output_type": "execute_result"
    }
   ],
   "source": [
    "isless(missing, Inf)"
   ]
  },
  {
   "cell_type": "markdown",
   "id": "81c66819",
   "metadata": {},
   "source": [
    "### nothing不需要在内存中表达"
   ]
  },
  {
   "cell_type": "markdown",
   "id": "1341fff4",
   "metadata": {},
   "source": [
    "## 其它数据类型"
   ]
  },
  {
   "cell_type": "markdown",
   "id": "8e112bd9",
   "metadata": {},
   "source": [
    "Julia有一个`DataStructures.jl`， 这个包内置了很多Julia本身没有的数据结构"
   ]
  },
  {
   "cell_type": "markdown",
   "id": "59279132",
   "metadata": {},
   "source": [
    "### `OrderedDict`"
   ]
  },
  {
   "cell_type": "code",
   "execution_count": 1,
   "id": "89517148",
   "metadata": {},
   "outputs": [],
   "source": [
    "using DataStructures"
   ]
  },
  {
   "cell_type": "code",
   "execution_count": 16,
   "id": "e8fd80f6",
   "metadata": {},
   "outputs": [
    {
     "data": {
      "text/plain": [
       "OrderedDict{Char, Int64} with 3 entries:\n",
       "  'a' => 1\n",
       "  'b' => 2\n",
       "  'c' => 3"
      ]
     },
     "execution_count": 16,
     "metadata": {},
     "output_type": "execute_result"
    }
   ],
   "source": [
    "# 有序字典\n",
    "d1 = OrderedDict('a' => 1, 'b' => 2, 'c' => 3)"
   ]
  },
  {
   "cell_type": "code",
   "execution_count": 20,
   "id": "cecee3ee",
   "metadata": {},
   "outputs": [
    {
     "data": {
      "text/plain": [
       "Dict{Char, Int64} with 3 entries:\n",
       "  'a' => 1\n",
       "  'c' => 3\n",
       "  'b' => 2"
      ]
     },
     "execution_count": 20,
     "metadata": {},
     "output_type": "execute_result"
    }
   ],
   "source": [
    "# 无序字典（Julia内置）\n",
    "d2 = Dict('a' => 1, 'b' => 2, 'c' => 3)"
   ]
  },
  {
   "cell_type": "code",
   "execution_count": 23,
   "id": "c16984ed",
   "metadata": {},
   "outputs": [
    {
     "name": "stdout",
     "output_type": "stream",
     "text": [
      "search: \u001b[0m\u001b[1mm\u001b[22m\u001b[0m\u001b[1me\u001b[22m\u001b[0m\u001b[1mt\u001b[22m\u001b[0m\u001b[1mh\u001b[22m\u001b[0m\u001b[1mo\u001b[22m\u001b[0m\u001b[1md\u001b[22m\u001b[0m\u001b[1ms\u001b[22m\u001b[0m\u001b[1mw\u001b[22m\u001b[0m\u001b[1mi\u001b[22m\u001b[0m\u001b[1mt\u001b[22m\u001b[0m\u001b[1mh\u001b[22m\n",
      "\n"
     ]
    },
    {
     "data": {
      "text/latex": [
       "\\begin{verbatim}\n",
       "methodswith(typ[, module or function]; supertypes::Bool=false])\n",
       "\\end{verbatim}\n",
       "Return an array of methods with an argument of type \\texttt{typ}.\n",
       "\n",
       "The optional second argument restricts the search to a particular module or function (the default is all top-level modules).\n",
       "\n",
       "If keyword \\texttt{supertypes} is \\texttt{true}, also return arguments with a parent type of \\texttt{typ}, excluding type \\texttt{Any}.\n",
       "\n"
      ],
      "text/markdown": [
       "```\n",
       "methodswith(typ[, module or function]; supertypes::Bool=false])\n",
       "```\n",
       "\n",
       "Return an array of methods with an argument of type `typ`.\n",
       "\n",
       "The optional second argument restricts the search to a particular module or function (the default is all top-level modules).\n",
       "\n",
       "If keyword `supertypes` is `true`, also return arguments with a parent type of `typ`, excluding type `Any`.\n"
      ],
      "text/plain": [
       "  \u001b[96mmethodswith\u001b[0m(\u001b[0m\u001b[39mtyp\u001b[0m\u001b[39m[\u001b[0m\u001b[39m,\u001b[0m \u001b[0m\u001b[91mmodule\u001b[0m \u001b[0m\u001b[39mor\u001b[0m \u001b[0m\u001b[91mfunction\u001b[0m\u001b[39m]\u001b[0m\u001b[39m;\u001b[0m \u001b[0m\u001b[39msupertypes\u001b[0m\u001b[96m::\u001b[0m\u001b[96mBool\u001b[0m\u001b[91m=\u001b[0m\u001b[91mfalse\u001b[0m\u001b[39m]\u001b[0m\u001b[39m)\u001b[0m\u001b[39m\u001b[0m\n",
       "\n",
       "\n",
       "  Return an array of methods with an argument of type \u001b[36mtyp\u001b[39m.\n",
       "\n",
       "  The optional second argument restricts the search to a particular module or\n",
       "  function (the default is all top-level modules).\n",
       "\n",
       "  If keyword \u001b[36msupertypes\u001b[39m is \u001b[36mtrue\u001b[39m, also return arguments with a parent type of\n",
       "  \u001b[36mtyp\u001b[39m, excluding type \u001b[36mAny\u001b[39m."
      ]
     },
     "execution_count": 23,
     "metadata": {},
     "output_type": "execute_result"
    }
   ],
   "source": [
    "?methodswith"
   ]
  },
  {
   "cell_type": "markdown",
   "id": "6e1c5afd",
   "metadata": {},
   "source": [
    "`methodswith`函数可以查看所有以某个数据结构为参数的所有函数， 例如`methodswith(OrderedDict)`可以查看所有适用于`OrderedDict`的函数， 可以看出包的作者给`OrderedDict`适配了很多的方法"
   ]
  },
  {
   "cell_type": "code",
   "execution_count": 24,
   "id": "52a7d149",
   "metadata": {},
   "outputs": [
    {
     "data": {
      "text/html": [
       "28-element Vector{Method}:<ul><li> convert(::<b>Type{OrderedDict{K, V}}</b>, d::<b>OrderedDict{K, V}</b>)<i> where {K, V}</i> in OrderedCollections at <a href=\"file://C:/Users/XJZ/.julia/packages/OrderedCollections/PRayh/src/ordered_dict.jl\" target=\"_blank\">C:\\Users\\XJZ\\.julia\\packages\\OrderedCollections\\PRayh\\src\\ordered_dict.jl:110</a><li> copy(d::<b>OrderedDict</b>) in OrderedCollections at <a href=\"file://C:/Users/XJZ/.julia/packages/OrderedCollections/PRayh/src/ordered_dict.jl\" target=\"_blank\">C:\\Users\\XJZ\\.julia\\packages\\OrderedCollections\\PRayh\\src\\ordered_dict.jl:50</a><li> delete!(h::<b>OrderedDict</b>, key) in OrderedCollections at <a href=\"file://C:/Users/XJZ/.julia/packages/OrderedCollections/PRayh/src/ordered_dict.jl\" target=\"_blank\">C:\\Users\\XJZ\\.julia\\packages\\OrderedCollections\\PRayh\\src\\ordered_dict.jl:441</a><li> empty(d::<b>OrderedDict{K, V}</b>)<i> where {K, V}</i> in OrderedCollections at <a href=\"file://C:/Users/XJZ/.julia/packages/OrderedCollections/PRayh/src/ordered_dict.jl\" target=\"_blank\">C:\\Users\\XJZ\\.julia\\packages\\OrderedCollections\\PRayh\\src\\ordered_dict.jl:79</a><li> empty(d::<b>OrderedDict</b>, ::<b>Type{K}</b>, ::<b>Type{V}</b>)<i> where {K, V}</i> in OrderedCollections at <a href=\"file://C:/Users/XJZ/.julia/packages/OrderedCollections/PRayh/src/ordered_dict.jl\" target=\"_blank\">C:\\Users\\XJZ\\.julia\\packages\\OrderedCollections\\PRayh\\src\\ordered_dict.jl:80</a><li> empty!(h::<b>OrderedDict{K, V}</b>)<i> where {K, V}</i> in OrderedCollections at <a href=\"file://C:/Users/XJZ/.julia/packages/OrderedCollections/PRayh/src/ordered_dict.jl\" target=\"_blank\">C:\\Users\\XJZ\\.julia\\packages\\OrderedCollections\\PRayh\\src\\ordered_dict.jl:220</a><li> get(default::<b>Union{Function, Type}</b>, h::<b>OrderedDict{K, V}</b>, key)<i> where {K, V}</i> in OrderedCollections at <a href=\"file://C:/Users/XJZ/.julia/packages/OrderedCollections/PRayh/src/ordered_dict.jl\" target=\"_blank\">C:\\Users\\XJZ\\.julia\\packages\\OrderedCollections\\PRayh\\src\\ordered_dict.jl:388</a><li> get(h::<b>OrderedDict{K, V}</b>, key, default)<i> where {K, V}</i> in OrderedCollections at <a href=\"file://C:/Users/XJZ/.julia/packages/OrderedCollections/PRayh/src/ordered_dict.jl\" target=\"_blank\">C:\\Users\\XJZ\\.julia\\packages\\OrderedCollections\\PRayh\\src\\ordered_dict.jl:383</a><li> get!(default::<b>Union{Function, Type}</b>, h::<b>OrderedDict{K, V}</b>, key0)<i> where {K, V}</i> in OrderedCollections at <a href=\"file://C:/Users/XJZ/.julia/packages/OrderedCollections/PRayh/src/ordered_dict.jl\" target=\"_blank\">C:\\Users\\XJZ\\.julia\\packages\\OrderedCollections\\PRayh\\src\\ordered_dict.jl:354</a><li> get!(h::<b>OrderedDict{K, V}</b>, key0, default)<i> where {K, V}</i> in OrderedCollections at <a href=\"file://C:/Users/XJZ/.julia/packages/OrderedCollections/PRayh/src/ordered_dict.jl\" target=\"_blank\">C:\\Users\\XJZ\\.julia\\packages\\OrderedCollections\\PRayh\\src\\ordered_dict.jl:339</a><li> getindex(h::<b>OrderedDict{K, V}</b>, key)<i> where {K, V}</i> in OrderedCollections at <a href=\"file://C:/Users/XJZ/.julia/packages/OrderedCollections/PRayh/src/ordered_dict.jl\" target=\"_blank\">C:\\Users\\XJZ\\.julia\\packages\\OrderedCollections\\PRayh\\src\\ordered_dict.jl:378</a><li> getkey(h::<b>OrderedDict{K, V}</b>, key, default)<i> where {K, V}</i> in OrderedCollections at <a href=\"file://C:/Users/XJZ/.julia/packages/OrderedCollections/PRayh/src/ordered_dict.jl\" target=\"_blank\">C:\\Users\\XJZ\\.julia\\packages\\OrderedCollections\\PRayh\\src\\ordered_dict.jl:396</a><li> haskey(h::<b>OrderedDict</b>, key) in OrderedCollections at <a href=\"file://C:/Users/XJZ/.julia/packages/OrderedCollections/PRayh/src/ordered_dict.jl\" target=\"_blank\">C:\\Users\\XJZ\\.julia\\packages\\OrderedCollections\\PRayh\\src\\ordered_dict.jl:393</a><li> isempty(d::<b>OrderedDict</b>) in OrderedCollections at <a href=\"file://C:/Users/XJZ/.julia/packages/OrderedCollections/PRayh/src/ordered_dict.jl\" target=\"_blank\">C:\\Users\\XJZ\\.julia\\packages\\OrderedCollections\\PRayh\\src\\ordered_dict.jl:83</a><li> iterate(t::<b>OrderedDict</b>) in OrderedCollections at <a href=\"file://C:/Users/XJZ/.julia/packages/OrderedCollections/PRayh/src/ordered_dict.jl\" target=\"_blank\">C:\\Users\\XJZ\\.julia\\packages\\OrderedCollections\\PRayh\\src\\ordered_dict.jl:447</a><li> iterate(t::<b>OrderedDict</b>, i) in OrderedCollections at <a href=\"file://C:/Users/XJZ/.julia/packages/OrderedCollections/PRayh/src/ordered_dict.jl\" target=\"_blank\">C:\\Users\\XJZ\\.julia\\packages\\OrderedCollections\\PRayh\\src\\ordered_dict.jl:452</a><li> length(d::<b>OrderedDict</b>) in OrderedCollections at <a href=\"file://C:/Users/XJZ/.julia/packages/OrderedCollections/PRayh/src/ordered_dict.jl\" target=\"_blank\">C:\\Users\\XJZ\\.julia\\packages\\OrderedCollections\\PRayh\\src\\ordered_dict.jl:82</a><li> merge(d::<b>OrderedDict</b>, others::<b>AbstractDict...</b>) in OrderedCollections at <a href=\"file://C:/Users/XJZ/.julia/packages/OrderedCollections/PRayh/src/ordered_dict.jl\" target=\"_blank\">C:\\Users\\XJZ\\.julia\\packages\\OrderedCollections\\PRayh\\src\\ordered_dict.jl:466</a><li> merge(combine::<b>Function</b>, d::<b>OrderedDict</b>, others::<b>AbstractDict...</b>) in OrderedCollections at <a href=\"file://C:/Users/XJZ/.julia/packages/OrderedCollections/PRayh/src/ordered_dict.jl\" target=\"_blank\">C:\\Users\\XJZ\\.julia\\packages\\OrderedCollections\\PRayh\\src\\ordered_dict.jl:471</a><li> pop!(h::<b>OrderedDict</b>) in OrderedCollections at <a href=\"file://C:/Users/XJZ/.julia/packages/OrderedCollections/PRayh/src/ordered_dict.jl\" target=\"_blank\">C:\\Users\\XJZ\\.julia\\packages\\OrderedCollections\\PRayh\\src\\ordered_dict.jl:407</a><li> pop!(h::<b>OrderedDict</b>, key) in OrderedCollections at <a href=\"file://C:/Users/XJZ/.julia/packages/OrderedCollections/PRayh/src/ordered_dict.jl\" target=\"_blank\">C:\\Users\\XJZ\\.julia\\packages\\OrderedCollections\\PRayh\\src\\ordered_dict.jl:421</a><li> pop!(h::<b>OrderedDict</b>, key, default) in OrderedCollections at <a href=\"file://C:/Users/XJZ/.julia/packages/OrderedCollections/PRayh/src/ordered_dict.jl\" target=\"_blank\">C:\\Users\\XJZ\\.julia\\packages\\OrderedCollections\\PRayh\\src\\ordered_dict.jl:426</a><li> popfirst!(h::<b>OrderedDict</b>) in OrderedCollections at <a href=\"file://C:/Users/XJZ/.julia/packages/OrderedCollections/PRayh/src/ordered_dict.jl\" target=\"_blank\">C:\\Users\\XJZ\\.julia\\packages\\OrderedCollections\\PRayh\\src\\ordered_dict.jl:414</a><li> setindex!(h::<b>OrderedDict{K, V}</b>, v0, key0)<i> where {K, V}</i> in OrderedCollections at <a href=\"file://C:/Users/XJZ/.julia/packages/OrderedCollections/PRayh/src/ordered_dict.jl\" target=\"_blank\">C:\\Users\\XJZ\\.julia\\packages\\OrderedCollections\\PRayh\\src\\ordered_dict.jl:320</a><li> similar(d::<b>OrderedDict</b>) in OrderedCollections at <a href=\"file://C:\\Users\\XJZ\\AppData\\Local\\julias\\julia-1.8\\share\\julia\\base\\deprecated.jl\" target=\"_blank\">deprecated.jl:70</a><li> sizehint!(d::<b>OrderedDict</b>, newsz) in OrderedCollections at <a href=\"file://C:/Users/XJZ/.julia/packages/OrderedCollections/PRayh/src/ordered_dict.jl\" target=\"_blank\">C:\\Users\\XJZ\\.julia\\packages\\OrderedCollections\\PRayh\\src\\ordered_dict.jl:206</a><li> sort(d::<b>OrderedDict</b>; <i>args...</i>) in OrderedCollections at <a href=\"file://C:/Users/XJZ/.julia/packages/OrderedCollections/PRayh/src/dict_sorting.jl\" target=\"_blank\">C:\\Users\\XJZ\\.julia\\packages\\OrderedCollections\\PRayh\\src\\dict_sorting.jl:20</a><li> sort!(d::<b>OrderedDict</b>; <i>byvalue, args...</i>) in OrderedCollections at <a href=\"file://C:/Users/XJZ/.julia/packages/OrderedCollections/PRayh/src/dict_sorting.jl\" target=\"_blank\">C:\\Users\\XJZ\\.julia\\packages\\OrderedCollections\\PRayh\\src\\dict_sorting.jl:4</a></ul>"
      ],
      "text/plain": [
       "[1] convert(::Type{OrderedDict{K, V}}, d::OrderedDict{K, V}) where {K, V} in OrderedCollections at C:\\Users\\XJZ\\.julia\\packages\\OrderedCollections\\PRayh\\src\\ordered_dict.jl:110\n",
       "[2] copy(d::OrderedDict) in OrderedCollections at C:\\Users\\XJZ\\.julia\\packages\\OrderedCollections\\PRayh\\src\\ordered_dict.jl:50\n",
       "[3] delete!(h::OrderedDict, key) in OrderedCollections at C:\\Users\\XJZ\\.julia\\packages\\OrderedCollections\\PRayh\\src\\ordered_dict.jl:441\n",
       "[4] empty(d::OrderedDict{K, V}) where {K, V} in OrderedCollections at C:\\Users\\XJZ\\.julia\\packages\\OrderedCollections\\PRayh\\src\\ordered_dict.jl:79\n",
       "[5] empty(d::OrderedDict, ::Type{K}, ::Type{V}) where {K, V} in OrderedCollections at C:\\Users\\XJZ\\.julia\\packages\\OrderedCollections\\PRayh\\src\\ordered_dict.jl:80\n",
       "[6] empty!(h::OrderedDict{K, V}) where {K, V} in OrderedCollections at C:\\Users\\XJZ\\.julia\\packages\\OrderedCollections\\PRayh\\src\\ordered_dict.jl:220\n",
       "[7] get(default::Union{Function, Type}, h::OrderedDict{K, V}, key) where {K, V} in OrderedCollections at C:\\Users\\XJZ\\.julia\\packages\\OrderedCollections\\PRayh\\src\\ordered_dict.jl:388\n",
       "[8] get(h::OrderedDict{K, V}, key, default) where {K, V} in OrderedCollections at C:\\Users\\XJZ\\.julia\\packages\\OrderedCollections\\PRayh\\src\\ordered_dict.jl:383\n",
       "[9] get!(default::Union{Function, Type}, h::OrderedDict{K, V}, key0) where {K, V} in OrderedCollections at C:\\Users\\XJZ\\.julia\\packages\\OrderedCollections\\PRayh\\src\\ordered_dict.jl:354\n",
       "[10] get!(h::OrderedDict{K, V}, key0, default) where {K, V} in OrderedCollections at C:\\Users\\XJZ\\.julia\\packages\\OrderedCollections\\PRayh\\src\\ordered_dict.jl:339\n",
       "[11] getindex(h::OrderedDict{K, V}, key) where {K, V} in OrderedCollections at C:\\Users\\XJZ\\.julia\\packages\\OrderedCollections\\PRayh\\src\\ordered_dict.jl:378\n",
       "[12] getkey(h::OrderedDict{K, V}, key, default) where {K, V} in OrderedCollections at C:\\Users\\XJZ\\.julia\\packages\\OrderedCollections\\PRayh\\src\\ordered_dict.jl:396\n",
       "[13] haskey(h::OrderedDict, key) in OrderedCollections at C:\\Users\\XJZ\\.julia\\packages\\OrderedCollections\\PRayh\\src\\ordered_dict.jl:393\n",
       "[14] isempty(d::OrderedDict) in OrderedCollections at C:\\Users\\XJZ\\.julia\\packages\\OrderedCollections\\PRayh\\src\\ordered_dict.jl:83\n",
       "[15] iterate(t::OrderedDict) in OrderedCollections at C:\\Users\\XJZ\\.julia\\packages\\OrderedCollections\\PRayh\\src\\ordered_dict.jl:447\n",
       "[16] iterate(t::OrderedDict, i) in OrderedCollections at C:\\Users\\XJZ\\.julia\\packages\\OrderedCollections\\PRayh\\src\\ordered_dict.jl:452\n",
       "[17] length(d::OrderedDict) in OrderedCollections at C:\\Users\\XJZ\\.julia\\packages\\OrderedCollections\\PRayh\\src\\ordered_dict.jl:82\n",
       "[18] merge(d::OrderedDict, others::AbstractDict...) in OrderedCollections at C:\\Users\\XJZ\\.julia\\packages\\OrderedCollections\\PRayh\\src\\ordered_dict.jl:466\n",
       "[19] merge(combine::Function, d::OrderedDict, others::AbstractDict...) in OrderedCollections at C:\\Users\\XJZ\\.julia\\packages\\OrderedCollections\\PRayh\\src\\ordered_dict.jl:471\n",
       "[20] pop!(h::OrderedDict) in OrderedCollections at C:\\Users\\XJZ\\.julia\\packages\\OrderedCollections\\PRayh\\src\\ordered_dict.jl:407\n",
       "[21] pop!(h::OrderedDict, key) in OrderedCollections at C:\\Users\\XJZ\\.julia\\packages\\OrderedCollections\\PRayh\\src\\ordered_dict.jl:421\n",
       "[22] pop!(h::OrderedDict, key, default) in OrderedCollections at C:\\Users\\XJZ\\.julia\\packages\\OrderedCollections\\PRayh\\src\\ordered_dict.jl:426\n",
       "[23] popfirst!(h::OrderedDict) in OrderedCollections at C:\\Users\\XJZ\\.julia\\packages\\OrderedCollections\\PRayh\\src\\ordered_dict.jl:414\n",
       "[24] setindex!(h::OrderedDict{K, V}, v0, key0) where {K, V} in OrderedCollections at C:\\Users\\XJZ\\.julia\\packages\\OrderedCollections\\PRayh\\src\\ordered_dict.jl:320\n",
       "[25] similar(d::OrderedDict) in OrderedCollections at deprecated.jl:70\n",
       "[26] sizehint!(d::OrderedDict, newsz) in OrderedCollections at C:\\Users\\XJZ\\.julia\\packages\\OrderedCollections\\PRayh\\src\\ordered_dict.jl:206\n",
       "[27] sort(d::OrderedDict; args...) in OrderedCollections at C:\\Users\\XJZ\\.julia\\packages\\OrderedCollections\\PRayh\\src\\dict_sorting.jl:20\n",
       "[28] sort!(d::OrderedDict; byvalue, args...) in OrderedCollections at C:\\Users\\XJZ\\.julia\\packages\\OrderedCollections\\PRayh\\src\\dict_sorting.jl:4"
      ]
     },
     "execution_count": 24,
     "metadata": {},
     "output_type": "execute_result"
    }
   ],
   "source": [
    "methodswith(OrderedDict)"
   ]
  },
  {
   "cell_type": "code",
   "execution_count": 31,
   "id": "9f387203",
   "metadata": {},
   "outputs": [
    {
     "data": {
      "text/plain": [
       "zip(1:5, 'a':1:'e')"
      ]
     },
     "execution_count": 31,
     "metadata": {},
     "output_type": "execute_result"
    }
   ],
   "source": [
    "zipit = zip(1:5, 'a':'e')"
   ]
  },
  {
   "cell_type": "code",
   "execution_count": 38,
   "id": "43c4ad10",
   "metadata": {},
   "outputs": [
    {
     "data": {
      "text/plain": [
       "OrderedDict{Int64, Char} with 5 entries:\n",
       "  1 => 'a'\n",
       "  2 => 'b'\n",
       "  3 => 'c'\n",
       "  4 => 'd'\n",
       "  5 => 'e'"
      ]
     },
     "execution_count": 38,
     "metadata": {},
     "output_type": "execute_result"
    }
   ],
   "source": [
    "OrderedDict(zipit)"
   ]
  }
 ],
 "metadata": {
  "kernelspec": {
   "display_name": "Julia 1.8.0",
   "language": "julia",
   "name": "julia-1.8"
  },
  "language_info": {
   "file_extension": ".jl",
   "mimetype": "application/julia",
   "name": "julia",
   "version": "1.8.0"
  },
  "latex_envs": {
   "LaTeX_envs_menu_present": true,
   "autoclose": false,
   "autocomplete": true,
   "bibliofile": "biblio.bib",
   "cite_by": "apalike",
   "current_citInitial": 1,
   "eqLabelWithNumbers": true,
   "eqNumInitial": 1,
   "hotkeys": {
    "equation": "Ctrl-E",
    "itemize": "Ctrl-I"
   },
   "labels_anchors": false,
   "latex_user_defs": false,
   "report_style_numbering": false,
   "user_envs_cfg": false
  },
  "toc": {
   "base_numbering": 1,
   "nav_menu": {},
   "number_sections": true,
   "sideBar": true,
   "skip_h1_title": false,
   "title_cell": "Table of Contents",
   "title_sidebar": "Contents",
   "toc_cell": false,
   "toc_position": {
    "height": "calc(100% - 180px)",
    "left": "10px",
    "top": "150px",
    "width": "392.15px"
   },
   "toc_section_display": true,
   "toc_window_display": true
  }
 },
 "nbformat": 4,
 "nbformat_minor": 5
}
