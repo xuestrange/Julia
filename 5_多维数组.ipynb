{
 "cells": [
  {
   "cell_type": "markdown",
   "id": "2a598c43",
   "metadata": {},
   "source": [
    "# 多维数组 "
   ]
  },
  {
   "cell_type": "markdown",
   "id": "50b266d9",
   "metadata": {},
   "source": [
    "`Array{T, N} <: DenseArray{T, N} <:AbstractArray{T, N}`\n",
    "\n",
    "`T`为元素类型，`N`为数组的维度\n",
    "\n",
    "创建数组`Array{T, N}(undef, dims)`, 其中`dims`的维度等于N"
   ]
  },
  {
   "cell_type": "code",
   "execution_count": 20,
   "id": "4863b5c7",
   "metadata": {},
   "outputs": [
    {
     "data": {
      "text/plain": [
       "2×2×3 Array{Int64, 3}:\n",
       "[:, :, 1] =\n",
       " 3   7\n",
       " 5  17\n",
       "\n",
       "[:, :, 2] =\n",
       " 23  25\n",
       " 24  28\n",
       "\n",
       "[:, :, 3] =\n",
       " 30  35\n",
       " 34  36"
      ]
     },
     "execution_count": 20,
     "metadata": {},
     "output_type": "execute_result"
    }
   ],
   "source": [
    "# 通用的数组构造方法\n",
    "Array{Int64, 3}(undef, (2, 2, 3))"
   ]
  },
  {
   "cell_type": "markdown",
   "id": "c20d0aac",
   "metadata": {},
   "source": [
    "两种特殊的数组`Vector`, `Matrix`, 仅仅是`array`的别名`alias`"
   ]
  },
  {
   "cell_type": "code",
   "execution_count": 23,
   "id": "9a0e6826",
   "metadata": {},
   "outputs": [
    {
     "data": {
      "text/plain": [
       "Vector{T} where T (alias for Array{T, 1} where T)"
      ]
     },
     "execution_count": 23,
     "metadata": {},
     "output_type": "execute_result"
    }
   ],
   "source": [
    "Vector"
   ]
  },
  {
   "cell_type": "code",
   "execution_count": 24,
   "id": "d17f1b34",
   "metadata": {},
   "outputs": [
    {
     "data": {
      "text/plain": [
       "Matrix{T} where T (alias for Array{T, 2} where T)"
      ]
     },
     "execution_count": 24,
     "metadata": {},
     "output_type": "execute_result"
    }
   ],
   "source": [
    "Matrix"
   ]
  },
  {
   "cell_type": "code",
   "execution_count": 25,
   "id": "e2a94c3f",
   "metadata": {},
   "outputs": [
    {
     "data": {
      "text/plain": [
       "4-element Vector{Float64}:\n",
       " 2.0e-323\n",
       " 1.0e-323\n",
       " 1.568272106e-315\n",
       " 1.35368398e-315"
      ]
     },
     "execution_count": 25,
     "metadata": {},
     "output_type": "execute_result"
    }
   ],
   "source": [
    "Vector{Float64}(undef, 4)"
   ]
  },
  {
   "cell_type": "code",
   "execution_count": 26,
   "id": "2810106b",
   "metadata": {},
   "outputs": [
    {
     "data": {
      "text/plain": [
       "4×4 Matrix{Float64}:\n",
       " 9.01035e-315  8.90594e-315  8.9025e-315  8.89659e-315\n",
       " 8.91041e-315  8.92245e-315  8.9025e-315  8.89659e-315\n",
       " 8.98886e-315  8.9025e-315   8.9025e-315  8.90538e-315\n",
       " 8.97257e-315  8.9025e-315   8.9025e-315  8.90538e-315"
      ]
     },
     "execution_count": 26,
     "metadata": {},
     "output_type": "execute_result"
    }
   ],
   "source": [
    "Matrix{Float64}(undef, (4, 4))"
   ]
  },
  {
   "cell_type": "code",
   "execution_count": 27,
   "id": "c3a6dc13",
   "metadata": {},
   "outputs": [
    {
     "data": {
      "text/plain": [
       "4-element Vector{Float64}:\n",
       " 1.0\n",
       " 2.0\n",
       " 3.0\n",
       " 4.0"
      ]
     },
     "execution_count": 27,
     "metadata": {},
     "output_type": "execute_result"
    }
   ],
   "source": [
    "[1, 2, 3, 4.0]"
   ]
  },
  {
   "cell_type": "code",
   "execution_count": 28,
   "id": "c8ef25f8",
   "metadata": {},
   "outputs": [
    {
     "data": {
      "text/plain": [
       "4-element Vector{Float64}:\n",
       " 1.0\n",
       " 2.0\n",
       " 3.0\n",
       " 4.0"
      ]
     },
     "execution_count": 28,
     "metadata": {},
     "output_type": "execute_result"
    }
   ],
   "source": [
    "[1; 2; 3; 4.0]"
   ]
  },
  {
   "cell_type": "code",
   "execution_count": 30,
   "id": "5731cdff",
   "metadata": {},
   "outputs": [
    {
     "data": {
      "text/plain": [
       "1×4 Matrix{Int64}:\n",
       " 1  2  3  4"
      ]
     },
     "execution_count": 30,
     "metadata": {},
     "output_type": "execute_result"
    }
   ],
   "source": [
    "# matrix\n",
    "[1 2 3 4]"
   ]
  },
  {
   "cell_type": "code",
   "execution_count": 32,
   "id": "26a59494",
   "metadata": {},
   "outputs": [
    {
     "data": {
      "text/plain": [
       "2×2 Matrix{Int64}:\n",
       " 1  2\n",
       " 3  4"
      ]
     },
     "execution_count": 32,
     "metadata": {},
     "output_type": "execute_result"
    }
   ],
   "source": [
    "[1 2;\n",
    " 3 4]"
   ]
  },
  {
   "cell_type": "markdown",
   "id": "8bce2705",
   "metadata": {},
   "source": [
    "只有列向量时一维数组，行向量是一个二维数组或矩阵\n",
    "\n",
    "+ 创建向量时请使用`,`，他就会自动生成一个列向量\n",
    "+ 创建矩阵时，尽量使用`;`区分不同行，使用`space`区分不同列，`,`不能区分什么，应尽量减少使用"
   ]
  },
  {
   "cell_type": "code",
   "execution_count": 35,
   "id": "1669c4c8",
   "metadata": {},
   "outputs": [
    {
     "data": {
      "text/plain": [
       "2×2 Matrix{Float64}:\n",
       " 1.0  2.0\n",
       " 3.0  4.0"
      ]
     },
     "execution_count": 35,
     "metadata": {},
     "output_type": "execute_result"
    }
   ],
   "source": [
    "Float64[1.0 2;\n",
    "        3 4]"
   ]
  },
  {
   "cell_type": "code",
   "execution_count": 37,
   "id": "057ad26e",
   "metadata": {},
   "outputs": [
    {
     "data": {
      "text/plain": [
       "5-element Vector{Int64}:\n",
       " 1\n",
       " 2\n",
       " 3\n",
       " 4\n",
       " 5"
      ]
     },
     "execution_count": 37,
     "metadata": {},
     "output_type": "execute_result"
    }
   ],
   "source": [
    "Int64[1, 2, 3, 4, 5]"
   ]
  },
  {
   "cell_type": "code",
   "execution_count": 39,
   "id": "d0a2bc2b",
   "metadata": {},
   "outputs": [
    {
     "data": {
      "text/plain": [
       "3×4 Matrix{Float64}:\n",
       " 0.0  0.0  0.0  0.0\n",
       " 0.0  0.0  0.0  0.0\n",
       " 0.0  0.0  0.0  0.0"
      ]
     },
     "execution_count": 39,
     "metadata": {},
     "output_type": "execute_result"
    }
   ],
   "source": [
    "zero_m = zeros(Float64, (3, 4))"
   ]
  },
  {
   "cell_type": "code",
   "execution_count": 40,
   "id": "378564cc",
   "metadata": {},
   "outputs": [
    {
     "data": {
      "text/plain": [
       "1×4 Matrix{Float64}:\n",
       " 1.0  1.0  1.0  1.0"
      ]
     },
     "execution_count": 40,
     "metadata": {},
     "output_type": "execute_result"
    }
   ],
   "source": [
    "one_m = ones(Float64, (1, 4))"
   ]
  },
  {
   "cell_type": "code",
   "execution_count": 47,
   "id": "b1005593",
   "metadata": {},
   "outputs": [
    {
     "data": {
      "text/plain": [
       "4×4 Matrix{Float64}:\n",
       " 0.0  0.0  0.0  0.0\n",
       " 0.0  0.0  0.0  0.0\n",
       " 0.0  0.0  0.0  0.0\n",
       " 1.0  1.0  1.0  1.0"
      ]
     },
     "execution_count": 47,
     "metadata": {},
     "output_type": "execute_result"
    }
   ],
   "source": [
    "zero_one = vcat(zero_m, one_m)"
   ]
  },
  {
   "cell_type": "code",
   "execution_count": 50,
   "id": "ddc83a6e",
   "metadata": {},
   "outputs": [
    {
     "data": {
      "text/plain": [
       "4×4 Matrix{Float64}:\n",
       " 3.14159  0.0      0.0      0.0\n",
       " 0.0      3.14159  0.0      0.0\n",
       " 0.0      0.0      3.14159  0.0\n",
       " 0.0      0.0      0.0      3.14159"
      ]
     },
     "execution_count": 50,
     "metadata": {},
     "output_type": "execute_result"
    }
   ],
   "source": [
    "diag1 = Array(UniformScaling{Float64}(pi), (4, 4))"
   ]
  },
  {
   "cell_type": "code",
   "execution_count": 52,
   "id": "a3b1e4a6",
   "metadata": {},
   "outputs": [
    {
     "data": {
      "text/plain": [
       "4×8 Matrix{Float64}:\n",
       " 0.0  0.0  0.0  0.0  3.14159  0.0      0.0      0.0\n",
       " 0.0  0.0  0.0  0.0  0.0      3.14159  0.0      0.0\n",
       " 0.0  0.0  0.0  0.0  0.0      0.0      3.14159  0.0\n",
       " 1.0  1.0  1.0  1.0  0.0      0.0      0.0      3.14159"
      ]
     },
     "execution_count": 52,
     "metadata": {},
     "output_type": "execute_result"
    }
   ],
   "source": [
    "mat = hcat(zero_one, diag1)"
   ]
  },
  {
   "cell_type": "code",
   "execution_count": 54,
   "id": "2ffeedb6",
   "metadata": {},
   "outputs": [
    {
     "data": {
      "text/plain": [
       "4"
      ]
     },
     "execution_count": 54,
     "metadata": {},
     "output_type": "execute_result"
    }
   ],
   "source": [
    "size(mat, 1)"
   ]
  },
  {
   "cell_type": "code",
   "execution_count": 55,
   "id": "35f011e0",
   "metadata": {},
   "outputs": [
    {
     "data": {
      "text/plain": [
       "(4, 8)"
      ]
     },
     "execution_count": 55,
     "metadata": {},
     "output_type": "execute_result"
    }
   ],
   "source": [
    "size(mat)"
   ]
  },
  {
   "cell_type": "code",
   "execution_count": 56,
   "id": "98113c1f",
   "metadata": {},
   "outputs": [
    {
     "data": {
      "text/plain": [
       "32"
      ]
     },
     "execution_count": 56,
     "metadata": {},
     "output_type": "execute_result"
    }
   ],
   "source": [
    "length(mat)"
   ]
  },
  {
   "cell_type": "code",
   "execution_count": 57,
   "id": "99ef2932",
   "metadata": {},
   "outputs": [
    {
     "data": {
      "text/plain": [
       "Float64"
      ]
     },
     "execution_count": 57,
     "metadata": {},
     "output_type": "execute_result"
    }
   ],
   "source": [
    "eltype(mat)"
   ]
  },
  {
   "cell_type": "code",
   "execution_count": 58,
   "id": "40a5f538",
   "metadata": {},
   "outputs": [
    {
     "data": {
      "text/plain": [
       "2"
      ]
     },
     "execution_count": 58,
     "metadata": {},
     "output_type": "execute_result"
    }
   ],
   "source": [
    "ndims(mat)"
   ]
  },
  {
   "cell_type": "markdown",
   "id": "ef6d1a59",
   "metadata": {},
   "source": [
    "## 范围表达式"
   ]
  },
  {
   "cell_type": "code",
   "execution_count": 61,
   "id": "7079a268",
   "metadata": {},
   "outputs": [
    {
     "data": {
      "text/plain": [
       "5-element Vector{Int64}:\n",
       " 1\n",
       " 3\n",
       " 5\n",
       " 7\n",
       " 9"
      ]
     },
     "execution_count": 61,
     "metadata": {},
     "output_type": "execute_result"
    }
   ],
   "source": [
    "collect(1:2:9)"
   ]
  },
  {
   "cell_type": "code",
   "execution_count": 65,
   "id": "df9ec3f9",
   "metadata": {},
   "outputs": [
    {
     "data": {
      "text/plain": [
       "1:1:9"
      ]
     },
     "execution_count": 65,
     "metadata": {},
     "output_type": "execute_result"
    }
   ],
   "source": [
    "range(1, 9; step = 1)"
   ]
  },
  {
   "cell_type": "code",
   "execution_count": 66,
   "id": "1b537be8",
   "metadata": {},
   "outputs": [
    {
     "name": "stdout",
     "output_type": "stream",
     "text": [
      "2 % 2 == 0\n",
      "4 % 2 == 0\n",
      "6 % 2 == 0\n",
      "8 % 2 == 0\n"
     ]
    }
   ],
   "source": [
    "for i in range(1, 9; step = 1)\n",
    "    if i % 2 == 0\n",
    "        println(\"$i % 2 == 0\")\n",
    "    end\n",
    "end"
   ]
  },
  {
   "cell_type": "markdown",
   "id": "f013f940",
   "metadata": {},
   "source": [
    "## 推导式"
   ]
  },
  {
   "cell_type": "code",
   "execution_count": 67,
   "id": "f6797588",
   "metadata": {},
   "outputs": [
    {
     "data": {
      "text/plain": [
       "3×2 Matrix{Int64}:\n",
       " 3   4\n",
       " 6   8\n",
       " 9  12"
      ]
     },
     "execution_count": 67,
     "metadata": {},
     "output_type": "execute_result"
    }
   ],
   "source": [
    "[i * j for i in 1:3, j = 3:4]"
   ]
  },
  {
   "cell_type": "code",
   "execution_count": 71,
   "id": "9d0408ca",
   "metadata": {},
   "outputs": [
    {
     "data": {
      "text/plain": [
       "3×4 Matrix{Float64}:\n",
       " 1.0  2.0  3.0   4.0\n",
       " 2.0  4.0  6.0   8.0\n",
       " 3.0  6.0  9.0  12.0"
      ]
     },
     "execution_count": 71,
     "metadata": {},
     "output_type": "execute_result"
    }
   ],
   "source": [
    "m1 = Float64[i * j for i in 1:3, j in 1:4]"
   ]
  },
  {
   "cell_type": "markdown",
   "id": "a2c5af88",
   "metadata": {},
   "source": [
    "## 笛卡尔索引（Cartesian Indexing)"
   ]
  },
  {
   "cell_type": "code",
   "execution_count": 72,
   "id": "f5ba0f23",
   "metadata": {},
   "outputs": [
    {
     "data": {
      "text/plain": [
       "2.0"
      ]
     },
     "execution_count": 72,
     "metadata": {},
     "output_type": "execute_result"
    }
   ],
   "source": [
    "m1[1, 2]"
   ]
  },
  {
   "cell_type": "code",
   "execution_count": 79,
   "id": "2ccdfe2a",
   "metadata": {},
   "outputs": [
    {
     "data": {
      "text/plain": [
       "12.0"
      ]
     },
     "execution_count": 79,
     "metadata": {},
     "output_type": "execute_result"
    }
   ],
   "source": [
    "m1[3, end]"
   ]
  },
  {
   "cell_type": "code",
   "execution_count": 80,
   "id": "0bb83ea9",
   "metadata": {},
   "outputs": [
    {
     "data": {
      "text/plain": [
       "2×2 Matrix{Float64}:\n",
       " 4.0  6.0\n",
       " 6.0  9.0"
      ]
     },
     "execution_count": 80,
     "metadata": {},
     "output_type": "execute_result"
    }
   ],
   "source": [
    "m1[2:end, 2:(end - 1)]"
   ]
  },
  {
   "cell_type": "code",
   "execution_count": 82,
   "id": "1bc6a6c0",
   "metadata": {},
   "outputs": [
    {
     "data": {
      "text/plain": [
       "2-element Vector{Float64}:\n",
       " 4.0\n",
       " 6.0"
      ]
     },
     "execution_count": 82,
     "metadata": {},
     "output_type": "execute_result"
    }
   ],
   "source": [
    "# 也是一个向量\n",
    "m1[2, 2:3]"
   ]
  },
  {
   "cell_type": "code",
   "execution_count": 76,
   "id": "7dbd84f2",
   "metadata": {},
   "outputs": [
    {
     "data": {
      "text/plain": [
       "4-element Vector{Float64}:\n",
       " 1.0\n",
       " 2.0\n",
       " 3.0\n",
       " 4.0"
      ]
     },
     "execution_count": 76,
     "metadata": {},
     "output_type": "execute_result"
    }
   ],
   "source": [
    "# 按照行或者按照列取出来都是一个向量\n",
    "m1[1,:]"
   ]
  },
  {
   "cell_type": "code",
   "execution_count": 75,
   "id": "0ee22f25",
   "metadata": {},
   "outputs": [
    {
     "data": {
      "text/plain": [
       "3-element Vector{Float64}:\n",
       " 1.0\n",
       " 2.0\n",
       " 3.0"
      ]
     },
     "execution_count": 75,
     "metadata": {},
     "output_type": "execute_result"
    }
   ],
   "source": [
    "m1[:, 1]"
   ]
  },
  {
   "cell_type": "code",
   "execution_count": 83,
   "id": "83f2114c",
   "metadata": {},
   "outputs": [
    {
     "data": {
      "text/plain": [
       "3×4 Matrix{Float64}:\n",
       " 1.0  2.0  3.0   4.0\n",
       " 2.0  4.0  6.0   8.0\n",
       " 3.0  6.0  9.0  12.0"
      ]
     },
     "execution_count": 83,
     "metadata": {},
     "output_type": "execute_result"
    }
   ],
   "source": [
    "m1"
   ]
  },
  {
   "cell_type": "markdown",
   "id": "ff8b5e8c",
   "metadata": {},
   "source": [
    "## reshape"
   ]
  },
  {
   "cell_type": "code",
   "execution_count": 84,
   "id": "4ed444df",
   "metadata": {},
   "outputs": [
    {
     "data": {
      "text/plain": [
       "12-element Vector{Float64}:\n",
       "  1.0\n",
       "  2.0\n",
       "  3.0\n",
       "  2.0\n",
       "  4.0\n",
       "  6.0\n",
       "  3.0\n",
       "  6.0\n",
       "  9.0\n",
       "  4.0\n",
       "  8.0\n",
       " 12.0"
      ]
     },
     "execution_count": 84,
     "metadata": {},
     "output_type": "execute_result"
    }
   ],
   "source": [
    "vec(m1)"
   ]
  },
  {
   "cell_type": "code",
   "execution_count": 85,
   "id": "00f078a5",
   "metadata": {},
   "outputs": [
    {
     "data": {
      "text/plain": [
       "12-element Vector{Float64}:\n",
       "  1.0\n",
       "  2.0\n",
       "  3.0\n",
       "  2.0\n",
       "  4.0\n",
       "  6.0\n",
       "  3.0\n",
       "  6.0\n",
       "  9.0\n",
       "  4.0\n",
       "  8.0\n",
       " 12.0"
      ]
     },
     "execution_count": 85,
     "metadata": {},
     "output_type": "execute_result"
    }
   ],
   "source": [
    "m1[:]"
   ]
  },
  {
   "cell_type": "code",
   "execution_count": 89,
   "id": "1b4c3f47",
   "metadata": {},
   "outputs": [
    {
     "data": {
      "text/plain": [
       "12-element Vector{Float64}:\n",
       "  1.0\n",
       "  2.0\n",
       "  3.0\n",
       "  2.0\n",
       "  4.0\n",
       "  6.0\n",
       "  3.0\n",
       "  6.0\n",
       "  9.0\n",
       "  4.0\n",
       "  8.0\n",
       " 12.0"
      ]
     },
     "execution_count": 89,
     "metadata": {},
     "output_type": "execute_result"
    }
   ],
   "source": [
    "reshape(m1, 12)"
   ]
  },
  {
   "cell_type": "code",
   "execution_count": 90,
   "id": "7b551624",
   "metadata": {},
   "outputs": [
    {
     "data": {
      "text/plain": [
       "12×1 Matrix{Float64}:\n",
       "  1.0\n",
       "  2.0\n",
       "  3.0\n",
       "  2.0\n",
       "  4.0\n",
       "  6.0\n",
       "  3.0\n",
       "  6.0\n",
       "  9.0\n",
       "  4.0\n",
       "  8.0\n",
       " 12.0"
      ]
     },
     "execution_count": 90,
     "metadata": {},
     "output_type": "execute_result"
    }
   ],
   "source": [
    "reshape(m1, 12, 1)"
   ]
  },
  {
   "cell_type": "code",
   "execution_count": 91,
   "id": "0d6fc4dd",
   "metadata": {},
   "outputs": [
    {
     "data": {
      "text/plain": [
       "3×4 Matrix{Float64}:\n",
       " 1.0  2.0  3.0   4.0\n",
       " 2.0  4.0  6.0   8.0\n",
       " 3.0  6.0  9.0  12.0"
      ]
     },
     "execution_count": 91,
     "metadata": {},
     "output_type": "execute_result"
    }
   ],
   "source": [
    "m1"
   ]
  },
  {
   "cell_type": "markdown",
   "id": "b6e07737",
   "metadata": {},
   "source": [
    "`reshape`是对原有数组的引用，`reshape`后的数组的修改会反应到原数组中"
   ]
  },
  {
   "cell_type": "code",
   "execution_count": 94,
   "id": "4f6d5e2e",
   "metadata": {},
   "outputs": [
    {
     "data": {
      "text/plain": [
       "12-element Vector{Float64}:\n",
       "  1.0\n",
       "  2.0\n",
       "  3.0\n",
       "  2.0\n",
       "  4.0\n",
       "  6.0\n",
       "  3.0\n",
       "  6.0\n",
       "  9.0\n",
       "  4.0\n",
       "  8.0\n",
       " 12.0"
      ]
     },
     "execution_count": 94,
     "metadata": {},
     "output_type": "execute_result"
    }
   ],
   "source": [
    "v2 = reshape(m1, 12)"
   ]
  },
  {
   "cell_type": "code",
   "execution_count": 95,
   "id": "29616c81",
   "metadata": {},
   "outputs": [
    {
     "data": {
      "text/plain": [
       "1000"
      ]
     },
     "execution_count": 95,
     "metadata": {},
     "output_type": "execute_result"
    }
   ],
   "source": [
    "v2[1] = 1000"
   ]
  },
  {
   "cell_type": "code",
   "execution_count": 96,
   "id": "1fd9cd13",
   "metadata": {},
   "outputs": [
    {
     "data": {
      "text/plain": [
       "12-element Vector{Float64}:\n",
       " 1000.0\n",
       "    2.0\n",
       "    3.0\n",
       "    2.0\n",
       "    4.0\n",
       "    6.0\n",
       "    3.0\n",
       "    6.0\n",
       "    9.0\n",
       "    4.0\n",
       "    8.0\n",
       "   12.0"
      ]
     },
     "execution_count": 96,
     "metadata": {},
     "output_type": "execute_result"
    }
   ],
   "source": [
    "v2"
   ]
  },
  {
   "cell_type": "code",
   "execution_count": 98,
   "id": "e6d60264",
   "metadata": {},
   "outputs": [
    {
     "data": {
      "text/plain": [
       "3×4 Matrix{Float64}:\n",
       " 1000.0  2.0  3.0   4.0\n",
       "    2.0  4.0  6.0   8.0\n",
       "    3.0  6.0  9.0  12.0"
      ]
     },
     "execution_count": 98,
     "metadata": {},
     "output_type": "execute_result"
    }
   ],
   "source": [
    "m1"
   ]
  },
  {
   "cell_type": "markdown",
   "id": "5d00fa7f",
   "metadata": {},
   "source": [
    "## reduce"
   ]
  },
  {
   "cell_type": "code",
   "execution_count": 2,
   "id": "5b7b8d09",
   "metadata": {},
   "outputs": [
    {
     "data": {
      "text/plain": [
       "3-element Vector{Int64}:\n",
       " 1\n",
       " 4\n",
       " 9"
      ]
     },
     "execution_count": 2,
     "metadata": {},
     "output_type": "execute_result"
    }
   ],
   "source": [
    "map(x -> x^2, 1:3)"
   ]
  },
  {
   "cell_type": "code",
   "execution_count": 4,
   "id": "84477155",
   "metadata": {},
   "outputs": [
    {
     "data": {
      "text/plain": [
       "6"
      ]
     },
     "execution_count": 4,
     "metadata": {},
     "output_type": "execute_result"
    }
   ],
   "source": [
    "reduce(+, 1:3)"
   ]
  },
  {
   "cell_type": "code",
   "execution_count": 5,
   "id": "5a1fef53",
   "metadata": {},
   "outputs": [
    {
     "data": {
      "text/plain": [
       "14"
      ]
     },
     "execution_count": 5,
     "metadata": {},
     "output_type": "execute_result"
    }
   ],
   "source": [
    "# 先map然后再reduce\n",
    "mapreduce(x->x^2, +, 1:3)"
   ]
  },
  {
   "cell_type": "code",
   "execution_count": 6,
   "id": "b4e23c25",
   "metadata": {},
   "outputs": [
    {
     "data": {
      "text/plain": [
       "2×2 Matrix{Float64}:\n",
       " 0.0199479  0.841769\n",
       " 2.50853    0.366755"
      ]
     },
     "execution_count": 6,
     "metadata": {},
     "output_type": "execute_result"
    }
   ],
   "source": [
    "a = randn(2, 2)"
   ]
  },
  {
   "cell_type": "code",
   "execution_count": 7,
   "id": "bef49a3f",
   "metadata": {},
   "outputs": [
    {
     "data": {
      "text/plain": [
       "2×2 Matrix{Float64}:\n",
       " 0.0199479  2.50853\n",
       " 0.841769   0.366755"
      ]
     },
     "execution_count": 7,
     "metadata": {},
     "output_type": "execute_result"
    }
   ],
   "source": [
    "permutedims(a, (2, 1))"
   ]
  },
  {
   "cell_type": "markdown",
   "id": "f12fba8c",
   "metadata": {},
   "source": [
    "## 视图"
   ]
  },
  {
   "cell_type": "code",
   "execution_count": 100,
   "id": "38046758",
   "metadata": {},
   "outputs": [
    {
     "data": {
      "text/plain": [
       "1"
      ]
     },
     "execution_count": 100,
     "metadata": {},
     "output_type": "execute_result"
    }
   ],
   "source": [
    "m1[1, 1] = 1"
   ]
  },
  {
   "cell_type": "code",
   "execution_count": 101,
   "id": "ef1fc2cb",
   "metadata": {},
   "outputs": [
    {
     "data": {
      "text/plain": [
       "3×4 Matrix{Float64}:\n",
       " 1.0  2.0  3.0   4.0\n",
       " 2.0  4.0  6.0   8.0\n",
       " 3.0  6.0  9.0  12.0"
      ]
     },
     "execution_count": 101,
     "metadata": {},
     "output_type": "execute_result"
    }
   ],
   "source": [
    "m1"
   ]
  },
  {
   "cell_type": "code",
   "execution_count": 103,
   "id": "1a6226b5",
   "metadata": {},
   "outputs": [
    {
     "data": {
      "text/plain": [
       "4-element Vector{Int64}:\n",
       " 4\n",
       " 3\n",
       " 2\n",
       " 1"
      ]
     },
     "execution_count": 103,
     "metadata": {},
     "output_type": "execute_result"
    }
   ],
   "source": [
    "m1[1, :] = [4, 3, 2, 1]"
   ]
  },
  {
   "cell_type": "code",
   "execution_count": 105,
   "id": "38d71028",
   "metadata": {},
   "outputs": [
    {
     "data": {
      "text/plain": [
       "3×4 Matrix{Float64}:\n",
       " 4.0  3.0  2.0   1.0\n",
       " 2.0  4.0  6.0   8.0\n",
       " 3.0  6.0  9.0  12.0"
      ]
     },
     "execution_count": 105,
     "metadata": {},
     "output_type": "execute_result"
    }
   ],
   "source": [
    "m1"
   ]
  },
  {
   "cell_type": "markdown",
   "id": "18d383cc",
   "metadata": {},
   "source": [
    "视图与正常的索引有什么区别？\n",
    "+ 如果需要直接修改原来的数组好像也没啥区别，貌似view快一点\n",
    "+ 如果是先取出数组的某一块然后赋值给一个新变量，这时view的数组上的修改会直接反应到原来的数组上，但是新变量的修改并不会反映到原来数组上，因为新变量是取出的数组块的复制。\n",
    "\n",
    "> 当涉及到的矩阵比较大时用view,只涉及索引不涉及赋值用view"
   ]
  },
  {
   "cell_type": "code",
   "execution_count": 107,
   "id": "0bf0f247",
   "metadata": {},
   "outputs": [
    {
     "data": {
      "text/plain": [
       "4-element Vector{Float64}:\n",
       " 2.0\n",
       " 4.0\n",
       " 6.0\n",
       " 8.0"
      ]
     },
     "execution_count": 107,
     "metadata": {},
     "output_type": "execute_result"
    }
   ],
   "source": [
    "B = m1[2, :]"
   ]
  },
  {
   "cell_type": "code",
   "execution_count": 108,
   "id": "3a6eef52",
   "metadata": {},
   "outputs": [
    {
     "data": {
      "text/plain": [
       "100"
      ]
     },
     "execution_count": 108,
     "metadata": {},
     "output_type": "execute_result"
    }
   ],
   "source": [
    "B[1] = 100"
   ]
  },
  {
   "cell_type": "code",
   "execution_count": 109,
   "id": "62612d89",
   "metadata": {},
   "outputs": [
    {
     "data": {
      "text/plain": [
       "3×4 Matrix{Float64}:\n",
       " 4.0  3.0  2.0   1.0\n",
       " 2.0  4.0  6.0   8.0\n",
       " 3.0  6.0  9.0  12.0"
      ]
     },
     "execution_count": 109,
     "metadata": {},
     "output_type": "execute_result"
    }
   ],
   "source": [
    "m1"
   ]
  },
  {
   "cell_type": "code",
   "execution_count": 110,
   "id": "b938ae2f",
   "metadata": {},
   "outputs": [
    {
     "data": {
      "text/plain": [
       "4-element Vector{Float64}:\n",
       " 100.0\n",
       "   4.0\n",
       "   6.0\n",
       "   8.0"
      ]
     },
     "execution_count": 110,
     "metadata": {},
     "output_type": "execute_result"
    }
   ],
   "source": [
    "B"
   ]
  },
  {
   "cell_type": "code",
   "execution_count": 111,
   "id": "83cb9df0",
   "metadata": {},
   "outputs": [
    {
     "data": {
      "text/plain": [
       "4-element view(::Matrix{Float64}, 2, :) with eltype Float64:\n",
       " 2.0\n",
       " 4.0\n",
       " 6.0\n",
       " 8.0"
      ]
     },
     "execution_count": 111,
     "metadata": {},
     "output_type": "execute_result"
    }
   ],
   "source": [
    "C = @view m1[2, :]"
   ]
  },
  {
   "cell_type": "code",
   "execution_count": 112,
   "id": "e093b5be",
   "metadata": {},
   "outputs": [
    {
     "data": {
      "text/plain": [
       "100"
      ]
     },
     "execution_count": 112,
     "metadata": {},
     "output_type": "execute_result"
    }
   ],
   "source": [
    "C[1] = 100"
   ]
  },
  {
   "cell_type": "code",
   "execution_count": 113,
   "id": "d028af0a",
   "metadata": {},
   "outputs": [
    {
     "data": {
      "text/plain": [
       "3×4 Matrix{Float64}:\n",
       "   4.0  3.0  2.0   1.0\n",
       " 100.0  4.0  6.0   8.0\n",
       "   3.0  6.0  9.0  12.0"
      ]
     },
     "execution_count": 113,
     "metadata": {},
     "output_type": "execute_result"
    }
   ],
   "source": [
    "m1"
   ]
  },
  {
   "cell_type": "code",
   "execution_count": 120,
   "id": "8d28bdee",
   "metadata": {},
   "outputs": [],
   "source": [
    "rmat = rand(10000, 10000);"
   ]
  },
  {
   "cell_type": "code",
   "execution_count": 140,
   "id": "c59b1cb3",
   "metadata": {},
   "outputs": [],
   "source": [
    "using BenchmarkTools"
   ]
  },
  {
   "cell_type": "code",
   "execution_count": 144,
   "id": "ddc0f0b8",
   "metadata": {},
   "outputs": [
    {
     "data": {
      "text/plain": [
       "BenchmarkTools.Trial: 10000 samples with 996 evaluations.\n",
       " Range \u001b[90m(\u001b[39m\u001b[36m\u001b[1mmin\u001b[22m\u001b[39m … \u001b[35mmax\u001b[39m\u001b[90m):  \u001b[39m\u001b[36m\u001b[1m24.900 ns\u001b[22m\u001b[39m … \u001b[35m 39.857 μs\u001b[39m  \u001b[90m┊\u001b[39m GC \u001b[90m(\u001b[39mmin … max\u001b[90m): \u001b[39m0.00% … 99.78%\n",
       " Time  \u001b[90m(\u001b[39m\u001b[34m\u001b[1mmedian\u001b[22m\u001b[39m\u001b[90m):     \u001b[39m\u001b[34m\u001b[1m57.329 ns               \u001b[22m\u001b[39m\u001b[90m┊\u001b[39m GC \u001b[90m(\u001b[39mmedian\u001b[90m):    \u001b[39m0.00%\n",
       " Time  \u001b[90m(\u001b[39m\u001b[32m\u001b[1mmean\u001b[22m\u001b[39m ± \u001b[32mσ\u001b[39m\u001b[90m):   \u001b[39m\u001b[32m\u001b[1m59.626 ns\u001b[22m\u001b[39m ± \u001b[32m398.232 ns\u001b[39m  \u001b[90m┊\u001b[39m GC \u001b[90m(\u001b[39mmean ± σ\u001b[90m):  \u001b[39m6.67% ±  1.00%\n",
       "\n",
       "  \u001b[39m \u001b[39m \u001b[39m \u001b[39m \u001b[39m \u001b[39m \u001b[39m▂\u001b[39m \u001b[39m \u001b[39m \u001b[39m \u001b[39m \u001b[39m \u001b[39m \u001b[39m \u001b[39m \u001b[39m \u001b[39m \u001b[39m \u001b[39m \u001b[39m \u001b[39m \u001b[39m \u001b[39m \u001b[39m \u001b[39m \u001b[39m▃\u001b[39m▄\u001b[39m▆\u001b[34m█\u001b[39m\u001b[39m▆\u001b[32m▄\u001b[39m\u001b[39m▁\u001b[39m \u001b[39m \u001b[39m \u001b[39m \u001b[39m \u001b[39m \u001b[39m \u001b[39m \u001b[39m \u001b[39m \u001b[39m \u001b[39m \u001b[39m \u001b[39m \u001b[39m \u001b[39m \u001b[39m \u001b[39m \u001b[39m \u001b[39m \u001b[39m \u001b[39m \u001b[39m \u001b[39m \u001b[39m \u001b[39m \u001b[39m \u001b[39m \u001b[39m \n",
       "  \u001b[39m▂\u001b[39m▂\u001b[39m▂\u001b[39m▆\u001b[39m▄\u001b[39m▅\u001b[39m█\u001b[39m▄\u001b[39m▃\u001b[39m▃\u001b[39m▂\u001b[39m▂\u001b[39m▂\u001b[39m▂\u001b[39m▁\u001b[39m▂\u001b[39m▂\u001b[39m▃\u001b[39m▂\u001b[39m▂\u001b[39m▂\u001b[39m▂\u001b[39m▂\u001b[39m▃\u001b[39m▅\u001b[39m█\u001b[39m█\u001b[39m█\u001b[39m█\u001b[34m█\u001b[39m\u001b[39m█\u001b[32m█\u001b[39m\u001b[39m█\u001b[39m▇\u001b[39m▆\u001b[39m▅\u001b[39m▄\u001b[39m▄\u001b[39m▃\u001b[39m▃\u001b[39m▃\u001b[39m▃\u001b[39m▃\u001b[39m▃\u001b[39m▃\u001b[39m▃\u001b[39m▃\u001b[39m▂\u001b[39m▂\u001b[39m▂\u001b[39m▂\u001b[39m▂\u001b[39m▂\u001b[39m▂\u001b[39m▂\u001b[39m▂\u001b[39m▂\u001b[39m▂\u001b[39m▂\u001b[39m▂\u001b[39m \u001b[39m▃\n",
       "  24.9 ns\u001b[90m         Histogram: frequency by time\u001b[39m         91.6 ns \u001b[0m\u001b[1m<\u001b[22m\n",
       "\n",
       " Memory estimate\u001b[90m: \u001b[39m\u001b[33m80 bytes\u001b[39m, allocs estimate\u001b[90m: \u001b[39m\u001b[33m1\u001b[39m."
      ]
     },
     "execution_count": 144,
     "metadata": {},
     "output_type": "execute_result"
    }
   ],
   "source": [
    "@benchmark @view rmat[3:5000, 1299:2:3000]"
   ]
  },
  {
   "cell_type": "code",
   "execution_count": 145,
   "id": "75bc0f9a",
   "metadata": {},
   "outputs": [
    {
     "data": {
      "text/plain": [
       "BenchmarkTools.Trial: 437 samples with 1 evaluation.\n",
       " Range \u001b[90m(\u001b[39m\u001b[36m\u001b[1mmin\u001b[22m\u001b[39m … \u001b[35mmax\u001b[39m\u001b[90m):  \u001b[39m\u001b[36m\u001b[1m 7.127 ms\u001b[22m\u001b[39m … \u001b[35m41.789 ms\u001b[39m  \u001b[90m┊\u001b[39m GC \u001b[90m(\u001b[39mmin … max\u001b[90m): \u001b[39m 0.00% … 75.43%\n",
       " Time  \u001b[90m(\u001b[39m\u001b[34m\u001b[1mmedian\u001b[22m\u001b[39m\u001b[90m):     \u001b[39m\u001b[34m\u001b[1m 9.428 ms              \u001b[22m\u001b[39m\u001b[90m┊\u001b[39m GC \u001b[90m(\u001b[39mmedian\u001b[90m):    \u001b[39m 0.00%\n",
       " Time  \u001b[90m(\u001b[39m\u001b[32m\u001b[1mmean\u001b[22m\u001b[39m ± \u001b[32mσ\u001b[39m\u001b[90m):   \u001b[39m\u001b[32m\u001b[1m11.429 ms\u001b[22m\u001b[39m ± \u001b[32m 7.631 ms\u001b[39m  \u001b[90m┊\u001b[39m GC \u001b[90m(\u001b[39mmean ± σ\u001b[90m):  \u001b[39m18.62% ± 19.84%\n",
       "\n",
       "  \u001b[39m▂\u001b[39m \u001b[39m \u001b[39m▄\u001b[34m█\u001b[39m\u001b[39m▁\u001b[39m \u001b[39m \u001b[32m \u001b[39m\u001b[39m \u001b[39m \u001b[39m \u001b[39m \u001b[39m \u001b[39m \u001b[39m \u001b[39m \u001b[39m \u001b[39m \u001b[39m \u001b[39m \u001b[39m \u001b[39m \u001b[39m \u001b[39m \u001b[39m \u001b[39m \u001b[39m \u001b[39m \u001b[39m \u001b[39m \u001b[39m \u001b[39m \u001b[39m \u001b[39m \u001b[39m \u001b[39m \u001b[39m \u001b[39m \u001b[39m \u001b[39m \u001b[39m \u001b[39m \u001b[39m \u001b[39m \u001b[39m \u001b[39m \u001b[39m \u001b[39m \u001b[39m \u001b[39m \u001b[39m \u001b[39m \u001b[39m \u001b[39m \u001b[39m \u001b[39m \u001b[39m \u001b[39m▁\u001b[39m \u001b[39m \n",
       "  \u001b[39m█\u001b[39m▇\u001b[39m▅\u001b[39m█\u001b[34m█\u001b[39m\u001b[39m█\u001b[39m▅\u001b[39m▄\u001b[32m▁\u001b[39m\u001b[39m▁\u001b[39m▁\u001b[39m▁\u001b[39m▁\u001b[39m▁\u001b[39m▁\u001b[39m▁\u001b[39m▁\u001b[39m▁\u001b[39m▄\u001b[39m▁\u001b[39m▁\u001b[39m▁\u001b[39m▁\u001b[39m▁\u001b[39m▁\u001b[39m▁\u001b[39m▁\u001b[39m▁\u001b[39m▁\u001b[39m▁\u001b[39m▁\u001b[39m▁\u001b[39m▁\u001b[39m▁\u001b[39m▁\u001b[39m▁\u001b[39m▁\u001b[39m▁\u001b[39m▁\u001b[39m▁\u001b[39m▁\u001b[39m▁\u001b[39m▁\u001b[39m▁\u001b[39m▁\u001b[39m▁\u001b[39m▁\u001b[39m▁\u001b[39m▁\u001b[39m▁\u001b[39m▁\u001b[39m▁\u001b[39m▄\u001b[39m▄\u001b[39m▅\u001b[39m▄\u001b[39m▄\u001b[39m▆\u001b[39m█\u001b[39m \u001b[39m▆\n",
       "  7.13 ms\u001b[90m      \u001b[39m\u001b[90mHistogram: \u001b[39m\u001b[90m\u001b[1mlog(\u001b[22m\u001b[39m\u001b[90mfrequency\u001b[39m\u001b[90m\u001b[1m)\u001b[22m\u001b[39m\u001b[90m by time\u001b[39m      39.5 ms \u001b[0m\u001b[1m<\u001b[22m\n",
       "\n",
       " Memory estimate\u001b[90m: \u001b[39m\u001b[33m32.45 MiB\u001b[39m, allocs estimate\u001b[90m: \u001b[39m\u001b[33m2\u001b[39m."
      ]
     },
     "execution_count": 145,
     "metadata": {},
     "output_type": "execute_result"
    }
   ],
   "source": [
    "@benchmark rmat[3:5000, 1299:2:3000]"
   ]
  },
  {
   "cell_type": "markdown",
   "id": "57db7508",
   "metadata": {},
   "source": [
    "## 矢量化计算"
   ]
  },
  {
   "cell_type": "code",
   "execution_count": 146,
   "id": "2c739b6b",
   "metadata": {},
   "outputs": [
    {
     "data": {
      "text/plain": [
       "3-element Vector{Float64}:\n",
       "  1.2\n",
       "  3.5\n",
       " -2.1"
      ]
     },
     "execution_count": 146,
     "metadata": {},
     "output_type": "execute_result"
    }
   ],
   "source": [
    "a = [1.2, 3.5, -2.1]"
   ]
  },
  {
   "cell_type": "code",
   "execution_count": 147,
   "id": "e30d0f61",
   "metadata": {},
   "outputs": [
    {
     "data": {
      "text/plain": [
       "3-element Vector{Float64}:\n",
       "  2.2\n",
       "  4.5\n",
       " -1.1"
      ]
     },
     "execution_count": 147,
     "metadata": {},
     "output_type": "execute_result"
    }
   ],
   "source": [
    "map((x) -> x + 1, a)"
   ]
  },
  {
   "cell_type": "code",
   "execution_count": 149,
   "id": "2ee7da68",
   "metadata": {},
   "outputs": [
    {
     "data": {
      "text/plain": [
       "3-element Vector{Float64}:\n",
       "  2.2\n",
       "  4.5\n",
       " -1.1"
      ]
     },
     "execution_count": 149,
     "metadata": {},
     "output_type": "execute_result"
    }
   ],
   "source": [
    "map(a) do element\n",
    "    element + 1\n",
    "end"
   ]
  },
  {
   "cell_type": "code",
   "execution_count": 158,
   "id": "ca6e70e9",
   "metadata": {},
   "outputs": [
    {
     "data": {
      "text/plain": [
       "3-element Vector{Int64}:\n",
       "    1\n",
       " 1000\n",
       "    0"
      ]
     },
     "execution_count": 158,
     "metadata": {},
     "output_type": "execute_result"
    }
   ],
   "source": [
    "map(a) do element\n",
    "        if element < 0\n",
    "            return 0\n",
    "        elseif element > 0 && element < 3\n",
    "            return Int64(round(element))\n",
    "        else\n",
    "            return 1000\n",
    "        end\n",
    "end\n",
    "        "
   ]
  },
  {
   "cell_type": "code",
   "execution_count": 159,
   "id": "818151c7",
   "metadata": {},
   "outputs": [
    {
     "data": {
      "text/plain": [
       "(0, 1, 2)"
      ]
     },
     "execution_count": 159,
     "metadata": {},
     "output_type": "execute_result"
    }
   ],
   "source": [
    "broadcast(+, (1, 2, 3), -1)"
   ]
  },
  {
   "cell_type": "code",
   "execution_count": 174,
   "id": "d8e76182",
   "metadata": {},
   "outputs": [
    {
     "data": {
      "text/plain": [
       "(2, 3, -5, 5)"
      ]
     },
     "execution_count": 174,
     "metadata": {},
     "output_type": "execute_result"
    }
   ],
   "source": [
    "c = (2, 3, -5, 5)"
   ]
  },
  {
   "cell_type": "code",
   "execution_count": 175,
   "id": "663d5c76",
   "metadata": {},
   "outputs": [
    {
     "data": {
      "text/plain": [
       "(0, 1, -1, -2)"
      ]
     },
     "execution_count": 175,
     "metadata": {},
     "output_type": "execute_result"
    }
   ],
   "source": [
    "b = (0, 1, -1, -2)"
   ]
  },
  {
   "cell_type": "code",
   "execution_count": 176,
   "id": "2569d633",
   "metadata": {},
   "outputs": [
    {
     "data": {
      "text/plain": [
       "(2, 3, -1, 5)"
      ]
     },
     "execution_count": 176,
     "metadata": {},
     "output_type": "execute_result"
    }
   ],
   "source": [
    "max.(c, b)"
   ]
  },
  {
   "cell_type": "code",
   "execution_count": 181,
   "id": "1f63fce2",
   "metadata": {},
   "outputs": [
    {
     "data": {
      "text/plain": [
       "(2, 3, -5, 5)"
      ]
     },
     "execution_count": 181,
     "metadata": {},
     "output_type": "execute_result"
    }
   ],
   "source": [
    "max(c, b)"
   ]
  },
  {
   "cell_type": "code",
   "execution_count": 180,
   "id": "f9b7821d",
   "metadata": {},
   "outputs": [
    {
     "data": {
      "text/plain": [
       "(2, 3, -1, 5)"
      ]
     },
     "execution_count": 180,
     "metadata": {},
     "output_type": "execute_result"
    }
   ],
   "source": [
    "@. max(c, b)"
   ]
  },
  {
   "cell_type": "code",
   "execution_count": 179,
   "id": "e5a07913",
   "metadata": {},
   "outputs": [
    {
     "data": {
      "text/plain": [
       "(2, 3, -1, 5)"
      ]
     },
     "execution_count": 179,
     "metadata": {},
     "output_type": "execute_result"
    }
   ],
   "source": [
    "@__dot__ max(c, b)"
   ]
  },
  {
   "cell_type": "markdown",
   "id": "dc9d5830",
   "metadata": {},
   "source": [
    "## 排序"
   ]
  },
  {
   "cell_type": "code",
   "execution_count": 182,
   "id": "ab2595fb",
   "metadata": {},
   "outputs": [
    {
     "data": {
      "text/plain": [
       "4-element Vector{Int64}:\n",
       " 2\n",
       " 3\n",
       " 1\n",
       " 4"
      ]
     },
     "execution_count": 182,
     "metadata": {},
     "output_type": "execute_result"
    }
   ],
   "source": [
    "a = [2, 3, 1, 4]"
   ]
  },
  {
   "cell_type": "code",
   "execution_count": 183,
   "id": "738f0062",
   "metadata": {},
   "outputs": [
    {
     "data": {
      "text/plain": [
       "4-element Vector{Int64}:\n",
       " 1\n",
       " 2\n",
       " 3\n",
       " 4"
      ]
     },
     "execution_count": 183,
     "metadata": {},
     "output_type": "execute_result"
    }
   ],
   "source": [
    "sort(a)"
   ]
  },
  {
   "cell_type": "code",
   "execution_count": 185,
   "id": "c78f30a9",
   "metadata": {},
   "outputs": [
    {
     "data": {
      "text/plain": [
       "4-element Vector{Int64}:\n",
       " 3\n",
       " 1\n",
       " 2\n",
       " 4"
      ]
     },
     "execution_count": 185,
     "metadata": {},
     "output_type": "execute_result"
    }
   ],
   "source": [
    "sortperm(a) # 获得排序前个元素的下标值"
   ]
  },
  {
   "cell_type": "code",
   "execution_count": 186,
   "id": "f5df93e8",
   "metadata": {},
   "outputs": [
    {
     "data": {
      "text/plain": [
       "3×3 Matrix{Int64}:\n",
       " 1  2  3\n",
       " 4  1  2\n",
       " 0  3  7"
      ]
     },
     "execution_count": 186,
     "metadata": {},
     "output_type": "execute_result"
    }
   ],
   "source": [
    "b = [1  2  3;\n",
    "     4  1  2;\n",
    "     0  3  7]"
   ]
  },
  {
   "cell_type": "code",
   "execution_count": 189,
   "id": "ad02acfe",
   "metadata": {},
   "outputs": [
    {
     "data": {
      "text/plain": [
       "3×3 Matrix{Int64}:\n",
       " 0  1  2\n",
       " 1  2  3\n",
       " 4  3  7"
      ]
     },
     "execution_count": 189,
     "metadata": {},
     "output_type": "execute_result"
    }
   ],
   "source": [
    "sort(b, dims = 1)"
   ]
  },
  {
   "cell_type": "code",
   "execution_count": 190,
   "id": "0cd46065",
   "metadata": {},
   "outputs": [
    {
     "data": {
      "text/plain": [
       "3×3 Matrix{Int64}:\n",
       " 1  2  3\n",
       " 1  2  4\n",
       " 0  3  7"
      ]
     },
     "execution_count": 190,
     "metadata": {},
     "output_type": "execute_result"
    }
   ],
   "source": [
    "sort(b, dims = 2)"
   ]
  },
  {
   "cell_type": "code",
   "execution_count": 192,
   "id": "ab6655a9",
   "metadata": {},
   "outputs": [
    {
     "data": {
      "text/plain": [
       "3×3 Matrix{Int64}:\n",
       " 3  2  1\n",
       " 4  2  1\n",
       " 7  3  0"
      ]
     },
     "execution_count": 192,
     "metadata": {},
     "output_type": "execute_result"
    }
   ],
   "source": [
    "sort(b, dims = 2, rev = true)"
   ]
  },
  {
   "cell_type": "markdown",
   "id": "a6a343ae",
   "metadata": {},
   "source": [
    "## 查找"
   ]
  },
  {
   "cell_type": "code",
   "execution_count": 193,
   "id": "b8204dd6",
   "metadata": {},
   "outputs": [
    {
     "data": {
      "text/plain": [
       "true"
      ]
     },
     "execution_count": 193,
     "metadata": {},
     "output_type": "execute_result"
    }
   ],
   "source": [
    "1 in [1, 2, 3]"
   ]
  },
  {
   "cell_type": "code",
   "execution_count": 194,
   "id": "d95d3e99",
   "metadata": {},
   "outputs": [
    {
     "data": {
      "text/plain": [
       "true"
      ]
     },
     "execution_count": 194,
     "metadata": {},
     "output_type": "execute_result"
    }
   ],
   "source": [
    "in(1, [1, 2, 3])"
   ]
  },
  {
   "cell_type": "code",
   "execution_count": 198,
   "id": "99ca6161",
   "metadata": {},
   "outputs": [
    {
     "data": {
      "text/plain": [
       "(4, 5)"
      ]
     },
     "execution_count": 198,
     "metadata": {},
     "output_type": "execute_result"
    }
   ],
   "source": [
    "findmax([3, -1, 1, 2, 4])"
   ]
  },
  {
   "cell_type": "code",
   "execution_count": 199,
   "id": "aa11d75b",
   "metadata": {},
   "outputs": [
    {
     "data": {
      "text/plain": [
       "3×3 Matrix{Int64}:\n",
       " 1  4  -1\n",
       " 3  2   0\n",
       " 2  5   1"
      ]
     },
     "execution_count": 199,
     "metadata": {},
     "output_type": "execute_result"
    }
   ],
   "source": [
    "a = [1  4  -1;\n",
    "     3  2   0;\n",
    "     2  5   1]"
   ]
  },
  {
   "cell_type": "code",
   "execution_count": 204,
   "id": "7883b8ed",
   "metadata": {},
   "outputs": [
    {
     "data": {
      "text/plain": [
       "CartesianIndex(2, 1)"
      ]
     },
     "execution_count": 204,
     "metadata": {},
     "output_type": "execute_result"
    }
   ],
   "source": [
    "findmax(a, dims =1)[2][1]"
   ]
  },
  {
   "cell_type": "code",
   "execution_count": 205,
   "id": "3475dd56",
   "metadata": {},
   "outputs": [
    {
     "data": {
      "text/plain": [
       "3"
      ]
     },
     "execution_count": 205,
     "metadata": {},
     "output_type": "execute_result"
    }
   ],
   "source": [
    "a[findmax(a, dims =1)[2][1]]"
   ]
  },
  {
   "cell_type": "code",
   "execution_count": 206,
   "id": "d032c7f3",
   "metadata": {},
   "outputs": [
    {
     "data": {
      "text/plain": [
       "1-element Vector{CartesianIndex{2}}:\n",
       " CartesianIndex(2, 3)"
      ]
     },
     "execution_count": 206,
     "metadata": {},
     "output_type": "execute_result"
    }
   ],
   "source": [
    "findall(iszero, a)"
   ]
  },
  {
   "cell_type": "code",
   "execution_count": 207,
   "id": "9cee2a3d",
   "metadata": {},
   "outputs": [
    {
     "data": {
      "text/plain": [
       "2-element Vector{CartesianIndex{2}}:\n",
       " CartesianIndex(1, 1)\n",
       " CartesianIndex(3, 3)"
      ]
     },
     "execution_count": 207,
     "metadata": {},
     "output_type": "execute_result"
    }
   ],
   "source": [
    "findall(isone, a)"
   ]
  },
  {
   "cell_type": "markdown",
   "id": "338a8112",
   "metadata": {},
   "source": [
    "## 矩阵操作"
   ]
  },
  {
   "cell_type": "code",
   "execution_count": 208,
   "id": "82fb8edf",
   "metadata": {},
   "outputs": [],
   "source": [
    "using LinearAlgebra"
   ]
  },
  {
   "cell_type": "code",
   "execution_count": 209,
   "id": "6ae3c91b",
   "metadata": {},
   "outputs": [
    {
     "data": {
      "text/plain": [
       "3×3 Matrix{Float64}:\n",
       " 0.315813   0.499762  0.526874\n",
       " 0.719178   0.920692  0.957881\n",
       " 0.0162672  0.424161  0.721809"
      ]
     },
     "execution_count": 209,
     "metadata": {},
     "output_type": "execute_result"
    }
   ],
   "source": [
    "A = rand(3, 3)"
   ]
  },
  {
   "cell_type": "code",
   "execution_count": 210,
   "id": "9f0dd332",
   "metadata": {},
   "outputs": [
    {
     "data": {
      "text/plain": [
       "1.9583148936786183"
      ]
     },
     "execution_count": 210,
     "metadata": {},
     "output_type": "execute_result"
    }
   ],
   "source": [
    "tr(A)"
   ]
  },
  {
   "cell_type": "code",
   "execution_count": 211,
   "id": "5f0cc3f1",
   "metadata": {},
   "outputs": [
    {
     "data": {
      "text/plain": [
       "-0.01724893501880975"
      ]
     },
     "execution_count": 211,
     "metadata": {},
     "output_type": "execute_result"
    }
   ],
   "source": [
    "det(A)"
   ]
  },
  {
   "cell_type": "code",
   "execution_count": 212,
   "id": "6cc38381",
   "metadata": {},
   "outputs": [
    {
     "data": {
      "text/plain": [
       "3×3 Matrix{Float64}:\n",
       " -14.973     7.95724   0.369638\n",
       "  29.1918  -12.7188   -4.42951\n",
       " -16.8167    7.2947    3.98001"
      ]
     },
     "execution_count": 212,
     "metadata": {},
     "output_type": "execute_result"
    }
   ],
   "source": [
    "inv(A)"
   ]
  },
  {
   "cell_type": "code",
   "execution_count": 213,
   "id": "ea8b6326",
   "metadata": {},
   "outputs": [
    {
     "data": {
      "text/plain": [
       "3×3 adjoint(::Matrix{Float64}) with eltype Float64:\n",
       " 0.315813  0.719178  0.0162672\n",
       " 0.499762  0.920692  0.424161\n",
       " 0.526874  0.957881  0.721809"
      ]
     },
     "execution_count": 213,
     "metadata": {},
     "output_type": "execute_result"
    }
   ],
   "source": [
    "A'"
   ]
  },
  {
   "cell_type": "code",
   "execution_count": 214,
   "id": "9135a18d",
   "metadata": {},
   "outputs": [
    {
     "data": {
      "text/plain": [
       "3-element Vector{Float64}:\n",
       " -0.03589191276678614\n",
       "  0.28041992470338933\n",
       "  1.7137868817420145"
      ]
     },
     "execution_count": 214,
     "metadata": {},
     "output_type": "execute_result"
    }
   ],
   "source": [
    "eigvals(A)"
   ]
  },
  {
   "cell_type": "code",
   "execution_count": 215,
   "id": "984805ae",
   "metadata": {},
   "outputs": [
    {
     "data": {
      "text/plain": [
       "3×3 Matrix{Float64}:\n",
       " -0.466859  -0.281379  -0.431521\n",
       "  0.775885  -0.686705  -0.826878\n",
       " -0.424317   0.670271  -0.360642"
      ]
     },
     "execution_count": 215,
     "metadata": {},
     "output_type": "execute_result"
    }
   ],
   "source": [
    "eigvecs(A)"
   ]
  },
  {
   "cell_type": "code",
   "execution_count": 216,
   "id": "f5925e0f",
   "metadata": {},
   "outputs": [
    {
     "data": {
      "text/plain": [
       "3×3 Diagonal{Int64, Vector{Int64}}:\n",
       " 1  ⋅  ⋅\n",
       " ⋅  2  ⋅\n",
       " ⋅  ⋅  3"
      ]
     },
     "execution_count": 216,
     "metadata": {},
     "output_type": "execute_result"
    }
   ],
   "source": [
    "diag_mat = Diagonal([1, 2, 3])"
   ]
  }
 ],
 "metadata": {
  "kernelspec": {
   "display_name": "Julia 1.6.5",
   "language": "julia",
   "name": "julia-1.6"
  },
  "language_info": {
   "file_extension": ".jl",
   "mimetype": "application/julia",
   "name": "julia",
   "version": "1.6.5"
  },
  "toc": {
   "base_numbering": 1,
   "nav_menu": {},
   "number_sections": true,
   "sideBar": true,
   "skip_h1_title": false,
   "title_cell": "Table of Contents",
   "title_sidebar": "Contents",
   "toc_cell": false,
   "toc_position": {
    "height": "calc(100% - 180px)",
    "left": "10px",
    "top": "150px",
    "width": "252px"
   },
   "toc_section_display": true,
   "toc_window_display": true
  }
 },
 "nbformat": 4,
 "nbformat_minor": 5
}
