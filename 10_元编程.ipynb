{
 "cells": [
  {
   "cell_type": "markdown",
   "id": "5850845b",
   "metadata": {},
   "source": [
    "# 元编程（Meta-Programming）"
   ]
  },
  {
   "cell_type": "markdown",
   "id": "4877d89c",
   "metadata": {},
   "source": [
    "什么是元编程呢？\n",
    "\n",
    "简而言之，代码是可以操作的对象，我可以通过元编程来**自动生成代码， 并执行代码**"
   ]
  },
  {
   "cell_type": "markdown",
   "id": "287f4d86",
   "metadata": {},
   "source": [
    "## 表达式"
   ]
  },
  {
   "cell_type": "markdown",
   "id": "05172474",
   "metadata": {},
   "source": [
    "### 通过字符串创建表达式"
   ]
  },
  {
   "cell_type": "code",
   "execution_count": 1,
   "id": "898c69ff",
   "metadata": {},
   "outputs": [
    {
     "data": {
      "text/plain": [
       "\"1+1\""
      ]
     },
     "execution_count": 1,
     "metadata": {},
     "output_type": "execute_result"
    }
   ],
   "source": [
    "prog = \"1+1\""
   ]
  },
  {
   "cell_type": "code",
   "execution_count": 2,
   "id": "61972388",
   "metadata": {},
   "outputs": [
    {
     "data": {
      "text/plain": [
       ":(1 + 1)"
      ]
     },
     "execution_count": 2,
     "metadata": {},
     "output_type": "execute_result"
    }
   ],
   "source": [
    "ex1 = Meta.parse(prog)"
   ]
  },
  {
   "cell_type": "code",
   "execution_count": 3,
   "id": "1e2a5cbc",
   "metadata": {},
   "outputs": [
    {
     "data": {
      "text/plain": [
       "2"
      ]
     },
     "execution_count": 3,
     "metadata": {},
     "output_type": "execute_result"
    }
   ],
   "source": [
    "eval(ex1)"
   ]
  },
  {
   "cell_type": "code",
   "execution_count": 4,
   "id": "7b9bf90c",
   "metadata": {},
   "outputs": [
    {
     "name": "stdout",
     "output_type": "stream",
     "text": [
      "Expr\n",
      "  head: Symbol call\n",
      "  args: Array{Any}((3,))\n",
      "    1: Symbol +\n",
      "    2: Int64 1\n",
      "    3: Int64 1\n"
     ]
    }
   ],
   "source": [
    "dump(ex1)"
   ]
  },
  {
   "cell_type": "markdown",
   "id": "99830f8b",
   "metadata": {},
   "source": [
    "### 通过`Expr`手动创建"
   ]
  },
  {
   "cell_type": "code",
   "execution_count": 5,
   "id": "6e385413",
   "metadata": {},
   "outputs": [
    {
     "data": {
      "text/plain": [
       ":(1 + 1)"
      ]
     },
     "execution_count": 5,
     "metadata": {},
     "output_type": "execute_result"
    }
   ],
   "source": [
    "Expr(:call, :+, 1, 1)"
   ]
  },
  {
   "cell_type": "markdown",
   "id": "e22ce11c",
   "metadata": {},
   "source": [
    "### 通过`quote`创建多个表达式"
   ]
  },
  {
   "cell_type": "code",
   "execution_count": 6,
   "id": "400ad89d",
   "metadata": {},
   "outputs": [
    {
     "data": {
      "text/plain": [
       "quote\n",
       "    \u001b[90m#= In[6]:2 =#\u001b[39m\n",
       "    x = 1\n",
       "    \u001b[90m#= In[6]:3 =#\u001b[39m\n",
       "    y = 2\n",
       "end"
      ]
     },
     "execution_count": 6,
     "metadata": {},
     "output_type": "execute_result"
    }
   ],
   "source": [
    "ex3 = quote\n",
    "    x = 1\n",
    "    y = 2\n",
    "end"
   ]
  },
  {
   "cell_type": "code",
   "execution_count": 7,
   "id": "221b01f2",
   "metadata": {},
   "outputs": [
    {
     "name": "stdout",
     "output_type": "stream",
     "text": [
      "Expr\n",
      "  head: Symbol block\n",
      "  args: Array{Any}((4,))\n",
      "    1: LineNumberNode\n",
      "      line: Int64 2\n",
      "      file: Symbol In[6]\n",
      "    2: Expr\n",
      "      head: Symbol =\n",
      "      args: Array{Any}((2,))\n",
      "        1: Symbol x\n",
      "        2: Int64 1\n",
      "    3: LineNumberNode\n",
      "      line: Int64 3\n",
      "      file: Symbol In[6]\n",
      "    4: Expr\n",
      "      head: Symbol =\n",
      "      args: Array{Any}((2,))\n",
      "        1: Symbol y\n",
      "        2: Int64 2\n"
     ]
    }
   ],
   "source": [
    "dump(ex3)"
   ]
  },
  {
   "cell_type": "markdown",
   "id": "fc773eba",
   "metadata": {},
   "source": [
    "可以看出`quote`通过`array`嵌套了多个表达式， 他的`head`是`:block`（中间有两行是注释）"
   ]
  },
  {
   "cell_type": "code",
   "execution_count": 8,
   "id": "0112e84c",
   "metadata": {},
   "outputs": [
    {
     "data": {
      "text/plain": [
       ":($(Expr(:escape, quote\n",
       "    \u001b[90m#= In[6]:2 =#\u001b[39m\n",
       "    x = 1\n",
       "    \u001b[90m#= In[6]:3 =#\u001b[39m\n",
       "    y = 2\n",
       "end)))"
      ]
     },
     "execution_count": 8,
     "metadata": {},
     "output_type": "execute_result"
    }
   ],
   "source": [
    "esc(ex3)"
   ]
  },
  {
   "cell_type": "markdown",
   "id": "57682d9e",
   "metadata": {},
   "source": [
    "### 直接通过`:()`创建"
   ]
  },
  {
   "cell_type": "code",
   "execution_count": 9,
   "id": "1f3cf7a3",
   "metadata": {},
   "outputs": [
    {
     "data": {
      "text/plain": [
       "true"
      ]
     },
     "execution_count": 9,
     "metadata": {},
     "output_type": "execute_result"
    }
   ],
   "source": [
    ":(1+1) == Expr(:call, :+, 1, 1)"
   ]
  },
  {
   "cell_type": "code",
   "execution_count": 10,
   "id": "8ff6bc74",
   "metadata": {},
   "outputs": [
    {
     "data": {
      "text/plain": [
       ":(2 + 3a + b)"
      ]
     },
     "execution_count": 10,
     "metadata": {},
     "output_type": "execute_result"
    }
   ],
   "source": [
    "ex2 = :(2 + 3 * a + b) "
   ]
  },
  {
   "cell_type": "code",
   "execution_count": 11,
   "id": "f4787a4a",
   "metadata": {},
   "outputs": [
    {
     "name": "stdout",
     "output_type": "stream",
     "text": [
      "Expr\n",
      "  head: Symbol call\n",
      "  args: Array{Any}((4,))\n",
      "    1: Symbol +\n",
      "    2: Int64 2\n",
      "    3: Expr\n",
      "      head: Symbol call\n",
      "      args: Array{Any}((3,))\n",
      "        1: Symbol *\n",
      "        2: Int64 3\n",
      "        3: Symbol a\n",
      "    4: Symbol b\n"
     ]
    }
   ],
   "source": [
    "dump(ex2)"
   ]
  },
  {
   "cell_type": "markdown",
   "id": "7a9ac11b",
   "metadata": {},
   "source": [
    "julia的表达式通常尽可以包含`符号、子表达式、字面值`， 上式中`+, b`是符号， `:(3 * a)`是子表达式， `2`是字面值，上式是一个嵌套的表达式， **`a, b`的值还不知道， 在这里被当做符号对待**\n",
    "\n",
    "<font style=\"color:purple;font-size:14pt;\">如果`a, b`已知， 那么通过`$`进行插值， 可以使构造的表达式中的`a, b`替换为变量`a, b`的实际值</font>"
   ]
  },
  {
   "cell_type": "code",
   "execution_count": 12,
   "id": "f898da26",
   "metadata": {},
   "outputs": [
    {
     "data": {
      "text/plain": [
       ":(2 + 3a + b)"
      ]
     },
     "execution_count": 12,
     "metadata": {},
     "output_type": "execute_result"
    }
   ],
   "source": [
    "a = 1\n",
    "b = 1\n",
    ":(2 + 3 * a + b) # no $"
   ]
  },
  {
   "cell_type": "code",
   "execution_count": 13,
   "id": "495207a4",
   "metadata": {},
   "outputs": [
    {
     "data": {
      "text/plain": [
       "6"
      ]
     },
     "execution_count": 13,
     "metadata": {},
     "output_type": "execute_result"
    }
   ],
   "source": [
    "# 仍然是可以求值的\n",
    "eval(:(2 + 3 * a + b))"
   ]
  },
  {
   "cell_type": "code",
   "execution_count": 14,
   "id": "f3b9dc8e",
   "metadata": {},
   "outputs": [
    {
     "data": {
      "text/plain": [
       ":(2 + 3 * 1 + 1)"
      ]
     },
     "execution_count": 14,
     "metadata": {},
     "output_type": "execute_result"
    }
   ],
   "source": [
    ":(2 + 3 * $a + $b) #！！ with $ "
   ]
  },
  {
   "cell_type": "code",
   "execution_count": 15,
   "id": "37132445",
   "metadata": {},
   "outputs": [
    {
     "data": {
      "text/plain": [
       "6"
      ]
     },
     "execution_count": 15,
     "metadata": {},
     "output_type": "execute_result"
    }
   ],
   "source": [
    "# 很自然的可以求值\n",
    "eval(:(2 + 3 * $a + $b))"
   ]
  },
  {
   "cell_type": "code",
   "execution_count": 16,
   "id": "eb1d8359",
   "metadata": {},
   "outputs": [
    {
     "data": {
      "text/plain": [
       ":(f(1, x, y, z))"
      ]
     },
     "execution_count": 16,
     "metadata": {},
     "output_type": "execute_result"
    }
   ],
   "source": [
    "# splatting interploration\n",
    "\n",
    "args = [:x, :y, :z]\n",
    ":(f(1, $(args...)))"
   ]
  },
  {
   "cell_type": "markdown",
   "id": "e3a8f699",
   "metadata": {},
   "source": [
    "可以看出来整个工作的流程就是， 利用`Expr`表达式生成代码， 然后使用`eval`函数求值， 达到自动生成代码， 运行代码的目的"
   ]
  },
  {
   "cell_type": "markdown",
   "id": "7e100e95",
   "metadata": {},
   "source": [
    "## 宏"
   ]
  },
  {
   "cell_type": "markdown",
   "id": "e594531b",
   "metadata": {},
   "source": [
    "宏像是一个函数， 但是又与函数不太相同， **宏会返回一个Expr表达式， 这个表达式不经过`eval`直接自动运行**, `@macroexpand`可以看到生成的表达式。\n",
    "\n",
    "为什么需要宏呢？ 宏的内部可以执行其它的函数， 最后再去构造和执行Expr表达式"
   ]
  },
  {
   "cell_type": "markdown",
   "id": "0959f50d",
   "metadata": {},
   "source": [
    "### 定义宏"
   ]
  },
  {
   "cell_type": "code",
   "execution_count": 41,
   "id": "a7d6956e",
   "metadata": {},
   "outputs": [
    {
     "data": {
      "text/plain": [
       "@sayhello (macro with 2 methods)"
      ]
     },
     "execution_count": 41,
     "metadata": {},
     "output_type": "execute_result"
    }
   ],
   "source": [
    "macro sayhello()\n",
    "    return :(println(\"Hello World!\"))\n",
    "end"
   ]
  },
  {
   "cell_type": "code",
   "execution_count": 60,
   "id": "78f41a00",
   "metadata": {},
   "outputs": [
    {
     "name": "stdout",
     "output_type": "stream",
     "text": [
      "Hello World!\n"
     ]
    }
   ],
   "source": [
    "@sayhello"
   ]
  },
  {
   "cell_type": "code",
   "execution_count": 61,
   "id": "0e5646ff",
   "metadata": {},
   "outputs": [
    {
     "data": {
      "text/plain": [
       "@sayhello1 (macro with 1 method)"
      ]
     },
     "execution_count": 61,
     "metadata": {},
     "output_type": "execute_result"
    }
   ],
   "source": [
    "macro sayhello0(name)\n",
    "    return :(println(\"Hello World! \", name))\n",
    "end\n",
    "macro sayhello1(name)\n",
    "    return :(println(\"Hello World! \", $name))\n",
    "end"
   ]
  },
  {
   "cell_type": "code",
   "execution_count": 62,
   "id": "731c2657",
   "metadata": {},
   "outputs": [
    {
     "data": {
      "text/plain": [
       ":(Main.println(\"Hello World! \", \"XJZ\"))"
      ]
     },
     "execution_count": 62,
     "metadata": {},
     "output_type": "execute_result"
    }
   ],
   "source": [
    "@macroexpand @sayhello1 \"XJZ\""
   ]
  },
  {
   "cell_type": "code",
   "execution_count": 63,
   "id": "a40e266f",
   "metadata": {},
   "outputs": [
    {
     "data": {
      "text/plain": [
       ":(Main.println(\"Hello World! \", Main.name))"
      ]
     },
     "execution_count": 63,
     "metadata": {},
     "output_type": "execute_result"
    }
   ],
   "source": [
    "@macroexpand @sayhello0 \"XJZ\""
   ]
  },
  {
   "cell_type": "markdown",
   "id": "77a65fb8",
   "metadata": {},
   "source": [
    "???\n",
    "\n",
    "注意`sayhello(name)`这个宏中用到了插值`$name`, 明明宏提供了`name`这个位置参数， 为啥呢？ \n",
    "\n",
    "因为我们返回的是一个表达式， 返回值是一个构造`Expr`的过程， 在构造`Expr`的过程中，使用任何变量都要进行插值，手动狗头"
   ]
  },
  {
   "cell_type": "markdown",
   "id": "d8a4b87c",
   "metadata": {},
   "source": [
    "### 理解宏的运行"
   ]
  },
  {
   "cell_type": "code",
   "execution_count": 23,
   "id": "1b727b30",
   "metadata": {},
   "outputs": [
    {
     "data": {
      "text/plain": [
       "@twostep (macro with 1 method)"
      ]
     },
     "execution_count": 23,
     "metadata": {},
     "output_type": "execute_result"
    }
   ],
   "source": [
    "macro twostep(arg...)\n",
    "    println(\"I execute at parse time. The argument is: \", arg...)\n",
    "    return :(println(\"I execute at runtime. The argument is: \", $(arg...)))\n",
    "end"
   ]
  },
  {
   "cell_type": "code",
   "execution_count": 24,
   "id": "e399b85d",
   "metadata": {},
   "outputs": [
    {
     "name": "stdout",
     "output_type": "stream",
     "text": [
      "I execute at parse time. The argument is: 123\n"
     ]
    },
    {
     "data": {
      "text/plain": [
       ":(Main.println(\"I execute at runtime. The argument is: \", 1, 2, 3))"
      ]
     },
     "execution_count": 24,
     "metadata": {},
     "output_type": "execute_result"
    }
   ],
   "source": [
    "@macroexpand @twostep(1, 2, 3)"
   ]
  },
  {
   "cell_type": "markdown",
   "id": "d60d288e",
   "metadata": {},
   "source": [
    "可以看出， 仅生成表达式时， 会执行中间定义的命令，即**生成表达式也属于执行命令**\n",
    "\n",
    "执行宏命令时， 会运行宏内部的的所有语句命令， 以及\"`eval`\"该宏返回的表达式"
   ]
  },
  {
   "cell_type": "code",
   "execution_count": 64,
   "id": "9f83455c",
   "metadata": {},
   "outputs": [
    {
     "name": "stdout",
     "output_type": "stream",
     "text": [
      "I execute at parse time. The argument is: (1, 2, 3)\n",
      "I execute at runtime. The argument is: (1, 2, 3)\n"
     ]
    }
   ],
   "source": [
    "@twostep 1, 2, 3"
   ]
  },
  {
   "cell_type": "markdown",
   "id": "e78809fb",
   "metadata": {},
   "source": [
    "### 卫生宏\n",
    "\n",
    "卫生宏，英文为`Hygienic Macro`， 指宏内定义的变量与宏运行环境中的变量不冲突， Julia默认帮你做到了这一点(默认定义的变量为`local`)， 但是有些情况我们希望宏能够修改运行环境中的一些变量， 那么就可以使用`global`，声明该变量为全局变量， 这样可以修改全局作用域中的变量。\n",
    "\n",
    "然而存在一种情况， 例如函数内使用了宏， 这个宏想修改函数内的变量的值而不是全局作用域的值， 这样怎么搞？， 答`esc()`"
   ]
  },
  {
   "cell_type": "code",
   "execution_count": 205,
   "id": "e8b541dd",
   "metadata": {},
   "outputs": [
    {
     "data": {
      "text/plain": [
       "(2, 0.1, 0.2)"
      ]
     },
     "execution_count": 205,
     "metadata": {},
     "output_type": "execute_result"
    }
   ],
   "source": [
    "# 局部变量， 运行环境内的变量没有任何影响\n",
    "# 默认quote内定义的为局部变量\n",
    "x = 0.1\n",
    "y = 0.2\n",
    "macro envtest1()\n",
    "    return quote\n",
    "         x = 1 # 前边隐藏了local\n",
    "         y = 2 # 前边隐藏了local\n",
    "    end\n",
    "end\n",
    "@envtest1, x, y"
   ]
  },
  {
   "cell_type": "code",
   "execution_count": 206,
   "id": "9e835548",
   "metadata": {},
   "outputs": [
    {
     "data": {
      "text/plain": [
       "quote\n",
       "    \u001b[90m#= In[205]:7 =#\u001b[39m\n",
       "    var\"#243#x\" = 1\n",
       "    \u001b[90m#= In[205]:8 =#\u001b[39m\n",
       "    var\"#244#y\" = 2\n",
       "end"
      ]
     },
     "execution_count": 206,
     "metadata": {},
     "output_type": "execute_result"
    }
   ],
   "source": [
    "# 可以看出Julia对局部变量进行了重命名保证唯一性， 这样局quote中定义的变量就不会与全局变量冲突了\n",
    "@macroexpand @envtest1"
   ]
  },
  {
   "cell_type": "code",
   "execution_count": 207,
   "id": "b0f4a29d",
   "metadata": {},
   "outputs": [
    {
     "data": {
      "text/plain": [
       "(2, 1, 0.2)"
      ]
     },
     "execution_count": 207,
     "metadata": {},
     "output_type": "execute_result"
    }
   ],
   "source": [
    "# 另一种写法， 修改全局变量x的值， y为局部变量\n",
    "x = 0.1\n",
    "y = 0.2\n",
    "macro envtest2()\n",
    "    expr = quote\n",
    "         global x = 1\n",
    "         y = 2\n",
    "    end\n",
    "    return expr\n",
    "end\n",
    "@envtest2, x, y"
   ]
  },
  {
   "cell_type": "code",
   "execution_count": 208,
   "id": "7d910236",
   "metadata": {},
   "outputs": [
    {
     "data": {
      "text/plain": [
       "quote\n",
       "    \u001b[90m#= In[207]:6 =#\u001b[39m\n",
       "    global x = 1\n",
       "    \u001b[90m#= In[207]:7 =#\u001b[39m\n",
       "    var\"#246#y\" = 2\n",
       "end"
      ]
     },
     "execution_count": 208,
     "metadata": {},
     "output_type": "execute_result"
    }
   ],
   "source": [
    "# 仅仅y被重命名了\n",
    "@macroexpand @envtest2"
   ]
  },
  {
   "cell_type": "code",
   "execution_count": 212,
   "id": "1861a0dd",
   "metadata": {},
   "outputs": [
    {
     "data": {
      "text/plain": [
       "@envtest3 (macro with 1 method)"
      ]
     },
     "execution_count": 212,
     "metadata": {},
     "output_type": "execute_result"
    }
   ],
   "source": [
    "# 以纳秒（ns）的形式的获取当前时间， 内置函数\n",
    "time_ns()\n",
    "macro envtest3(ex)\n",
    "    return quote\n",
    "        t1 = time_ns()\n",
    "        $(ex)\n",
    "        t2 = time_ns()\n",
    "        elapsed = (t2 - t1)/1e9\n",
    "        println(\"elapsed time is \", elapsed)\n",
    "        println(t1, \"\\n\", t2)\n",
    "    end\n",
    "end"
   ]
  },
  {
   "cell_type": "code",
   "execution_count": 215,
   "id": "8eca878c",
   "metadata": {},
   "outputs": [
    {
     "data": {
      "text/plain": [
       "quote\n",
       "    \u001b[90m#= In[212]:5 =#\u001b[39m\n",
       "    var\"#257#t1\" = Main.time_ns()\n",
       "    \u001b[90m#= In[212]:6 =#\u001b[39m\n",
       "    var\"#258#z\" = 1 + 2\n",
       "    \u001b[90m#= In[212]:7 =#\u001b[39m\n",
       "    var\"#259#t2\" = Main.time_ns()\n",
       "    \u001b[90m#= In[212]:8 =#\u001b[39m\n",
       "    var\"#260#elapsed\" = (var\"#259#t2\" - var\"#257#t1\") / 1.0e9\n",
       "    \u001b[90m#= In[212]:9 =#\u001b[39m\n",
       "    Main.println(\"elapsed time is \", var\"#260#elapsed\")\n",
       "    \u001b[90m#= In[212]:10 =#\u001b[39m\n",
       "    Main.println(var\"#257#t1\", \"\\n\", var\"#259#t2\")\n",
       "end"
      ]
     },
     "execution_count": 215,
     "metadata": {},
     "output_type": "execute_result"
    }
   ],
   "source": [
    "@macroexpand @envtest3 z = 1 + 2 # 这里的z竟然也是局部变量， 相当于把z加入了quote中， 也是在quote中定义为局部变量"
   ]
  },
  {
   "cell_type": "code",
   "execution_count": 216,
   "id": "9647f683",
   "metadata": {},
   "outputs": [
    {
     "data": {
      "text/plain": [
       "test_env (generic function with 1 method)"
      ]
     },
     "execution_count": 216,
     "metadata": {},
     "output_type": "execute_result"
    }
   ],
   "source": [
    "function test_env()\n",
    "    t1 = 1\n",
    "    t2 = 2\n",
    "    return t2 + t2\n",
    "end"
   ]
  },
  {
   "cell_type": "code",
   "execution_count": 217,
   "id": "a8006fa9",
   "metadata": {},
   "outputs": [
    {
     "data": {
      "text/plain": [
       "quote\n",
       "    \u001b[90m#= In[212]:5 =#\u001b[39m\n",
       "    var\"#261#t1\" = Main.time_ns()\n",
       "    \u001b[90m#= In[212]:6 =#\u001b[39m\n",
       "    Main.test_env()\n",
       "    \u001b[90m#= In[212]:7 =#\u001b[39m\n",
       "    var\"#262#t2\" = Main.time_ns()\n",
       "    \u001b[90m#= In[212]:8 =#\u001b[39m\n",
       "    var\"#263#elapsed\" = (var\"#262#t2\" - var\"#261#t1\") / 1.0e9\n",
       "    \u001b[90m#= In[212]:9 =#\u001b[39m\n",
       "    Main.println(\"elapsed time is \", var\"#263#elapsed\")\n",
       "    \u001b[90m#= In[212]:10 =#\u001b[39m\n",
       "    Main.println(var\"#261#t1\", \"\\n\", var\"#262#t2\")\n",
       "end"
      ]
     },
     "execution_count": 217,
     "metadata": {},
     "output_type": "execute_result"
    }
   ],
   "source": [
    "@macroexpand @envtest3 test_env()"
   ]
  },
  {
   "cell_type": "markdown",
   "id": "a4a57fba",
   "metadata": {},
   "source": [
    "看以上宏展开结果， quote中所有宏调用的函数都是`Main.function`，即全局作用域中的函数"
   ]
  },
  {
   "cell_type": "code",
   "execution_count": 218,
   "id": "033b4786",
   "metadata": {},
   "outputs": [
    {
     "data": {
      "text/plain": [
       "@envtest3 (macro with 1 method)"
      ]
     },
     "execution_count": 218,
     "metadata": {},
     "output_type": "execute_result"
    }
   ],
   "source": [
    "macro envtest3(ex)\n",
    "    return quote\n",
    "        t1 = time_ns()\n",
    "        $(esc(ex))\n",
    "        t2 = time_ns()\n",
    "        elapsed = (t2 - t1)/1e9\n",
    "        println(\"elapsed time is \", elapsed)\n",
    "        println(t1, \"\\n\", t2)\n",
    "    end\n",
    "end"
   ]
  },
  {
   "cell_type": "code",
   "execution_count": 219,
   "id": "eca3da35",
   "metadata": {},
   "outputs": [
    {
     "data": {
      "text/plain": [
       "quote\n",
       "    \u001b[90m#= In[218]:3 =#\u001b[39m\n",
       "    var\"#264#t1\" = Main.time_ns()\n",
       "    \u001b[90m#= In[218]:4 =#\u001b[39m\n",
       "    test_env()\n",
       "    \u001b[90m#= In[218]:5 =#\u001b[39m\n",
       "    var\"#265#t2\" = Main.time_ns()\n",
       "    \u001b[90m#= In[218]:6 =#\u001b[39m\n",
       "    var\"#266#elapsed\" = (var\"#265#t2\" - var\"#264#t1\") / 1.0e9\n",
       "    \u001b[90m#= In[218]:7 =#\u001b[39m\n",
       "    Main.println(\"elapsed time is \", var\"#266#elapsed\")\n",
       "    \u001b[90m#= In[218]:8 =#\u001b[39m\n",
       "    Main.println(var\"#264#t1\", \"\\n\", var\"#265#t2\")\n",
       "end"
      ]
     },
     "execution_count": 219,
     "metadata": {},
     "output_type": "execute_result"
    }
   ],
   "source": [
    "@macroexpand @envtest3 test_env()"
   ]
  },
  {
   "cell_type": "markdown",
   "id": "091a47bd",
   "metadata": {},
   "source": [
    "加入`esc`以后， `Main.`被去掉了， 即**当前作用域能看到的`test_env()`我都可以去调用**"
   ]
  },
  {
   "cell_type": "code",
   "execution_count": 232,
   "id": "d74ec6af",
   "metadata": {},
   "outputs": [
    {
     "data": {
      "text/plain": [
       "@zeroxx2 (macro with 1 method)"
      ]
     },
     "execution_count": 232,
     "metadata": {},
     "output_type": "execute_result"
    }
   ],
   "source": [
    "# 案例\n",
    "xx = 100\n",
    "macro zeroxx()\n",
    "    return esc(:(xx = 0))\n",
    "end\n",
    "macro zeroxx2()\n",
    "    return quote\n",
    "        global xx = 88\n",
    "    end\n",
    "end"
   ]
  },
  {
   "cell_type": "code",
   "execution_count": 233,
   "id": "f0c6351a",
   "metadata": {},
   "outputs": [
    {
     "data": {
      "text/plain": [
       "baz (generic function with 1 method)"
      ]
     },
     "execution_count": 233,
     "metadata": {},
     "output_type": "execute_result"
    }
   ],
   "source": [
    "function foo()\n",
    "    xx = 99\n",
    "    @zeroxx\n",
    "    return xx\n",
    "end\n",
    "function baz()\n",
    "    xx = 99\n",
    "    @zeroxx2\n",
    "    return xx\n",
    "end"
   ]
  },
  {
   "cell_type": "code",
   "execution_count": 234,
   "id": "1367bbeb",
   "metadata": {},
   "outputs": [
    {
     "data": {
      "text/plain": [
       "(0, 100)"
      ]
     },
     "execution_count": 234,
     "metadata": {},
     "output_type": "execute_result"
    }
   ],
   "source": [
    "foo(), xx"
   ]
  },
  {
   "cell_type": "code",
   "execution_count": 235,
   "id": "1cb2dc1f",
   "metadata": {},
   "outputs": [
    {
     "data": {
      "text/plain": [
       "(88, 88)"
      ]
     },
     "execution_count": 235,
     "metadata": {},
     "output_type": "execute_result"
    }
   ],
   "source": [
    "baz(), xx"
   ]
  },
  {
   "cell_type": "markdown",
   "id": "235c1226",
   "metadata": {},
   "source": [
    "这可案例可以清楚的看到， `global`声明会直接修改全局作用域的变量， 这样其实不太好， 而`esc()`仅会修改上层作用域的变量， 毕竟没有`Main.`, 宏出现在哪个作用域里， 他就会调用哪个作用域里都可以看到的函数"
   ]
  },
  {
   "cell_type": "markdown",
   "id": "632aa700",
   "metadata": {},
   "source": [
    "### 案例一：assert"
   ]
  },
  {
   "cell_type": "code",
   "execution_count": 268,
   "id": "043f0cf0",
   "metadata": {},
   "outputs": [
    {
     "data": {
      "text/plain": [
       "@assert (macro with 1 method)"
      ]
     },
     "execution_count": 268,
     "metadata": {},
     "output_type": "execute_result"
    }
   ],
   "source": [
    "macro assert(ex)\n",
    "    return :($ex ? nothing : AssertionError(\"not equal\"))\n",
    "end"
   ]
  },
  {
   "cell_type": "code",
   "execution_count": 269,
   "id": "723e4662",
   "metadata": {},
   "outputs": [
    {
     "data": {
      "text/plain": [
       "AssertionError(\"not equal\")"
      ]
     },
     "execution_count": 269,
     "metadata": {},
     "output_type": "execute_result"
    }
   ],
   "source": [
    "@assert 1 == 12"
   ]
  },
  {
   "cell_type": "code",
   "execution_count": 270,
   "id": "08a76c34",
   "metadata": {},
   "outputs": [
    {
     "data": {
      "text/plain": [
       ":(if 1 == 2.0\n",
       "      Main.nothing\n",
       "  else\n",
       "      Main.AssertionError(\"not equal\")\n",
       "  end)"
      ]
     },
     "execution_count": 270,
     "metadata": {},
     "output_type": "execute_result"
    }
   ],
   "source": [
    "@macroexpand @assert 1 == 2.0"
   ]
  },
  {
   "cell_type": "markdown",
   "id": "a743400f",
   "metadata": {},
   "source": [
    "### 案例二：Fibonacci数列"
   ]
  },
  {
   "cell_type": "markdown",
   "id": "c0bed154",
   "metadata": {},
   "source": [
    "$$a_0 = 1$$\n",
    "$$a_1 = 1$$\n",
    "$$a_i = a_{i-1} + a_{i-2}, \\text{if}\\ i \\geq 2$$"
   ]
  },
  {
   "cell_type": "markdown",
   "id": "9fc906ef",
   "metadata": {},
   "source": [
    "**（1）传统思路：查表**"
   ]
  },
  {
   "cell_type": "code",
   "execution_count": 79,
   "id": "d934b58e",
   "metadata": {},
   "outputs": [
    {
     "data": {
      "text/plain": [
       "fib1 (generic function with 1 method)"
      ]
     },
     "execution_count": 79,
     "metadata": {},
     "output_type": "execute_result"
    }
   ],
   "source": [
    "function fib1(n)\n",
    "    rst = zeros(n)\n",
    "    if n == 1\n",
    "        return 1.0\n",
    "    elseif n == 2\n",
    "        return 1.0\n",
    "    elseif n > 2 \n",
    "        rst[1:2] .= 1\n",
    "        for i in 3:length(rst)\n",
    "            rst[i] = rst[i - 1] + rst[i - 2]\n",
    "        end\n",
    "        return rst[end]\n",
    "    end \n",
    "end"
   ]
  },
  {
   "cell_type": "code",
   "execution_count": 80,
   "id": "0eafee3e",
   "metadata": {},
   "outputs": [],
   "source": [
    "using BenchmarkTools"
   ]
  },
  {
   "cell_type": "code",
   "execution_count": 81,
   "id": "653b2b76",
   "metadata": {},
   "outputs": [
    {
     "name": "stdout",
     "output_type": "stream",
     "text": [
      "  36.455 ns (1 allocation: 144 bytes)\n"
     ]
    },
    {
     "data": {
      "text/plain": [
       "55.0"
      ]
     },
     "execution_count": 81,
     "metadata": {},
     "output_type": "execute_result"
    }
   ],
   "source": [
    "@btime fib1(10)"
   ]
  },
  {
   "cell_type": "markdown",
   "id": "6955a7d5",
   "metadata": {},
   "source": [
    "以上实现了一个可以查表的fibnacci数列的计算方面，避免了递归， 运算性能还不错， 几乎是线性复杂度， 他的原理是**程序在运行时创建一个向量， 存储之前的计算结果， 后续计算可以利用之前的计算结果**"
   ]
  },
  {
   "cell_type": "markdown",
   "id": "ba55c406",
   "metadata": {},
   "source": [
    "**（2）编译期查表**"
   ]
  },
  {
   "cell_type": "markdown",
   "id": "56045af7",
   "metadata": {},
   "source": [
    "### `@generated`"
   ]
  },
  {
   "cell_type": "markdown",
   "id": "a801d634",
   "metadata": {},
   "source": [
    "`@generated`可以定义一种函数的生成方式， 我们仅能在函数体内获得参数的类型， 无法获得参数的值"
   ]
  },
  {
   "cell_type": "code",
   "execution_count": 276,
   "id": "4c81fb1a",
   "metadata": {},
   "outputs": [
    {
     "data": {
      "text/plain": [
       "gpp (generic function with 1 method)"
      ]
     },
     "execution_count": 276,
     "metadata": {},
     "output_type": "execute_result"
    }
   ],
   "source": [
    "@generated function gpp(x, y)\n",
    "   if (x <: Number) & (y <: Number)\n",
    "        Core.println(x, y)\n",
    "        return :(x + y)\n",
    "    else\n",
    "        @error \"wrong type\"\n",
    "    end\n",
    "end"
   ]
  },
  {
   "cell_type": "code",
   "execution_count": 277,
   "id": "c14c6143",
   "metadata": {},
   "outputs": [
    {
     "name": "stdout",
     "output_type": "stream",
     "text": [
      "Int64Int64\n"
     ]
    },
    {
     "data": {
      "text/plain": [
       "3"
      ]
     },
     "execution_count": 277,
     "metadata": {},
     "output_type": "execute_result"
    }
   ],
   "source": [
    "gpp(1, 2)"
   ]
  }
 ],
 "metadata": {
  "kernelspec": {
   "display_name": "Julia-1.8.1",
   "language": "julia",
   "name": "julia-1.8.1"
  },
  "language_info": {
   "file_extension": ".jl",
   "mimetype": "application/julia",
   "name": "julia",
   "version": "1.8.1"
  },
  "latex_envs": {
   "LaTeX_envs_menu_present": true,
   "autoclose": false,
   "autocomplete": true,
   "bibliofile": "biblio.bib",
   "cite_by": "apalike",
   "current_citInitial": 1,
   "eqLabelWithNumbers": true,
   "eqNumInitial": 1,
   "hotkeys": {
    "equation": "Ctrl-E",
    "itemize": "Ctrl-I"
   },
   "labels_anchors": false,
   "latex_user_defs": false,
   "report_style_numbering": false,
   "user_envs_cfg": false
  },
  "toc": {
   "base_numbering": 1,
   "nav_menu": {},
   "number_sections": true,
   "sideBar": true,
   "skip_h1_title": false,
   "title_cell": "Table of Contents",
   "title_sidebar": "Contents",
   "toc_cell": false,
   "toc_position": {
    "height": "calc(100% - 180px)",
    "left": "10px",
    "top": "150px",
    "width": "381.667px"
   },
   "toc_section_display": true,
   "toc_window_display": true
  }
 },
 "nbformat": 4,
 "nbformat_minor": 5
}
