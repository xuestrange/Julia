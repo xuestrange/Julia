{
 "cells": [
  {
   "cell_type": "markdown",
   "id": "5850845b",
   "metadata": {},
   "source": [
    "# 元编程（Meta-Programming）"
   ]
  },
  {
   "cell_type": "markdown",
   "id": "4877d89c",
   "metadata": {},
   "source": [
    "什么是元编程呢？\n",
    "\n",
    "简而言之，代码是可以操作的对象，我可以通过元编程来**自动生成代码， 并执行代码**"
   ]
  },
  {
   "cell_type": "markdown",
   "id": "287f4d86",
   "metadata": {},
   "source": [
    "## 表达式"
   ]
  },
  {
   "cell_type": "markdown",
   "id": "05172474",
   "metadata": {},
   "source": [
    "### 通过字符串创建表达式"
   ]
  },
  {
   "cell_type": "code",
   "execution_count": 1,
   "id": "898c69ff",
   "metadata": {},
   "outputs": [
    {
     "data": {
      "text/plain": [
       "\"1+1\""
      ]
     },
     "execution_count": 1,
     "metadata": {},
     "output_type": "execute_result"
    }
   ],
   "source": [
    "prog = \"1+1\""
   ]
  },
  {
   "cell_type": "code",
   "execution_count": 2,
   "id": "61972388",
   "metadata": {},
   "outputs": [
    {
     "data": {
      "text/plain": [
       ":(1 + 1)"
      ]
     },
     "execution_count": 2,
     "metadata": {},
     "output_type": "execute_result"
    }
   ],
   "source": [
    "ex1 = Meta.parse(prog)"
   ]
  },
  {
   "cell_type": "code",
   "execution_count": 3,
   "id": "1e2a5cbc",
   "metadata": {},
   "outputs": [
    {
     "data": {
      "text/plain": [
       "2"
      ]
     },
     "execution_count": 3,
     "metadata": {},
     "output_type": "execute_result"
    }
   ],
   "source": [
    "eval(ex1)"
   ]
  },
  {
   "cell_type": "code",
   "execution_count": 4,
   "id": "7b9bf90c",
   "metadata": {},
   "outputs": [
    {
     "name": "stdout",
     "output_type": "stream",
     "text": [
      "Expr\n",
      "  head: Symbol call\n",
      "  args: Array{Any}((3,))\n",
      "    1: Symbol +\n",
      "    2: Int64 1\n",
      "    3: Int64 1\n"
     ]
    }
   ],
   "source": [
    "dump(ex1)"
   ]
  },
  {
   "cell_type": "markdown",
   "id": "99830f8b",
   "metadata": {},
   "source": [
    "### 通过`Expr`手动创建"
   ]
  },
  {
   "cell_type": "code",
   "execution_count": 5,
   "id": "6e385413",
   "metadata": {},
   "outputs": [
    {
     "data": {
      "text/plain": [
       ":(1 + 1)"
      ]
     },
     "execution_count": 5,
     "metadata": {},
     "output_type": "execute_result"
    }
   ],
   "source": [
    "Expr(:call, :+, 1, 1)"
   ]
  },
  {
   "cell_type": "markdown",
   "id": "e22ce11c",
   "metadata": {},
   "source": [
    "### 通过`quote`创建多个表达式"
   ]
  },
  {
   "cell_type": "code",
   "execution_count": 6,
   "id": "400ad89d",
   "metadata": {},
   "outputs": [
    {
     "data": {
      "text/plain": [
       "quote\n",
       "    \u001b[90m#= In[6]:2 =#\u001b[39m\n",
       "    x = 1\n",
       "    \u001b[90m#= In[6]:3 =#\u001b[39m\n",
       "    y = 2\n",
       "end"
      ]
     },
     "execution_count": 6,
     "metadata": {},
     "output_type": "execute_result"
    }
   ],
   "source": [
    "ex3 = quote\n",
    "    x = 1\n",
    "    y = 2\n",
    "end"
   ]
  },
  {
   "cell_type": "code",
   "execution_count": 7,
   "id": "221b01f2",
   "metadata": {},
   "outputs": [
    {
     "name": "stdout",
     "output_type": "stream",
     "text": [
      "Expr\n",
      "  head: Symbol block\n",
      "  args: Array{Any}((4,))\n",
      "    1: LineNumberNode\n",
      "      line: Int64 2\n",
      "      file: Symbol In[6]\n",
      "    2: Expr\n",
      "      head: Symbol =\n",
      "      args: Array{Any}((2,))\n",
      "        1: Symbol x\n",
      "        2: Int64 1\n",
      "    3: LineNumberNode\n",
      "      line: Int64 3\n",
      "      file: Symbol In[6]\n",
      "    4: Expr\n",
      "      head: Symbol =\n",
      "      args: Array{Any}((2,))\n",
      "        1: Symbol y\n",
      "        2: Int64 2\n"
     ]
    }
   ],
   "source": [
    "dump(ex3)"
   ]
  },
  {
   "cell_type": "markdown",
   "id": "fc773eba",
   "metadata": {},
   "source": [
    "可以看出`quote`通过`array`嵌套了多个表达式， 他的`head`是`:block`（中间有两行是注释）"
   ]
  },
  {
   "cell_type": "code",
   "execution_count": 8,
   "id": "0112e84c",
   "metadata": {},
   "outputs": [
    {
     "data": {
      "text/plain": [
       ":($(Expr(:escape, quote\n",
       "    \u001b[90m#= In[6]:2 =#\u001b[39m\n",
       "    x = 1\n",
       "    \u001b[90m#= In[6]:3 =#\u001b[39m\n",
       "    y = 2\n",
       "end)))"
      ]
     },
     "execution_count": 8,
     "metadata": {},
     "output_type": "execute_result"
    }
   ],
   "source": [
    "esc(ex3)"
   ]
  },
  {
   "cell_type": "markdown",
   "id": "57682d9e",
   "metadata": {},
   "source": [
    "### 直接通过`:()`创建"
   ]
  },
  {
   "cell_type": "code",
   "execution_count": 9,
   "id": "1f3cf7a3",
   "metadata": {},
   "outputs": [
    {
     "data": {
      "text/plain": [
       "true"
      ]
     },
     "execution_count": 9,
     "metadata": {},
     "output_type": "execute_result"
    }
   ],
   "source": [
    ":(1+1) == Expr(:call, :+, 1, 1)"
   ]
  },
  {
   "cell_type": "code",
   "execution_count": 10,
   "id": "8ff6bc74",
   "metadata": {},
   "outputs": [
    {
     "data": {
      "text/plain": [
       ":(2 + 3a + b)"
      ]
     },
     "execution_count": 10,
     "metadata": {},
     "output_type": "execute_result"
    }
   ],
   "source": [
    "ex2 = :(2 + 3 * a + b) "
   ]
  },
  {
   "cell_type": "code",
   "execution_count": 11,
   "id": "f4787a4a",
   "metadata": {},
   "outputs": [
    {
     "name": "stdout",
     "output_type": "stream",
     "text": [
      "Expr\n",
      "  head: Symbol call\n",
      "  args: Array{Any}((4,))\n",
      "    1: Symbol +\n",
      "    2: Int64 2\n",
      "    3: Expr\n",
      "      head: Symbol call\n",
      "      args: Array{Any}((3,))\n",
      "        1: Symbol *\n",
      "        2: Int64 3\n",
      "        3: Symbol a\n",
      "    4: Symbol b\n"
     ]
    }
   ],
   "source": [
    "dump(ex2)"
   ]
  },
  {
   "cell_type": "markdown",
   "id": "7a9ac11b",
   "metadata": {},
   "source": [
    "julia的表达式通常尽可以包含`符号、子表达式、字面值`， 上式中`+, b`是符号， `:(3 * a)`是子表达式， `2`是字面值，上式是一个嵌套的表达式， **`a, b`的值还不知道， 在这里被当做符号对待**\n",
    "\n",
    "<font style=\"color:purple;font-size:14pt;\">如果`a, b`已知， 那么通过`$`进行插值， 可以使构造的表达式中的`a, b`替换为变量`a, b`的实际值</font>"
   ]
  },
  {
   "cell_type": "code",
   "execution_count": 12,
   "id": "f898da26",
   "metadata": {},
   "outputs": [
    {
     "data": {
      "text/plain": [
       ":(2 + 3a + b)"
      ]
     },
     "execution_count": 12,
     "metadata": {},
     "output_type": "execute_result"
    }
   ],
   "source": [
    "a = 1\n",
    "b = 1\n",
    ":(2 + 3 * a + b) # no $"
   ]
  },
  {
   "cell_type": "code",
   "execution_count": 13,
   "id": "495207a4",
   "metadata": {},
   "outputs": [
    {
     "data": {
      "text/plain": [
       "6"
      ]
     },
     "execution_count": 13,
     "metadata": {},
     "output_type": "execute_result"
    }
   ],
   "source": [
    "# 仍然是可以求值的\n",
    "eval(:(2 + 3 * a + b))"
   ]
  },
  {
   "cell_type": "code",
   "execution_count": 14,
   "id": "f3b9dc8e",
   "metadata": {},
   "outputs": [
    {
     "data": {
      "text/plain": [
       ":(2 + 3 * 1 + 1)"
      ]
     },
     "execution_count": 14,
     "metadata": {},
     "output_type": "execute_result"
    }
   ],
   "source": [
    ":(2 + 3 * $a + $b) #！！ with $ "
   ]
  },
  {
   "cell_type": "code",
   "execution_count": 15,
   "id": "37132445",
   "metadata": {},
   "outputs": [
    {
     "data": {
      "text/plain": [
       "6"
      ]
     },
     "execution_count": 15,
     "metadata": {},
     "output_type": "execute_result"
    }
   ],
   "source": [
    "# 很自然的可以求值\n",
    "eval(:(2 + 3 * $a + $b))"
   ]
  },
  {
   "cell_type": "code",
   "execution_count": 16,
   "id": "eb1d8359",
   "metadata": {},
   "outputs": [
    {
     "data": {
      "text/plain": [
       ":(f(1, x, y, z))"
      ]
     },
     "execution_count": 16,
     "metadata": {},
     "output_type": "execute_result"
    }
   ],
   "source": [
    "# splatting interploration\n",
    "\n",
    "args = [:x, :y, :z]\n",
    ":(f(1, $(args...)))"
   ]
  },
  {
   "cell_type": "markdown",
   "id": "e3a8f699",
   "metadata": {},
   "source": [
    "可以看出来整个工作的流程就是， 利用`Expr`表达式生成代码， 然后使用`eval`函数求值， 达到自动生成代码， 运行代码的目的"
   ]
  },
  {
   "cell_type": "markdown",
   "id": "7e100e95",
   "metadata": {},
   "source": [
    "## 宏"
   ]
  },
  {
   "cell_type": "markdown",
   "id": "0959f50d",
   "metadata": {},
   "source": [
    "### 定义宏"
   ]
  },
  {
   "cell_type": "code",
   "execution_count": 17,
   "id": "a7d6956e",
   "metadata": {},
   "outputs": [
    {
     "data": {
      "text/plain": [
       "@sayhello (macro with 1 method)"
      ]
     },
     "execution_count": 17,
     "metadata": {},
     "output_type": "execute_result"
    }
   ],
   "source": [
    "macro sayhello()\n",
    "    return :(println(\"Hello World!\"))\n",
    "end"
   ]
  },
  {
   "cell_type": "code",
   "execution_count": 18,
   "id": "78f41a00",
   "metadata": {},
   "outputs": [
    {
     "name": "stdout",
     "output_type": "stream",
     "text": [
      "Hello World!\n",
      "Hello World!\n"
     ]
    }
   ],
   "source": [
    "@sayhello()\n",
    "@sayhello"
   ]
  },
  {
   "cell_type": "markdown",
   "id": "4e816e5d",
   "metadata": {},
   "source": [
    "通过`@macro`执行宏代码时， 先会生成`Expr`表达式， 然后自动使用`eval`函数求值\n",
    "\n",
    "`@macroexpand`可以看到生成的`Expr`表达式"
   ]
  },
  {
   "cell_type": "code",
   "execution_count": 19,
   "id": "0e5646ff",
   "metadata": {},
   "outputs": [
    {
     "data": {
      "text/plain": [
       "@sayhello (macro with 2 methods)"
      ]
     },
     "execution_count": 19,
     "metadata": {},
     "output_type": "execute_result"
    }
   ],
   "source": [
    "macro sayhello(name)\n",
    "    return :(println(\"Hello World! \", $name))\n",
    "end"
   ]
  },
  {
   "cell_type": "code",
   "execution_count": 20,
   "id": "731c2657",
   "metadata": {},
   "outputs": [
    {
     "name": "stdout",
     "output_type": "stream",
     "text": [
      "Hello World! XJZ\n"
     ]
    }
   ],
   "source": [
    "@sayhello \"XJZ\""
   ]
  },
  {
   "cell_type": "code",
   "execution_count": 21,
   "id": "a40e266f",
   "metadata": {},
   "outputs": [
    {
     "data": {
      "text/plain": [
       ":(Main.println(\"Hello World! \", \"XJZ\"))"
      ]
     },
     "execution_count": 21,
     "metadata": {},
     "output_type": "execute_result"
    }
   ],
   "source": [
    "@macroexpand @sayhello \"XJZ\""
   ]
  },
  {
   "cell_type": "markdown",
   "id": "77a65fb8",
   "metadata": {},
   "source": [
    "注意`sayhello(name)`这个宏中用到了插值`$name`, 为啥呢？可以这么理解， 在函数体内部， `name`是一个局部变量， **如果不插值， 那么在函数外部的作用域中执行宏时，不知道`name`的值**\n",
    "\n",
    "下方的函数作为一个对比， 可以看出`name`是一个局部变量"
   ]
  },
  {
   "cell_type": "code",
   "execution_count": 22,
   "id": "50d4d6cd",
   "metadata": {},
   "outputs": [
    {
     "ename": "LoadError",
     "evalue": "UndefVarError: name not defined",
     "output_type": "error",
     "traceback": [
      "UndefVarError: name not defined",
      "",
      "Stacktrace:",
      " [1] top-level scope",
      "   @ In[22]:5",
      " [2] eval",
      "   @ .\\boot.jl:373 [inlined]",
      " [3] include_string(mapexpr::typeof(REPL.softscope), mod::Module, code::String, filename::String)",
      "   @ Base .\\loading.jl:1196"
     ]
    }
   ],
   "source": [
    "macro sayhello2(name)\n",
    "    return :(println(\"Hello World! \", name))\n",
    "end\n",
    "\n",
    "@sayhello2 \"XJZ\""
   ]
  },
  {
   "cell_type": "markdown",
   "id": "d8a4b87c",
   "metadata": {},
   "source": [
    "### 理解宏的运行"
   ]
  },
  {
   "cell_type": "markdown",
   "id": "df2d0235",
   "metadata": {},
   "source": [
    "（1） 宏如何运行？"
   ]
  },
  {
   "cell_type": "code",
   "execution_count": 23,
   "id": "1b727b30",
   "metadata": {},
   "outputs": [
    {
     "data": {
      "text/plain": [
       "@twostep (macro with 1 method)"
      ]
     },
     "execution_count": 23,
     "metadata": {},
     "output_type": "execute_result"
    }
   ],
   "source": [
    "macro twostep(arg...)\n",
    "    println(\"I execute at parse time. The argument is: \", arg...)\n",
    "    return :(println(\"I execute at runtime. The argument is: \", $(arg...)))\n",
    "end"
   ]
  },
  {
   "cell_type": "code",
   "execution_count": 24,
   "id": "e399b85d",
   "metadata": {},
   "outputs": [
    {
     "name": "stdout",
     "output_type": "stream",
     "text": [
      "I execute at parse time. The argument is: 123\n"
     ]
    },
    {
     "data": {
      "text/plain": [
       ":(Main.println(\"I execute at runtime. The argument is: \", 1, 2, 3))"
      ]
     },
     "execution_count": 24,
     "metadata": {},
     "output_type": "execute_result"
    }
   ],
   "source": [
    "@macroexpand @twostep(1, 2, 3)"
   ]
  },
  {
   "cell_type": "markdown",
   "id": "d60d288e",
   "metadata": {},
   "source": [
    "可以看出， 仅生成表达式时， 会执行中间定义的命令\n",
    "\n",
    "执行宏命令时， 指定定义在宏内部的命令， 以及`eval`返回的表达式的值"
   ]
  },
  {
   "cell_type": "code",
   "execution_count": 25,
   "id": "9f83455c",
   "metadata": {},
   "outputs": [
    {
     "name": "stdout",
     "output_type": "stream",
     "text": [
      "I execute at parse time. The argument is: (1, 2, 3)\n",
      "I execute at runtime. The argument is: (1, 2, 3)\n"
     ]
    }
   ],
   "source": [
    "@twostep 1, 2, 3"
   ]
  },
  {
   "cell_type": "markdown",
   "id": "e78809fb",
   "metadata": {},
   "source": [
    "（2） 作用域如何区别？\n",
    "\n",
    "当宏内部定义的一些变量与宏运行环境的一些变量名字一样时， 怎么办？"
   ]
  },
  {
   "cell_type": "code",
   "execution_count": 26,
   "id": "e8b541dd",
   "metadata": {},
   "outputs": [
    {
     "data": {
      "text/plain": [
       "(0.1000, 0.2000)"
      ]
     },
     "execution_count": 26,
     "metadata": {},
     "output_type": "execute_result"
    }
   ],
   "source": [
    "# 局部变量， 运行环境内的变量没有任何影响\n",
    "x = 0.1\n",
    "y = 0.2\n",
    "macro envtest1()\n",
    "    return quote\n",
    "         x = 1\n",
    "         y = 2\n",
    "    end\n",
    "end\n",
    "@envtest1\n",
    "x, y"
   ]
  },
  {
   "cell_type": "code",
   "execution_count": 27,
   "id": "b0f4a29d",
   "metadata": {},
   "outputs": [
    {
     "data": {
      "text/plain": [
       "(1, 2)"
      ]
     },
     "execution_count": 27,
     "metadata": {},
     "output_type": "execute_result"
    }
   ],
   "source": [
    "# esc(), escape逃离这种机制， 生成的代码会在宏运行的环境内运行\n",
    "x = 0.1\n",
    "y = 0.2\n",
    "macro envtest1()\n",
    "    expr = quote\n",
    "         x = 1\n",
    "         y = 2\n",
    "    end\n",
    "    return esc(expr)\n",
    "end\n",
    "@envtest1\n",
    "x, y"
   ]
  },
  {
   "cell_type": "markdown",
   "id": "012690e3",
   "metadata": {},
   "source": [
    "<font style=\"color:purple;font-size:14pt\">这个地方我的理解好像还有点浅显， 先这种用着， 官方文档里的例子在开发Julia包时才能用得上</font>"
   ]
  },
  {
   "cell_type": "markdown",
   "id": "632aa700",
   "metadata": {},
   "source": [
    "### 案例一：assert"
   ]
  },
  {
   "cell_type": "code",
   "execution_count": 28,
   "id": "043f0cf0",
   "metadata": {},
   "outputs": [
    {
     "data": {
      "text/plain": [
       "@assert (macro with 1 method)"
      ]
     },
     "execution_count": 28,
     "metadata": {},
     "output_type": "execute_result"
    }
   ],
   "source": [
    "macro assert(ex)\n",
    "    return :($ex ? nothing : AssertionError($ex))\n",
    "end"
   ]
  },
  {
   "cell_type": "code",
   "execution_count": 29,
   "id": "723e4662",
   "metadata": {},
   "outputs": [
    {
     "ename": "LoadError",
     "evalue": "MethodError: no method matching convert(::Type{AbstractString}, ::Bool)\n\u001b[0mClosest candidates are:\n\u001b[0m  convert(\u001b[91m::Type{Any}\u001b[39m, ::Any) at C:\\Users\\XJZ\\AppData\\Local\\julias\\julia-1.7\\share\\julia\\base\\boot.jl:445\n\u001b[0m  convert(::Type{T}, \u001b[91m::T\u001b[39m) where T at C:\\Users\\XJZ\\AppData\\Local\\julias\\julia-1.7\\share\\julia\\base\\boot.jl:446",
     "output_type": "error",
     "traceback": [
      "MethodError: no method matching convert(::Type{AbstractString}, ::Bool)\n\u001b[0mClosest candidates are:\n\u001b[0m  convert(\u001b[91m::Type{Any}\u001b[39m, ::Any) at C:\\Users\\XJZ\\AppData\\Local\\julias\\julia-1.7\\share\\julia\\base\\boot.jl:445\n\u001b[0m  convert(::Type{T}, \u001b[91m::T\u001b[39m) where T at C:\\Users\\XJZ\\AppData\\Local\\julias\\julia-1.7\\share\\julia\\base\\boot.jl:446",
      "",
      "Stacktrace:",
      " [1] AssertionError(msg::Bool)",
      "   @ Core .\\boot.jl:346",
      " [2] top-level scope",
      "   @ In[29]:1",
      " [3] eval",
      "   @ .\\boot.jl:373 [inlined]",
      " [4] include_string(mapexpr::typeof(REPL.softscope), mod::Module, code::String, filename::String)",
      "   @ Base .\\loading.jl:1196"
     ]
    }
   ],
   "source": [
    "@assert 1 == 2.0"
   ]
  },
  {
   "cell_type": "code",
   "execution_count": 30,
   "id": "08a76c34",
   "metadata": {},
   "outputs": [
    {
     "data": {
      "text/plain": [
       ":(if 1 == 2.0000\n",
       "      Main.nothing\n",
       "  else\n",
       "      Main.AssertionError(1 == 2.0000)\n",
       "  end)"
      ]
     },
     "execution_count": 30,
     "metadata": {},
     "output_type": "execute_result"
    }
   ],
   "source": [
    "@macroexpand @assert 1 == 2.0"
   ]
  },
  {
   "cell_type": "markdown",
   "id": "a743400f",
   "metadata": {},
   "source": [
    "### 案例二：Fibonacci数列"
   ]
  },
  {
   "cell_type": "markdown",
   "id": "c0bed154",
   "metadata": {},
   "source": [
    "$$a_0 = 1$$\n",
    "$$a_1 = 1$$\n",
    "$$a_i = a_{i-1} + a_{i-2}, \\text{if}\\ i \\geq 2$$"
   ]
  },
  {
   "cell_type": "markdown",
   "id": "9fc906ef",
   "metadata": {},
   "source": [
    "**（1）传统思路：查表**"
   ]
  },
  {
   "cell_type": "code",
   "execution_count": 31,
   "id": "d934b58e",
   "metadata": {},
   "outputs": [
    {
     "data": {
      "text/plain": [
       "fib1 (generic function with 1 method)"
      ]
     },
     "execution_count": 31,
     "metadata": {},
     "output_type": "execute_result"
    }
   ],
   "source": [
    "function fib1(n)\n",
    "    rst = zeros(n)\n",
    "    if n == 1\n",
    "        return 1.0\n",
    "    elseif n == 2\n",
    "        return 1.0\n",
    "    elseif n > 2 \n",
    "        rst[1:2] .= 1\n",
    "        for i in 3:length(rst)\n",
    "            rst[i] = rst[i - 1] + rst[i - 2]\n",
    "        end\n",
    "        return rst[end]\n",
    "    end \n",
    "end"
   ]
  },
  {
   "cell_type": "code",
   "execution_count": 32,
   "id": "0eafee3e",
   "metadata": {},
   "outputs": [],
   "source": [
    "using BenchmarkTools"
   ]
  },
  {
   "cell_type": "code",
   "execution_count": 33,
   "id": "653b2b76",
   "metadata": {},
   "outputs": [
    {
     "name": "stdout",
     "output_type": "stream",
     "text": [
      "  32.931 ns (1 allocation: 144 bytes)\n"
     ]
    },
    {
     "data": {
      "text/plain": [
       "55.0000"
      ]
     },
     "execution_count": 33,
     "metadata": {},
     "output_type": "execute_result"
    }
   ],
   "source": [
    "@btime fib1(10)"
   ]
  },
  {
   "cell_type": "markdown",
   "id": "6955a7d5",
   "metadata": {},
   "source": [
    "以上实现了一个可以查表的fibnacci数列的计算方面，避免了递归， 运算性能还不错， 几乎是线性复杂度， 他的原理是**程序在运行时创建一个向量， 存储之前的计算结果， 后续计算可以利用之前的计算结果**"
   ]
  },
  {
   "cell_type": "markdown",
   "id": "ba55c406",
   "metadata": {},
   "source": [
    "**（2）编译期查表**"
   ]
  },
  {
   "cell_type": "markdown",
   "id": "56045af7",
   "metadata": {},
   "source": [
    "还不太会`@generated`"
   ]
  }
 ],
 "metadata": {
  "kernelspec": {
   "display_name": "Julia 1.8.0",
   "language": "julia",
   "name": "julia-1.8"
  },
  "language_info": {
   "file_extension": ".jl",
   "mimetype": "application/julia",
   "name": "julia",
   "version": "1.8.0"
  },
  "latex_envs": {
   "LaTeX_envs_menu_present": true,
   "autoclose": false,
   "autocomplete": true,
   "bibliofile": "biblio.bib",
   "cite_by": "apalike",
   "current_citInitial": 1,
   "eqLabelWithNumbers": true,
   "eqNumInitial": 1,
   "hotkeys": {
    "equation": "Ctrl-E",
    "itemize": "Ctrl-I"
   },
   "labels_anchors": false,
   "latex_user_defs": false,
   "report_style_numbering": false,
   "user_envs_cfg": false
  },
  "toc": {
   "base_numbering": 1,
   "nav_menu": {},
   "number_sections": true,
   "sideBar": true,
   "skip_h1_title": false,
   "title_cell": "Table of Contents",
   "title_sidebar": "Contents",
   "toc_cell": false,
   "toc_position": {
    "height": "calc(100% - 180px)",
    "left": "10px",
    "top": "150px",
    "width": "284.667px"
   },
   "toc_section_display": true,
   "toc_window_display": true
  }
 },
 "nbformat": 4,
 "nbformat_minor": 5
}
