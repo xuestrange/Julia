{
 "cells": [
  {
   "cell_type": "markdown",
   "id": "5d624a2a",
   "metadata": {},
   "source": [
    "# 引言"
   ]
  },
  {
   "cell_type": "markdown",
   "id": "b01eb095",
   "metadata": {},
   "source": [
    "在数据预处理中，我一般是使用Python的Pandas将其整理成整洁的长表格，输入到其它语言中进行建模计算，然后也不是输入到其它语言就可以直接用的，还需要稍微做一点处理，比较典型的包含\n",
    "1. 数据框读取与类型指定;\n",
    "2. 变量选择（select）;\n",
    "3. 生成新变量（mutate）;\n",
    "4. 数据类型转换（将数据框转换为向量或矩阵）;\n",
    "5. 分组聚合;\n",
    "6. 操控变形（长变宽和宽变长）;\n",
    "7. 变量分布图绘制。\n",
    "\n",
    "其中（5， 6)是重点\n",
    "\n",
    "由于Pandas已经做好了绝大部分的数据清理工作，DataFrame.jl我们也不需要学习的太过深入，掌握上述基本操作，懂一点DataFrame.jl的基本原理即可（这些数据分析库实现的功能大同小异，基本上都差不多，增删查改，操控变形，分组聚合等等）"
   ]
  },
  {
   "cell_type": "markdown",
   "id": "e4aa2811",
   "metadata": {},
   "source": [
    "参考资料：\n",
    "+ 中文cheetsheet\n",
    "+ https://github.com/bkamins\n",
    "+ https://dataframes.juliadata.org/stable/man/comparisons/#Comparison-with-the-Python-package-pandas"
   ]
  },
  {
   "cell_type": "markdown",
   "id": "ff47700f",
   "metadata": {},
   "source": [
    "# DataFrame.jl"
   ]
  },
  {
   "cell_type": "code",
   "execution_count": 1,
   "id": "2f570441",
   "metadata": {},
   "outputs": [],
   "source": [
    "# 设置显示的行数和列数\n",
    "Base.displaysize() = (10, 800)"
   ]
  },
  {
   "cell_type": "code",
   "execution_count": 2,
   "id": "5972ba93",
   "metadata": {},
   "outputs": [
    {
     "data": {
      "text/plain": [
       "2-element Vector{Function}:\n",
       " revise (generic function with 3 methods)\n",
       " format_current_cell (generic function with 1 method)"
      ]
     },
     "execution_count": 2,
     "metadata": {},
     "output_type": "execute_result"
    }
   ],
   "source": [
    "using DataFrames\n",
    "using RDatasets\n",
    "using Random\n",
    "using Distributions\n",
    "using JupyterFormatter\n",
    "enable_autoformat()"
   ]
  },
  {
   "cell_type": "markdown",
   "id": "89ee8b2b",
   "metadata": {},
   "source": [
    "## DataFrame类型"
   ]
  },
  {
   "cell_type": "markdown",
   "id": "269d40c4",
   "metadata": {},
   "source": [
    "创建可以通过`关键字参数`，`Pair`，`矩阵`，`表格`等建立"
   ]
  },
  {
   "cell_type": "code",
   "execution_count": 3,
   "id": "d3226472",
   "metadata": {},
   "outputs": [
    {
     "data": {
      "text/html": [
       "<div class=\"data-frame\"><p>3 rows × 4 columns</p><table class=\"data-frame\"><thead><tr><th></th><th>A</th><th>B</th><th>C</th><th>fixed</th></tr><tr><th></th><th title=\"Int64\">Int64</th><th title=\"Float64\">Float64</th><th title=\"String\">String</th><th title=\"Int64\">Int64</th></tr></thead><tbody><tr><th>1</th><td>1</td><td>0.0498608</td><td>Ae4</td><td>1</td></tr><tr><th>2</th><td>2</td><td>0.707462</td><td>JZe</td><td>1</td></tr><tr><th>3</th><td>3</td><td>0.292408</td><td>yYQ</td><td>1</td></tr></tbody></table></div>"
      ],
      "text/latex": [
       "\\begin{tabular}{r|cccc}\n",
       "\t& A & B & C & fixed\\\\\n",
       "\t\\hline\n",
       "\t& Int64 & Float64 & String & Int64\\\\\n",
       "\t\\hline\n",
       "\t1 & 1 & 0.0498608 & Ae4 & 1 \\\\\n",
       "\t2 & 2 & 0.707462 & JZe & 1 \\\\\n",
       "\t3 & 3 & 0.292408 & yYQ & 1 \\\\\n",
       "\\end{tabular}\n"
      ],
      "text/plain": [
       "\u001b[1m3×4 DataFrame\u001b[0m\n",
       "\u001b[1m Row \u001b[0m│\u001b[1m A     \u001b[0m\u001b[1m B         \u001b[0m\u001b[1m C      \u001b[0m\u001b[1m fixed \u001b[0m\n",
       "\u001b[1m     \u001b[0m│\u001b[90m Int64 \u001b[0m\u001b[90m Float64   \u001b[0m\u001b[90m String \u001b[0m\u001b[90m Int64 \u001b[0m\n",
       "─────┼─────────────────────────────────\n",
       "   1 │     1  0.0498608  Ae4         1\n",
       "   2 │     2  0.707462   JZe         1\n",
       "   3 │     3  0.292408   yYQ         1"
      ]
     },
     "execution_count": 3,
     "metadata": {},
     "output_type": "execute_result"
    }
   ],
   "source": [
    "DataFrame(A = 1:3, B = rand(3), C = randstring.([3, 3, 3]), fixed = 1)"
   ]
  },
  {
   "cell_type": "code",
   "execution_count": 4,
   "id": "b96da104",
   "metadata": {},
   "outputs": [
    {
     "data": {
      "text/html": [
       "<div class=\"data-frame\"><p>2 rows × 4 columns</p><table class=\"data-frame\"><thead><tr><th></th><th>A</th><th>B</th><th>C</th><th>fixed</th></tr><tr><th></th><th title=\"Int64\">Int64</th><th title=\"Bool\">Bool</th><th title=\"Char\">Char</th><th title=\"Vector{Int64}\">Array…</th></tr></thead><tbody><tr><th>1</th><td>1</td><td>1</td><td>a</td><td>[1, 1]</td></tr><tr><th>2</th><td>2</td><td>0</td><td>b</td><td>[1, 1]</td></tr></tbody></table></div>"
      ],
      "text/latex": [
       "\\begin{tabular}{r|cccc}\n",
       "\t& A & B & C & fixed\\\\\n",
       "\t\\hline\n",
       "\t& Int64 & Bool & Char & Array…\\\\\n",
       "\t\\hline\n",
       "\t1 & 1 & 1 & a & [1, 1] \\\\\n",
       "\t2 & 2 & 0 & b & [1, 1] \\\\\n",
       "\\end{tabular}\n"
      ],
      "text/plain": [
       "\u001b[1m2×4 DataFrame\u001b[0m\n",
       "\u001b[1m Row \u001b[0m│\u001b[1m A     \u001b[0m\u001b[1m B     \u001b[0m\u001b[1m C    \u001b[0m\u001b[1m fixed  \u001b[0m\n",
       "\u001b[1m     \u001b[0m│\u001b[90m Int64 \u001b[0m\u001b[90m Bool  \u001b[0m\u001b[90m Char \u001b[0m\u001b[90m Array… \u001b[0m\n",
       "─────┼────────────────────────────\n",
       "   1 │     1   true  a     [1, 1]\n",
       "   2 │     2  false  b     [1, 1]"
      ]
     },
     "execution_count": 4,
     "metadata": {},
     "output_type": "execute_result"
    }
   ],
   "source": [
    "DataFrame(\n",
    "    Dict(\"A\" => [1, 2], \"B\" => [true, false], \"C\" => ['a', 'b'], \"fixed\" => Ref([1, 1])),\n",
    ")"
   ]
  },
  {
   "cell_type": "code",
   "execution_count": 5,
   "id": "436a2080",
   "metadata": {},
   "outputs": [
    {
     "data": {
      "text/html": [
       "<div class=\"data-frame\"><p>3 rows × 4 columns</p><table class=\"data-frame\"><thead><tr><th></th><th>a</th><th>b</th><th>c</th><th>d</th></tr><tr><th></th><th title=\"Float64\">Float64</th><th title=\"Float64\">Float64</th><th title=\"Float64\">Float64</th><th title=\"Float64\">Float64</th></tr></thead><tbody><tr><th>1</th><td>0.108642</td><td>0.231253</td><td>0.176124</td><td>0.0993201</td></tr><tr><th>2</th><td>0.839783</td><td>0.741166</td><td>0.345534</td><td>0.620847</td></tr><tr><th>3</th><td>0.886386</td><td>0.798349</td><td>0.698286</td><td>0.771162</td></tr></tbody></table></div>"
      ],
      "text/latex": [
       "\\begin{tabular}{r|cccc}\n",
       "\t& a & b & c & d\\\\\n",
       "\t\\hline\n",
       "\t& Float64 & Float64 & Float64 & Float64\\\\\n",
       "\t\\hline\n",
       "\t1 & 0.108642 & 0.231253 & 0.176124 & 0.0993201 \\\\\n",
       "\t2 & 0.839783 & 0.741166 & 0.345534 & 0.620847 \\\\\n",
       "\t3 & 0.886386 & 0.798349 & 0.698286 & 0.771162 \\\\\n",
       "\\end{tabular}\n"
      ],
      "text/plain": [
       "\u001b[1m3×4 DataFrame\u001b[0m\n",
       "\u001b[1m Row \u001b[0m│\u001b[1m a        \u001b[0m\u001b[1m b        \u001b[0m\u001b[1m c        \u001b[0m\u001b[1m d         \u001b[0m\n",
       "\u001b[1m     \u001b[0m│\u001b[90m Float64  \u001b[0m\u001b[90m Float64  \u001b[0m\u001b[90m Float64  \u001b[0m\u001b[90m Float64   \u001b[0m\n",
       "─────┼─────────────────────────────────────────\n",
       "   1 │ 0.108642  0.231253  0.176124  0.0993201\n",
       "   2 │ 0.839783  0.741166  0.345534  0.620847\n",
       "   3 │ 0.886386  0.798349  0.698286  0.771162"
      ]
     },
     "execution_count": 5,
     "metadata": {},
     "output_type": "execute_result"
    }
   ],
   "source": [
    "df = DataFrame(rand(3, 4), string.('a':'d'))"
   ]
  },
  {
   "cell_type": "code",
   "execution_count": 6,
   "id": "4882f291",
   "metadata": {},
   "outputs": [
    {
     "data": {
      "text/plain": [
       "(a = [0.10864243058920775, 0.8397833113068441, 0.8863863789980423], b = [0.23125261253685392, 0.7411664333580618, 0.7983493139950802], c = [0.17612418868415047, 0.3455336335461221, 0.6982863182155395], d = [0.09932009234940586, 0.6208471479052239, 0.7711624565492697])"
      ]
     },
     "execution_count": 6,
     "metadata": {},
     "output_type": "execute_result"
    }
   ],
   "source": [
    "# 将列向量转化成命名元组（Named Tuple）\n",
    "nt = Tables.columntable(df)"
   ]
  },
  {
   "cell_type": "code",
   "execution_count": 7,
   "id": "952044ff",
   "metadata": {},
   "outputs": [
    {
     "data": {
      "text/plain": [
       "3-element Vector{Float64}:\n",
       " 0.10864243058920775\n",
       " 0.8397833113068441\n",
       " 0.8863863789980423"
      ]
     },
     "execution_count": 7,
     "metadata": {},
     "output_type": "execute_result"
    }
   ],
   "source": [
    "nt.a"
   ]
  },
  {
   "cell_type": "code",
   "execution_count": 8,
   "id": "4e3c939b",
   "metadata": {},
   "outputs": [
    {
     "data": {
      "text/plain": [
       "(3, 4)"
      ]
     },
     "execution_count": 8,
     "metadata": {},
     "output_type": "execute_result"
    }
   ],
   "source": [
    "nrow(df), ncol(df)"
   ]
  },
  {
   "cell_type": "code",
   "execution_count": 9,
   "id": "e752c654",
   "metadata": {},
   "outputs": [
    {
     "data": {
      "text/html": [
       "<div class=\"data-frame\"><p>4 rows × 7 columns</p><table class=\"data-frame\"><thead><tr><th></th><th>variable</th><th>mean</th><th>min</th><th>median</th><th>max</th><th>nmissing</th><th>eltype</th></tr><tr><th></th><th title=\"Symbol\">Symbol</th><th title=\"Float64\">Float64</th><th title=\"Float64\">Float64</th><th title=\"Float64\">Float64</th><th title=\"Float64\">Float64</th><th title=\"Int64\">Int64</th><th title=\"DataType\">DataType</th></tr></thead><tbody><tr><th>1</th><td>a</td><td>0.611604</td><td>0.108642</td><td>0.839783</td><td>0.886386</td><td>0</td><td>Float64</td></tr><tr><th>2</th><td>b</td><td>0.590256</td><td>0.231253</td><td>0.741166</td><td>0.798349</td><td>0</td><td>Float64</td></tr><tr><th>3</th><td>c</td><td>0.406648</td><td>0.176124</td><td>0.345534</td><td>0.698286</td><td>0</td><td>Float64</td></tr><tr><th>4</th><td>d</td><td>0.49711</td><td>0.0993201</td><td>0.620847</td><td>0.771162</td><td>0</td><td>Float64</td></tr></tbody></table></div>"
      ],
      "text/latex": [
       "\\begin{tabular}{r|ccccccc}\n",
       "\t& variable & mean & min & median & max & nmissing & eltype\\\\\n",
       "\t\\hline\n",
       "\t& Symbol & Float64 & Float64 & Float64 & Float64 & Int64 & DataType\\\\\n",
       "\t\\hline\n",
       "\t1 & a & 0.611604 & 0.108642 & 0.839783 & 0.886386 & 0 & Float64 \\\\\n",
       "\t2 & b & 0.590256 & 0.231253 & 0.741166 & 0.798349 & 0 & Float64 \\\\\n",
       "\t3 & c & 0.406648 & 0.176124 & 0.345534 & 0.698286 & 0 & Float64 \\\\\n",
       "\t4 & d & 0.49711 & 0.0993201 & 0.620847 & 0.771162 & 0 & Float64 \\\\\n",
       "\\end{tabular}\n"
      ],
      "text/plain": [
       "\u001b[1m4×7 DataFrame\u001b[0m\n",
       "\u001b[1m Row \u001b[0m│\u001b[1m variable \u001b[0m\u001b[1m mean     \u001b[0m\u001b[1m min       \u001b[0m\u001b[1m median   \u001b[0m\u001b[1m max      \u001b[0m\u001b[1m nmissing \u001b[0m\u001b[1m eltype   \u001b[0m\n",
       "\u001b[1m     \u001b[0m│\u001b[90m Symbol   \u001b[0m\u001b[90m Float64  \u001b[0m\u001b[90m Float64   \u001b[0m\u001b[90m Float64  \u001b[0m\u001b[90m Float64  \u001b[0m\u001b[90m Int64    \u001b[0m\u001b[90m DataType \u001b[0m\n",
       "─────┼───────────────────────────────────────────────────────────────────────\n",
       "   1 │ a         0.611604  0.108642   0.839783  0.886386         0  Float64\n",
       "  ⋮  │    ⋮         ⋮          ⋮         ⋮         ⋮         ⋮         ⋮\n",
       "\u001b[36m                                                               3 rows omitted\u001b[0m"
      ]
     },
     "execution_count": 9,
     "metadata": {},
     "output_type": "execute_result"
    }
   ],
   "source": [
    "describe(df)"
   ]
  },
  {
   "cell_type": "code",
   "execution_count": 10,
   "id": "7021f990",
   "metadata": {},
   "outputs": [
    {
     "data": {
      "text/plain": [
       "4-element Vector{String}:\n",
       " \"a\"\n",
       " \"b\"\n",
       " \"c\"\n",
       " \"d\""
      ]
     },
     "execution_count": 10,
     "metadata": {},
     "output_type": "execute_result"
    }
   ],
   "source": [
    "# 获取列名\n",
    "names(df)"
   ]
  },
  {
   "cell_type": "code",
   "execution_count": 11,
   "id": "3123baeb",
   "metadata": {},
   "outputs": [
    {
     "data": {
      "text/plain": [
       "4-element Vector{Symbol}:\n",
       " :a\n",
       " :b\n",
       " :c\n",
       " :d"
      ]
     },
     "execution_count": 11,
     "metadata": {},
     "output_type": "execute_result"
    }
   ],
   "source": [
    "# 获取列名为 Symbol\n",
    "propertynames(df)"
   ]
  },
  {
   "cell_type": "code",
   "execution_count": 12,
   "id": "2354035c",
   "metadata": {},
   "outputs": [
    {
     "data": {
      "text/plain": [
       "([0.10864243058920775, 0.8397833113068441, 0.8863863789980423], [0.10864243058920775, 0.8397833113068441, 0.8863863789980423], [0.10864243058920775, 0.8397833113068441, 0.8863863789980423], [0.10864243058920775, 0.8397833113068441, 0.8863863789980423], [0.10864243058920775, 0.8397833113068441, 0.8863863789980423])"
      ]
     },
     "execution_count": 12,
     "metadata": {},
     "output_type": "execute_result"
    }
   ],
   "source": [
    "# 直接获取原数据（不会copy）\n",
    "df.a, df.\"a\", df.:a, df[!, \"a\"], df[!, :a]"
   ]
  },
  {
   "cell_type": "code",
   "execution_count": 13,
   "id": "a277c0cb",
   "metadata": {},
   "outputs": [
    {
     "data": {
      "text/plain": [
       "([0.10864243058920775, 0.8397833113068441, 0.8863863789980423], [0.10864243058920775, 0.8397833113068441, 0.8863863789980423])"
      ]
     },
     "execution_count": 13,
     "metadata": {},
     "output_type": "execute_result"
    }
   ],
   "source": [
    "# 复制原数据的一列\n",
    "df[:, :a], df[:, \"a\"]"
   ]
  },
  {
   "cell_type": "code",
   "execution_count": 14,
   "id": "a3d17e10",
   "metadata": {},
   "outputs": [
    {
     "data": {
      "text/html": [
       "<div class=\"data-frame\"><p>2 rows × 4 columns</p><table class=\"data-frame\"><thead><tr><th></th><th>a</th><th>b</th><th>c</th><th>d</th></tr><tr><th></th><th title=\"Float64\">Float64</th><th title=\"Float64\">Float64</th><th title=\"Float64\">Float64</th><th title=\"Float64\">Float64</th></tr></thead><tbody><tr><th>1</th><td>0.108642</td><td>0.231253</td><td>0.176124</td><td>0.0993201</td></tr><tr><th>2</th><td>0.839783</td><td>0.741166</td><td>0.345534</td><td>0.620847</td></tr></tbody></table></div>"
      ],
      "text/latex": [
       "\\begin{tabular}{r|cccc}\n",
       "\t& a & b & c & d\\\\\n",
       "\t\\hline\n",
       "\t& Float64 & Float64 & Float64 & Float64\\\\\n",
       "\t\\hline\n",
       "\t1 & 0.108642 & 0.231253 & 0.176124 & 0.0993201 \\\\\n",
       "\t2 & 0.839783 & 0.741166 & 0.345534 & 0.620847 \\\\\n",
       "\\end{tabular}\n"
      ],
      "text/plain": [
       "\u001b[1m2×4 DataFrame\u001b[0m\n",
       "\u001b[1m Row \u001b[0m│\u001b[1m a        \u001b[0m\u001b[1m b        \u001b[0m\u001b[1m c        \u001b[0m\u001b[1m d         \u001b[0m\n",
       "\u001b[1m     \u001b[0m│\u001b[90m Float64  \u001b[0m\u001b[90m Float64  \u001b[0m\u001b[90m Float64  \u001b[0m\u001b[90m Float64   \u001b[0m\n",
       "─────┼─────────────────────────────────────────\n",
       "   1 │ 0.108642  0.231253  0.176124  0.0993201\n",
       "   2 │ 0.839783  0.741166  0.345534  0.620847"
      ]
     },
     "execution_count": 14,
     "metadata": {},
     "output_type": "execute_result"
    }
   ],
   "source": [
    "first(df, 2)"
   ]
  },
  {
   "cell_type": "code",
   "execution_count": 15,
   "id": "92129bfd",
   "metadata": {},
   "outputs": [
    {
     "data": {
      "text/html": [
       "<div class=\"data-frame\"><p>2 rows × 4 columns</p><table class=\"data-frame\"><thead><tr><th></th><th>a</th><th>b</th><th>c</th><th>d</th></tr><tr><th></th><th title=\"Float64\">Float64</th><th title=\"Float64\">Float64</th><th title=\"Float64\">Float64</th><th title=\"Float64\">Float64</th></tr></thead><tbody><tr><th>1</th><td>0.839783</td><td>0.741166</td><td>0.345534</td><td>0.620847</td></tr><tr><th>2</th><td>0.886386</td><td>0.798349</td><td>0.698286</td><td>0.771162</td></tr></tbody></table></div>"
      ],
      "text/latex": [
       "\\begin{tabular}{r|cccc}\n",
       "\t& a & b & c & d\\\\\n",
       "\t\\hline\n",
       "\t& Float64 & Float64 & Float64 & Float64\\\\\n",
       "\t\\hline\n",
       "\t1 & 0.839783 & 0.741166 & 0.345534 & 0.620847 \\\\\n",
       "\t2 & 0.886386 & 0.798349 & 0.698286 & 0.771162 \\\\\n",
       "\\end{tabular}\n"
      ],
      "text/plain": [
       "\u001b[1m2×4 DataFrame\u001b[0m\n",
       "\u001b[1m Row \u001b[0m│\u001b[1m a        \u001b[0m\u001b[1m b        \u001b[0m\u001b[1m c        \u001b[0m\u001b[1m d        \u001b[0m\n",
       "\u001b[1m     \u001b[0m│\u001b[90m Float64  \u001b[0m\u001b[90m Float64  \u001b[0m\u001b[90m Float64  \u001b[0m\u001b[90m Float64  \u001b[0m\n",
       "─────┼────────────────────────────────────────\n",
       "   1 │ 0.839783  0.741166  0.345534  0.620847\n",
       "   2 │ 0.886386  0.798349  0.698286  0.771162"
      ]
     },
     "execution_count": 15,
     "metadata": {},
     "output_type": "execute_result"
    }
   ],
   "source": [
    "last(df, 2)"
   ]
  },
  {
   "cell_type": "markdown",
   "id": "bb38428e",
   "metadata": {},
   "source": [
    "## 文件读取"
   ]
  },
  {
   "cell_type": "markdown",
   "id": "bcc09f1d",
   "metadata": {},
   "source": [
    "`CSV.read(\"/path/to/file\", DataFrame)`，读取为DataFrame"
   ]
  },
  {
   "cell_type": "markdown",
   "id": "250b4cc3",
   "metadata": {},
   "source": [
    "## 筛选"
   ]
  },
  {
   "cell_type": "markdown",
   "id": "f10a9949",
   "metadata": {},
   "source": [
    "### 行筛选"
   ]
  },
  {
   "cell_type": "code",
   "execution_count": 16,
   "id": "4449d2a5",
   "metadata": {},
   "outputs": [
    {
     "data": {
      "text/html": [
       "<div class=\"data-frame\"><p>0 rows × 4 columns</p><table class=\"data-frame\"><thead><tr><th></th><th>a</th><th>b</th><th>c</th><th>d</th></tr><tr><th></th><th title=\"Float64\">Float64</th><th title=\"Float64\">Float64</th><th title=\"Float64\">Float64</th><th title=\"Float64\">Float64</th></tr></thead><tbody></tbody></table></div>"
      ],
      "text/latex": [
       "\\begin{tabular}{r|cccc}\n",
       "\t& a & b & c & d\\\\\n",
       "\t\\hline\n",
       "\t& Float64 & Float64 & Float64 & Float64\\\\\n",
       "\t\\hline\n",
       "\\end{tabular}\n"
      ],
      "text/plain": [
       "\u001b[1m0×4 DataFrame\u001b[0m"
      ]
     },
     "execution_count": 16,
     "metadata": {},
     "output_type": "execute_result"
    }
   ],
   "source": [
    "subset(df, :c => c -> c .> 0.5, :d => d -> d .< 0.5)"
   ]
  },
  {
   "cell_type": "markdown",
   "id": "54f53a90",
   "metadata": {},
   "source": [
    "### 列筛选"
   ]
  },
  {
   "cell_type": "markdown",
   "id": "fd34cecc",
   "metadata": {},
   "source": [
    "+ integer, vecor of integers\n",
    "+ Symbol, vector of Symbols\n",
    "+ string, vector of strings\n",
    "+ `All()`, `Between()`, `Not()`\n",
    "+ 正则表达式"
   ]
  },
  {
   "cell_type": "code",
   "execution_count": 17,
   "id": "c34e975f",
   "metadata": {},
   "outputs": [
    {
     "data": {
      "text/html": [
       "<div class=\"data-frame\"><p>3 rows × 3 columns</p><table class=\"data-frame\"><thead><tr><th></th><th>a</th><th>c</th><th>d</th></tr><tr><th></th><th title=\"Float64\">Float64</th><th title=\"Float64\">Float64</th><th title=\"Float64\">Float64</th></tr></thead><tbody><tr><th>1</th><td>0.108642</td><td>0.176124</td><td>0.0993201</td></tr><tr><th>2</th><td>0.839783</td><td>0.345534</td><td>0.620847</td></tr><tr><th>3</th><td>0.886386</td><td>0.698286</td><td>0.771162</td></tr></tbody></table></div>"
      ],
      "text/latex": [
       "\\begin{tabular}{r|ccc}\n",
       "\t& a & c & d\\\\\n",
       "\t\\hline\n",
       "\t& Float64 & Float64 & Float64\\\\\n",
       "\t\\hline\n",
       "\t1 & 0.108642 & 0.176124 & 0.0993201 \\\\\n",
       "\t2 & 0.839783 & 0.345534 & 0.620847 \\\\\n",
       "\t3 & 0.886386 & 0.698286 & 0.771162 \\\\\n",
       "\\end{tabular}\n"
      ],
      "text/plain": [
       "\u001b[1m3×3 DataFrame\u001b[0m\n",
       "\u001b[1m Row \u001b[0m│\u001b[1m a        \u001b[0m\u001b[1m c        \u001b[0m\u001b[1m d         \u001b[0m\n",
       "\u001b[1m     \u001b[0m│\u001b[90m Float64  \u001b[0m\u001b[90m Float64  \u001b[0m\u001b[90m Float64   \u001b[0m\n",
       "─────┼───────────────────────────────\n",
       "   1 │ 0.108642  0.176124  0.0993201\n",
       "   2 │ 0.839783  0.345534  0.620847\n",
       "   3 │ 0.886386  0.698286  0.771162"
      ]
     },
     "execution_count": 17,
     "metadata": {},
     "output_type": "execute_result"
    }
   ],
   "source": [
    "select(df, [:a, :c, :d])"
   ]
  },
  {
   "cell_type": "code",
   "execution_count": 18,
   "id": "4f3177f0",
   "metadata": {},
   "outputs": [
    {
     "data": {
      "text/html": [
       "<div class=\"data-frame\"><p>3 rows × 3 columns</p><table class=\"data-frame\"><thead><tr><th></th><th>a</th><th>b</th><th>c</th></tr><tr><th></th><th title=\"Float64\">Float64</th><th title=\"Float64\">Float64</th><th title=\"Float64\">Float64</th></tr></thead><tbody><tr><th>1</th><td>0.108642</td><td>0.231253</td><td>0.176124</td></tr><tr><th>2</th><td>0.839783</td><td>0.741166</td><td>0.345534</td></tr><tr><th>3</th><td>0.886386</td><td>0.798349</td><td>0.698286</td></tr></tbody></table></div>"
      ],
      "text/latex": [
       "\\begin{tabular}{r|ccc}\n",
       "\t& a & b & c\\\\\n",
       "\t\\hline\n",
       "\t& Float64 & Float64 & Float64\\\\\n",
       "\t\\hline\n",
       "\t1 & 0.108642 & 0.231253 & 0.176124 \\\\\n",
       "\t2 & 0.839783 & 0.741166 & 0.345534 \\\\\n",
       "\t3 & 0.886386 & 0.798349 & 0.698286 \\\\\n",
       "\\end{tabular}\n"
      ],
      "text/plain": [
       "\u001b[1m3×3 DataFrame\u001b[0m\n",
       "\u001b[1m Row \u001b[0m│\u001b[1m a        \u001b[0m\u001b[1m b        \u001b[0m\u001b[1m c        \u001b[0m\n",
       "\u001b[1m     \u001b[0m│\u001b[90m Float64  \u001b[0m\u001b[90m Float64  \u001b[0m\u001b[90m Float64  \u001b[0m\n",
       "─────┼──────────────────────────────\n",
       "   1 │ 0.108642  0.231253  0.176124\n",
       "   2 │ 0.839783  0.741166  0.345534\n",
       "   3 │ 0.886386  0.798349  0.698286"
      ]
     },
     "execution_count": 18,
     "metadata": {},
     "output_type": "execute_result"
    }
   ],
   "source": [
    "select(df, Between(:a, :c))"
   ]
  },
  {
   "cell_type": "code",
   "execution_count": 19,
   "id": "4105571d",
   "metadata": {},
   "outputs": [
    {
     "data": {
      "text/html": [
       "<div class=\"data-frame\"><p>3 rows × 3 columns</p><table class=\"data-frame\"><thead><tr><th></th><th>b</th><th>c</th><th>d</th></tr><tr><th></th><th title=\"Float64\">Float64</th><th title=\"Float64\">Float64</th><th title=\"Float64\">Float64</th></tr></thead><tbody><tr><th>1</th><td>0.231253</td><td>0.176124</td><td>0.0993201</td></tr><tr><th>2</th><td>0.741166</td><td>0.345534</td><td>0.620847</td></tr><tr><th>3</th><td>0.798349</td><td>0.698286</td><td>0.771162</td></tr></tbody></table></div>"
      ],
      "text/latex": [
       "\\begin{tabular}{r|ccc}\n",
       "\t& b & c & d\\\\\n",
       "\t\\hline\n",
       "\t& Float64 & Float64 & Float64\\\\\n",
       "\t\\hline\n",
       "\t1 & 0.231253 & 0.176124 & 0.0993201 \\\\\n",
       "\t2 & 0.741166 & 0.345534 & 0.620847 \\\\\n",
       "\t3 & 0.798349 & 0.698286 & 0.771162 \\\\\n",
       "\\end{tabular}\n"
      ],
      "text/plain": [
       "\u001b[1m3×3 DataFrame\u001b[0m\n",
       "\u001b[1m Row \u001b[0m│\u001b[1m b        \u001b[0m\u001b[1m c        \u001b[0m\u001b[1m d         \u001b[0m\n",
       "\u001b[1m     \u001b[0m│\u001b[90m Float64  \u001b[0m\u001b[90m Float64  \u001b[0m\u001b[90m Float64   \u001b[0m\n",
       "─────┼───────────────────────────────\n",
       "   1 │ 0.231253  0.176124  0.0993201\n",
       "   2 │ 0.741166  0.345534  0.620847\n",
       "   3 │ 0.798349  0.698286  0.771162"
      ]
     },
     "execution_count": 19,
     "metadata": {},
     "output_type": "execute_result"
    }
   ],
   "source": [
    "select(df, Not(:a))"
   ]
  },
  {
   "cell_type": "code",
   "execution_count": 20,
   "id": "ac790fd1",
   "metadata": {},
   "outputs": [
    {
     "data": {
      "text/html": [
       "<div class=\"data-frame\"><p>3 rows × 4 columns</p><table class=\"data-frame\"><thead><tr><th></th><th>a</th><th>b</th><th>c</th><th>d</th></tr><tr><th></th><th title=\"Float64\">Float64</th><th title=\"Float64\">Float64</th><th title=\"Float64\">Float64</th><th title=\"Float64\">Float64</th></tr></thead><tbody><tr><th>1</th><td>0.108642</td><td>0.231253</td><td>0.176124</td><td>0.0993201</td></tr><tr><th>2</th><td>0.839783</td><td>0.741166</td><td>0.345534</td><td>0.620847</td></tr><tr><th>3</th><td>0.886386</td><td>0.798349</td><td>0.698286</td><td>0.771162</td></tr></tbody></table></div>"
      ],
      "text/latex": [
       "\\begin{tabular}{r|cccc}\n",
       "\t& a & b & c & d\\\\\n",
       "\t\\hline\n",
       "\t& Float64 & Float64 & Float64 & Float64\\\\\n",
       "\t\\hline\n",
       "\t1 & 0.108642 & 0.231253 & 0.176124 & 0.0993201 \\\\\n",
       "\t2 & 0.839783 & 0.741166 & 0.345534 & 0.620847 \\\\\n",
       "\t3 & 0.886386 & 0.798349 & 0.698286 & 0.771162 \\\\\n",
       "\\end{tabular}\n"
      ],
      "text/plain": [
       "\u001b[1m3×4 DataFrame\u001b[0m\n",
       "\u001b[1m Row \u001b[0m│\u001b[1m a        \u001b[0m\u001b[1m b        \u001b[0m\u001b[1m c        \u001b[0m\u001b[1m d         \u001b[0m\n",
       "\u001b[1m     \u001b[0m│\u001b[90m Float64  \u001b[0m\u001b[90m Float64  \u001b[0m\u001b[90m Float64  \u001b[0m\u001b[90m Float64   \u001b[0m\n",
       "─────┼─────────────────────────────────────────\n",
       "   1 │ 0.108642  0.231253  0.176124  0.0993201\n",
       "   2 │ 0.839783  0.741166  0.345534  0.620847\n",
       "   3 │ 0.886386  0.798349  0.698286  0.771162"
      ]
     },
     "execution_count": 20,
     "metadata": {},
     "output_type": "execute_result"
    }
   ],
   "source": [
    "# 正则表达式选取\n",
    "select(df, r\".\\d*\")"
   ]
  },
  {
   "cell_type": "markdown",
   "id": "391b173d",
   "metadata": {},
   "source": [
    "## 变量生成"
   ]
  },
  {
   "cell_type": "code",
   "execution_count": 21,
   "id": "fc7ddd9c",
   "metadata": {},
   "outputs": [
    {
     "data": {
      "text/html": [
       "<div class=\"data-frame\"><p>3 rows × 1 columns</p><table class=\"data-frame\"><thead><tr><th></th><th>a_mean</th></tr><tr><th></th><th title=\"Float64\">Float64</th></tr></thead><tbody><tr><th>1</th><td>108.642</td></tr><tr><th>2</th><td>839.783</td></tr><tr><th>3</th><td>886.386</td></tr></tbody></table></div>"
      ],
      "text/latex": [
       "\\begin{tabular}{r|c}\n",
       "\t& a\\_mean\\\\\n",
       "\t\\hline\n",
       "\t& Float64\\\\\n",
       "\t\\hline\n",
       "\t1 & 108.642 \\\\\n",
       "\t2 & 839.783 \\\\\n",
       "\t3 & 886.386 \\\\\n",
       "\\end{tabular}\n"
      ],
      "text/plain": [
       "\u001b[1m3×1 DataFrame\u001b[0m\n",
       "\u001b[1m Row \u001b[0m│\u001b[1m a_mean  \u001b[0m\n",
       "\u001b[1m     \u001b[0m│\u001b[90m Float64 \u001b[0m\n",
       "─────┼─────────\n",
       "   1 │ 108.642\n",
       "   2 │ 839.783\n",
       "   3 │ 886.386"
      ]
     },
     "execution_count": 21,
     "metadata": {},
     "output_type": "execute_result"
    }
   ],
   "source": [
    "select(df, :a => (a -> a * 1000) => :a_mean)"
   ]
  },
  {
   "cell_type": "code",
   "execution_count": 22,
   "id": "28cf74e9",
   "metadata": {},
   "outputs": [
    {
     "data": {
      "text/html": [
       "<div class=\"data-frame\"><p>3 rows × 5 columns</p><table class=\"data-frame\"><thead><tr><th></th><th>a</th><th>b</th><th>c</th><th>d</th><th>a_mean</th></tr><tr><th></th><th title=\"Float64\">Float64</th><th title=\"Float64\">Float64</th><th title=\"Float64\">Float64</th><th title=\"Float64\">Float64</th><th title=\"Float64\">Float64</th></tr></thead><tbody><tr><th>1</th><td>0.108642</td><td>0.231253</td><td>0.176124</td><td>0.0993201</td><td>108.642</td></tr><tr><th>2</th><td>0.839783</td><td>0.741166</td><td>0.345534</td><td>0.620847</td><td>839.783</td></tr><tr><th>3</th><td>0.886386</td><td>0.798349</td><td>0.698286</td><td>0.771162</td><td>886.386</td></tr></tbody></table></div>"
      ],
      "text/latex": [
       "\\begin{tabular}{r|ccccc}\n",
       "\t& a & b & c & d & a\\_mean\\\\\n",
       "\t\\hline\n",
       "\t& Float64 & Float64 & Float64 & Float64 & Float64\\\\\n",
       "\t\\hline\n",
       "\t1 & 0.108642 & 0.231253 & 0.176124 & 0.0993201 & 108.642 \\\\\n",
       "\t2 & 0.839783 & 0.741166 & 0.345534 & 0.620847 & 839.783 \\\\\n",
       "\t3 & 0.886386 & 0.798349 & 0.698286 & 0.771162 & 886.386 \\\\\n",
       "\\end{tabular}\n"
      ],
      "text/plain": [
       "\u001b[1m3×5 DataFrame\u001b[0m\n",
       "\u001b[1m Row \u001b[0m│\u001b[1m a        \u001b[0m\u001b[1m b        \u001b[0m\u001b[1m c        \u001b[0m\u001b[1m d         \u001b[0m\u001b[1m a_mean  \u001b[0m\n",
       "\u001b[1m     \u001b[0m│\u001b[90m Float64  \u001b[0m\u001b[90m Float64  \u001b[0m\u001b[90m Float64  \u001b[0m\u001b[90m Float64   \u001b[0m\u001b[90m Float64 \u001b[0m\n",
       "─────┼──────────────────────────────────────────────────\n",
       "   1 │ 0.108642  0.231253  0.176124  0.0993201  108.642\n",
       "   2 │ 0.839783  0.741166  0.345534  0.620847   839.783\n",
       "   3 │ 0.886386  0.798349  0.698286  0.771162   886.386"
      ]
     },
     "execution_count": 22,
     "metadata": {},
     "output_type": "execute_result"
    }
   ],
   "source": [
    "transform(df, :a => (a -> a * 1000) => :a_mean)"
   ]
  },
  {
   "cell_type": "markdown",
   "id": "ba262574",
   "metadata": {},
   "source": [
    "## 分组聚合"
   ]
  },
  {
   "cell_type": "markdown",
   "id": "2a5ad947",
   "metadata": {},
   "source": [
    "三个函数：\n",
    "+ `combine`,类似于`apply`，可以处理`df`，也可以处理`groupby(df)`,对于返回结果没有强制要求\n",
    "+ `select`,类似于`transform`,可以处理`df`，也可以处理`groupby(df)`，返回结果和原DataFrame行索引一致，仅包含新生成的列\n",
    "+ `transform`,类似于`transform`,可以处理`df`，也可以处理`groupby(df)`，返回结果和原DataFrame行索引一致，包含DataFrame原有的列和新生成的列"
   ]
  },
  {
   "cell_type": "code",
   "execution_count": 23,
   "id": "5f972b9d",
   "metadata": {
    "scrolled": false
   },
   "outputs": [
    {
     "data": {
      "text/html": [
       "<div class=\"data-frame\"><p>150 rows × 5 columns</p><table class=\"data-frame\"><thead><tr><th></th><th>SepalLength</th><th>SepalWidth</th><th>PetalLength</th><th>PetalWidth</th><th>Species</th></tr><tr><th></th><th title=\"Float64\">Float64</th><th title=\"Float64\">Float64</th><th title=\"Float64\">Float64</th><th title=\"Float64\">Float64</th><th title=\"CategoricalArrays.CategoricalValue{String, UInt8}\">Cat…</th></tr></thead><tbody><tr><th>1</th><td>5.1</td><td>3.5</td><td>1.4</td><td>0.2</td><td>setosa</td></tr><tr><th>2</th><td>4.9</td><td>3.0</td><td>1.4</td><td>0.2</td><td>setosa</td></tr><tr><th>3</th><td>4.7</td><td>3.2</td><td>1.3</td><td>0.2</td><td>setosa</td></tr><tr><th>4</th><td>4.6</td><td>3.1</td><td>1.5</td><td>0.2</td><td>setosa</td></tr><tr><th>5</th><td>5.0</td><td>3.6</td><td>1.4</td><td>0.2</td><td>setosa</td></tr><tr><th>6</th><td>5.4</td><td>3.9</td><td>1.7</td><td>0.4</td><td>setosa</td></tr><tr><th>7</th><td>4.6</td><td>3.4</td><td>1.4</td><td>0.3</td><td>setosa</td></tr><tr><th>8</th><td>5.0</td><td>3.4</td><td>1.5</td><td>0.2</td><td>setosa</td></tr><tr><th>9</th><td>4.4</td><td>2.9</td><td>1.4</td><td>0.2</td><td>setosa</td></tr><tr><th>10</th><td>4.9</td><td>3.1</td><td>1.5</td><td>0.1</td><td>setosa</td></tr><tr><th>&vellip;</th><td>&vellip;</td><td>&vellip;</td><td>&vellip;</td><td>&vellip;</td><td>&vellip;</td></tr></tbody></table></div>"
      ],
      "text/latex": [
       "\\begin{tabular}{r|ccccc}\n",
       "\t& SepalLength & SepalWidth & PetalLength & PetalWidth & Species\\\\\n",
       "\t\\hline\n",
       "\t& Float64 & Float64 & Float64 & Float64 & Cat…\\\\\n",
       "\t\\hline\n",
       "\t1 & 5.1 & 3.5 & 1.4 & 0.2 & setosa \\\\\n",
       "\t2 & 4.9 & 3.0 & 1.4 & 0.2 & setosa \\\\\n",
       "\t3 & 4.7 & 3.2 & 1.3 & 0.2 & setosa \\\\\n",
       "\t4 & 4.6 & 3.1 & 1.5 & 0.2 & setosa \\\\\n",
       "\t5 & 5.0 & 3.6 & 1.4 & 0.2 & setosa \\\\\n",
       "\t6 & 5.4 & 3.9 & 1.7 & 0.4 & setosa \\\\\n",
       "\t7 & 4.6 & 3.4 & 1.4 & 0.3 & setosa \\\\\n",
       "\t8 & 5.0 & 3.4 & 1.5 & 0.2 & setosa \\\\\n",
       "\t9 & 4.4 & 2.9 & 1.4 & 0.2 & setosa \\\\\n",
       "\t10 & 4.9 & 3.1 & 1.5 & 0.1 & setosa \\\\\n",
       "\t$\\dots$ & $\\dots$ & $\\dots$ & $\\dots$ & $\\dots$ & $\\dots$ \\\\\n",
       "\\end{tabular}\n"
      ],
      "text/plain": [
       "\u001b[1m150×5 DataFrame\u001b[0m\n",
       "\u001b[1m Row \u001b[0m│\u001b[1m SepalLength \u001b[0m\u001b[1m SepalWidth \u001b[0m\u001b[1m PetalLength \u001b[0m\u001b[1m PetalWidth \u001b[0m\u001b[1m Species   \u001b[0m\n",
       "\u001b[1m     \u001b[0m│\u001b[90m Float64     \u001b[0m\u001b[90m Float64    \u001b[0m\u001b[90m Float64     \u001b[0m\u001b[90m Float64    \u001b[0m\u001b[90m Cat…      \u001b[0m\n",
       "─────┼─────────────────────────────────────────────────────────────\n",
       "   1 │         5.1         3.5          1.4         0.2  setosa\n",
       "  ⋮  │      ⋮           ⋮            ⋮           ⋮           ⋮\n",
       "\u001b[36m                                                   149 rows omitted\u001b[0m"
      ]
     },
     "execution_count": 23,
     "metadata": {},
     "output_type": "execute_result"
    }
   ],
   "source": [
    "# 示例数据\n",
    "iris = dataset(\"datasets\", \"iris\")"
   ]
  },
  {
   "cell_type": "code",
   "execution_count": 24,
   "id": "c4be54ea",
   "metadata": {},
   "outputs": [
    {
     "data": {
      "text/html": [
       "<div class=\"data-frame\"><p>150 rows × 2 columns</p><table class=\"data-frame\"><thead><tr><th></th><th>SepalLength*100</th><th>SepalLength/100</th></tr><tr><th></th><th title=\"Float64\">Float64</th><th title=\"Float64\">Float64</th></tr></thead><tbody><tr><th>1</th><td>510.0</td><td>0.014</td></tr><tr><th>2</th><td>490.0</td><td>0.014</td></tr><tr><th>3</th><td>470.0</td><td>0.013</td></tr><tr><th>4</th><td>460.0</td><td>0.015</td></tr><tr><th>5</th><td>500.0</td><td>0.014</td></tr><tr><th>6</th><td>540.0</td><td>0.017</td></tr><tr><th>7</th><td>460.0</td><td>0.014</td></tr><tr><th>8</th><td>500.0</td><td>0.015</td></tr><tr><th>9</th><td>440.0</td><td>0.014</td></tr><tr><th>10</th><td>490.0</td><td>0.015</td></tr><tr><th>&vellip;</th><td>&vellip;</td><td>&vellip;</td></tr></tbody></table></div>"
      ],
      "text/latex": [
       "\\begin{tabular}{r|cc}\n",
       "\t& SepalLength*100 & SepalLength/100\\\\\n",
       "\t\\hline\n",
       "\t& Float64 & Float64\\\\\n",
       "\t\\hline\n",
       "\t1 & 510.0 & 0.014 \\\\\n",
       "\t2 & 490.0 & 0.014 \\\\\n",
       "\t3 & 470.0 & 0.013 \\\\\n",
       "\t4 & 460.0 & 0.015 \\\\\n",
       "\t5 & 500.0 & 0.014 \\\\\n",
       "\t6 & 540.0 & 0.017 \\\\\n",
       "\t7 & 460.0 & 0.014 \\\\\n",
       "\t8 & 500.0 & 0.015 \\\\\n",
       "\t9 & 440.0 & 0.014 \\\\\n",
       "\t10 & 490.0 & 0.015 \\\\\n",
       "\t$\\dots$ & $\\dots$ & $\\dots$ \\\\\n",
       "\\end{tabular}\n"
      ],
      "text/plain": [
       "\u001b[1m150×2 DataFrame\u001b[0m\n",
       "\u001b[1m Row \u001b[0m│\u001b[1m SepalLength*100 \u001b[0m\u001b[1m SepalLength/100 \u001b[0m\n",
       "\u001b[1m     \u001b[0m│\u001b[90m Float64         \u001b[0m\u001b[90m Float64         \u001b[0m\n",
       "─────┼──────────────────────────────────\n",
       "   1 │           510.0            0.014\n",
       "  ⋮  │        ⋮                ⋮\n",
       "\u001b[36m                        149 rows omitted\u001b[0m"
      ]
     },
     "execution_count": 24,
     "metadata": {},
     "output_type": "execute_result"
    }
   ],
   "source": [
    "# 生成两列，这两列是对原来数据列的数值变换\n",
    "combine(\n",
    "    iris,\n",
    "    :SepalLength => (c -> c * 100) => \"SepalLength*100\",\n",
    "    :PetalLength => (c -> c / 100) => \"SepalLength/100\",\n",
    ")"
   ]
  },
  {
   "cell_type": "code",
   "execution_count": 25,
   "id": "ebfc2bfb",
   "metadata": {},
   "outputs": [
    {
     "data": {
      "text/html": [
       "<div class=\"data-frame\"><p>3 rows × 2 columns</p><table class=\"data-frame\"><thead><tr><th></th><th>Species</th><th>firstSpecies</th></tr><tr><th></th><th title=\"CategoricalArrays.CategoricalValue{String, UInt8}\">Cat…</th><th title=\"Float64\">Float64</th></tr></thead><tbody><tr><th>1</th><td>setosa</td><td>5.1</td></tr><tr><th>2</th><td>versicolor</td><td>7.0</td></tr><tr><th>3</th><td>virginica</td><td>6.3</td></tr></tbody></table></div>"
      ],
      "text/latex": [
       "\\begin{tabular}{r|cc}\n",
       "\t& Species & firstSpecies\\\\\n",
       "\t\\hline\n",
       "\t& Cat… & Float64\\\\\n",
       "\t\\hline\n",
       "\t1 & setosa & 5.1 \\\\\n",
       "\t2 & versicolor & 7.0 \\\\\n",
       "\t3 & virginica & 6.3 \\\\\n",
       "\\end{tabular}\n"
      ],
      "text/plain": [
       "\u001b[1m3×2 DataFrame\u001b[0m\n",
       "\u001b[1m Row \u001b[0m│\u001b[1m Species    \u001b[0m\u001b[1m firstSpecies \u001b[0m\n",
       "\u001b[1m     \u001b[0m│\u001b[90m Cat…       \u001b[0m\u001b[90m Float64      \u001b[0m\n",
       "─────┼──────────────────────────\n",
       "   1 │ setosa               5.1\n",
       "   2 │ versicolor           7.0\n",
       "   3 │ virginica            6.3"
      ]
     },
     "execution_count": 25,
     "metadata": {},
     "output_type": "execute_result"
    }
   ],
   "source": [
    "combine(groupby(iris, :Species), :SepalLength => (c -> first(c)) => \"firstSpecies\")"
   ]
  },
  {
   "cell_type": "code",
   "execution_count": 26,
   "id": "6e96aac4",
   "metadata": {},
   "outputs": [
    {
     "data": {
      "text/html": [
       "<div class=\"data-frame\"><p>150 rows × 2 columns</p><table class=\"data-frame\"><thead><tr><th></th><th>Species</th><th>SepalLength_function</th></tr><tr><th></th><th title=\"CategoricalArrays.CategoricalValue{String, UInt8}\">Cat…</th><th title=\"Float64\">Float64</th></tr></thead><tbody><tr><th>1</th><td>setosa</td><td>4.3</td></tr><tr><th>2</th><td>setosa</td><td>4.3</td></tr><tr><th>3</th><td>setosa</td><td>4.3</td></tr><tr><th>4</th><td>setosa</td><td>4.3</td></tr><tr><th>5</th><td>setosa</td><td>4.3</td></tr><tr><th>6</th><td>setosa</td><td>4.3</td></tr><tr><th>7</th><td>setosa</td><td>4.3</td></tr><tr><th>8</th><td>setosa</td><td>4.3</td></tr><tr><th>9</th><td>setosa</td><td>4.3</td></tr><tr><th>10</th><td>setosa</td><td>4.3</td></tr><tr><th>&vellip;</th><td>&vellip;</td><td>&vellip;</td></tr></tbody></table></div>"
      ],
      "text/latex": [
       "\\begin{tabular}{r|cc}\n",
       "\t& Species & SepalLength\\_function\\\\\n",
       "\t\\hline\n",
       "\t& Cat… & Float64\\\\\n",
       "\t\\hline\n",
       "\t1 & setosa & 4.3 \\\\\n",
       "\t2 & setosa & 4.3 \\\\\n",
       "\t3 & setosa & 4.3 \\\\\n",
       "\t4 & setosa & 4.3 \\\\\n",
       "\t5 & setosa & 4.3 \\\\\n",
       "\t6 & setosa & 4.3 \\\\\n",
       "\t7 & setosa & 4.3 \\\\\n",
       "\t8 & setosa & 4.3 \\\\\n",
       "\t9 & setosa & 4.3 \\\\\n",
       "\t10 & setosa & 4.3 \\\\\n",
       "\t$\\dots$ & $\\dots$ & $\\dots$ \\\\\n",
       "\\end{tabular}\n"
      ],
      "text/plain": [
       "\u001b[1m150×2 DataFrame\u001b[0m\n",
       "\u001b[1m Row \u001b[0m│\u001b[1m Species   \u001b[0m\u001b[1m SepalLength_function \u001b[0m\n",
       "\u001b[1m     \u001b[0m│\u001b[90m Cat…      \u001b[0m\u001b[90m Float64              \u001b[0m\n",
       "─────┼─────────────────────────────────\n",
       "   1 │ setosa                      4.3\n",
       "  ⋮  │     ⋮               ⋮\n",
       "\u001b[36m                       149 rows omitted\u001b[0m"
      ]
     },
     "execution_count": 26,
     "metadata": {},
     "output_type": "execute_result"
    }
   ],
   "source": [
    "select(groupby(iris, :Species), :SepalLength => (c -> minimum(c)))"
   ]
  },
  {
   "cell_type": "code",
   "execution_count": 27,
   "id": "c8120fb8",
   "metadata": {},
   "outputs": [
    {
     "data": {
      "text/html": [
       "<div class=\"data-frame\"><p>150 rows × 6 columns</p><table class=\"data-frame\"><thead><tr><th></th><th>SepalLength</th><th>SepalWidth</th><th>PetalLength</th><th>PetalWidth</th><th>Species</th><th>SepalLength_function</th></tr><tr><th></th><th title=\"Float64\">Float64</th><th title=\"Float64\">Float64</th><th title=\"Float64\">Float64</th><th title=\"Float64\">Float64</th><th title=\"CategoricalArrays.CategoricalValue{String, UInt8}\">Cat…</th><th title=\"Float64\">Float64</th></tr></thead><tbody><tr><th>1</th><td>5.1</td><td>3.5</td><td>1.4</td><td>0.2</td><td>setosa</td><td>5.1</td></tr><tr><th>2</th><td>4.9</td><td>3.0</td><td>1.4</td><td>0.2</td><td>setosa</td><td>5.1</td></tr><tr><th>3</th><td>4.7</td><td>3.2</td><td>1.3</td><td>0.2</td><td>setosa</td><td>5.1</td></tr><tr><th>4</th><td>4.6</td><td>3.1</td><td>1.5</td><td>0.2</td><td>setosa</td><td>5.1</td></tr><tr><th>5</th><td>5.0</td><td>3.6</td><td>1.4</td><td>0.2</td><td>setosa</td><td>5.1</td></tr><tr><th>6</th><td>5.4</td><td>3.9</td><td>1.7</td><td>0.4</td><td>setosa</td><td>5.1</td></tr><tr><th>7</th><td>4.6</td><td>3.4</td><td>1.4</td><td>0.3</td><td>setosa</td><td>5.1</td></tr><tr><th>8</th><td>5.0</td><td>3.4</td><td>1.5</td><td>0.2</td><td>setosa</td><td>5.1</td></tr><tr><th>9</th><td>4.4</td><td>2.9</td><td>1.4</td><td>0.2</td><td>setosa</td><td>5.1</td></tr><tr><th>10</th><td>4.9</td><td>3.1</td><td>1.5</td><td>0.1</td><td>setosa</td><td>5.1</td></tr><tr><th>&vellip;</th><td>&vellip;</td><td>&vellip;</td><td>&vellip;</td><td>&vellip;</td><td>&vellip;</td><td>&vellip;</td></tr></tbody></table></div>"
      ],
      "text/latex": [
       "\\begin{tabular}{r|cccccc}\n",
       "\t& SepalLength & SepalWidth & PetalLength & PetalWidth & Species & SepalLength\\_function\\\\\n",
       "\t\\hline\n",
       "\t& Float64 & Float64 & Float64 & Float64 & Cat… & Float64\\\\\n",
       "\t\\hline\n",
       "\t1 & 5.1 & 3.5 & 1.4 & 0.2 & setosa & 5.1 \\\\\n",
       "\t2 & 4.9 & 3.0 & 1.4 & 0.2 & setosa & 5.1 \\\\\n",
       "\t3 & 4.7 & 3.2 & 1.3 & 0.2 & setosa & 5.1 \\\\\n",
       "\t4 & 4.6 & 3.1 & 1.5 & 0.2 & setosa & 5.1 \\\\\n",
       "\t5 & 5.0 & 3.6 & 1.4 & 0.2 & setosa & 5.1 \\\\\n",
       "\t6 & 5.4 & 3.9 & 1.7 & 0.4 & setosa & 5.1 \\\\\n",
       "\t7 & 4.6 & 3.4 & 1.4 & 0.3 & setosa & 5.1 \\\\\n",
       "\t8 & 5.0 & 3.4 & 1.5 & 0.2 & setosa & 5.1 \\\\\n",
       "\t9 & 4.4 & 2.9 & 1.4 & 0.2 & setosa & 5.1 \\\\\n",
       "\t10 & 4.9 & 3.1 & 1.5 & 0.1 & setosa & 5.1 \\\\\n",
       "\t$\\dots$ & $\\dots$ & $\\dots$ & $\\dots$ & $\\dots$ & $\\dots$ & $\\dots$ \\\\\n",
       "\\end{tabular}\n"
      ],
      "text/plain": [
       "\u001b[1m150×6 DataFrame\u001b[0m\n",
       "\u001b[1m Row \u001b[0m│\u001b[1m SepalLength \u001b[0m\u001b[1m SepalWidth \u001b[0m\u001b[1m PetalLength \u001b[0m\u001b[1m PetalWidth \u001b[0m\u001b[1m Species   \u001b[0m\u001b[1m SepalLength_function \u001b[0m\n",
       "\u001b[1m     \u001b[0m│\u001b[90m Float64     \u001b[0m\u001b[90m Float64    \u001b[0m\u001b[90m Float64     \u001b[0m\u001b[90m Float64    \u001b[0m\u001b[90m Cat…      \u001b[0m\u001b[90m Float64              \u001b[0m\n",
       "─────┼───────────────────────────────────────────────────────────────────────────────────\n",
       "   1 │         5.1         3.5          1.4         0.2  setosa                      5.1\n",
       "  ⋮  │      ⋮           ⋮            ⋮           ⋮           ⋮               ⋮\n",
       "\u001b[36m                                                                         149 rows omitted\u001b[0m"
      ]
     },
     "execution_count": 27,
     "metadata": {},
     "output_type": "execute_result"
    }
   ],
   "source": [
    "transform(groupby(iris, :Species), :SepalLength => (c -> first(c)))"
   ]
  },
  {
   "cell_type": "markdown",
   "id": "6e9bfd0e",
   "metadata": {},
   "source": [
    "## 操控变形"
   ]
  },
  {
   "cell_type": "markdown",
   "id": "9dc3a081",
   "metadata": {},
   "source": [
    "两大函数：\n",
    "+ `stack`, 宽变长\n",
    "+ `unstack`， 长变宽"
   ]
  },
  {
   "cell_type": "code",
   "execution_count": 28,
   "id": "f44192e6",
   "metadata": {},
   "outputs": [
    {
     "data": {
      "text/plain": [
       "5-element Vector{String}:\n",
       " \"SepalLength\"\n",
       " \"SepalWidth\"\n",
       " \"PetalLength\"\n",
       " \"PetalWidth\"\n",
       " \"Species\""
      ]
     },
     "execution_count": 28,
     "metadata": {},
     "output_type": "execute_result"
    }
   ],
   "source": [
    "names(iris)"
   ]
  },
  {
   "cell_type": "code",
   "execution_count": 29,
   "id": "90e14a8a",
   "metadata": {},
   "outputs": [
    {
     "data": {
      "text/html": [
       "<div class=\"data-frame\"><p>600 rows × 3 columns</p><table class=\"data-frame\"><thead><tr><th></th><th>Species</th><th>A_name_of_var</th><th>A_name_of_val</th></tr><tr><th></th><th title=\"CategoricalArrays.CategoricalValue{String, UInt8}\">Cat…</th><th title=\"String\">String</th><th title=\"Float64\">Float64</th></tr></thead><tbody><tr><th>1</th><td>setosa</td><td>SepalLength</td><td>5.1</td></tr><tr><th>2</th><td>setosa</td><td>SepalLength</td><td>4.9</td></tr><tr><th>3</th><td>setosa</td><td>SepalLength</td><td>4.7</td></tr><tr><th>4</th><td>setosa</td><td>SepalLength</td><td>4.6</td></tr><tr><th>5</th><td>setosa</td><td>SepalLength</td><td>5.0</td></tr><tr><th>6</th><td>setosa</td><td>SepalLength</td><td>5.4</td></tr><tr><th>7</th><td>setosa</td><td>SepalLength</td><td>4.6</td></tr><tr><th>8</th><td>setosa</td><td>SepalLength</td><td>5.0</td></tr><tr><th>9</th><td>setosa</td><td>SepalLength</td><td>4.4</td></tr><tr><th>10</th><td>setosa</td><td>SepalLength</td><td>4.9</td></tr><tr><th>&vellip;</th><td>&vellip;</td><td>&vellip;</td><td>&vellip;</td></tr></tbody></table></div>"
      ],
      "text/latex": [
       "\\begin{tabular}{r|ccc}\n",
       "\t& Species & A\\_name\\_of\\_var & A\\_name\\_of\\_val\\\\\n",
       "\t\\hline\n",
       "\t& Cat… & String & Float64\\\\\n",
       "\t\\hline\n",
       "\t1 & setosa & SepalLength & 5.1 \\\\\n",
       "\t2 & setosa & SepalLength & 4.9 \\\\\n",
       "\t3 & setosa & SepalLength & 4.7 \\\\\n",
       "\t4 & setosa & SepalLength & 4.6 \\\\\n",
       "\t5 & setosa & SepalLength & 5.0 \\\\\n",
       "\t6 & setosa & SepalLength & 5.4 \\\\\n",
       "\t7 & setosa & SepalLength & 4.6 \\\\\n",
       "\t8 & setosa & SepalLength & 5.0 \\\\\n",
       "\t9 & setosa & SepalLength & 4.4 \\\\\n",
       "\t10 & setosa & SepalLength & 4.9 \\\\\n",
       "\t$\\dots$ & $\\dots$ & $\\dots$ & $\\dots$ \\\\\n",
       "\\end{tabular}\n"
      ],
      "text/plain": [
       "\u001b[1m600×3 DataFrame\u001b[0m\n",
       "\u001b[1m Row \u001b[0m│\u001b[1m Species   \u001b[0m\u001b[1m A_name_of_var \u001b[0m\u001b[1m A_name_of_val \u001b[0m\n",
       "\u001b[1m     \u001b[0m│\u001b[90m Cat…      \u001b[0m\u001b[90m String        \u001b[0m\u001b[90m Float64       \u001b[0m\n",
       "─────┼─────────────────────────────────────────\n",
       "   1 │ setosa     SepalLength              5.1\n",
       "  ⋮  │     ⋮            ⋮              ⋮\n",
       "\u001b[36m                               599 rows omitted\u001b[0m"
      ]
     },
     "execution_count": 29,
     "metadata": {},
     "output_type": "execute_result"
    }
   ],
   "source": [
    "# 宽变长\n",
    "longdf = stack(\n",
    "    iris,\n",
    "    [:SepalLength, :SepalWidth, :PetalLength, :PetalWidth], # 取哪些变量作为值\n",
    "    :Species; # 取哪些变量作为类别\n",
    "    variable_name = :A_name_of_var, # 原来的值变量的列名组成的新列的列名\n",
    "    value_name = :A_name_of_val, # 原来的值变量的值组成的新列的列名\n",
    ")"
   ]
  },
  {
   "cell_type": "code",
   "execution_count": 30,
   "id": "5234c8b5",
   "metadata": {},
   "outputs": [
    {
     "data": {
      "text/html": [
       "<div class=\"data-frame\"><p>12 rows × 3 columns</p><table class=\"data-frame\"><thead><tr><th></th><th>Species</th><th>feature</th><th>value</th></tr><tr><th></th><th title=\"CategoricalArrays.CategoricalValue{String, UInt8}\">Cat…</th><th title=\"String\">String</th><th title=\"Float64\">Float64</th></tr></thead><tbody><tr><th>1</th><td>setosa</td><td>SepalLength</td><td>5.1</td></tr><tr><th>2</th><td>versicolor</td><td>SepalLength</td><td>7.0</td></tr><tr><th>3</th><td>virginica</td><td>SepalLength</td><td>6.3</td></tr><tr><th>4</th><td>setosa</td><td>SepalWidth</td><td>3.5</td></tr><tr><th>5</th><td>versicolor</td><td>SepalWidth</td><td>3.2</td></tr><tr><th>6</th><td>virginica</td><td>SepalWidth</td><td>3.3</td></tr><tr><th>7</th><td>setosa</td><td>PetalLength</td><td>1.4</td></tr><tr><th>8</th><td>versicolor</td><td>PetalLength</td><td>4.7</td></tr><tr><th>9</th><td>virginica</td><td>PetalLength</td><td>6.0</td></tr><tr><th>10</th><td>setosa</td><td>PetalWidth</td><td>0.2</td></tr><tr><th>&vellip;</th><td>&vellip;</td><td>&vellip;</td><td>&vellip;</td></tr></tbody></table></div>"
      ],
      "text/latex": [
       "\\begin{tabular}{r|ccc}\n",
       "\t& Species & feature & value\\\\\n",
       "\t\\hline\n",
       "\t& Cat… & String & Float64\\\\\n",
       "\t\\hline\n",
       "\t1 & setosa & SepalLength & 5.1 \\\\\n",
       "\t2 & versicolor & SepalLength & 7.0 \\\\\n",
       "\t3 & virginica & SepalLength & 6.3 \\\\\n",
       "\t4 & setosa & SepalWidth & 3.5 \\\\\n",
       "\t5 & versicolor & SepalWidth & 3.2 \\\\\n",
       "\t6 & virginica & SepalWidth & 3.3 \\\\\n",
       "\t7 & setosa & PetalLength & 1.4 \\\\\n",
       "\t8 & versicolor & PetalLength & 4.7 \\\\\n",
       "\t9 & virginica & PetalLength & 6.0 \\\\\n",
       "\t10 & setosa & PetalWidth & 0.2 \\\\\n",
       "\t$\\dots$ & $\\dots$ & $\\dots$ & $\\dots$ \\\\\n",
       "\\end{tabular}\n"
      ],
      "text/plain": [
       "\u001b[1m12×3 DataFrame\u001b[0m\n",
       "\u001b[1m Row \u001b[0m│\u001b[1m Species    \u001b[0m\u001b[1m feature     \u001b[0m\u001b[1m value   \u001b[0m\n",
       "\u001b[1m     \u001b[0m│\u001b[90m Cat…       \u001b[0m\u001b[90m String      \u001b[0m\u001b[90m Float64 \u001b[0m\n",
       "─────┼──────────────────────────────────\n",
       "   1 │ setosa      SepalLength      5.1\n",
       "  ⋮  │     ⋮            ⋮          ⋮\n",
       "\u001b[36m                         11 rows omitted\u001b[0m"
      ]
     },
     "execution_count": 30,
     "metadata": {},
     "output_type": "execute_result"
    }
   ],
   "source": [
    "l2 = combine(\n",
    "    groupby(iris, :Species),\n",
    "    Between(:SepalLength, :PetalWidth) .=> first;\n",
    "    renamecols = false,\n",
    ")\n",
    "longdf2 = stack(\n",
    "    l2,\n",
    "    Between(:SepalLength, :PetalWidth),\n",
    "    :Species;\n",
    "    variable_name = :feature,\n",
    "    value_name = :value,\n",
    ")"
   ]
  },
  {
   "cell_type": "code",
   "execution_count": 31,
   "id": "be1f3921",
   "metadata": {},
   "outputs": [
    {
     "data": {
      "text/html": [
       "<div class=\"data-frame\"><p>3 rows × 5 columns</p><table class=\"data-frame\"><thead><tr><th></th><th>Species</th><th>SepalLength</th><th>SepalWidth</th><th>PetalLength</th><th>PetalWidth</th></tr><tr><th></th><th title=\"CategoricalArrays.CategoricalValue{String, UInt8}\">Cat…</th><th title=\"Union{Missing, Float64}\">Float64?</th><th title=\"Union{Missing, Float64}\">Float64?</th><th title=\"Union{Missing, Float64}\">Float64?</th><th title=\"Union{Missing, Float64}\">Float64?</th></tr></thead><tbody><tr><th>1</th><td>setosa</td><td>5.1</td><td>3.5</td><td>1.4</td><td>0.2</td></tr><tr><th>2</th><td>versicolor</td><td>7.0</td><td>3.2</td><td>4.7</td><td>1.4</td></tr><tr><th>3</th><td>virginica</td><td>6.3</td><td>3.3</td><td>6.0</td><td>2.5</td></tr></tbody></table></div>"
      ],
      "text/latex": [
       "\\begin{tabular}{r|ccccc}\n",
       "\t& Species & SepalLength & SepalWidth & PetalLength & PetalWidth\\\\\n",
       "\t\\hline\n",
       "\t& Cat… & Float64? & Float64? & Float64? & Float64?\\\\\n",
       "\t\\hline\n",
       "\t1 & setosa & 5.1 & 3.5 & 1.4 & 0.2 \\\\\n",
       "\t2 & versicolor & 7.0 & 3.2 & 4.7 & 1.4 \\\\\n",
       "\t3 & virginica & 6.3 & 3.3 & 6.0 & 2.5 \\\\\n",
       "\\end{tabular}\n"
      ],
      "text/plain": [
       "\u001b[1m3×5 DataFrame\u001b[0m\n",
       "\u001b[1m Row \u001b[0m│\u001b[1m Species    \u001b[0m\u001b[1m SepalLength \u001b[0m\u001b[1m SepalWidth \u001b[0m\u001b[1m PetalLength \u001b[0m\u001b[1m PetalWidth \u001b[0m\n",
       "\u001b[1m     \u001b[0m│\u001b[90m Cat…       \u001b[0m\u001b[90m Float64?    \u001b[0m\u001b[90m Float64?   \u001b[0m\u001b[90m Float64?    \u001b[0m\u001b[90m Float64?   \u001b[0m\n",
       "─────┼──────────────────────────────────────────────────────────────\n",
       "   1 │ setosa              5.1         3.5          1.4         0.2\n",
       "   2 │ versicolor          7.0         3.2          4.7         1.4\n",
       "   3 │ virginica           6.3         3.3          6.0         2.5"
      ]
     },
     "execution_count": 31,
     "metadata": {},
     "output_type": "execute_result"
    }
   ],
   "source": [
    "# Species不能有重复项\n",
    "unstack(longdf2, :Species, :feature, :value; allowduplicates = false)"
   ]
  },
  {
   "cell_type": "markdown",
   "id": "3852ca2d",
   "metadata": {},
   "source": [
    "## 绘图\n",
    "Julia统计绘图好拉胯"
   ]
  },
  {
   "cell_type": "code",
   "execution_count": 32,
   "id": "142fd32c",
   "metadata": {},
   "outputs": [],
   "source": [
    "using CairoMakie"
   ]
  },
  {
   "cell_type": "code",
   "execution_count": 33,
   "id": "81b17b32",
   "metadata": {},
   "outputs": [
    {
     "data": {
      "image/png": "[encoded data removed]",
      "text/plain": [
       "Figure()"
      ]
     },
     "execution_count": 33,
     "metadata": {},
     "output_type": "execute_result"
    }
   ],
   "source": [
    "f = Figure()\n",
    "ax = Axis(f[1, 1], title = \"分布图\")\n",
    "hist!(ax, iris.PetalLength)\n",
    "f"
   ]
  }
 ],
 "metadata": {
  "kernelspec": {
   "display_name": "Julia-1.8.1",
   "language": "julia",
   "name": "julia-1.8.1"
  },
  "language_info": {
   "file_extension": ".jl",
   "mimetype": "application/julia",
   "name": "julia",
   "version": "1.8.1"
  },
  "latex_envs": {
   "LaTeX_envs_menu_present": true,
   "autoclose": false,
   "autocomplete": true,
   "bibliofile": "biblio.bib",
   "cite_by": "apalike",
   "current_citInitial": 1,
   "eqLabelWithNumbers": true,
   "eqNumInitial": 1,
   "hotkeys": {
    "equation": "Ctrl-E",
    "itemize": "Ctrl-I"
   },
   "labels_anchors": false,
   "latex_user_defs": false,
   "report_style_numbering": false,
   "user_envs_cfg": false
  },
  "toc": {
   "base_numbering": 1,
   "nav_menu": {},
   "number_sections": true,
   "sideBar": true,
   "skip_h1_title": false,
   "title_cell": "Table of Contents",
   "title_sidebar": "Contents",
   "toc_cell": false,
   "toc_position": {
    "height": "calc(100% - 180px)",
    "left": "10px",
    "top": "150px",
    "width": "348.889px"
   },
   "toc_section_display": true,
   "toc_window_display": true
  }
 },
 "nbformat": 4,
 "nbformat_minor": 5
}
