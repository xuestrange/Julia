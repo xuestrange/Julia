{
 "cells": [
  {
   "cell_type": "markdown",
   "id": "91a66f8f",
   "metadata": {
    "pycharm": {
     "name": "#%% md\n"
    }
   },
   "source": [
    "## REPL\n",
    "\n",
    "1. `REPL`全称是`read-eval-print-loop`\n",
    "2. 赋值语句后边加`;`可以不打印结果\n",
    "3. `ans`打印上一个结果\n",
    "4. 四种切换模式\n",
    "    + `]`进入pkg包管理模式(包名区分大小写):\n",
    "            - `update`: 更新所有包\n",
    "            - `add package`: 安装包\n",
    "            - `add githubg_url`: 安装github上的包，更新时也会一并更新\n",
    "    + `?` 进入`help`模式\n",
    "    + `;` 进入`shell`模式\n",
    "    + `BackSpace`进入julia模式\n",
    "5. `pwd()` print working directory\n",
    "\n",
    "包管理工具\n",
    "+ jill <https://github.com/johnnychen94/jill.py>"
   ]
  },
  {
   "cell_type": "markdown",
   "id": "fe39672a",
   "metadata": {
    "pycharm": {
     "name": "#%% md\n"
    }
   },
   "source": [
    "## 数值系统\n",
    "\n",
    "+ 整数(`Int8`, `Int16`, `Int32`, `Int64`, `Int128`)\n",
    "    + 我们的电脑为64位系统，因此常常用`Int`默认代表`Int64`\n",
    "+ 浮点数(`Folat16`, `Float32`, `Float64`)\n",
    "    + Julia中正0和负0之间有微弱的区别，可以使用`zero`来表达0\n",
    "    + 无穷值`Inf16`, `Inf32`, `Inf64`(默认），这并不是一种类型，就是一个无穷大的数\n",
    "    + 非输出`NaN16`, `NaN32`, `NaN64`(默认），非类型（同上）\n",
    "+ 布尔类型`Bool`\n",
    "+ BigFloat\n",
    "+ 有理数\n",
    "+ 复数(`ComplexF64`(`Complex`),`ComplexF32`, `ComplexF16`)\n",
    "+ 随机数(`rand`, `randn`, `randexp`)"
   ]
  },
  {
   "cell_type": "code",
   "execution_count": null,
   "id": "f1270b63",
   "metadata": {
    "pycharm": {
     "name": "#%%\n",
     "is_executing": true
    }
   },
   "outputs": [],
   "source": [
    "# 位运算\n",
    "~12"
   ]
  },
  {
   "cell_type": "code",
   "execution_count": 2,
   "id": "03ad7ab7",
   "metadata": {
    "pycharm": {
     "name": "#%%\n"
    }
   },
   "outputs": [
    {
     "data": {
      "text/plain": [
       "\"1111111111111111111111111111111111111111111111111111111111110011\""
      ]
     },
     "execution_count": 2,
     "metadata": {},
     "output_type": "execute_result"
    }
   ],
   "source": [
    "bitstring(~12)"
   ]
  },
  {
   "cell_type": "code",
   "execution_count": 3,
   "id": "d25223ea",
   "metadata": {
    "pycharm": {
     "name": "#%%\n"
    }
   },
   "outputs": [
    {
     "data": {
      "text/plain": [
       "0"
      ]
     },
     "execution_count": 3,
     "metadata": {},
     "output_type": "execute_result"
    }
   ],
   "source": [
    "float0 = zero(Float64);\n",
    "int0 = zero(Int64)"
   ]
  },
  {
   "cell_type": "code",
   "execution_count": 4,
   "id": "13c84861",
   "metadata": {
    "pycharm": {
     "name": "#%%\n"
    }
   },
   "outputs": [
    {
     "data": {
      "text/plain": [
       "Float64"
      ]
     },
     "execution_count": 4,
     "metadata": {},
     "output_type": "execute_result"
    }
   ],
   "source": [
    "typeof(int0)\n",
    "typeof(float0)"
   ]
  },
  {
   "cell_type": "code",
   "execution_count": null,
   "id": "b9c4d67c",
   "metadata": {
    "pycharm": {
     "name": "#%%\n",
     "is_executing": true
    }
   },
   "outputs": [],
   "source": [
    "typemax(Int64)\n",
    "typemax(Float64)"
   ]
  },
  {
   "cell_type": "code",
   "execution_count": 6,
   "id": "fa9b0657",
   "metadata": {
    "pycharm": {
     "name": "#%%\n"
    }
   },
   "outputs": [
    {
     "data": {
      "text/plain": [
       "false"
      ]
     },
     "execution_count": 6,
     "metadata": {},
     "output_type": "execute_result"
    }
   ],
   "source": [
    "isfinite(Inf)"
   ]
  },
  {
   "cell_type": "code",
   "execution_count": 7,
   "id": "2608312e",
   "metadata": {
    "pycharm": {
     "name": "#%%\n"
    }
   },
   "outputs": [
    {
     "data": {
      "text/plain": [
       "true"
      ]
     },
     "execution_count": 7,
     "metadata": {},
     "output_type": "execute_result"
    }
   ],
   "source": [
    "isnan(-NaN64) # 它就是一个数不是个类型"
   ]
  },
  {
   "cell_type": "code",
   "execution_count": 8,
   "id": "3b986054",
   "metadata": {
    "pycharm": {
     "name": "#%%\n"
    }
   },
   "outputs": [
    {
     "data": {
      "text/plain": [
       "π = 3.1415926535897..."
      ]
     },
     "execution_count": 8,
     "metadata": {},
     "output_type": "execute_result"
    }
   ],
   "source": [
    "π"
   ]
  },
  {
   "cell_type": "code",
   "execution_count": 9,
   "id": "629ed05d",
   "metadata": {
    "pycharm": {
     "name": "#%%\n"
    }
   },
   "outputs": [
    {
     "ename": "LoadError",
     "evalue": "UndefVarError: e not defined",
     "output_type": "error",
     "traceback": [
      "UndefVarError: e not defined",
      "",
      "Stacktrace:",
      " [1] top-level scope",
      "   @ :0",
      " [2] eval",
      "   @ .\\boot.jl:360 [inlined]",
      " [3] include_string(mapexpr::typeof(REPL.softscope), mod::Module, code::String, filename::String)",
      "   @ Base .\\loading.jl:1116"
     ]
    }
   ],
   "source": [
    "# using Base.MathConstants\n",
    "e # 自然指数"
   ]
  },
  {
   "cell_type": "code",
   "execution_count": 10,
   "id": "be1f2cfe",
   "metadata": {
    "pycharm": {
     "name": "#%%\n"
    }
   },
   "outputs": [
    {
     "data": {
      "text/plain": [
       "1.5"
      ]
     },
     "execution_count": 10,
     "metadata": {},
     "output_type": "execute_result"
    }
   ],
   "source": [
    "# 有理数\n",
    "ration = 3 // 2 # 必须都为整数，实际上就是分数\n",
    "\n",
    "typeof(ration)\n",
    "\n",
    "Float64(ration)"
   ]
  },
  {
   "cell_type": "code",
   "execution_count": 11,
   "id": "4627cfef",
   "metadata": {
    "pycharm": {
     "name": "#%%\n"
    }
   },
   "outputs": [
    {
     "data": {
      "text/plain": [
       "2.0"
      ]
     },
     "execution_count": 11,
     "metadata": {},
     "output_type": "execute_result"
    }
   ],
   "source": [
    "# 复数\n",
    "complex1 = ComplexF64(1, 2)\n",
    "\n",
    "real(complex1)\n",
    "\n",
    "imag(complex1)"
   ]
  },
  {
   "cell_type": "code",
   "execution_count": 12,
   "id": "1adfa859",
   "metadata": {
    "pycharm": {
     "name": "#%%\n"
    }
   },
   "outputs": [
    {
     "data": {
      "text/plain": [
       "3-element Vector{Float64}:\n",
       " 1.1902678809862768\n",
       " 2.04817970778924\n",
       " 1.142650902867199"
      ]
     },
     "execution_count": 12,
     "metadata": {},
     "output_type": "execute_result"
    }
   ],
   "source": [
    "using Distributions, Random\n",
    "\n",
    "Random.seed!(123)\n",
    "\n",
    "rand(Normal(0, 1), 3)"
   ]
  },
  {
   "cell_type": "markdown",
   "id": "db16b8ee",
   "metadata": {
    "pycharm": {
     "name": "#%% md\n"
    }
   },
   "source": [
    "### 数值类型的提升"
   ]
  },
  {
   "cell_type": "markdown",
   "id": "192ffaa6",
   "metadata": {
    "pycharm": {
     "name": "#%% md\n"
    }
   },
   "source": [
    "`+(x::Float64, y::Float64) = add_float(x, y)`\n",
    "数值类型的提升\n",
    "\n",
    "`+((promote(x, y)...)`\n",
    "promote把x, y提升的相同类型, 生成一个元祖, ...进行元组解包"
   ]
  },
  {
   "cell_type": "code",
   "execution_count": 13,
   "id": "00bcc7ef",
   "metadata": {
    "pycharm": {
     "name": "#%%\n"
    }
   },
   "outputs": [
    {
     "data": {
      "text/plain": [
       "10.0"
      ]
     },
     "execution_count": 13,
     "metadata": {},
     "output_type": "execute_result"
    }
   ],
   "source": [
    "+(promote(1, 2.0, 3.0, 4.0)...)"
   ]
  },
  {
   "cell_type": "markdown",
   "id": "baa51853",
   "metadata": {
    "pycharm": {
     "name": "#%% md\n"
    }
   },
   "source": [
    "## 运算符\n",
    "\n",
    "+ 算术运算\n",
    "+ 位运算（操作二进制序列）\n",
    "    - `~`取反\n",
    "    - `&`与\n",
    "    - `|`或\n",
    "+ 更新运算符\n",
    "    - `+=`\n",
    "    - `-=`\n",
    "    - `*=`\n",
    "    - `/=`\n",
    "+ 比较运算符(数值大小之间的对比，不会比较类型是不是相同)\n",
    "    - `==`, 数值相等\n",
    "    - `===`， 值与类型完全相同\n",
    "    - `!=`\n",
    "    - `>, >=, <=, <`\n",
    "+ 逻辑运算符\n",
    "    - `&&`与此同时\n",
    "    - `||`或者\n",
    "    - `!`不满足"
   ]
  },
  {
   "cell_type": "code",
   "execution_count": 14,
   "id": "9308ec1b",
   "metadata": {
    "pycharm": {
     "name": "#%%\n"
    }
   },
   "outputs": [
    {
     "data": {
      "text/plain": [
       "false"
      ]
     },
     "execution_count": 14,
     "metadata": {},
     "output_type": "execute_result"
    }
   ],
   "source": [
    "a = true\n",
    "~a"
   ]
  },
  {
   "cell_type": "code",
   "execution_count": 15,
   "id": "eb8352ff",
   "metadata": {
    "pycharm": {
     "name": "#%%\n"
    }
   },
   "outputs": [
    {
     "data": {
      "text/plain": [
       "8"
      ]
     },
     "execution_count": 15,
     "metadata": {},
     "output_type": "execute_result"
    }
   ],
   "source": [
    "num1 = Int32(8)\n",
    "num2 = Int64(8)"
   ]
  },
  {
   "cell_type": "code",
   "execution_count": 16,
   "id": "31c6b3bf",
   "metadata": {
    "pycharm": {
     "name": "#%%\n"
    }
   },
   "outputs": [
    {
     "data": {
      "text/plain": [
       "true"
      ]
     },
     "execution_count": 16,
     "metadata": {},
     "output_type": "execute_result"
    }
   ],
   "source": [
    "num1 == num2\n",
    "\n",
    "num1 === num2\n",
    "\n",
    "isequal(num1, num2) # isequal 和==差不多，但是又略有不同, 更为严格"
   ]
  },
  {
   "cell_type": "code",
   "execution_count": 17,
   "id": "21b10dbf",
   "metadata": {
    "pycharm": {
     "name": "#%%\n"
    }
   },
   "outputs": [
    {
     "data": {
      "text/plain": [
       "true"
      ]
     },
     "execution_count": 17,
     "metadata": {},
     "output_type": "execute_result"
    }
   ],
   "source": [
    "float1 = Float64(8.0)\n",
    "\n",
    "num1 == float1"
   ]
  },
  {
   "cell_type": "code",
   "execution_count": 18,
   "id": "a920d046",
   "metadata": {
    "pycharm": {
     "name": "#%%\n"
    }
   },
   "outputs": [
    {
     "data": {
      "text/plain": [
       "true"
      ]
     },
     "execution_count": 18,
     "metadata": {},
     "output_type": "execute_result"
    }
   ],
   "source": [
    "a = Int64(8)\n",
    "b = Int64(8)\n",
    "a === b"
   ]
  },
  {
   "cell_type": "markdown",
   "id": "e56bb404",
   "metadata": {
    "pycharm": {
     "name": "#%% md\n"
    }
   },
   "source": [
    "位运算符与逻辑运算符好像，他俩有啥区别呢？"
   ]
  },
  {
   "cell_type": "code",
   "execution_count": 19,
   "id": "6fdda1f5",
   "metadata": {
    "pycharm": {
     "name": "#%%\n"
    }
   },
   "outputs": [
    {
     "data": {
      "text/plain": [
       "false"
      ]
     },
     "execution_count": 19,
     "metadata": {},
     "output_type": "execute_result"
    }
   ],
   "source": [
    "true & false\n",
    "\n",
    "true && false"
   ]
  },
  {
   "cell_type": "code",
   "execution_count": 20,
   "id": "48f0b4c5",
   "metadata": {
    "pycharm": {
     "name": "#%%\n"
    }
   },
   "outputs": [
    {
     "data": {
      "text/plain": [
       "Tuple{Int64, Int64, Int64}"
      ]
     },
     "execution_count": 20,
     "metadata": {},
     "output_type": "execute_result"
    }
   ],
   "source": [
    "# 类型提升指的是将属于不同类型的数值提升到同一类型（最高的那个）\n",
    "a = promote(Int8(8), Int32(8), Int64(8))\n",
    "typeof(a)"
   ]
  },
  {
   "cell_type": "markdown",
   "id": "caa5260a",
   "metadata": {
    "pycharm": {
     "name": "#%% md\n"
    }
   },
   "source": [
    "`::`用于\n",
    "+ 类型推断\n",
    "+ 类型标注, 只可用于局部作用域中(julia暂时无法为全局变量添加类型标注)\n",
    "    - 无法为全局变量进行类型标注"
   ]
  },
  {
   "cell_type": "code",
   "execution_count": 21,
   "id": "746b6c6d",
   "metadata": {
    "pycharm": {
     "name": "#%%\n"
    }
   },
   "outputs": [
    {
     "data": {
      "text/plain": [
       "8"
      ]
     },
     "execution_count": 21,
     "metadata": {},
     "output_type": "execute_result"
    }
   ],
   "source": [
    "# 类型推断\n",
    "δ = Int32(8)"
   ]
  },
  {
   "cell_type": "code",
   "execution_count": 22,
   "id": "8d911361",
   "metadata": {
    "pycharm": {
     "name": "#%%\n"
    }
   },
   "outputs": [
    {
     "ename": "LoadError",
     "evalue": "TypeError: in typeassert, expected Int64, got a value of type Int32",
     "output_type": "error",
     "traceback": [
      "TypeError: in typeassert, expected Int64, got a value of type Int32",
      "",
      "Stacktrace:",
      " [1] top-level scope",
      "   @ In[22]:2",
      " [2] eval",
      "   @ .\\boot.jl:360 [inlined]",
      " [3] include_string(mapexpr::typeof(REPL.softscope), mod::Module, code::String, filename::String)",
      "   @ Base .\\loading.jl:1116"
     ]
    }
   ],
   "source": [
    "# Int is abbr. of Int64\n",
    "δ::Int"
   ]
  },
  {
   "cell_type": "code",
   "execution_count": 23,
   "id": "7ce6ca71",
   "metadata": {
    "pycharm": {
     "name": "#%%\n"
    }
   },
   "outputs": [
    {
     "data": {
      "text/plain": [
       "false"
      ]
     },
     "execution_count": 23,
     "metadata": {},
     "output_type": "execute_result"
    }
   ],
   "source": [
    "# 类型推断\n",
    "isa(δ, Int)"
   ]
  },
  {
   "cell_type": "code",
   "execution_count": 24,
   "id": "3c0476eb",
   "metadata": {
    "pycharm": {
     "name": "#%%\n"
    }
   },
   "outputs": [
    {
     "data": {
      "text/html": [
       "get_number(x::<b>Int64</b>) in Main at In[24]:2"
      ],
      "text/plain": [
       "get_number(x::Int64) in Main at In[24]:2"
      ]
     },
     "execution_count": 24,
     "metadata": {},
     "output_type": "execute_result"
    }
   ],
   "source": [
    "# 类型标注\n",
    "function get_number(x::Int64)\n",
    "   y::UInt64 = x\n",
    "    return(y)\n",
    "end\n",
    "@which get_number(32)"
   ]
  },
  {
   "cell_type": "code",
   "execution_count": 1,
   "id": "17810d93",
   "metadata": {
    "pycharm": {
     "name": "#%%\n"
    }
   },
   "outputs": [
    {
     "data": {
      "text/latex": [
       "\\begin{verbatim}\n",
       "@which\n",
       "\\end{verbatim}\n",
       "Applied to a function or macro call, it evaluates the arguments to the specified call, and returns the \\texttt{Method} object for the method that would be called for those arguments. Applied to a variable, it returns the module in which the variable was bound. It calls out to the \\href{@ref}{\\texttt{which}} function.\n",
       "\n",
       "See also: \\href{@ref}{\\texttt{@less}}, \\href{@ref}{\\texttt{@edit}}.\n",
       "\n"
      ],
      "text/markdown": [
       "```\n",
       "@which\n",
       "```\n",
       "\n",
       "Applied to a function or macro call, it evaluates the arguments to the specified call, and returns the `Method` object for the method that would be called for those arguments. Applied to a variable, it returns the module in which the variable was bound. It calls out to the [`which`](@ref) function.\n",
       "\n",
       "See also: [`@less`](@ref), [`@edit`](@ref).\n"
      ],
      "text/plain": [
       "  \u001B[96m@\u001B[0m\u001B[96mwhich\u001B[0m\u001B[39m\u001B[0m\n",
       "\n",
       "\n",
       "  Applied to a function or macro call, it evaluates the arguments to the\n",
       "  specified call, and returns the \u001B[36mMethod\u001B[39m object for the method that would be\n",
       "  called for those arguments. Applied to a variable, it returns the module in\n",
       "  which the variable was bound. It calls out to the \u001B[36mwhich\u001B[39m function.\n",
       "\n",
       "  See also: \u001B[36m@less\u001B[39m, \u001B[36m@edit\u001B[39m."
      ]
     },
     "execution_count": 1,
     "metadata": {},
     "output_type": "execute_result"
    }
   ],
   "source": [
    "?@which"
   ]
  },
  {
   "cell_type": "code",
   "execution_count": 2,
   "id": "ca6abdb1",
   "metadata": {
    "pycharm": {
     "name": "#%%\n"
    }
   },
   "outputs": [
    {
     "name": "stdout",
     "output_type": "stream",
     "text": [
      "search: \u001B[0m\u001B[1mu\u001B[22m\u001B[0m\u001B[1ms\u001B[22m\u001B[0m\u001B[1mi\u001B[22m\u001B[0m\u001B[1mn\u001B[22m\u001B[0m\u001B[1mg\u001B[22m S\u001B[0m\u001B[1mu\u001B[22mb\u001B[0m\u001B[1mS\u001B[22mtr\u001B[0m\u001B[1mi\u001B[22m\u001B[0m\u001B[1mn\u001B[22m\u001B[0m\u001B[1mg\u001B[22m incl\u001B[0m\u001B[1mu\u001B[22mde_\u001B[0m\u001B[1ms\u001B[22mtr\u001B[0m\u001B[1mi\u001B[22m\u001B[0m\u001B[1mn\u001B[22m\u001B[0m\u001B[1mg\u001B[22m \u001B[0m\u001B[1mu\u001B[22mn\u001B[0m\u001B[1ms\u001B[22mafe_str\u001B[0m\u001B[1mi\u001B[22m\u001B[0m\u001B[1mn\u001B[22m\u001B[0m\u001B[1mg\u001B[22m \u001B[0m\u001B[1mu\u001B[22mne\u001B[0m\u001B[1ms\u001B[22mcape_str\u001B[0m\u001B[1mi\u001B[22m\u001B[0m\u001B[1mn\u001B[22m\u001B[0m\u001B[1mg\u001B[22m\n",
      "\n"
     ]
    },
    {
     "data": {
      "text/latex": [
       "\\begin{verbatim}\n",
       "using\n",
       "\\end{verbatim}\n",
       "\\texttt{using Foo} will load the module or package \\texttt{Foo} and make its \\href{@ref}{\\texttt{export}}ed names available for direct use. Names can also be used via dot syntax (e.g. \\texttt{Foo.foo} to access the name \\texttt{foo}), whether they are \\texttt{export}ed or not. See the \\href{@ref modules}{manual section about modules} for details.\n",
       "\n"
      ],
      "text/markdown": [
       "```\n",
       "using\n",
       "```\n",
       "\n",
       "`using Foo` will load the module or package `Foo` and make its [`export`](@ref)ed names available for direct use. Names can also be used via dot syntax (e.g. `Foo.foo` to access the name `foo`), whether they are `export`ed or not. See the [manual section about modules](@ref modules) for details.\n"
      ],
      "text/plain": [
       "  \u001B[91musing\u001B[0m\u001B[39m\u001B[0m\n",
       "\n",
       "\n",
       "  \u001B[36musing Foo\u001B[39m will load the module or package \u001B[36mFoo\u001B[39m and make its \u001B[36mexport\u001B[39med names\n",
       "  available for direct use. Names can also be used via dot syntax (e.g.\n",
       "  \u001B[36mFoo.foo\u001B[39m to access the name \u001B[36mfoo\u001B[39m), whether they are \u001B[36mexport\u001B[39med or not. See the\n",
       "  manual section about modules for details."
      ]
     },
     "execution_count": 2,
     "metadata": {},
     "output_type": "execute_result"
    }
   ],
   "source": [
    "?using"
   ]
  },
  {
   "cell_type": "code",
   "execution_count": 3,
   "id": "0cf15559",
   "metadata": {
    "pycharm": {
     "name": "#%%\n"
    }
   },
   "outputs": [
    {
     "name": "stdout",
     "output_type": "stream",
     "text": [
      "search: \u001B[0m\u001B[1mi\u001B[22m\u001B[0m\u001B[1mm\u001B[22m\u001B[0m\u001B[1mp\u001B[22m\u001B[0m\u001B[1mo\u001B[22m\u001B[0m\u001B[1mr\u001B[22m\u001B[0m\u001B[1mt\u001B[22m\n",
      "\n"
     ]
    },
    {
     "data": {
      "text/latex": [
       "\\begin{verbatim}\n",
       "import\n",
       "\\end{verbatim}\n",
       "\\texttt{import Foo} will load the module or package \\texttt{Foo}. Names from the imported \\texttt{Foo} module can be accessed with dot syntax (e.g. \\texttt{Foo.foo} to access the name \\texttt{foo}). See the \\href{@ref modules}{manual section about modules} for details.\n",
       "\n"
      ],
      "text/markdown": [
       "```\n",
       "import\n",
       "```\n",
       "\n",
       "`import Foo` will load the module or package `Foo`. Names from the imported `Foo` module can be accessed with dot syntax (e.g. `Foo.foo` to access the name `foo`). See the [manual section about modules](@ref modules) for details.\n"
      ],
      "text/plain": [
       "  \u001B[91mimport\u001B[0m\u001B[39m\u001B[0m\n",
       "\n",
       "\n",
       "  \u001B[36mimport Foo\u001B[39m will load the module or package \u001B[36mFoo\u001B[39m. Names from the imported \u001B[36mFoo\u001B[39m\n",
       "  module can be accessed with dot syntax (e.g. \u001B[36mFoo.foo\u001B[39m to access the name\n",
       "  \u001B[36mfoo\u001B[39m). See the manual section about modules for details."
      ]
     },
     "execution_count": 3,
     "metadata": {},
     "output_type": "execute_result"
    }
   ],
   "source": [
    "?import"
   ]
  }
 ],
 "metadata": {
  "kernelspec": {
   "display_name": "Julia 1.7.3",
   "language": "julia",
   "name": "julia-1.7"
  },
  "language_info": {
   "file_extension": ".jl",
   "mimetype": "application/julia",
   "name": "julia",
   "version": "1.7.3"
  },
  "latex_envs": {
   "LaTeX_envs_menu_present": true,
   "autoclose": false,
   "autocomplete": true,
   "bibliofile": "biblio.bib",
   "cite_by": "apalike",
   "current_citInitial": 1,
   "eqLabelWithNumbers": true,
   "eqNumInitial": 1,
   "hotkeys": {
    "equation": "Ctrl-E",
    "itemize": "Ctrl-I"
   },
   "labels_anchors": false,
   "latex_user_defs": false,
   "report_style_numbering": false,
   "user_envs_cfg": false
  },
  "toc": {
   "base_numbering": 1,
   "nav_menu": {},
   "number_sections": true,
   "sideBar": true,
   "skip_h1_title": false,
   "title_cell": "Table of Contents",
   "title_sidebar": "Contents",
   "toc_cell": false,
   "toc_position": {},
   "toc_section_display": true,
   "toc_window_display": false
  }
 },
 "nbformat": 4,
 "nbformat_minor": 5
}