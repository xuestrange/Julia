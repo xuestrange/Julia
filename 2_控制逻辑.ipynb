{
 "cells": [
  {
   "cell_type": "markdown",
   "id": "3d1b287c",
   "metadata": {
    "pycharm": {
     "name": "#%% md\n"
    }
   },
   "source": [
    "# 控制逻辑"
   ]
  },
  {
   "cell_type": "markdown",
   "id": "64dc0354",
   "metadata": {
    "pycharm": {
     "name": "#%% md\n"
    }
   },
   "source": [
    "## 判断逻辑"
   ]
  },
  {
   "cell_type": "code",
   "execution_count": null,
   "id": "23275c19",
   "metadata": {
    "pycharm": {
     "name": "#%%\n",
     "is_executing": true
    }
   },
   "outputs": [],
   "source": [
    "using JupyterFormatter\n",
    "enable_autoformat()"
   ]
  },
  {
   "cell_type": "code",
   "execution_count": 18,
   "id": "9ba7e7bb",
   "metadata": {
    "pycharm": {
     "name": "#%%\n"
    }
   },
   "outputs": [
    {
     "name": "stdout",
     "output_type": "stream",
     "text": [
      "true"
     ]
    }
   ],
   "source": [
    "if 3 > 0 || 2 > 0 && !(0 > 3)\n",
    "    print(\"true\")\n",
    "elseif 0 == 0\n",
    "    print(\"0 == 0\")\n",
    "else\n",
    "    print(\"else\")\n",
    "end"
   ]
  },
  {
   "cell_type": "code",
   "execution_count": 19,
   "id": "c9f705d0",
   "metadata": {
    "pycharm": {
     "name": "#%%\n"
    }
   },
   "outputs": [
    {
     "data": {
      "text/plain": [
       "3"
      ]
     },
     "execution_count": 19,
     "metadata": {},
     "output_type": "execute_result"
    }
   ],
   "source": [
    "# 三元运算符\n",
    "3 > 0 ? 3 : 0"
   ]
  },
  {
   "cell_type": "code",
   "execution_count": 20,
   "id": "5c6f4167",
   "metadata": {
    "pycharm": {
     "name": "#%%\n"
    }
   },
   "outputs": [
    {
     "name": "stdout",
     "output_type": "stream",
     "text": [
      "true"
     ]
    }
   ],
   "source": [
    "0.0 == -0.0 ? print(\"true\") : print(\"false\")"
   ]
  },
  {
   "cell_type": "code",
   "execution_count": 21,
   "id": "9cb2a32e",
   "metadata": {
    "pycharm": {
     "name": "#%%\n"
    }
   },
   "outputs": [
    {
     "data": {
      "text/plain": [
       "f (generic function with 1 method)"
      ]
     },
     "execution_count": 21,
     "metadata": {},
     "output_type": "execute_result"
    }
   ],
   "source": [
    "f(x) = x > 0 ? x : 0"
   ]
  },
  {
   "cell_type": "code",
   "execution_count": 22,
   "id": "0bbddb97",
   "metadata": {
    "pycharm": {
     "name": "#%%\n"
    }
   },
   "outputs": [
    {
     "data": {
      "text/plain": [
       "0"
      ]
     },
     "execution_count": 22,
     "metadata": {},
     "output_type": "execute_result"
    }
   ],
   "source": [
    "f(-1)"
   ]
  },
  {
   "cell_type": "code",
   "execution_count": 23,
   "id": "2ae17992",
   "metadata": {
    "pycharm": {
     "name": "#%%\n"
    }
   },
   "outputs": [
    {
     "data": {
      "text/plain": [
       "10"
      ]
     },
     "execution_count": 23,
     "metadata": {},
     "output_type": "execute_result"
    }
   ],
   "source": [
    "f(10)"
   ]
  },
  {
   "cell_type": "markdown",
   "id": "c37c036c",
   "metadata": {
    "pycharm": {
     "name": "#%% md\n"
    }
   },
   "source": [
    "## 循环逻辑"
   ]
  },
  {
   "cell_type": "markdown",
   "id": "9cb5b7b9",
   "metadata": {
    "pycharm": {
     "name": "#%% md\n"
    }
   },
   "source": [
    "### while "
   ]
  },
  {
   "cell_type": "code",
   "execution_count": 24,
   "id": "f3b536c1",
   "metadata": {
    "pycharm": {
     "name": "#%%\n"
    }
   },
   "outputs": [],
   "source": [
    "X = [1, 2, 3, 5, 6, 7, 9, 10, 12, 14, 18]\n",
    "s = 0\n",
    "while !isempty(X)\n",
    "    s += pop!(X)\n",
    "end"
   ]
  },
  {
   "cell_type": "code",
   "execution_count": 25,
   "id": "9cd22062",
   "metadata": {
    "pycharm": {
     "name": "#%%\n"
    }
   },
   "outputs": [
    {
     "data": {
      "text/plain": [
       "87"
      ]
     },
     "execution_count": 25,
     "metadata": {},
     "output_type": "execute_result"
    }
   ],
   "source": [
    "s"
   ]
  },
  {
   "cell_type": "code",
   "execution_count": 26,
   "id": "d2d14e89",
   "metadata": {
    "pycharm": {
     "name": "#%%\n"
    }
   },
   "outputs": [
    {
     "name": "stdout",
     "output_type": "stream",
     "text": [
      "7\n",
      "8\n",
      "9\n",
      "10\n"
     ]
    }
   ],
   "source": [
    "let i = 1\n",
    "    while i < 10\n",
    "        i += 1\n",
    "        if i > 6\n",
    "            println(i)\n",
    "        end\n",
    "    end\n",
    "end"
   ]
  },
  {
   "cell_type": "code",
   "execution_count": 27,
   "id": "1344aa48",
   "metadata": {
    "pycharm": {
     "name": "#%%\n"
    }
   },
   "outputs": [
    {
     "name": "stdout",
     "output_type": "stream",
     "text": [
      "1\n",
      "2\n",
      "3\n",
      "4\n",
      "5\n",
      "6\n"
     ]
    }
   ],
   "source": [
    "# break\n",
    "let i = 1\n",
    "    while i < 10\n",
    "        if i > 6\n",
    "            break\n",
    "        end\n",
    "        println(i)\n",
    "        i += 1\n",
    "    end\n",
    "end"
   ]
  },
  {
   "cell_type": "code",
   "execution_count": null,
   "id": "44a88796",
   "metadata": {
    "pycharm": {
     "name": "#%%\n"
    }
   },
   "outputs": [],
   "source": [
    "for j = 1:5\n",
    "    println(\"\\nloop \", j)\n",
    "    for i = 1:10\n",
    "        if i % 3 != 0\n",
    "            continue\n",
    "        end\n",
    "        print(i, \" \")\n",
    "    end\n",
    "end"
   ]
  },
  {
   "cell_type": "markdown",
   "id": "766c1349",
   "metadata": {
    "pycharm": {
     "name": "#%% md\n"
    }
   },
   "source": [
    "### for-loop "
   ]
  },
  {
   "cell_type": "code",
   "execution_count": 1,
   "id": "c8dde2e1",
   "metadata": {
    "pycharm": {
     "name": "#%%\n"
    }
   },
   "outputs": [
    {
     "name": "stdout",
     "output_type": "stream",
     "text": [
      "6"
     ]
    }
   ],
   "source": [
    "let s = 0, X = [1, 2, 3]\n",
    "    for y in X\n",
    "        s += y\n",
    "    end\n",
    "    print(s)\n",
    "end"
   ]
  },
  {
   "cell_type": "code",
   "execution_count": 2,
   "id": "1b40a421",
   "metadata": {
    "pycharm": {
     "name": "#%%\n"
    }
   },
   "outputs": [
    {
     "name": "stdout",
     "output_type": "stream",
     "text": [
      "10.0"
     ]
    }
   ],
   "source": [
    "let s = zero(Float64), X = Float64[1, 2, 3, 4]\n",
    "    for i = 1:length(X)\n",
    "        s += X[i]\n",
    "    end\n",
    "    print(s)\n",
    "end"
   ]
  },
  {
   "cell_type": "code",
   "execution_count": 3,
   "id": "72f97ae4",
   "metadata": {
    "pycharm": {
     "name": "#%%\n"
    }
   },
   "outputs": [
    {
     "name": "stdout",
     "output_type": "stream",
     "text": [
      "10.0"
     ]
    }
   ],
   "source": [
    "let X = Float64[1, 2, 3, 4], s = zero(eltype(X))\n",
    "    for i ∈ X\n",
    "        s += i\n",
    "    end\n",
    "    print(s)\n",
    "end"
   ]
  },
  {
   "cell_type": "code",
   "execution_count": 7,
   "id": "f71695bc",
   "metadata": {
    "pycharm": {
     "name": "#%%\n"
    }
   },
   "outputs": [
    {
     "name": "stdout",
     "output_type": "stream",
     "text": [
      "1 -1\n",
      "1 0\n",
      "1 1\n",
      "2 -1\n",
      "2 0\n",
      "2 1\n",
      "3 -1\n",
      "3 0\n",
      "3 1\n",
      "4 -1\n",
      "4 0\n",
      "4 1\n"
     ]
    }
   ],
   "source": [
    "let a = 1:4, b = -1:1\n",
    "   for ai ∈ a, bi ∈ b\n",
    "       println(\"$ai $bi\") \n",
    "    end\n",
    "end"
   ]
  },
  {
   "cell_type": "code",
   "execution_count": 8,
   "id": "772f3422",
   "metadata": {
    "pycharm": {
     "name": "#%%\n"
    }
   },
   "outputs": [
    {
     "name": "stdout",
     "output_type": "stream",
     "text": [
      "1 -1\n",
      "1 0\n",
      "1 1\n",
      "2 -1\n",
      "2 0\n",
      "2 1\n",
      "3 -1\n",
      "3 0\n",
      "3 1\n",
      "4 -1\n",
      "4 0\n",
      "4 1\n"
     ]
    }
   ],
   "source": [
    "let a = 1:4, b = -1:1\n",
    "   for ai ∈ a\n",
    "        for bi ∈ b\n",
    "             println(\"$ai $bi\") \n",
    "    end\n",
    "    end\n",
    "end"
   ]
  },
  {
   "cell_type": "markdown",
   "id": "71226d41",
   "metadata": {
    "pycharm": {
     "name": "#%% md\n"
    }
   },
   "source": [
    "## 异常处理"
   ]
  },
  {
   "cell_type": "markdown",
   "id": "cc5314fd",
   "metadata": {
    "pycharm": {
     "name": "#%% md\n"
    }
   },
   "source": [
    "### 异常"
   ]
  },
  {
   "cell_type": "code",
   "execution_count": 32,
   "id": "5a36d666",
   "metadata": {
    "pycharm": {
     "name": "#%%\n"
    }
   },
   "outputs": [
    {
     "data": {
      "text/plain": [
       "f (generic function with 1 method)"
      ]
     },
     "execution_count": 32,
     "metadata": {},
     "output_type": "execute_result"
    }
   ],
   "source": [
    "f(x) = x > 0 ? sqrt(x) : throw(DomainError(\"x < 0\"))"
   ]
  },
  {
   "cell_type": "code",
   "execution_count": 33,
   "id": "e940ad81",
   "metadata": {
    "pycharm": {
     "name": "#%%\n"
    }
   },
   "outputs": [
    {
     "ename": "LoadError",
     "evalue": "DomainError with x < 0:\n",
     "output_type": "error",
     "traceback": [
      "DomainError with x < 0:\n",
      "",
      "Stacktrace:",
      " [1] f(x::Int64)",
      "   @ Main .\\In[32]:1",
      " [2] top-level scope",
      "   @ In[33]:1",
      " [3] eval",
      "   @ .\\boot.jl:360 [inlined]",
      " [4] include_string(mapexpr::typeof(REPL.softscope), mod::Module, code::String, filename::String)",
      "   @ Base .\\loading.jl:1094"
     ]
    }
   ],
   "source": [
    "f(-1)"
   ]
  },
  {
   "cell_type": "code",
   "execution_count": 34,
   "id": "fd1a911f",
   "metadata": {
    "pycharm": {
     "name": "#%%\n"
    }
   },
   "outputs": [
    {
     "data": {
      "text/plain": [
       "f (generic function with 1 method)"
      ]
     },
     "execution_count": 34,
     "metadata": {},
     "output_type": "execute_result"
    }
   ],
   "source": [
    "f(x) = x > 0 ? sqrt(x) : @error \"negative x is not allowed\""
   ]
  },
  {
   "cell_type": "code",
   "execution_count": 35,
   "id": "706cf5ac",
   "metadata": {
    "pycharm": {
     "name": "#%%\n"
    }
   },
   "outputs": [
    {
     "name": "stderr",
     "output_type": "stream",
     "text": [
      "┌ Error: negative x is not allowed\n",
      "└ @ Main In[34]:1\n"
     ]
    }
   ],
   "source": [
    "f(-1)"
   ]
  },
  {
   "cell_type": "code",
   "execution_count": 36,
   "id": "2163ac88",
   "metadata": {
    "pycharm": {
     "name": "#%%\n"
    }
   },
   "outputs": [
    {
     "data": {
      "text/plain": [
       "1.0"
      ]
     },
     "execution_count": 36,
     "metadata": {},
     "output_type": "execute_result"
    }
   ],
   "source": [
    "f(1)"
   ]
  },
  {
   "cell_type": "code",
   "execution_count": 37,
   "id": "d867955e",
   "metadata": {
    "pycharm": {
     "name": "#%%\n"
    }
   },
   "outputs": [
    {
     "data": {
      "text/plain": [
       "f (generic function with 1 method)"
      ]
     },
     "execution_count": 37,
     "metadata": {},
     "output_type": "execute_result"
    }
   ],
   "source": [
    "f(x) = x > 0 ? sqrt(x) : @warn \"some warn messages\""
   ]
  },
  {
   "cell_type": "code",
   "execution_count": 38,
   "id": "b54af0da",
   "metadata": {
    "pycharm": {
     "name": "#%%\n"
    }
   },
   "outputs": [
    {
     "name": "stderr",
     "output_type": "stream",
     "text": [
      "┌ Warning: some warn messages\n",
      "└ @ Main In[37]:1\n"
     ]
    }
   ],
   "source": [
    "f(-1)"
   ]
  },
  {
   "cell_type": "code",
   "execution_count": 39,
   "id": "fe27495f",
   "metadata": {
    "pycharm": {
     "name": "#%%\n"
    }
   },
   "outputs": [
    {
     "data": {
      "text/plain": [
       "f (generic function with 1 method)"
      ]
     },
     "execution_count": 39,
     "metadata": {},
     "output_type": "execute_result"
    }
   ],
   "source": [
    "f(x) = x > 0 ? sqrt(x) : @info \"some information\""
   ]
  },
  {
   "cell_type": "code",
   "execution_count": 40,
   "id": "7f2816b2",
   "metadata": {
    "pycharm": {
     "name": "#%%\n"
    }
   },
   "outputs": [
    {
     "name": "stderr",
     "output_type": "stream",
     "text": [
      "┌ Info: some information\n",
      "└ @ Main In[39]:1\n"
     ]
    }
   ],
   "source": [
    "f(-1)"
   ]
  },
  {
   "cell_type": "code",
   "execution_count": 44,
   "id": "947b95c3",
   "metadata": {
    "pycharm": {
     "name": "#%%\n"
    }
   },
   "outputs": [],
   "source": [
    "using InteractiveUtils"
   ]
  },
  {
   "cell_type": "code",
   "execution_count": 45,
   "id": "3379c02b",
   "metadata": {
    "pycharm": {
     "name": "#%%\n"
    }
   },
   "outputs": [
    {
     "data": {
      "text/plain": [
       "65-element Vector{Any}:\n",
       " ArgumentError\n",
       " AssertionError\n",
       " Base.CodePointError\n",
       " Base.IOError\n",
       " Base.InvalidCharError\n",
       " Base.Meta.ParseError\n",
       " Base.PrecompilableError\n",
       " Base.SimdLoop.SimdError\n",
       " Base.TOML.ParserError\n",
       " BoundsError\n",
       " CSTParser.CSTInfiniteLoop\n",
       " CapturedException\n",
       " CompositeException\n",
       " ⋮\n",
       " SuiteSparse.CHOLMOD.CHOLMODException\n",
       " SuiteSparse.UMFPACK.MatrixIllConditionedException\n",
       " SystemError\n",
       " TaskFailedException\n",
       " Test.FallbackTestSetException\n",
       " Test.TestSetException\n",
       " TypeError\n",
       " URIs.ParseError\n",
       " UndefKeywordError\n",
       " UndefRefError\n",
       " UndefVarError\n",
       " ZMQ.StateError"
      ]
     },
     "execution_count": 45,
     "metadata": {},
     "output_type": "execute_result"
    }
   ],
   "source": [
    "subtypes(Exception)"
   ]
  },
  {
   "cell_type": "code",
   "execution_count": 47,
   "id": "799a89ca",
   "metadata": {
    "pycharm": {
     "name": "#%%\n"
    }
   },
   "outputs": [
    {
     "data": {
      "text/plain": [
       "Exception"
      ]
     },
     "execution_count": 47,
     "metadata": {},
     "output_type": "execute_result"
    }
   ],
   "source": [
    "supertype(DomainError)"
   ]
  },
  {
   "cell_type": "markdown",
   "id": "863f63de",
   "metadata": {
    "pycharm": {
     "name": "#%% md\n"
    }
   },
   "source": [
    "### 异常捕捉和处理 "
   ]
  },
  {
   "cell_type": "code",
   "execution_count": null,
   "id": "c94b2c51",
   "metadata": {
    "pycharm": {
     "name": "#%%\n"
    }
   },
   "outputs": [],
   "source": [
    "except_test(x) =\n",
    "    try\n",
    "        if 1 == x\n",
    "            log(-10)\n",
    "        else\n",
    "            x[2]\n",
    "        end\n",
    "    catch error\n",
    "        if isa(error, DomainError)\n",
    "            println(\"Catched DomainError\")\n",
    "        elseif isa(error, BoundsError)\n",
    "            println(\"Catched BoundsError\")\n",
    "        end\n",
    "    end"
   ]
  },
  {
   "cell_type": "code",
   "execution_count": 42,
   "id": "90326ac3",
   "metadata": {
    "pycharm": {
     "name": "#%%\n"
    }
   },
   "outputs": [
    {
     "name": "stdout",
     "output_type": "stream",
     "text": [
      "Catched DomainError\n"
     ]
    }
   ],
   "source": [
    "except_test(1)"
   ]
  },
  {
   "cell_type": "code",
   "execution_count": 43,
   "id": "55627393",
   "metadata": {
    "pycharm": {
     "name": "#%%\n"
    }
   },
   "outputs": [
    {
     "name": "stdout",
     "output_type": "stream",
     "text": [
      "Catched BoundsError\n"
     ]
    }
   ],
   "source": [
    "except_test(2)"
   ]
  }
 ],
 "metadata": {
  "kernelspec": {
   "display_name": "Julia 1.7.3",
   "language": "julia",
   "name": "julia-1.7"
  },
  "language_info": {
   "file_extension": ".jl",
   "mimetype": "application/julia",
   "name": "julia",
   "version": "1.7.3"
  },
  "latex_envs": {
   "LaTeX_envs_menu_present": true,
   "autoclose": false,
   "autocomplete": true,
   "bibliofile": "biblio.bib",
   "cite_by": "apalike",
   "current_citInitial": 1,
   "eqLabelWithNumbers": true,
   "eqNumInitial": 1,
   "hotkeys": {
    "equation": "Ctrl-E",
    "itemize": "Ctrl-I"
   },
   "labels_anchors": false,
   "latex_user_defs": false,
   "report_style_numbering": false,
   "user_envs_cfg": false
  },
  "toc": {
   "base_numbering": 1,
   "nav_menu": {},
   "number_sections": true,
   "sideBar": true,
   "skip_h1_title": false,
   "title_cell": "Table of Contents",
   "title_sidebar": "Contents",
   "toc_cell": false,
   "toc_position": {
    "height": "calc(100% - 180px)",
    "left": "10px",
    "top": "150px",
    "width": "213.325px"
   },
   "toc_section_display": true,
   "toc_window_display": true
  }
 },
 "nbformat": 4,
 "nbformat_minor": 5
}