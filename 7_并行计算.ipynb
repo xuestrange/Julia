{
 "cells": [
  {
   "cell_type": "markdown",
   "id": "c1b7c13e",
   "metadata": {},
   "source": [
    "# 并行计算"
   ]
  },
  {
   "cell_type": "code",
   "execution_count": 4,
   "id": "b741b1cc",
   "metadata": {},
   "outputs": [],
   "source": [
    "using Distributed"
   ]
  },
  {
   "cell_type": "markdown",
   "id": "c492d067",
   "metadata": {},
   "source": [
    "异步适用于IO密集型任务，不适用于CPU密集型任务，一般用不上\n",
    "协程不能调用CPU的多核资源，因为这些协程实际上共享同一个系统线程\n",
    "异步还是没有搞明白 :sad:"
   ]
  },
  {
   "cell_type": "markdown",
   "id": "161481d8",
   "metadata": {},
   "source": [
    "# 多进程"
   ]
  },
  {
   "cell_type": "markdown",
   "id": "623f053b",
   "metadata": {},
   "source": [
    "消息传递接口（Message Passing Interface， MPI）"
   ]
  },
  {
   "cell_type": "code",
   "execution_count": 55,
   "id": "df7c0bde",
   "metadata": {},
   "outputs": [
    {
     "data": {
      "text/plain": [
       "4"
      ]
     },
     "execution_count": 55,
     "metadata": {},
     "output_type": "execute_result"
    }
   ],
   "source": [
    "nprocs()"
   ]
  },
  {
   "cell_type": "code",
   "execution_count": 6,
   "id": "c0c56fdd",
   "metadata": {},
   "outputs": [
    {
     "data": {
      "text/plain": [
       "3-element Vector{Int64}:\n",
       " 2\n",
       " 3\n",
       " 4"
      ]
     },
     "execution_count": 6,
     "metadata": {},
     "output_type": "execute_result"
    }
   ],
   "source": [
    "addprocs(3)"
   ]
  },
  {
   "cell_type": "code",
   "execution_count": 7,
   "id": "d8790626",
   "metadata": {},
   "outputs": [
    {
     "data": {
      "text/plain": [
       "4"
      ]
     },
     "execution_count": 7,
     "metadata": {},
     "output_type": "execute_result"
    }
   ],
   "source": [
    "nprocs()"
   ]
  },
  {
   "cell_type": "markdown",
   "id": "8c8fe169",
   "metadata": {},
   "source": [
    "+ 远程调用 remote reference\n",
    "+ 远程引用 remote calls"
   ]
  },
  {
   "cell_type": "code",
   "execution_count": 8,
   "id": "8dc8d403",
   "metadata": {},
   "outputs": [],
   "source": [
    "# 远程调用：\n",
    "# 通过本地进程在远程Worker中启动某一处理过程\n",
    "\n",
    "using Distributed"
   ]
  },
  {
   "cell_type": "code",
   "execution_count": 9,
   "id": "0dc8032b",
   "metadata": {},
   "outputs": [
    {
     "data": {
      "text/plain": [
       "Future(2, 1, 5, nothing)"
      ]
     },
     "execution_count": 9,
     "metadata": {},
     "output_type": "execute_result"
    }
   ],
   "source": [
    "# 当前进程PID = 1，在当前进程中调用PID = 2的进程，在这个2进程中生成随机数矩阵\n",
    "r = remotecall(rand, 2, 3, 3)"
   ]
  },
  {
   "cell_type": "code",
   "execution_count": 10,
   "id": "41dc9f11",
   "metadata": {},
   "outputs": [
    {
     "name": "stdout",
     "output_type": "stream",
     "text": [
      "Future\n",
      "  where: Int64 2\n",
      "  whence: Int64 1\n",
      "  id: Int64 5\n",
      "  v: Nothing nothing\n"
     ]
    }
   ],
   "source": [
    "# whence为本地进程，where 为被调用的进程, v为返回结果\n",
    "# remotecall只会建立本地进程，被调用进程和处理过程之间的关系，不会返回结果\n",
    "dump(r)"
   ]
  },
  {
   "cell_type": "code",
   "execution_count": 11,
   "id": "014a0d79",
   "metadata": {},
   "outputs": [
    {
     "data": {
      "text/plain": [
       "3×3 Matrix{Float64}:\n",
       " 0.383441  0.524586   0.6817\n",
       " 0.939697  0.753465   0.550684\n",
       " 0.551175  0.0886111  0.911647"
      ]
     },
     "execution_count": 11,
     "metadata": {},
     "output_type": "execute_result"
    }
   ],
   "source": [
    "# fetch第一次被执行，远程的计算结果就会被传输到本地进程中的Future对象中缓存起来，远程的数据则会被删除\n",
    "\n",
    "fetch(r)"
   ]
  },
  {
   "cell_type": "code",
   "execution_count": 12,
   "id": "b607f42b",
   "metadata": {},
   "outputs": [
    {
     "name": "stdout",
     "output_type": "stream",
     "text": [
      "Future\n",
      "  where: Int64 2\n",
      "  whence: Int64 1\n",
      "  id: Int64 5\n",
      "  v: Some{Any}\n",
      "    value: Array{Float64}((3, 3)) [0.383441000998924 0.5245862108081003 0.6816995555618623; 0.9396970852443103 0.7534649534013604 0.5506840844155196; 0.5511747090834356 0.08861108455656086 0.9116473321514136]\n"
     ]
    }
   ],
   "source": [
    "dump(r)"
   ]
  },
  {
   "cell_type": "code",
   "execution_count": 13,
   "id": "71ed74f2",
   "metadata": {},
   "outputs": [
    {
     "data": {
      "text/plain": [
       "3×3 Matrix{Float64}:\n",
       " 0.788435  0.701898  0.0194382\n",
       " 0.240865  0.824585  0.902491\n",
       " 0.204739  0.537878  0.570161"
      ]
     },
     "execution_count": 13,
     "metadata": {},
     "output_type": "execute_result"
    }
   ],
   "source": [
    "# 使用进程3生成3X3矩阵，并返回计算结果\n",
    "fetch(remotecall(rand, 3, 3, 3))"
   ]
  },
  {
   "cell_type": "markdown",
   "id": "9a2f5478",
   "metadata": {},
   "source": [
    "`spawn`在英文中有生产、造成的意思"
   ]
  },
  {
   "cell_type": "code",
   "execution_count": 14,
   "id": "4965961a",
   "metadata": {},
   "outputs": [
    {
     "data": {
      "text/plain": [
       "Future(4, 1, 9, nothing)"
      ]
     },
     "execution_count": 14,
     "metadata": {},
     "output_type": "execute_result"
    }
   ],
   "source": [
    "# 使用进程4生成4X4矩阵，不返回计算结果\n",
    "m1 = @spawnat 4 rand(4, 4)"
   ]
  },
  {
   "cell_type": "code",
   "execution_count": 15,
   "id": "f8ab30b7",
   "metadata": {},
   "outputs": [
    {
     "data": {
      "text/plain": [
       "Future(2, 1, 10, nothing)"
      ]
     },
     "execution_count": 15,
     "metadata": {},
     "output_type": "execute_result"
    }
   ],
   "source": [
    "# 系统自动选择一个进程生成4X4矩阵, 不返回计算结果\n",
    "m2 = @spawn rand(4, 4)"
   ]
  },
  {
   "cell_type": "code",
   "execution_count": 16,
   "id": "645ea22f",
   "metadata": {},
   "outputs": [
    {
     "data": {
      "text/plain": [
       "4×4 Matrix{Float64}:\n",
       " 0.428936  0.312901  0.742059  0.302812\n",
       " 0.915653  0.419801  0.926646  0.225822\n",
       " 0.487022  0.212901  0.650086  0.0653473\n",
       " 0.676529  0.822042  0.799576  0.646381"
      ]
     },
     "execution_count": 16,
     "metadata": {},
     "output_type": "execute_result"
    }
   ],
   "source": [
    "fetch(m1)"
   ]
  },
  {
   "cell_type": "code",
   "execution_count": 17,
   "id": "b6fb4210",
   "metadata": {},
   "outputs": [
    {
     "data": {
      "text/plain": [
       "4×4 Matrix{Float64}:\n",
       " 0.45018   0.064     0.361389  0.513537\n",
       " 0.225267  0.101173  0.304447  0.991288\n",
       " 0.152127  0.403045  0.758481  0.183584\n",
       " 0.903989  0.686444  0.13446   0.500997"
      ]
     },
     "execution_count": 17,
     "metadata": {},
     "output_type": "execute_result"
    }
   ],
   "source": [
    "fetch(m2)"
   ]
  },
  {
   "cell_type": "code",
   "execution_count": 18,
   "id": "e44e7bc4",
   "metadata": {},
   "outputs": [
    {
     "data": {
      "text/plain": [
       "3×3 Matrix{Float64}:\n",
       " 0.323678  0.162866  0.841077\n",
       " 0.360195  0.237249  0.722177\n",
       " 0.960139  0.486465  0.567638"
      ]
     },
     "execution_count": 18,
     "metadata": {},
     "output_type": "execute_result"
    }
   ],
   "source": [
    "# @fetch = fetch(@spawn function)\n",
    "# @fetchfrom  PID = fetch(@spawnat PID function)\n",
    "\n",
    "@fetch rand(3, 3)"
   ]
  },
  {
   "cell_type": "code",
   "execution_count": 20,
   "id": "07f7fa2f",
   "metadata": {},
   "outputs": [
    {
     "data": {
      "text/plain": [
       "3×3 Matrix{Float64}:\n",
       " 0.69721   0.939192  0.956687\n",
       " 0.330665  0.266357  0.700392\n",
       " 0.664401  0.698287  0.153467"
      ]
     },
     "execution_count": 20,
     "metadata": {},
     "output_type": "execute_result"
    }
   ],
   "source": [
    "@fetchfrom 1 rand(3, 3)"
   ]
  },
  {
   "cell_type": "code",
   "execution_count": 21,
   "id": "c706add4",
   "metadata": {},
   "outputs": [],
   "source": [
    "# 不同的进程有不同的作用域，@everywhere可以把你定义的一些东西放到所有的进程中\n",
    "@everywhere function rand2(ndim)\n",
    "    return 2 * rand(ndim, ndim)\n",
    "end"
   ]
  },
  {
   "cell_type": "code",
   "execution_count": 22,
   "id": "f41f8e81",
   "metadata": {},
   "outputs": [
    {
     "data": {
      "text/plain": [
       "10×10 Matrix{Float64}:\n",
       " 0.67724    0.839544   0.686618  0.0808221  …  1.33776   1.19296   1.43195\n",
       " 1.36918    1.33536    1.41483   0.47121       0.304063  0.953734  0.997376\n",
       " 0.434412   0.235603   1.19216   0.649332      0.962741  0.724932  0.347885\n",
       " 0.485139   0.800376   0.218011  0.310004      0.218498  1.47966   1.68337\n",
       " 0.827663   0.305805   1.18762   1.33322       1.50443   1.37378   1.71195\n",
       " 1.07752    0.0749084  0.104501  0.672066   …  1.32255   0.109508  1.65545\n",
       " 0.0619149  0.764861   0.559341  1.0316        0.117856  1.89191   1.24812\n",
       " 1.00854    0.470405   1.80526   1.7117        1.29276   0.901951  0.197122\n",
       " 0.595526   1.23157    1.0167    0.694855      0.255305  0.864201  0.554252\n",
       " 0.639782   1.03889    1.29056   1.61451       1.54819   0.48125   0.391184"
      ]
     },
     "execution_count": 22,
     "metadata": {},
     "output_type": "execute_result"
    }
   ],
   "source": [
    "@fetch rand2(10)"
   ]
  },
  {
   "cell_type": "code",
   "execution_count": 24,
   "id": "21f6629c",
   "metadata": {},
   "outputs": [
    {
     "data": {
      "text/plain": [
       "10×10 Matrix{Float64}:\n",
       " 0.704298  0.828989  0.499955   1.64886   …  0.353699  1.0976     1.06081\n",
       " 0.644881  1.80985   0.835609   1.11237      0.891741  0.704004   1.00079\n",
       " 0.609898  1.97494   1.88459    1.57673      0.803528  0.607008   0.425467\n",
       " 0.264796  0.722974  0.964188   0.865909     1.7846    0.678075   1.61752\n",
       " 1.79087   1.67052   0.505739   1.68245      1.45593   1.17963    0.0734138\n",
       " 1.94099   1.65656   0.216484   1.73239   …  1.12944   1.02279    0.604975\n",
       " 0.935169  0.189206  1.83624    0.617376     1.67436   1.2987     0.612559\n",
       " 1.48079   1.85966   0.324703   0.614302     0.93944   0.0349604  0.521829\n",
       " 1.525     1.23933   1.30451    0.138455     1.56679   1.32988    1.27248\n",
       " 1.63734   1.94416   0.0261426  0.547749     1.48371   1.31425    1.04688"
      ]
     },
     "execution_count": 24,
     "metadata": {},
     "output_type": "execute_result"
    }
   ],
   "source": [
    "@fetchfrom 2 rand2(10)"
   ]
  },
  {
   "cell_type": "code",
   "execution_count": 25,
   "id": "f5a4a190",
   "metadata": {},
   "outputs": [],
   "source": [
    "@everywhere using Random\n",
    "\n",
    "@everywhere Random.seed!(123)"
   ]
  },
  {
   "cell_type": "code",
   "execution_count": 26,
   "id": "071e557d",
   "metadata": {},
   "outputs": [
    {
     "data": {
      "text/plain": [
       "3×3 Matrix{Float64}:\n",
       " 1.5369   0.790906  1.17204\n",
       " 1.88103  0.626488  0.104266\n",
       " 1.34792  1.32511   0.537279"
      ]
     },
     "execution_count": 26,
     "metadata": {},
     "output_type": "execute_result"
    }
   ],
   "source": [
    "@fetchfrom 3 rand2(3)"
   ]
  },
  {
   "cell_type": "code",
   "execution_count": 29,
   "id": "cfda8f54",
   "metadata": {},
   "outputs": [
    {
     "data": {
      "text/plain": [
       "3×3 Matrix{Float64}:\n",
       " 1.5369   0.790906  1.17204\n",
       " 1.88103  0.626488  0.104266\n",
       " 1.34792  1.32511   0.537279"
      ]
     },
     "execution_count": 29,
     "metadata": {},
     "output_type": "execute_result"
    }
   ],
   "source": [
    "@fetchfrom 2 rand2(3)"
   ]
  },
  {
   "cell_type": "code",
   "execution_count": 30,
   "id": "41412191",
   "metadata": {},
   "outputs": [
    {
     "data": {
      "text/plain": [
       "100001967"
      ]
     },
     "execution_count": 30,
     "metadata": {},
     "output_type": "execute_result"
    }
   ],
   "source": [
    "# 自动将for-loop分配到所有的进程中，但是结果的顺序是乱的\n",
    "@distributed (+) for i = 1:200000000\n",
    "                    Int64(rand(Bool))\n",
    "end"
   ]
  },
  {
   "cell_type": "markdown",
   "id": "7ae58eba",
   "metadata": {},
   "source": [
    "##  分布式数组"
   ]
  },
  {
   "cell_type": "code",
   "execution_count": 31,
   "id": "adca776e",
   "metadata": {},
   "outputs": [],
   "source": [
    "using SharedArrays, Distributed"
   ]
  },
  {
   "cell_type": "code",
   "execution_count": 32,
   "id": "c90340fc",
   "metadata": {},
   "outputs": [
    {
     "data": {
      "text/plain": [
       "Task (runnable) @0x000000001214a720"
      ]
     },
     "execution_count": 32,
     "metadata": {},
     "output_type": "execute_result"
    }
   ],
   "source": [
    "a = SharedArray{Float64}(1, 10)\n",
    "@distributed for i in 1:10\n",
    "    a[i] = i\n",
    "end"
   ]
  },
  {
   "cell_type": "code",
   "execution_count": 33,
   "id": "d66cc66a",
   "metadata": {},
   "outputs": [
    {
     "data": {
      "text/plain": [
       "1×10 SharedMatrix{Float64}:\n",
       " 1.0  2.0  3.0  4.0  5.0  6.0  7.0  8.0  9.0  10.0"
      ]
     },
     "execution_count": 33,
     "metadata": {},
     "output_type": "execute_result"
    }
   ],
   "source": [
    "a"
   ]
  },
  {
   "cell_type": "markdown",
   "id": "51a0e011",
   "metadata": {},
   "source": [
    "# 多线程"
   ]
  },
  {
   "cell_type": "code",
   "execution_count": 34,
   "id": "d24294c8",
   "metadata": {},
   "outputs": [
    {
     "data": {
      "text/plain": [
       "6"
      ]
     },
     "execution_count": 34,
     "metadata": {},
     "output_type": "execute_result"
    }
   ],
   "source": [
    "Threads.nthreads()"
   ]
  },
  {
   "cell_type": "code",
   "execution_count": 35,
   "id": "ec349fee",
   "metadata": {},
   "outputs": [
    {
     "name": "stdout",
     "output_type": "stream",
     "text": [
      "Julia Version 1.6.5\n",
      "Commit 9058264a69 (2021-12-19 12:30 UTC)\n",
      "Platform Info:\n",
      "  OS: Windows (x86_64-w64-mingw32)\n",
      "  CPU: Intel(R) Core(TM) i5-10400F CPU @ 2.90GHz\n",
      "  WORD_SIZE: 64\n",
      "  LIBM: libopenlibm\n",
      "  LLVM: libLLVM-11.0.1 (ORCJIT, skylake)\n",
      "Environment:\n",
      "  JULIA_NUM_THREADS = 6\n",
      "  JULIA_PKG_SERVER = https://mirrors.ustc.edu.cn/julia\n"
     ]
    }
   ],
   "source": [
    "versioninfo()"
   ]
  },
  {
   "cell_type": "code",
   "execution_count": 71,
   "id": "28aacb73",
   "metadata": {},
   "outputs": [
    {
     "data": {
      "text/plain": [
       "MersenneTwister(2018)"
      ]
     },
     "execution_count": 71,
     "metadata": {},
     "output_type": "execute_result"
    }
   ],
   "source": [
    "using LinearAlgebra\n",
    "using Random\n",
    "BLAS.set_num_threads(1)\n",
    "Random.seed!(2022 - 1 - 3)"
   ]
  },
  {
   "cell_type": "code",
   "execution_count": 40,
   "id": "3b7e825b",
   "metadata": {},
   "outputs": [
    {
     "data": {
      "text/plain": [
       "do_cpu_task (generic function with 1 method)"
      ]
     },
     "execution_count": 40,
     "metadata": {},
     "output_type": "execute_result"
    }
   ],
   "source": [
    "using LinearAlgebra\n",
    "function do_cpu_task(X, i)\n",
    "    println(\"thread $(Threads.threadid()):task $(i)\")\n",
    "    return tr(inv(X[:, (3000 * (i - 1) + 1):(3000 * (i - 1) + 3000)]))\n",
    "end"
   ]
  },
  {
   "cell_type": "code",
   "execution_count": 50,
   "id": "72e1a95f",
   "metadata": {},
   "outputs": [
    {
     "name": "stdout",
     "output_type": "stream",
     "text": [
      "thread 1:task 1\n",
      "thread 1:task 2\n",
      "thread 1:task 3\n",
      "thread 1:task 4\n",
      "thread 1:task 5\n",
      "thread 1:task 6\n",
      "  7.115125 seconds (781 allocations: 1.216 GiB, 0.53% gc time)\n"
     ]
    }
   ],
   "source": [
    "# 不使用任何加速技术\n",
    "@time begin\n",
    "    seed = Random.seed!(123)\n",
    "    result = zeros(Float64, 6)\n",
    "    X = rand(seed, 3000, 6 * 3000)\n",
    "    for i in 1:6\n",
    "        result[i] = do_cpu_task(X, i)\n",
    "    end    \n",
    "end"
   ]
  },
  {
   "cell_type": "code",
   "execution_count": 51,
   "id": "d75b9331",
   "metadata": {},
   "outputs": [
    {
     "data": {
      "text/plain": [
       "6-element Vector{Float64}:\n",
       " -0.1809489819845882\n",
       " -0.3010668102843521\n",
       " 10.24367858367015\n",
       "  7.652336853869846\n",
       " -0.8934574835666981\n",
       " -9.38857467749887"
      ]
     },
     "execution_count": 51,
     "metadata": {},
     "output_type": "execute_result"
    }
   ],
   "source": [
    "result"
   ]
  },
  {
   "cell_type": "code",
   "execution_count": 54,
   "id": "3c88a90a",
   "metadata": {
    "scrolled": true
   },
   "outputs": [
    {
     "name": "stdout",
     "output_type": "stream",
     "text": [
      "thread 2:task 1\n",
      "thread 6:task 2\n",
      "thread 1:task 6\n",
      "thread 3:task 4\n",
      "thread 4:task 5\n",
      "thread 5:task 3\n",
      "  6.622171 seconds (27.71 k allocations: 1.218 GiB, 0.62% gc time, 0.02% compilation time)\n"
     ]
    }
   ],
   "source": [
    "# 使用多线程，计算速度明显提高了接近5倍\n",
    "@time begin\n",
    "    Random.seed!(123)\n",
    "    result_thread = zeros(Float64, 6)\n",
    "    X = rand(3000, 3000 * 6)\n",
    "    @sync for i in 1:6\n",
    "        Threads.@spawn result_thread[i] = do_cpu_task(X, i)\n",
    "    end\n",
    "end"
   ]
  },
  {
   "cell_type": "code",
   "execution_count": 53,
   "id": "69c40d46",
   "metadata": {},
   "outputs": [
    {
     "data": {
      "text/plain": [
       "6-element Vector{Float64}:\n",
       " -0.1809489819845882\n",
       " -0.3010668102843521\n",
       " 10.24367858367015\n",
       "  7.652336853869846\n",
       " -0.8934574835666981\n",
       " -9.38857467749887"
      ]
     },
     "execution_count": 53,
     "metadata": {},
     "output_type": "execute_result"
    }
   ],
   "source": [
    "result_thread"
   ]
  },
  {
   "cell_type": "code",
   "execution_count": null,
   "id": "bae1c52f",
   "metadata": {},
   "outputs": [],
   "source": []
  }
 ],
 "metadata": {
  "kernelspec": {
   "display_name": "Julia 1.8.0",
   "language": "julia",
   "name": "julia-1.8"
  },
  "language_info": {
   "file_extension": ".jl",
   "mimetype": "application/julia",
   "name": "julia",
   "version": "1.6.5"
  },
  "latex_envs": {
   "LaTeX_envs_menu_present": true,
   "autoclose": true,
   "autocomplete": true,
   "bibliofile": "biblio.bib",
   "cite_by": "apalike",
   "current_citInitial": 1,
   "eqLabelWithNumbers": true,
   "eqNumInitial": 1,
   "hotkeys": {
    "equation": "Ctrl-E",
    "itemize": "Ctrl-I"
   },
   "labels_anchors": false,
   "latex_user_defs": false,
   "report_style_numbering": true,
   "user_envs_cfg": false
  },
  "toc": {
   "base_numbering": 1,
   "nav_menu": {},
   "number_sections": true,
   "sideBar": true,
   "skip_h1_title": false,
   "title_cell": "Table of Contents",
   "title_sidebar": "Contents",
   "toc_cell": false,
   "toc_position": {
    "height": "885.6px",
    "left": "51px",
    "top": "180px",
    "width": "341.325px"
   },
   "toc_section_display": true,
   "toc_window_display": true
  }
 },
 "nbformat": 4,
 "nbformat_minor": 5
}
