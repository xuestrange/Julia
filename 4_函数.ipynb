{
 "cells": [
  {
   "cell_type": "markdown",
   "id": "563a87c5",
   "metadata": {},
   "source": [
    "# 函数"
   ]
  },
  {
   "cell_type": "code",
   "execution_count": 1,
   "id": "ae2df5f9",
   "metadata": {},
   "outputs": [
    {
     "data": {
      "text/plain": [
       "add_two (generic function with 1 method)"
      ]
     },
     "execution_count": 1,
     "metadata": {},
     "output_type": "execute_result"
    }
   ],
   "source": [
    "function add_two(x, y)\n",
    "    return x + y\n",
    "end"
   ]
  },
  {
   "cell_type": "code",
   "execution_count": 4,
   "id": "f0a83446",
   "metadata": {},
   "outputs": [
    {
     "name": "stdout",
     "output_type": "stream",
     "text": [
      "Variables\n",
      "  #self#\u001b[36m::Core.Const(add_two)\u001b[39m\n",
      "  x\u001b[36m::Int64\u001b[39m\n",
      "  y\u001b[36m::Int64\u001b[39m\n",
      "\n",
      "Body\u001b[36m::Int64\u001b[39m\n",
      "\u001b[90m1 ─\u001b[39m %1 = (x + y)\u001b[36m::Int64\u001b[39m\n",
      "\u001b[90m└──\u001b[39m      return %1\n"
     ]
    }
   ],
   "source": [
    "@code_warntype add_two(1, 2)"
   ]
  },
  {
   "cell_type": "markdown",
   "id": "93fae324",
   "metadata": {},
   "source": [
    "共享传参（pass-by-sharing):\n",
    "+ 对于元类型参数，按值传参(不会修改原来变量)\n",
    "+ 对于复合类型参数，按引用传参（会修改原有变量）"
   ]
  },
  {
   "cell_type": "code",
   "execution_count": 7,
   "id": "b603796e",
   "metadata": {},
   "outputs": [
    {
     "data": {
      "text/plain": [
       "10"
      ]
     },
     "execution_count": 7,
     "metadata": {},
     "output_type": "execute_result"
    }
   ],
   "source": [
    "# 按值传参\n",
    "x = 10\n",
    "function change_val(y)\n",
    "    y = 1\n",
    "    return y\n",
    "end\n",
    "change_val(x)\n",
    "x"
   ]
  },
  {
   "cell_type": "code",
   "execution_count": 13,
   "id": "40b3f3f3",
   "metadata": {},
   "outputs": [
    {
     "data": {
      "text/plain": [
       "Dict{Symbol, Int64} with 1 entry:\n",
       "  :a => 1"
      ]
     },
     "execution_count": 13,
     "metadata": {},
     "output_type": "execute_result"
    }
   ],
   "source": [
    "d2 = Dict(:a=>10)\n",
    "function change_val!(d::Dict)\n",
    "    for key in keys(d)\n",
    "        d[key] = 1\n",
    "    end\n",
    "end\n",
    "change_val!(d2)\n",
    "d2"
   ]
  },
  {
   "cell_type": "code",
   "execution_count": 14,
   "id": "df774ad9",
   "metadata": {},
   "outputs": [
    {
     "data": {
      "text/plain": [
       "(3, 2)"
      ]
     },
     "execution_count": 14,
     "metadata": {},
     "output_type": "execute_result"
    }
   ],
   "source": [
    "# 多返回值\n",
    "function addmul(a, b)\n",
    "    return a + b, a * b\n",
    "end\n",
    "x, y = addmul(1, 2)"
   ]
  },
  {
   "cell_type": "code",
   "execution_count": 15,
   "id": "aabb2e43",
   "metadata": {},
   "outputs": [
    {
     "data": {
      "text/plain": [
       "3"
      ]
     },
     "execution_count": 15,
     "metadata": {},
     "output_type": "execute_result"
    }
   ],
   "source": [
    "x"
   ]
  },
  {
   "cell_type": "markdown",
   "id": "5e35ea9f",
   "metadata": {},
   "source": [
    "function(位置参数; 关键字参数)\n",
    "\n",
    "位置参数和关键字参数中都可以包含各自的默认参数, 默认参数都要放在最后边"
   ]
  },
  {
   "cell_type": "code",
   "execution_count": 16,
   "id": "dd1d6a8b",
   "metadata": {},
   "outputs": [
    {
     "data": {
      "text/plain": [
       "plot (generic function with 2 methods)"
      ]
     },
     "execution_count": 16,
     "metadata": {},
     "output_type": "execute_result"
    }
   ],
   "source": [
    "# z 是位置参数，而oper是关键字参数\n",
    "function plot(x, y, z = 1; oper = \"sum\")\n",
    "    return x + y + z\n",
    "end"
   ]
  },
  {
   "cell_type": "code",
   "execution_count": 17,
   "id": "d03cba08",
   "metadata": {},
   "outputs": [
    {
     "data": {
      "text/plain": [
       "4"
      ]
     },
     "execution_count": 17,
     "metadata": {},
     "output_type": "execute_result"
    }
   ],
   "source": [
    "plot(1, 2)"
   ]
  },
  {
   "cell_type": "code",
   "execution_count": 20,
   "id": "0cebad4e",
   "metadata": {},
   "outputs": [
    {
     "data": {
      "text/plain": [
       "6"
      ]
     },
     "execution_count": 20,
     "metadata": {},
     "output_type": "execute_result"
    }
   ],
   "source": [
    "plot(1, 2, 3; oper = \"sum\")"
   ]
  },
  {
   "cell_type": "markdown",
   "id": "9234f273",
   "metadata": {},
   "source": [
    "可变参数\n",
    "+ args...\n",
    "+ kwargs..."
   ]
  },
  {
   "cell_type": "code",
   "execution_count": 33,
   "id": "b3a23fda",
   "metadata": {},
   "outputs": [
    {
     "data": {
      "text/plain": [
       "MyShow (generic function with 1 method)"
      ]
     },
     "execution_count": 33,
     "metadata": {},
     "output_type": "execute_result"
    }
   ],
   "source": [
    "function MyShow(args...)\n",
    "    rs = 0\n",
    "    for arg in args\n",
    "        rs += arg\n",
    "    end\n",
    "    return rs\n",
    "end"
   ]
  },
  {
   "cell_type": "code",
   "execution_count": 36,
   "id": "c470a7e4",
   "metadata": {},
   "outputs": [
    {
     "data": {
      "text/plain": [
       "6"
      ]
     },
     "execution_count": 36,
     "metadata": {},
     "output_type": "execute_result"
    }
   ],
   "source": [
    "MyShow((1, 2, 3)...)"
   ]
  },
  {
   "cell_type": "code",
   "execution_count": 37,
   "id": "9ad53c36",
   "metadata": {},
   "outputs": [
    {
     "data": {
      "text/plain": [
       "6"
      ]
     },
     "execution_count": 37,
     "metadata": {},
     "output_type": "execute_result"
    }
   ],
   "source": [
    "MyShow(1, 2, 3)"
   ]
  },
  {
   "cell_type": "code",
   "execution_count": 38,
   "id": "2737e70f",
   "metadata": {},
   "outputs": [
    {
     "data": {
      "text/plain": [
       "MyShow2 (generic function with 1 method)"
      ]
     },
     "execution_count": 38,
     "metadata": {},
     "output_type": "execute_result"
    }
   ],
   "source": [
    "function MyShow2(;kwargs...)\n",
    "    rs = 0\n",
    "    for value in values(kwargs) \n",
    "        rs += value\n",
    "    end\n",
    "    return rs\n",
    "end"
   ]
  },
  {
   "cell_type": "code",
   "execution_count": 46,
   "id": "44e6b0f9",
   "metadata": {},
   "outputs": [
    {
     "data": {
      "text/plain": [
       "15"
      ]
     },
     "execution_count": 46,
     "metadata": {},
     "output_type": "execute_result"
    }
   ],
   "source": [
    "MyShow2(;Dict(Symbol(i) => i for i in 1:5)...)"
   ]
  },
  {
   "cell_type": "code",
   "execution_count": 50,
   "id": "c29b2c7e",
   "metadata": {},
   "outputs": [
    {
     "data": {
      "text/plain": [
       "6"
      ]
     },
     "execution_count": 50,
     "metadata": {},
     "output_type": "execute_result"
    }
   ],
   "source": [
    "MyShow2(; a = 1, b = 2, c = 3)\n"
   ]
  },
  {
   "cell_type": "code",
   "execution_count": 53,
   "id": "096e5835",
   "metadata": {},
   "outputs": [
    {
     "ename": "LoadError",
     "evalue": "syntax: \"...\" expression outside call around In[53]:1",
     "output_type": "error",
     "traceback": [
      "syntax: \"...\" expression outside call around In[53]:1",
      "",
      "Stacktrace:",
      " [1] top-level scope",
      "   @ In[53]:1",
      " [2] eval",
      "   @ .\\boot.jl:360 [inlined]",
      " [3] include_string(mapexpr::typeof(REPL.softscope), mod::Module, code::String, filename::String)",
      "   @ Base .\\loading.jl:1116"
     ]
    }
   ],
   "source": [
    "Dict(Symbol(i) => i for i in 1:5)..."
   ]
  },
  {
   "cell_type": "code",
   "execution_count": 54,
   "id": "840cfd23",
   "metadata": {},
   "outputs": [
    {
     "ename": "LoadError",
     "evalue": "syntax: \"...\" expression outside call around In[54]:1",
     "output_type": "error",
     "traceback": [
      "syntax: \"...\" expression outside call around In[54]:1",
      "",
      "Stacktrace:",
      " [1] top-level scope",
      "   @ In[54]:1",
      " [2] eval",
      "   @ .\\boot.jl:360 [inlined]",
      " [3] include_string(mapexpr::typeof(REPL.softscope), mod::Module, code::String, filename::String)",
      "   @ Base .\\loading.jl:1116"
     ]
    }
   ],
   "source": [
    "(1, 2, 3)..."
   ]
  },
  {
   "cell_type": "markdown",
   "id": "af4f8f3f",
   "metadata": {},
   "source": [
    "函数的类型是`Function`"
   ]
  },
  {
   "cell_type": "code",
   "execution_count": 57,
   "id": "767824a1",
   "metadata": {},
   "outputs": [
    {
     "data": {
      "text/plain": [
       "MyShow2 (generic function with 1 method)"
      ]
     },
     "execution_count": 57,
     "metadata": {},
     "output_type": "execute_result"
    }
   ],
   "source": [
    "MyShow2::Function"
   ]
  },
  {
   "cell_type": "code",
   "execution_count": 59,
   "id": "3cf90ba9",
   "metadata": {},
   "outputs": [
    {
     "data": {
      "text/plain": [
       "true"
      ]
     },
     "execution_count": 59,
     "metadata": {},
     "output_type": "execute_result"
    }
   ],
   "source": [
    "isa(MyShow2, Function)"
   ]
  },
  {
   "cell_type": "code",
   "execution_count": 60,
   "id": "d01830a7",
   "metadata": {},
   "outputs": [
    {
     "data": {
      "text/plain": [
       "MyShow2 (generic function with 1 method)"
      ]
     },
     "execution_count": 60,
     "metadata": {},
     "output_type": "execute_result"
    }
   ],
   "source": [
    "MyShow3 = MyShow2"
   ]
  },
  {
   "cell_type": "markdown",
   "id": "08f3cff7",
   "metadata": {},
   "source": [
    "##  匿名函数"
   ]
  },
  {
   "cell_type": "code",
   "execution_count": 65,
   "id": "e0dd71be",
   "metadata": {},
   "outputs": [
    {
     "data": {
      "text/plain": [
       "#23 (generic function with 1 method)"
      ]
     },
     "execution_count": 65,
     "metadata": {},
     "output_type": "execute_result"
    }
   ],
   "source": [
    "# 标准形式\n",
    "(x, y, z) -> x + y + z"
   ]
  },
  {
   "cell_type": "code",
   "execution_count": 66,
   "id": "54c25c7e",
   "metadata": {},
   "outputs": [
    {
     "data": {
      "text/plain": [
       "#25 (generic function with 1 method)"
      ]
     },
     "execution_count": 66,
     "metadata": {},
     "output_type": "execute_result"
    }
   ],
   "source": [
    "# 只有一个参数可以省略括号\n",
    "x -> x + 1"
   ]
  },
  {
   "cell_type": "code",
   "execution_count": 67,
   "id": "0ad1da88",
   "metadata": {},
   "outputs": [
    {
     "data": {
      "text/plain": [
       "#27 (generic function with 1 method)"
      ]
     },
     "execution_count": 67,
     "metadata": {},
     "output_type": "execute_result"
    }
   ],
   "source": [
    "# 没有参数，不能省略括号\n",
    "() -> 10 + 2"
   ]
  },
  {
   "cell_type": "code",
   "execution_count": 68,
   "id": "5e61072c",
   "metadata": {},
   "outputs": [
    {
     "data": {
      "text/plain": [
       "g (generic function with 1 method)"
      ]
     },
     "execution_count": 68,
     "metadata": {},
     "output_type": "execute_result"
    }
   ],
   "source": [
    "function g(f::Function, x, y, z)\n",
    "    f(x, y, z)\n",
    "end"
   ]
  },
  {
   "cell_type": "code",
   "execution_count": 70,
   "id": "a4e57912",
   "metadata": {},
   "outputs": [
    {
     "data": {
      "text/plain": [
       "6"
      ]
     },
     "execution_count": 70,
     "metadata": {},
     "output_type": "execute_result"
    }
   ],
   "source": [
    "g((x, y, z) -> x + y + z, 1, 2, 3)"
   ]
  },
  {
   "cell_type": "markdown",
   "id": "2b78d8f3",
   "metadata": {},
   "source": [
    "当一个函数只使用一次时，使用匿名函数比较方便，但是如果这个匿名函数写起来很复杂，便可以用do代码块"
   ]
  },
  {
   "cell_type": "code",
   "execution_count": 73,
   "id": "deae064f",
   "metadata": {},
   "outputs": [
    {
     "data": {
      "text/plain": [
       "9"
      ]
     },
     "execution_count": 73,
     "metadata": {},
     "output_type": "execute_result"
    }
   ],
   "source": [
    "g(2, 3, 4) do x, y, z\n",
    "    x + y + z\n",
    "end"
   ]
  },
  {
   "cell_type": "markdown",
   "id": "56e83e6c",
   "metadata": {},
   "source": [
    "函数g的第一个参数必须是`Function`"
   ]
  }
 ],
 "metadata": {
  "kernelspec": {
   "display_name": "Julia-8-threads 1.6.5",
   "language": "julia",
   "name": "julia-8-threads-1.6"
  },
  "language_info": {
   "file_extension": ".jl",
   "mimetype": "application/julia",
   "name": "julia",
   "version": "1.6.5"
  },
  "toc": {
   "base_numbering": 1,
   "nav_menu": {},
   "number_sections": true,
   "sideBar": true,
   "skip_h1_title": false,
   "title_cell": "Table of Contents",
   "title_sidebar": "Contents",
   "toc_cell": false,
   "toc_position": {},
   "toc_section_display": true,
   "toc_window_display": false
  }
 },
 "nbformat": 4,
 "nbformat_minor": 5
}
