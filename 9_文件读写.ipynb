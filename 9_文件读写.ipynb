{
 "cells": [
  {
   "cell_type": "markdown",
   "id": "dca0f733",
   "metadata": {},
   "source": [
    "# 文件读写"
   ]
  },
  {
   "cell_type": "code",
   "execution_count": 6,
   "id": "47ced015",
   "metadata": {},
   "outputs": [],
   "source": [
    "using DelimitedFiles\n",
    "using Random"
   ]
  },
  {
   "cell_type": "markdown",
   "id": "512f296a",
   "metadata": {},
   "source": [
    "## 写入矩阵"
   ]
  },
  {
   "cell_type": "code",
   "execution_count": 7,
   "id": "c2e1173e",
   "metadata": {},
   "outputs": [
    {
     "data": {
      "text/plain": [
       "100×2 Matrix{Float64}:\n",
       "  5.0000   0.5874\n",
       "  1.0000   1.3194\n",
       " 10.0000  -0.2325\n",
       "  4.0000  -0.0953\n",
       "  7.0000  -0.9334\n",
       "  6.0000  -1.4011\n",
       "  3.0000   0.5225\n",
       "  1.0000  -1.1280\n",
       "  9.0000  -1.1825\n",
       "  8.0000   0.2025\n",
       " 10.0000   0.2230\n",
       "  9.0000   1.4362\n",
       "  3.0000  -0.8333\n",
       "  ⋮       \n",
       "  6.0000   0.2200\n",
       "  8.0000  -0.1233\n",
       "  3.0000  -0.8596\n",
       "  1.0000   0.4235\n",
       " 10.0000  -0.4180\n",
       "  3.0000  -0.0901\n",
       "  9.0000   0.4718\n",
       "  1.0000   0.1579\n",
       "  6.0000   0.8030\n",
       "  9.0000   0.4695\n",
       "  1.0000   1.4023\n",
       "  3.0000  -1.5081"
      ]
     },
     "execution_count": 7,
     "metadata": {},
     "output_type": "execute_result"
    }
   ],
   "source": [
    "N = 100\n",
    "x = rand(collect(1:10), N)\n",
    "y = randn(N)\n",
    "[x y]"
   ]
  },
  {
   "cell_type": "code",
   "execution_count": 8,
   "id": "680c7e5c",
   "metadata": {},
   "outputs": [
    {
     "data": {
      "text/plain": [
       "\"/mnt/c/Users/XJZ/Desktop/Coding/Julia\""
      ]
     },
     "execution_count": 8,
     "metadata": {},
     "output_type": "execute_result"
    }
   ],
   "source": [
    "pwd()"
   ]
  },
  {
   "cell_type": "code",
   "execution_count": 9,
   "id": "20a956fe",
   "metadata": {},
   "outputs": [],
   "source": [
    "writedlm(\"./Data/xy.txt\", [x y], ',')"
   ]
  },
  {
   "cell_type": "markdown",
   "id": "3cf17f19",
   "metadata": {},
   "source": [
    "## 读取矩阵"
   ]
  },
  {
   "cell_type": "code",
   "execution_count": 10,
   "id": "d19d9c91",
   "metadata": {},
   "outputs": [
    {
     "data": {
      "text/plain": [
       "100×2 Matrix{Float64}:\n",
       "  5.0000   0.5874\n",
       "  1.0000   1.3194\n",
       " 10.0000  -0.2325\n",
       "  4.0000  -0.0953\n",
       "  7.0000  -0.9334\n",
       "  6.0000  -1.4011\n",
       "  3.0000   0.5225\n",
       "  1.0000  -1.1280\n",
       "  9.0000  -1.1825\n",
       "  8.0000   0.2025\n",
       " 10.0000   0.2230\n",
       "  9.0000   1.4362\n",
       "  3.0000  -0.8333\n",
       "  ⋮       \n",
       "  6.0000   0.2200\n",
       "  8.0000  -0.1233\n",
       "  3.0000  -0.8596\n",
       "  1.0000   0.4235\n",
       " 10.0000  -0.4180\n",
       "  3.0000  -0.0901\n",
       "  9.0000   0.4718\n",
       "  1.0000   0.1579\n",
       "  6.0000   0.8030\n",
       "  9.0000   0.4695\n",
       "  1.0000   1.4023\n",
       "  3.0000  -1.5081"
      ]
     },
     "execution_count": 10,
     "metadata": {},
     "output_type": "execute_result"
    }
   ],
   "source": [
    "readdlm(\"./Data/xy.txt\", ',')"
   ]
  },
  {
   "cell_type": "markdown",
   "id": "4b6e5857",
   "metadata": {},
   "source": [
    "## 创建CSV"
   ]
  },
  {
   "cell_type": "code",
   "execution_count": 11,
   "id": "e389740e",
   "metadata": {},
   "outputs": [],
   "source": [
    "using CSV\n",
    "using DataFrames"
   ]
  },
  {
   "cell_type": "code",
   "execution_count": 12,
   "id": "90d35340",
   "metadata": {},
   "outputs": [
    {
     "data": {
      "text/html": [
       "<div class=\"data-frame\"><p>100 rows × 2 columns</p><table class=\"data-frame\"><thead><tr><th></th><th>x</th><th>y</th></tr><tr><th></th><th title=\"Int64\">Int64</th><th title=\"Float64\">Float64</th></tr></thead><tbody><tr><th>1</th><td>5</td><td>0.5874</td></tr><tr><th>2</th><td>1</td><td>1.3194</td></tr><tr><th>3</th><td>10</td><td>-0.2325</td></tr><tr><th>4</th><td>4</td><td>-0.0953</td></tr><tr><th>5</th><td>7</td><td>-0.9334</td></tr><tr><th>6</th><td>6</td><td>-1.4011</td></tr><tr><th>7</th><td>3</td><td>0.5225</td></tr><tr><th>8</th><td>1</td><td>-1.1280</td></tr><tr><th>9</th><td>9</td><td>-1.1825</td></tr><tr><th>10</th><td>8</td><td>0.2025</td></tr><tr><th>11</th><td>10</td><td>0.2230</td></tr><tr><th>12</th><td>9</td><td>1.4362</td></tr><tr><th>13</th><td>3</td><td>-0.8333</td></tr><tr><th>14</th><td>9</td><td>0.2866</td></tr><tr><th>15</th><td>1</td><td>0.2843</td></tr><tr><th>16</th><td>10</td><td>1.3386</td></tr><tr><th>17</th><td>2</td><td>-0.0785</td></tr><tr><th>18</th><td>10</td><td>1.4443</td></tr><tr><th>19</th><td>10</td><td>-1.0472</td></tr><tr><th>20</th><td>2</td><td>-0.6049</td></tr><tr><th>21</th><td>3</td><td>0.7214</td></tr><tr><th>22</th><td>9</td><td>-0.4139</td></tr><tr><th>23</th><td>2</td><td>1.1716</td></tr><tr><th>24</th><td>6</td><td>-1.4520</td></tr><tr><th>25</th><td>10</td><td>-0.6025</td></tr><tr><th>26</th><td>2</td><td>1.0691</td></tr><tr><th>27</th><td>6</td><td>1.1780</td></tr><tr><th>28</th><td>9</td><td>1.2821</td></tr><tr><th>29</th><td>6</td><td>-1.7339</td></tr><tr><th>30</th><td>9</td><td>0.8393</td></tr><tr><th>&vellip;</th><td>&vellip;</td><td>&vellip;</td></tr></tbody></table></div>"
      ],
      "text/latex": [
       "\\begin{tabular}{r|cc}\n",
       "\t& x & y\\\\\n",
       "\t\\hline\n",
       "\t& Int64 & Float64\\\\\n",
       "\t\\hline\n",
       "\t1 & 5 & 0.5874 \\\\\n",
       "\t2 & 1 & 1.3194 \\\\\n",
       "\t3 & 10 & -0.2325 \\\\\n",
       "\t4 & 4 & -0.0953 \\\\\n",
       "\t5 & 7 & -0.9334 \\\\\n",
       "\t6 & 6 & -1.4011 \\\\\n",
       "\t7 & 3 & 0.5225 \\\\\n",
       "\t8 & 1 & -1.1280 \\\\\n",
       "\t9 & 9 & -1.1825 \\\\\n",
       "\t10 & 8 & 0.2025 \\\\\n",
       "\t11 & 10 & 0.2230 \\\\\n",
       "\t12 & 9 & 1.4362 \\\\\n",
       "\t13 & 3 & -0.8333 \\\\\n",
       "\t14 & 9 & 0.2866 \\\\\n",
       "\t15 & 1 & 0.2843 \\\\\n",
       "\t16 & 10 & 1.3386 \\\\\n",
       "\t17 & 2 & -0.0785 \\\\\n",
       "\t18 & 10 & 1.4443 \\\\\n",
       "\t19 & 10 & -1.0472 \\\\\n",
       "\t20 & 2 & -0.6049 \\\\\n",
       "\t21 & 3 & 0.7214 \\\\\n",
       "\t22 & 9 & -0.4139 \\\\\n",
       "\t23 & 2 & 1.1716 \\\\\n",
       "\t24 & 6 & -1.4520 \\\\\n",
       "\t25 & 10 & -0.6025 \\\\\n",
       "\t26 & 2 & 1.0691 \\\\\n",
       "\t27 & 6 & 1.1780 \\\\\n",
       "\t28 & 9 & 1.2821 \\\\\n",
       "\t29 & 6 & -1.7339 \\\\\n",
       "\t30 & 9 & 0.8393 \\\\\n",
       "\t$\\dots$ & $\\dots$ & $\\dots$ \\\\\n",
       "\\end{tabular}\n"
      ],
      "text/plain": [
       "\u001b[1m100×2 DataFrame\u001b[0m\n",
       "\u001b[1m Row \u001b[0m│\u001b[1m x     \u001b[0m\u001b[1m y       \u001b[0m\n",
       "\u001b[1m     \u001b[0m│\u001b[90m Int64 \u001b[0m\u001b[90m Float64 \u001b[0m\n",
       "─────┼────────────────\n",
       "   1 │     5   0.5874\n",
       "   2 │     1   1.3194\n",
       "   3 │    10  -0.2325\n",
       "   4 │     4  -0.0953\n",
       "   5 │     7  -0.9334\n",
       "   6 │     6  -1.4011\n",
       "   7 │     3   0.5225\n",
       "   8 │     1  -1.1280\n",
       "   9 │     9  -1.1825\n",
       "  10 │     8   0.2025\n",
       "  11 │    10   0.2230\n",
       "  ⋮  │   ⋮       ⋮\n",
       "  91 │     3  -0.8596\n",
       "  92 │     1   0.4235\n",
       "  93 │    10  -0.4180\n",
       "  94 │     3  -0.0901\n",
       "  95 │     9   0.4718\n",
       "  96 │     1   0.1579\n",
       "  97 │     6   0.8030\n",
       "  98 │     9   0.4695\n",
       "  99 │     1   1.4023\n",
       " 100 │     3  -1.5081\n",
       "\u001b[36m       79 rows omitted\u001b[0m"
      ]
     },
     "execution_count": 12,
     "metadata": {},
     "output_type": "execute_result"
    }
   ],
   "source": [
    "df = DataFrame(\"x\" => x, \"y\" => y)"
   ]
  },
  {
   "cell_type": "code",
   "execution_count": 13,
   "id": "5d43ab84",
   "metadata": {},
   "outputs": [
    {
     "data": {
      "text/plain": [
       "\"./Data/xy.csv\""
      ]
     },
     "execution_count": 13,
     "metadata": {},
     "output_type": "execute_result"
    }
   ],
   "source": [
    "CSV.write(\"./Data/xy.csv\", df)"
   ]
  },
  {
   "cell_type": "markdown",
   "id": "7fa077cf",
   "metadata": {},
   "source": [
    "## 读取CSV"
   ]
  },
  {
   "cell_type": "code",
   "execution_count": 14,
   "id": "7077988c",
   "metadata": {
    "scrolled": false
   },
   "outputs": [
    {
     "data": {
      "text/html": [
       "<div class=\"data-frame\"><p>100 rows × 2 columns</p><table class=\"data-frame\"><thead><tr><th></th><th>x</th><th>y</th></tr><tr><th></th><th title=\"Int64\">Int64</th><th title=\"Float64\">Float64</th></tr></thead><tbody><tr><th>1</th><td>5</td><td>0.5874</td></tr><tr><th>2</th><td>1</td><td>1.3194</td></tr><tr><th>3</th><td>10</td><td>-0.2325</td></tr><tr><th>4</th><td>4</td><td>-0.0953</td></tr><tr><th>5</th><td>7</td><td>-0.9334</td></tr><tr><th>6</th><td>6</td><td>-1.4011</td></tr><tr><th>7</th><td>3</td><td>0.5225</td></tr><tr><th>8</th><td>1</td><td>-1.1280</td></tr><tr><th>9</th><td>9</td><td>-1.1825</td></tr><tr><th>10</th><td>8</td><td>0.2025</td></tr><tr><th>11</th><td>10</td><td>0.2230</td></tr><tr><th>12</th><td>9</td><td>1.4362</td></tr><tr><th>13</th><td>3</td><td>-0.8333</td></tr><tr><th>14</th><td>9</td><td>0.2866</td></tr><tr><th>15</th><td>1</td><td>0.2843</td></tr><tr><th>16</th><td>10</td><td>1.3386</td></tr><tr><th>17</th><td>2</td><td>-0.0785</td></tr><tr><th>18</th><td>10</td><td>1.4443</td></tr><tr><th>19</th><td>10</td><td>-1.0472</td></tr><tr><th>20</th><td>2</td><td>-0.6049</td></tr><tr><th>21</th><td>3</td><td>0.7214</td></tr><tr><th>22</th><td>9</td><td>-0.4139</td></tr><tr><th>23</th><td>2</td><td>1.1716</td></tr><tr><th>24</th><td>6</td><td>-1.4520</td></tr><tr><th>25</th><td>10</td><td>-0.6025</td></tr><tr><th>26</th><td>2</td><td>1.0691</td></tr><tr><th>27</th><td>6</td><td>1.1780</td></tr><tr><th>28</th><td>9</td><td>1.2821</td></tr><tr><th>29</th><td>6</td><td>-1.7339</td></tr><tr><th>30</th><td>9</td><td>0.8393</td></tr><tr><th>&vellip;</th><td>&vellip;</td><td>&vellip;</td></tr></tbody></table></div>"
      ],
      "text/latex": [
       "\\begin{tabular}{r|cc}\n",
       "\t& x & y\\\\\n",
       "\t\\hline\n",
       "\t& Int64 & Float64\\\\\n",
       "\t\\hline\n",
       "\t1 & 5 & 0.5874 \\\\\n",
       "\t2 & 1 & 1.3194 \\\\\n",
       "\t3 & 10 & -0.2325 \\\\\n",
       "\t4 & 4 & -0.0953 \\\\\n",
       "\t5 & 7 & -0.9334 \\\\\n",
       "\t6 & 6 & -1.4011 \\\\\n",
       "\t7 & 3 & 0.5225 \\\\\n",
       "\t8 & 1 & -1.1280 \\\\\n",
       "\t9 & 9 & -1.1825 \\\\\n",
       "\t10 & 8 & 0.2025 \\\\\n",
       "\t11 & 10 & 0.2230 \\\\\n",
       "\t12 & 9 & 1.4362 \\\\\n",
       "\t13 & 3 & -0.8333 \\\\\n",
       "\t14 & 9 & 0.2866 \\\\\n",
       "\t15 & 1 & 0.2843 \\\\\n",
       "\t16 & 10 & 1.3386 \\\\\n",
       "\t17 & 2 & -0.0785 \\\\\n",
       "\t18 & 10 & 1.4443 \\\\\n",
       "\t19 & 10 & -1.0472 \\\\\n",
       "\t20 & 2 & -0.6049 \\\\\n",
       "\t21 & 3 & 0.7214 \\\\\n",
       "\t22 & 9 & -0.4139 \\\\\n",
       "\t23 & 2 & 1.1716 \\\\\n",
       "\t24 & 6 & -1.4520 \\\\\n",
       "\t25 & 10 & -0.6025 \\\\\n",
       "\t26 & 2 & 1.0691 \\\\\n",
       "\t27 & 6 & 1.1780 \\\\\n",
       "\t28 & 9 & 1.2821 \\\\\n",
       "\t29 & 6 & -1.7339 \\\\\n",
       "\t30 & 9 & 0.8393 \\\\\n",
       "\t$\\dots$ & $\\dots$ & $\\dots$ \\\\\n",
       "\\end{tabular}\n"
      ],
      "text/plain": [
       "\u001b[1m100×2 DataFrame\u001b[0m\n",
       "\u001b[1m Row \u001b[0m│\u001b[1m x     \u001b[0m\u001b[1m y       \u001b[0m\n",
       "\u001b[1m     \u001b[0m│\u001b[90m Int64 \u001b[0m\u001b[90m Float64 \u001b[0m\n",
       "─────┼────────────────\n",
       "   1 │     5   0.5874\n",
       "   2 │     1   1.3194\n",
       "   3 │    10  -0.2325\n",
       "   4 │     4  -0.0953\n",
       "   5 │     7  -0.9334\n",
       "   6 │     6  -1.4011\n",
       "   7 │     3   0.5225\n",
       "   8 │     1  -1.1280\n",
       "   9 │     9  -1.1825\n",
       "  10 │     8   0.2025\n",
       "  11 │    10   0.2230\n",
       "  ⋮  │   ⋮       ⋮\n",
       "  91 │     3  -0.8596\n",
       "  92 │     1   0.4235\n",
       "  93 │    10  -0.4180\n",
       "  94 │     3  -0.0901\n",
       "  95 │     9   0.4718\n",
       "  96 │     1   0.1579\n",
       "  97 │     6   0.8030\n",
       "  98 │     9   0.4695\n",
       "  99 │     1   1.4023\n",
       " 100 │     3  -1.5081\n",
       "\u001b[36m       79 rows omitted\u001b[0m"
      ]
     },
     "execution_count": 14,
     "metadata": {},
     "output_type": "execute_result"
    }
   ],
   "source": [
    "CSV.read(\"./Data/xy.csv\", DataFrame)"
   ]
  },
  {
   "cell_type": "code",
   "execution_count": 15,
   "id": "75c34825",
   "metadata": {},
   "outputs": [
    {
     "data": {
      "text/plain": [
       "([5.0000 0.5874; 1.0000 1.3194; … ; 1.0000 1.4023; 3.0000 -1.5081], AbstractString[\"x\" \"y\"])"
      ]
     },
     "execution_count": 15,
     "metadata": {},
     "output_type": "execute_result"
    }
   ],
   "source": [
    "value, header = readdlm(\"./Data/xy.csv\", ','; header = true)"
   ]
  },
  {
   "cell_type": "code",
   "execution_count": 16,
   "id": "958db61a",
   "metadata": {},
   "outputs": [
    {
     "data": {
      "text/plain": [
       "100×2 Matrix{Float64}:\n",
       "  5.0000   0.5874\n",
       "  1.0000   1.3194\n",
       " 10.0000  -0.2325\n",
       "  4.0000  -0.0953\n",
       "  7.0000  -0.9334\n",
       "  6.0000  -1.4011\n",
       "  3.0000   0.5225\n",
       "  1.0000  -1.1280\n",
       "  9.0000  -1.1825\n",
       "  8.0000   0.2025\n",
       " 10.0000   0.2230\n",
       "  9.0000   1.4362\n",
       "  3.0000  -0.8333\n",
       "  ⋮       \n",
       "  6.0000   0.2200\n",
       "  8.0000  -0.1233\n",
       "  3.0000  -0.8596\n",
       "  1.0000   0.4235\n",
       " 10.0000  -0.4180\n",
       "  3.0000  -0.0901\n",
       "  9.0000   0.4718\n",
       "  1.0000   0.1579\n",
       "  6.0000   0.8030\n",
       "  9.0000   0.4695\n",
       "  1.0000   1.4023\n",
       "  3.0000  -1.5081"
      ]
     },
     "execution_count": 16,
     "metadata": {},
     "output_type": "execute_result"
    }
   ],
   "source": [
    "value"
   ]
  },
  {
   "cell_type": "code",
   "execution_count": 17,
   "id": "67bd3ddd",
   "metadata": {},
   "outputs": [
    {
     "data": {
      "text/plain": [
       "1×2 Matrix{AbstractString}:\n",
       " \"x\"  \"y\""
      ]
     },
     "execution_count": 17,
     "metadata": {},
     "output_type": "execute_result"
    }
   ],
   "source": [
    "header"
   ]
  },
  {
   "cell_type": "code",
   "execution_count": 18,
   "id": "e1ed62d8",
   "metadata": {},
   "outputs": [],
   "source": [
    "using Query"
   ]
  },
  {
   "cell_type": "code",
   "execution_count": 19,
   "id": "afbedf5d",
   "metadata": {},
   "outputs": [
    {
     "data": {
      "application/vnd.dataresource+json": {
       "data": [
        {
         "constant": 1,
         "str": "re",
         "x": 5,
         "xdy": 8.5127,
         "xy": 2.9368,
         "y": 0.5874
        },
        {
         "constant": 1,
         "str": "re",
         "x": 1,
         "xdy": 0.7579,
         "xy": 1.3194,
         "y": 1.3194
        },
        {
         "constant": 1,
         "str": "re",
         "x": 10,
         "xdy": -43.0024,
         "xy": -2.3255,
         "y": -0.2325
        },
        {
         "constant": 1,
         "str": "re",
         "x": 4,
         "xdy": -41.9814,
         "xy": -0.3811,
         "y": -0.0953
        },
        {
         "constant": 1,
         "str": "re",
         "x": 7,
         "xdy": -7.4995,
         "xy": -6.5337,
         "y": -0.9334
        },
        {
         "constant": 1,
         "str": "re",
         "x": 6,
         "xdy": -4.2823,
         "xy": -8.4068,
         "y": -1.4011
        },
        {
         "constant": 1,
         "str": "re",
         "x": 3,
         "xdy": 5.7413,
         "xy": 1.5676,
         "y": 0.5225
        },
        {
         "constant": 1,
         "str": "re",
         "x": 1,
         "xdy": -0.8865,
         "xy": -1.128,
         "y": -1.128
        },
        {
         "constant": 1,
         "str": "re",
         "x": 9,
         "xdy": -7.6113,
         "xy": -10.6421,
         "y": -1.1825
        },
        {
         "constant": 1,
         "str": "re",
         "x": 8,
         "xdy": 39.5052,
         "xy": 1.62,
         "y": 0.2025
        },
        {
         "constant": 1,
         "str": "re",
         "x": 10,
         "xdy": 44.8455,
         "xy": 2.2299,
         "y": 0.223
        },
        {
         "constant": 1,
         "str": "re",
         "x": 9,
         "xdy": 6.2664,
         "xy": 12.9261,
         "y": 1.4362
        },
        {
         "constant": 1,
         "str": "re",
         "x": 3,
         "xdy": -3.6,
         "xy": -2.5,
         "y": -0.8333
        },
        {
         "constant": 1,
         "str": "re",
         "x": 9,
         "xdy": 31.399,
         "xy": 2.5797,
         "y": 0.2866
        },
        {
         "constant": 1,
         "str": "re",
         "x": 1,
         "xdy": 3.5171,
         "xy": 0.2843,
         "y": 0.2843
        },
        {
         "constant": 1,
         "str": "re",
         "x": 10,
         "xdy": 7.4703,
         "xy": 13.3864,
         "y": 1.3386
        },
        {
         "constant": 1,
         "str": "re",
         "x": 2,
         "xdy": -25.4713,
         "xy": -0.157,
         "y": -0.0785
        },
        {
         "constant": 1,
         "str": "re",
         "x": 10,
         "xdy": 6.9239,
         "xy": 14.4428,
         "y": 1.4443
        },
        {
         "constant": 1,
         "str": "re",
         "x": 10,
         "xdy": -9.5495,
         "xy": -10.4718,
         "y": -1.0472
        },
        {
         "constant": 1,
         "str": "re",
         "x": 2,
         "xdy": -3.3061,
         "xy": -1.2099,
         "y": -0.6049
        },
        {
         "constant": 1,
         "str": "re",
         "x": 3,
         "xdy": 4.1587,
         "xy": 2.1641,
         "y": 0.7214
        },
        {
         "constant": 1,
         "str": "re",
         "x": 9,
         "xdy": -21.7423,
         "xy": -3.7255,
         "y": -0.4139
        },
        {
         "constant": 1,
         "str": "re",
         "x": 2,
         "xdy": 1.707,
         "xy": 2.3432,
         "y": 1.1716
        },
        {
         "constant": 1,
         "str": "re",
         "x": 6,
         "xdy": -4.1322,
         "xy": -8.712,
         "y": -1.452
        },
        {
         "constant": 1,
         "str": "re",
         "x": 10,
         "xdy": -16.5984,
         "xy": -6.0247,
         "y": -0.6025
        },
        {
         "constant": 1,
         "str": "re",
         "x": 2,
         "xdy": 1.8706,
         "xy": 2.1383,
         "y": 1.0691
        },
        {
         "constant": 1,
         "str": "re",
         "x": 6,
         "xdy": 5.0933,
         "xy": 7.0681,
         "y": 1.178
        },
        {
         "constant": 1,
         "str": "re",
         "x": 9,
         "xdy": 7.0198,
         "xy": 11.5388,
         "y": 1.2821
        },
        {
         "constant": 1,
         "str": "re",
         "x": 6,
         "xdy": -3.4605,
         "xy": -10.4032,
         "y": -1.7339
        },
        {
         "constant": 1,
         "str": "re",
         "x": 9,
         "xdy": 10.723,
         "xy": 7.5539,
         "y": 0.8393
        },
        {
         "constant": 1,
         "str": "re",
         "x": 4,
         "xdy": 54.2517,
         "xy": 0.2949,
         "y": 0.0737
        },
        {
         "constant": 1,
         "str": "re",
         "x": 2,
         "xdy": -173.2525,
         "xy": -0.0231,
         "y": -0.0115
        },
        {
         "constant": 1,
         "str": "re",
         "x": 8,
         "xdy": 24.4844,
         "xy": 2.6139,
         "y": 0.3267
        },
        {
         "constant": 1,
         "str": "re",
         "x": 10,
         "xdy": -25.5955,
         "xy": -3.9069,
         "y": -0.3907
        },
        {
         "constant": 1,
         "str": "re",
         "x": 8,
         "xdy": -194.8375,
         "xy": -0.3285,
         "y": -0.0411
        },
        {
         "constant": 1,
         "str": "re",
         "x": 6,
         "xdy": -12.3546,
         "xy": -2.9139,
         "y": -0.4856
        },
        {
         "constant": 1,
         "str": "re",
         "x": 1,
         "xdy": 0.8934,
         "xy": 1.1194,
         "y": 1.1194
        },
        {
         "constant": 1,
         "str": "re",
         "x": 2,
         "xdy": -1.7859,
         "xy": -2.2398,
         "y": -1.1199
        },
        {
         "constant": 1,
         "str": "re",
         "x": 2,
         "xdy": -1.8351,
         "xy": -2.1797,
         "y": -1.0899
        },
        {
         "constant": 1,
         "str": "re",
         "x": 5,
         "xdy": -18.3342,
         "xy": -1.3636,
         "y": -0.2727
        },
        {
         "constant": 1,
         "str": "re",
         "x": 8,
         "xdy": -5.6157,
         "xy": -11.3966,
         "y": -1.4246
        },
        {
         "constant": 1,
         "str": "re",
         "x": 8,
         "xdy": -10.4374,
         "xy": -6.1318,
         "y": -0.7665
        },
        {
         "constant": 1,
         "str": "re",
         "x": 5,
         "xdy": -14.5181,
         "xy": -1.722,
         "y": -0.3444
        },
        {
         "constant": 1,
         "str": "re",
         "x": 9,
         "xdy": 6.8953,
         "xy": 11.7471,
         "y": 1.3052
        },
        {
         "constant": 1,
         "str": "re",
         "x": 9,
         "xdy": -5.6704,
         "xy": -14.2848,
         "y": -1.5872
        },
        {
         "constant": 1,
         "str": "re",
         "x": 3,
         "xdy": -20.0062,
         "xy": -0.4499,
         "y": -0.15
        },
        {
         "constant": 1,
         "str": "re",
         "x": 5,
         "xdy": -3.2624,
         "xy": -7.6632,
         "y": -1.5326
        },
        {
         "constant": 1,
         "str": "re",
         "x": 1,
         "xdy": -0.9764,
         "xy": -1.0241,
         "y": -1.0241
        },
        {
         "constant": 1,
         "str": "re",
         "x": 7,
         "xdy": 13.229,
         "xy": 3.704,
         "y": 0.5291
        },
        {
         "constant": 1,
         "str": "re",
         "x": 10,
         "xdy": 6.6344,
         "xy": 15.0729,
         "y": 1.5073
        },
        {
         "constant": 1,
         "str": "re",
         "x": 5,
         "xdy": 17.4208,
         "xy": 1.4351,
         "y": 0.287
        },
        {
         "constant": 1,
         "str": "re",
         "x": 8,
         "xdy": -26.3546,
         "xy": -2.4284,
         "y": -0.3036
        },
        {
         "constant": 1,
         "str": "re",
         "x": 1,
         "xdy": -1.394,
         "xy": -0.7174,
         "y": -0.7174
        },
        {
         "constant": 1,
         "str": "re",
         "x": 7,
         "xdy": 12.6818,
         "xy": 3.8638,
         "y": 0.552
        },
        {
         "constant": 1,
         "str": "re",
         "x": 5,
         "xdy": -11.7144,
         "xy": -2.1341,
         "y": -0.4268
        },
        {
         "constant": 1,
         "str": "re",
         "x": 9,
         "xdy": 143.7093,
         "xy": 0.5636,
         "y": 0.0626
        },
        {
         "constant": 1,
         "str": "re",
         "x": 5,
         "xdy": -4.3187,
         "xy": -5.7888,
         "y": -1.1578
        },
        {
         "constant": 1,
         "str": "re",
         "x": 2,
         "xdy": -1.6887,
         "xy": -2.3687,
         "y": -1.1844
        },
        {
         "constant": 1,
         "str": "re",
         "x": 4,
         "xdy": 4.2847,
         "xy": 3.7342,
         "y": 0.9335
        },
        {
         "constant": 1,
         "str": "re",
         "x": 6,
         "xdy": -10.9143,
         "xy": -3.2984,
         "y": -0.5497
        },
        {
         "constant": 1,
         "str": "re",
         "x": 3,
         "xdy": -31.6242,
         "xy": -0.2846,
         "y": -0.0949
        },
        {
         "constant": 1,
         "str": "re",
         "x": 1,
         "xdy": 0.8521,
         "xy": 1.1735,
         "y": 1.1735
        },
        {
         "constant": 1,
         "str": "re",
         "x": 8,
         "xdy": 127.9661,
         "xy": 0.5001,
         "y": 0.0625
        },
        {
         "constant": 1,
         "str": "re",
         "x": 8,
         "xdy": 21.9558,
         "xy": 2.915,
         "y": 0.3644
        },
        {
         "constant": 1,
         "str": "re",
         "x": 3,
         "xdy": -2.8245,
         "xy": -3.1864,
         "y": -1.0621
        },
        {
         "constant": 1,
         "str": "re",
         "x": 10,
         "xdy": 11.2264,
         "xy": 8.9076,
         "y": 0.8908
        },
        {
         "constant": 1,
         "str": "re",
         "x": 2,
         "xdy": -2.4015,
         "xy": -1.6656,
         "y": -0.8328
        },
        {
         "constant": 1,
         "str": "re",
         "x": 1,
         "xdy": -1.0501,
         "xy": -0.9523,
         "y": -0.9523
        },
        {
         "constant": 1,
         "str": "re",
         "x": 1,
         "xdy": 1.0268,
         "xy": 0.9739,
         "y": 0.9739
        },
        {
         "constant": 1,
         "str": "re",
         "x": 7,
         "xdy": 14.776,
         "xy": 3.3162,
         "y": 0.4737
        },
        {
         "constant": 1,
         "str": "re",
         "x": 8,
         "xdy": 7.2153,
         "xy": 8.87,
         "y": 1.1088
        },
        {
         "constant": 1,
         "str": "re",
         "x": 10,
         "xdy": -15.8933,
         "xy": -6.2919,
         "y": -0.6292
        },
        {
         "constant": 1,
         "str": "re",
         "x": 3,
         "xdy": 11.6111,
         "xy": 0.7751,
         "y": 0.2584
        },
        {
         "constant": 1,
         "str": "re",
         "x": 2,
         "xdy": -56.9245,
         "xy": -0.0703,
         "y": -0.0351
        },
        {
         "constant": 1,
         "str": "re",
         "x": 7,
         "xdy": -11.1948,
         "xy": -4.377,
         "y": -0.6253
        },
        {
         "constant": 1,
         "str": "re",
         "x": 6,
         "xdy": -10.3296,
         "xy": -3.4851,
         "y": -0.5809
        },
        {
         "constant": 1,
         "str": "re",
         "x": 6,
         "xdy": -6.6721,
         "xy": -5.3956,
         "y": -0.8993
        },
        {
         "constant": 1,
         "str": "re",
         "x": 4,
         "xdy": 16.2077,
         "xy": 0.9872,
         "y": 0.2468
        },
        {
         "constant": 1,
         "str": "re",
         "x": 10,
         "xdy": -3.479,
         "xy": -28.7439,
         "y": -2.8744
        },
        {
         "constant": 1,
         "str": "re",
         "x": 5,
         "xdy": -8.0983,
         "xy": -3.0871,
         "y": -0.6174
        },
        {
         "constant": 1,
         "str": "re",
         "x": 8,
         "xdy": -18.3584,
         "xy": -3.4862,
         "y": -0.4358
        },
        {
         "constant": 1,
         "str": "re",
         "x": 2,
         "xdy": 4.7362,
         "xy": 0.8446,
         "y": 0.4223
        },
        {
         "constant": 1,
         "str": "re",
         "x": 1,
         "xdy": -0.576,
         "xy": -1.7362,
         "y": -1.7362
        },
        {
         "constant": 1,
         "str": "re",
         "x": 8,
         "xdy": -5.0093,
         "xy": -12.7763,
         "y": -1.597
        },
        {
         "constant": 1,
         "str": "re",
         "x": 3,
         "xdy": 1.1287,
         "xy": 7.9736,
         "y": 2.6579
        },
        {
         "constant": 1,
         "str": "re",
         "x": 1,
         "xdy": 0.5022,
         "xy": 1.9912,
         "y": 1.9912
        },
        {
         "constant": 1,
         "str": "re",
         "x": 6,
         "xdy": -19.9186,
         "xy": -1.8074,
         "y": -0.3012
        },
        {
         "constant": 1,
         "str": "re",
         "x": 4,
         "xdy": 2.3878,
         "xy": 6.7007,
         "y": 1.6752
        },
        {
         "constant": 1,
         "str": "re",
         "x": 6,
         "xdy": 27.2763,
         "xy": 1.3198,
         "y": 0.22
        },
        {
         "constant": 1,
         "str": "re",
         "x": 8,
         "xdy": -64.8842,
         "xy": -0.9864,
         "y": -0.1233
        },
        {
         "constant": 1,
         "str": "re",
         "x": 3,
         "xdy": -3.49,
         "xy": -2.5788,
         "y": -0.8596
        },
        {
         "constant": 1,
         "str": "re",
         "x": 1,
         "xdy": 2.3613,
         "xy": 0.4235,
         "y": 0.4235
        },
        {
         "constant": 1,
         "str": "re",
         "x": 10,
         "xdy": -23.9261,
         "xy": -4.1795,
         "y": -0.418
        },
        {
         "constant": 1,
         "str": "re",
         "x": 3,
         "xdy": -33.3137,
         "xy": -0.2702,
         "y": -0.0901
        },
        {
         "constant": 1,
         "str": "re",
         "x": 9,
         "xdy": 19.0759,
         "xy": 4.2462,
         "y": 0.4718
        },
        {
         "constant": 1,
         "str": "re",
         "x": 1,
         "xdy": 6.3335,
         "xy": 0.1579,
         "y": 0.1579
        },
        {
         "constant": 1,
         "str": "re",
         "x": 6,
         "xdy": 7.4721,
         "xy": 4.8179,
         "y": 0.803
        },
        {
         "constant": 1,
         "str": "re",
         "x": 9,
         "xdy": 19.1676,
         "xy": 4.2259,
         "y": 0.4695
        },
        {
         "constant": 1,
         "str": "re",
         "x": 1,
         "xdy": 0.7131,
         "xy": 1.4023,
         "y": 1.4023
        },
        {
         "constant": 1,
         "str": "re",
         "x": 3,
         "xdy": -1.9892,
         "xy": -4.5244,
         "y": -1.5081
        }
       ],
       "schema": {
        "fields": [
         {
          "name": "x",
          "type": "integer"
         },
         {
          "name": "y",
          "type": "number"
         },
         {
          "name": "xy",
          "type": "number"
         },
         {
          "name": "xdy",
          "type": "number"
         },
         {
          "name": "str",
          "type": "string"
         },
         {
          "name": "constant",
          "type": "integer"
         }
        ]
       }
      },
      "text/html": [
       "<table><thead><tr><th>x</th><th>y</th><th>xy</th><th>xdy</th><th>str</th><th>constant</th></tr></thead><tbody><tr><td>5</td><td>0.5874</td><td>2.9368</td><td>8.5127</td><td>&quot;re&quot;</td><td>1</td></tr><tr><td>1</td><td>1.3194</td><td>1.3194</td><td>0.7579</td><td>&quot;re&quot;</td><td>1</td></tr><tr><td>10</td><td>-0.2325</td><td>-2.3255</td><td>-43.0024</td><td>&quot;re&quot;</td><td>1</td></tr><tr><td>4</td><td>-0.0953</td><td>-0.3811</td><td>-41.9814</td><td>&quot;re&quot;</td><td>1</td></tr><tr><td>7</td><td>-0.9334</td><td>-6.5337</td><td>-7.4995</td><td>&quot;re&quot;</td><td>1</td></tr><tr><td>6</td><td>-1.4011</td><td>-8.4068</td><td>-4.2823</td><td>&quot;re&quot;</td><td>1</td></tr><tr><td>3</td><td>0.5225</td><td>1.5676</td><td>5.7413</td><td>&quot;re&quot;</td><td>1</td></tr><tr><td>1</td><td>-1.1280</td><td>-1.1280</td><td>-0.8865</td><td>&quot;re&quot;</td><td>1</td></tr><tr><td>9</td><td>-1.1825</td><td>-10.6421</td><td>-7.6113</td><td>&quot;re&quot;</td><td>1</td></tr><tr><td>8</td><td>0.2025</td><td>1.6200</td><td>39.5052</td><td>&quot;re&quot;</td><td>1</td></tr><tr><td>&vellip;</td><td>&vellip;</td><td>&vellip;</td><td>&vellip;</td><td>&vellip;</td><td>&vellip;</td></tr></tbody></table><p>... with 90 more rows.</p>"
      ],
      "text/plain": [
       "100x6 query result\n",
       "x  │ y       │ xy       │ xdy      │ str │ constant\n",
       "───┼─────────┼──────────┼──────────┼─────┼─────────\n",
       "5  │ 0.5874  │ 2.9368   │ 8.5127   │ re  │ 1       \n",
       "1  │ 1.3194  │ 1.3194   │ 0.7579   │ re  │ 1       \n",
       "10 │ -0.2325 │ -2.3255  │ -43.0024 │ re  │ 1       \n",
       "4  │ -0.0953 │ -0.3811  │ -41.9814 │ re  │ 1       \n",
       "7  │ -0.9334 │ -6.5337  │ -7.4995  │ re  │ 1       \n",
       "6  │ -1.4011 │ -8.4068  │ -4.2823  │ re  │ 1       \n",
       "3  │ 0.5225  │ 1.5676   │ 5.7413   │ re  │ 1       \n",
       "1  │ -1.1280 │ -1.1280  │ -0.8865  │ re  │ 1       \n",
       "9  │ -1.1825 │ -10.6421 │ -7.6113  │ re  │ 1       \n",
       "8  │ 0.2025  │ 1.6200   │ 39.5052  │ re  │ 1       \n",
       "... with 90 more rows"
      ]
     },
     "execution_count": 19,
     "metadata": {},
     "output_type": "execute_result"
    }
   ],
   "source": [
    "df |>\n",
    "    @mutate(xy = _.x .* _.y, xdy = _.x ./ _.y, str .= \"re\", constant .= 1)"
   ]
  },
  {
   "cell_type": "code",
   "execution_count": 29,
   "id": "19fbec01",
   "metadata": {},
   "outputs": [],
   "source": [
    "using CairoMakie"
   ]
  },
  {
   "cell_type": "code",
   "execution_count": 51,
   "id": "f907957c",
   "metadata": {},
   "outputs": [
    {
     "data": {
      "text/plain": [
       "Axis with 1 plots:\n",
       " ┗━ Mesh{Tuple{GeometryBasics.Mesh{3, Float32, GeometryBasics.TriangleP{3, Float32, GeometryBasics.PointMeta{3, Float32, Point{3, Float32}, (:normals,), Tuple{Vec{3, Float32}}}}, GeometryBasics.FaceView{GeometryBasics.TriangleP{3, Float32, GeometryBasics.PointMeta{3, Float32, Point{3, Float32}, (:normals,), Tuple{Vec{3, Float32}}}}, GeometryBasics.PointMeta{3, Float32, Point{3, Float32}, (:normals,), Tuple{Vec{3, Float32}}}, GeometryBasics.NgonFace{3, GeometryBasics.OffsetInteger{-1, UInt32}}, StructArrays.StructVector{GeometryBasics.PointMeta{3, Float32, Point{3, Float32}, (:normals,), Tuple{Vec{3, Float32}}}, NamedTuple{(:position, :normals), Tuple{Vector{Point{3, Float32}}, Vector{Vec{3, Float32}}}}, Int64}, Vector{GeometryBasics.NgonFace{3, GeometryBasics.OffsetInteger{-1, UInt32}}}}}}}\n"
      ]
     },
     "execution_count": 51,
     "metadata": {},
     "output_type": "execute_result"
    }
   ],
   "source": [
    "f = Figure(;resolution = (1200, 500), font_size = 12);\n",
    "ax = Axis(f[1, 1])"
   ]
  },
  {
   "cell_type": "code",
   "execution_count": 52,
   "id": "576a0ad9",
   "metadata": {},
   "outputs": [
    {
     "data": {
      "text/plain": [
       "Combined{Makie.density, Tuple{Vector{Float64}}}"
      ]
     },
     "execution_count": 52,
     "metadata": {},
     "output_type": "execute_result"
    }
   ],
   "source": [
    "density!(ax, df.y)"
   ]
  },
  {
   "cell_type": "code",
   "execution_count": 53,
   "id": "c43ce469",
   "metadata": {},
   "outputs": [
    {
     "data": {
      "image/png": "[encoded data removed]",
      "text/plain": [
       "Figure()"
      ]
     },
     "execution_count": 53,
     "metadata": {},
     "output_type": "execute_result"
    }
   ],
   "source": [
    "f"
   ]
  },
  {
   "cell_type": "code",
   "execution_count": 54,
   "id": "525c545d",
   "metadata": {},
   "outputs": [
    {
     "data": {
      "text/plain": [
       "10"
      ]
     },
     "execution_count": 54,
     "metadata": {},
     "output_type": "execute_result"
    }
   ],
   "source": [
    "maximum(df.x)"
   ]
  }
 ],
 "metadata": {
  "kernelspec": {
   "display_name": "Julia 1.8.0",
   "language": "julia",
   "name": "julia-1.8"
  },
  "language_info": {
   "file_extension": ".jl",
   "mimetype": "application/julia",
   "name": "julia",
   "version": "1.8.0"
  },
  "latex_envs": {
   "LaTeX_envs_menu_present": true,
   "autoclose": false,
   "autocomplete": true,
   "bibliofile": "biblio.bib",
   "cite_by": "apalike",
   "current_citInitial": 1,
   "eqLabelWithNumbers": true,
   "eqNumInitial": 1,
   "hotkeys": {
    "equation": "Ctrl-E",
    "itemize": "Ctrl-I"
   },
   "labels_anchors": false,
   "latex_user_defs": false,
   "report_style_numbering": false,
   "user_envs_cfg": false
  },
  "toc": {
   "base_numbering": 1,
   "nav_menu": {},
   "number_sections": true,
   "sideBar": true,
   "skip_h1_title": false,
   "title_cell": "Table of Contents",
   "title_sidebar": "Contents",
   "toc_cell": false,
   "toc_position": {
    "height": "calc(100% - 180px)",
    "left": "10px",
    "top": "150px",
    "width": "392.146px"
   },
   "toc_section_display": true,
   "toc_window_display": true
  }
 },
 "nbformat": 4,
 "nbformat_minor": 5
}
