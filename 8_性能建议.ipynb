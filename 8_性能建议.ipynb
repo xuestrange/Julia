{
 "cells": [
  {
   "cell_type": "markdown",
   "id": "2e6b944d",
   "metadata": {},
   "source": [
    "# 性能建议"
   ]
  },
  {
   "cell_type": "markdown",
   "id": "da67c601",
   "metadata": {},
   "source": [
    "+ 编写类型稳定的代码\n",
    "  - Julia程序执行分为编译期和执行期，编译期就能确定变量类型的代码为类型稳定的代码， 如果必须要程序真正跑起来才能确定变量类型，那说明类型不稳定，可以用`@code_warntype`检查\n",
    "  - Julia的编译器会自动进行类型推断，一般来说不需要进行类型标注，除了含糊不清的情况\n",
    "+ 避免内存分配\n",
    "  - 必要时使用数组的视图，而不是copy\n",
    "+ 并行计算(适用于计算顺序不影响最终结果的for-loop中)\n",
    "  - `@simd` 单指令多数据\n",
    "  - `@turbo` 进阶版的`@simd`， 可以替代`@inbounds @simd`\n",
    "  - `@threads` 单进程多线程，共享一块内存区域\n",
    "  - 多进程与分布式数据（或者copy数据到所有其它julia进程），每个julia程序单独享用一块内存区域\n",
    "  - 以上几种， 优先使用`@turbo`， 其次使用多线程"
   ]
  },
  {
   "cell_type": "markdown",
   "id": "2be34543",
   "metadata": {},
   "source": [
    "## 避免定义全局变量\n",
    "+ 避免使用`global x = 0`来定义全局变量\n",
    "+ 使用`const x = 0`定义全局常量对性能是有益的"
   ]
  },
  {
   "cell_type": "markdown",
   "id": "37ac5466",
   "metadata": {},
   "source": [
    "## @btime进行性能比较"
   ]
  },
  {
   "cell_type": "markdown",
   "id": "01ce57b0",
   "metadata": {},
   "source": [
    "`@btime`用来判断程序执行时间和内存分配，julia自带的`@time`第一次执行加入了编译时间，建议使用`@btime`多次执行`@benchmark`后取的最小时间，不包括编译时间，可能会比较慢"
   ]
  },
  {
   "cell_type": "code",
   "execution_count": 1,
   "id": "5a74308b",
   "metadata": {},
   "outputs": [],
   "source": [
    "using BenchmarkTools"
   ]
  },
  {
   "cell_type": "code",
   "execution_count": 2,
   "id": "d9f5b5e0",
   "metadata": {},
   "outputs": [
    {
     "name": "stdout",
     "output_type": "stream",
     "text": [
      "  49.443 ns (0 allocations: 0 bytes)\n"
     ]
    },
    {
     "data": {
      "text/plain": [
       "1.4111883712180104"
      ]
     },
     "execution_count": 2,
     "metadata": {},
     "output_type": "execute_result"
    }
   ],
   "source": [
    "@btime mapreduce(x->sin(x), +, 1:10)"
   ]
  },
  {
   "cell_type": "code",
   "execution_count": 3,
   "id": "82f76082",
   "metadata": {},
   "outputs": [
    {
     "data": {
      "text/plain": [
       "BenchmarkTools.Trial: 10000 samples with 987 evaluations.\n",
       " Range \u001b[90m(\u001b[39m\u001b[36m\u001b[1mmin\u001b[22m\u001b[39m … \u001b[35mmax\u001b[39m\u001b[90m):  \u001b[39m\u001b[36m\u001b[1m51.773 ns\u001b[22m\u001b[39m … \u001b[35m125.228 ns\u001b[39m  \u001b[90m┊\u001b[39m GC \u001b[90m(\u001b[39mmin … max\u001b[90m): \u001b[39m0.00% … 0.00%\n",
       " Time  \u001b[90m(\u001b[39m\u001b[34m\u001b[1mmedian\u001b[22m\u001b[39m\u001b[90m):     \u001b[39m\u001b[34m\u001b[1m51.976 ns               \u001b[22m\u001b[39m\u001b[90m┊\u001b[39m GC \u001b[90m(\u001b[39mmedian\u001b[90m):    \u001b[39m0.00%\n",
       " Time  \u001b[90m(\u001b[39m\u001b[32m\u001b[1mmean\u001b[22m\u001b[39m ± \u001b[32mσ\u001b[39m\u001b[90m):   \u001b[39m\u001b[32m\u001b[1m52.496 ns\u001b[22m\u001b[39m ± \u001b[32m  3.199 ns\u001b[39m  \u001b[90m┊\u001b[39m GC \u001b[90m(\u001b[39mmean ± σ\u001b[90m):  \u001b[39m0.00% ± 0.00%\n",
       "\n",
       "  \u001b[39m▄\u001b[34m█\u001b[39m\u001b[39m▃\u001b[39m▄\u001b[39m▂\u001b[32m▂\u001b[39m\u001b[39m \u001b[39m▂\u001b[39m \u001b[39m \u001b[39m \u001b[39m \u001b[39m \u001b[39m \u001b[39m \u001b[39m \u001b[39m \u001b[39m \u001b[39m \u001b[39m \u001b[39m \u001b[39m \u001b[39m \u001b[39m \u001b[39m \u001b[39m \u001b[39m \u001b[39m \u001b[39m \u001b[39m \u001b[39m \u001b[39m \u001b[39m \u001b[39m \u001b[39m \u001b[39m \u001b[39m \u001b[39m \u001b[39m \u001b[39m \u001b[39m \u001b[39m \u001b[39m \u001b[39m \u001b[39m \u001b[39m \u001b[39m \u001b[39m \u001b[39m \u001b[39m \u001b[39m \u001b[39m \u001b[39m \u001b[39m \u001b[39m \u001b[39m \u001b[39m \u001b[39m \u001b[39m \u001b[39m \u001b[39m \u001b[39m▁\n",
       "  \u001b[39m█\u001b[34m█\u001b[39m\u001b[39m█\u001b[39m█\u001b[39m█\u001b[32m█\u001b[39m\u001b[39m█\u001b[39m█\u001b[39m█\u001b[39m▇\u001b[39m█\u001b[39m▆\u001b[39m▆\u001b[39m▅\u001b[39m▅\u001b[39m▅\u001b[39m▅\u001b[39m▅\u001b[39m▄\u001b[39m▅\u001b[39m▃\u001b[39m▃\u001b[39m▄\u001b[39m▁\u001b[39m▅\u001b[39m▄\u001b[39m▆\u001b[39m▆\u001b[39m█\u001b[39m▇\u001b[39m▆\u001b[39m▇\u001b[39m▆\u001b[39m▆\u001b[39m▅\u001b[39m▇\u001b[39m▅\u001b[39m▆\u001b[39m▆\u001b[39m▅\u001b[39m▆\u001b[39m▃\u001b[39m▅\u001b[39m▃\u001b[39m▅\u001b[39m▄\u001b[39m▄\u001b[39m▄\u001b[39m▄\u001b[39m▅\u001b[39m▃\u001b[39m▄\u001b[39m▃\u001b[39m▁\u001b[39m▅\u001b[39m▁\u001b[39m▁\u001b[39m▁\u001b[39m▁\u001b[39m▄\u001b[39m \u001b[39m█\n",
       "  51.8 ns\u001b[90m       \u001b[39m\u001b[90mHistogram: \u001b[39m\u001b[90m\u001b[1mlog(\u001b[22m\u001b[39m\u001b[90mfrequency\u001b[39m\u001b[90m\u001b[1m)\u001b[22m\u001b[39m\u001b[90m by time\u001b[39m      61.3 ns \u001b[0m\u001b[1m<\u001b[22m\n",
       "\n",
       " Memory estimate\u001b[90m: \u001b[39m\u001b[33m0 bytes\u001b[39m, allocs estimate\u001b[90m: \u001b[39m\u001b[33m0\u001b[39m."
      ]
     },
     "execution_count": 3,
     "metadata": {},
     "output_type": "execute_result"
    }
   ],
   "source": [
    "@benchmark mapreduce(x->sin(x), +, 1:10)"
   ]
  },
  {
   "cell_type": "markdown",
   "id": "f461355a",
   "metadata": {},
   "source": [
    "## @code_warntype判断类型是否稳定"
   ]
  },
  {
   "cell_type": "code",
   "execution_count": 4,
   "id": "98d7cf7f",
   "metadata": {},
   "outputs": [
    {
     "data": {
      "text/plain": [
       "mysum (generic function with 1 method)"
      ]
     },
     "execution_count": 4,
     "metadata": {},
     "output_type": "execute_result"
    }
   ],
   "source": [
    "function mysum(A)\n",
    "    s = 0\n",
    "    for a in A\n",
    "        s += a\n",
    "    end\n",
    "    return s\n",
    "end"
   ]
  },
  {
   "cell_type": "code",
   "execution_count": 5,
   "id": "6be720ca",
   "metadata": {},
   "outputs": [
    {
     "name": "stdout",
     "output_type": "stream",
     "text": [
      "MethodInstance for mysum(::Vector{Float64})\n",
      "  from mysum(A) in Main at In[4]:1\n",
      "Arguments\n",
      "  #self#\u001b[36m::Core.Const(mysum)\u001b[39m\n",
      "  A\u001b[36m::Vector{Float64}\u001b[39m\n",
      "Locals\n",
      "  @_3\u001b[33m\u001b[1m::Union{Nothing, Tuple{Float64, Int64}}\u001b[22m\u001b[39m\n",
      "  s\u001b[91m\u001b[1m::Union{Float64, Int64}\u001b[22m\u001b[39m\n",
      "  a\u001b[36m::Float64\u001b[39m\n",
      "Body\u001b[91m\u001b[1m::Union{Float64, Int64}\u001b[22m\u001b[39m\n",
      "\u001b[90m1 ─\u001b[39m       (s = 0)\n",
      "\u001b[90m│  \u001b[39m %2  = A\u001b[36m::Vector{Float64}\u001b[39m\n",
      "\u001b[90m│  \u001b[39m       (@_3 = Base.iterate(%2))\n",
      "\u001b[90m│  \u001b[39m %4  = (@_3 === nothing)\u001b[36m::Bool\u001b[39m\n",
      "\u001b[90m│  \u001b[39m %5  = Base.not_int(%4)\u001b[36m::Bool\u001b[39m\n",
      "\u001b[90m└──\u001b[39m       goto #4 if not %5\n",
      "\u001b[90m2 ┄\u001b[39m %7  = @_3\u001b[36m::Tuple{Float64, Int64}\u001b[39m\n",
      "\u001b[90m│  \u001b[39m       (a = Core.getfield(%7, 1))\n",
      "\u001b[90m│  \u001b[39m %9  = Core.getfield(%7, 2)\u001b[36m::Int64\u001b[39m\n",
      "\u001b[90m│  \u001b[39m       (s = s + a)\n",
      "\u001b[90m│  \u001b[39m       (@_3 = Base.iterate(%2, %9))\n",
      "\u001b[90m│  \u001b[39m %12 = (@_3 === nothing)\u001b[36m::Bool\u001b[39m\n",
      "\u001b[90m│  \u001b[39m %13 = Base.not_int(%12)\u001b[36m::Bool\u001b[39m\n",
      "\u001b[90m└──\u001b[39m       goto #4 if not %13\n",
      "\u001b[90m3 ─\u001b[39m       goto #2\n",
      "\u001b[90m4 ┄\u001b[39m       return s\n",
      "\n"
     ]
    }
   ],
   "source": [
    "a = rand(10^7)\n",
    "@code_warntype mysum(a)"
   ]
  },
  {
   "cell_type": "markdown",
   "id": "6564cca8",
   "metadata": {},
   "source": [
    "关注输出中的红色字体，红色表示类型不稳定的代码声明, `s`既可能是Float64也可能是Int64类型，类型不稳定"
   ]
  },
  {
   "cell_type": "code",
   "execution_count": 6,
   "id": "a37028a0",
   "metadata": {},
   "outputs": [
    {
     "data": {
      "text/plain": [
       "mysum2 (generic function with 1 method)"
      ]
     },
     "execution_count": 6,
     "metadata": {},
     "output_type": "execute_result"
    }
   ],
   "source": [
    "function mysum2(A)\n",
    "    s = zero(A)\n",
    "    for a in A\n",
    "        s += a\n",
    "    end\n",
    "    return s\n",
    "end"
   ]
  },
  {
   "cell_type": "code",
   "execution_count": 7,
   "id": "27cc124b",
   "metadata": {},
   "outputs": [
    {
     "name": "stdout",
     "output_type": "stream",
     "text": [
      "MethodInstance for mysum2(::Vector{Float64})\n",
      "  from mysum2(A) in Main at In[6]:1\n",
      "Arguments\n",
      "  #self#\u001b[36m::Core.Const(mysum2)\u001b[39m\n",
      "  A\u001b[36m::Vector{Float64}\u001b[39m\n",
      "Locals\n",
      "  @_3\u001b[33m\u001b[1m::Union{Nothing, Tuple{Float64, Int64}}\u001b[22m\u001b[39m\n",
      "  s\u001b[36m::Vector{Float64}\u001b[39m\n",
      "  a\u001b[36m::Float64\u001b[39m\n",
      "Body\u001b[36m::Vector{Float64}\u001b[39m\n",
      "\u001b[90m1 ─\u001b[39m      (s = Main.zero(A))\n",
      "\u001b[90m│  \u001b[39m %2 = A\u001b[36m::Vector{Float64}\u001b[39m\n",
      "\u001b[90m│  \u001b[39m      (@_3 = Base.iterate(%2))\n",
      "\u001b[90m│  \u001b[39m %4 = (@_3 === nothing)\u001b[36m::Bool\u001b[39m\n",
      "\u001b[90m│  \u001b[39m %5 = Base.not_int(%4)\u001b[36m::Bool\u001b[39m\n",
      "\u001b[90m└──\u001b[39m      goto #3 if not %5\n",
      "\u001b[90m2 ─\u001b[39m %7 = @_3\u001b[36m::Tuple{Float64, Int64}\u001b[39m\n",
      "\u001b[90m│  \u001b[39m      (a = Core.getfield(%7, 1))\n",
      "\u001b[90m│  \u001b[39m      Core.getfield(%7, 2)\n",
      "\u001b[90m│  \u001b[39m      (s = s + a)\n",
      "\u001b[90m│  \u001b[39m      Core.Const(:(@_3 = Base.iterate(%2, %9)))\n",
      "\u001b[90m│  \u001b[39m      Core.Const(:(@_3 === nothing))\n",
      "\u001b[90m│  \u001b[39m      Core.Const(:(Base.not_int(%12)))\n",
      "\u001b[90m│  \u001b[39m      Core.Const(:(goto %16 if not %13))\n",
      "\u001b[90m└──\u001b[39m      Core.Const(:(goto %7))\n",
      "\u001b[90m3 ┄\u001b[39m      return s\n",
      "\n"
     ]
    }
   ],
   "source": [
    "@code_warntype mysum2(rand(10))"
   ]
  },
  {
   "cell_type": "markdown",
   "id": "acc2a442",
   "metadata": {},
   "source": [
    "## 广播VS循环"
   ]
  },
  {
   "cell_type": "markdown",
   "id": "99be0df3",
   "metadata": {},
   "source": [
    "R和Matlab的向量化代码比较快的原因是\n",
    "+ 向量化代码用C语言展开为for-loop，不受到R或Matlab本身的限制\n",
    "+ 底层使用C时，数值类型明确，可以触发更加高效的优化手段（如simd）"
   ]
  },
  {
   "cell_type": "code",
   "execution_count": 8,
   "id": "f251a10b",
   "metadata": {},
   "outputs": [],
   "source": [
    "N = 1000\n",
    "a = randn(N)\n",
    "b = randn(N)\n",
    "c = rand(N)\n",
    "d = randn(N) * 2;"
   ]
  },
  {
   "cell_type": "code",
   "execution_count": 9,
   "id": "0d0f5605",
   "metadata": {},
   "outputs": [
    {
     "data": {
      "text/plain": [
       "testdot (generic function with 1 method)"
      ]
     },
     "execution_count": 9,
     "metadata": {},
     "output_type": "execute_result"
    }
   ],
   "source": [
    "function testdot(a, b, c, d)\n",
    "    return sum(a .* b .+ c./ d .- 1) \n",
    "end"
   ]
  },
  {
   "cell_type": "code",
   "execution_count": 10,
   "id": "36678a4a",
   "metadata": {},
   "outputs": [
    {
     "name": "stdout",
     "output_type": "stream",
     "text": [
      "  1.170 μs (1 allocation: 7.94 KiB)\n"
     ]
    },
    {
     "data": {
      "text/plain": [
       "-1005.6076372449912"
      ]
     },
     "execution_count": 10,
     "metadata": {},
     "output_type": "execute_result"
    }
   ],
   "source": [
    "@btime testdot($a, $b, $c, $d)"
   ]
  },
  {
   "cell_type": "code",
   "execution_count": 11,
   "id": "5b9de372",
   "metadata": {},
   "outputs": [
    {
     "name": "stdout",
     "output_type": "stream",
     "text": [
      "  488.601 ns (0 allocations: 0 bytes)\n"
     ]
    },
    {
     "data": {
      "text/plain": [
       "-1005.6076372449912"
      ]
     },
     "execution_count": 11,
     "metadata": {},
     "output_type": "execute_result"
    }
   ],
   "source": [
    "function testloop(a, b, c, d)\n",
    "    s = zero(eltype(a))\n",
    "    @inbounds @simd for i in eachindex(a)\n",
    "        s += a[i] * b[i] + c[i] / d[i] - 1\n",
    "    end\n",
    "    return s;\n",
    "end\n",
    "\n",
    "@btime testloop($a, $b, $c, $d)"
   ]
  },
  {
   "cell_type": "markdown",
   "id": "587a6c50",
   "metadata": {},
   "source": [
    "注意这里的for-loop版本的计算很明显要快于向量化计算，原因在于这么几个方面\n",
    "+ 向量化代码需要更高的内存占用，储存的中间变量为矩阵\n",
    "+ for-loop使用`@inbounds`，避免了数组边界检查（配合`eachindex`可以确保不会越界）\n",
    "+ for-loop使用`@simd`，CPU级别的并行，意思是`单指令多数据`，在有AVX指令的Intel CPU的效果最好，原理在于，寄存器较大，一次运算可以同时处理载入的4批数据（4 * 64= 256 bit），注意事项：用在单层循环，循环的顺序对结果没有影响时才可以使用\n",
    "+ **不使用`@simd` `@inbounds`的循环性能不如向量化版本**\n",
    "\n",
    "在实际使用中， 向量化操作简洁易懂， 如果把向量化操作写成for-loop的形式，可以单独把它写成一个函数，这样能让程序更简洁"
   ]
  },
  {
   "cell_type": "code",
   "execution_count": 61,
   "id": "3af63a08",
   "metadata": {
    "scrolled": false
   },
   "outputs": [
    {
     "name": "stdout",
     "output_type": "stream",
     "text": [
      "\u001b[90m;  @ In[11]:1 within `testloop`\u001b[39m\n",
      "\u001b[90m; Function Attrs: uwtable\u001b[39m\n",
      "\u001b[95mdefine\u001b[39m \u001b[36mdouble\u001b[39m \u001b[93m@julia_testloop_7763\u001b[39m\u001b[33m(\u001b[39m\u001b[33m{\u001b[39m\u001b[33m}\u001b[39m\u001b[0m* \u001b[95mnonnull\u001b[39m \u001b[95malign\u001b[39m \u001b[33m16\u001b[39m \u001b[95mdereferenceable\u001b[39m\u001b[33m(\u001b[39m\u001b[33m40\u001b[39m\u001b[33m)\u001b[39m \u001b[0m%0\u001b[0m, \u001b[33m{\u001b[39m\u001b[33m}\u001b[39m\u001b[0m* \u001b[95mnonnull\u001b[39m \u001b[95malign\u001b[39m \u001b[33m16\u001b[39m \u001b[95mdereferenceable\u001b[39m\u001b[33m(\u001b[39m\u001b[33m40\u001b[39m\u001b[33m)\u001b[39m \u001b[0m%1\u001b[0m, \u001b[33m{\u001b[39m\u001b[33m}\u001b[39m\u001b[0m* \u001b[95mnonnull\u001b[39m \u001b[95malign\u001b[39m \u001b[33m16\u001b[39m \u001b[95mdereferenceable\u001b[39m\u001b[33m(\u001b[39m\u001b[33m40\u001b[39m\u001b[33m)\u001b[39m \u001b[0m%2\u001b[0m, \u001b[33m{\u001b[39m\u001b[33m}\u001b[39m\u001b[0m* \u001b[95mnonnull\u001b[39m \u001b[95malign\u001b[39m \u001b[33m16\u001b[39m \u001b[95mdereferenceable\u001b[39m\u001b[33m(\u001b[39m\u001b[33m40\u001b[39m\u001b[33m)\u001b[39m \u001b[0m%3\u001b[33m)\u001b[39m \u001b[0m#0 \u001b[33m{\u001b[39m\n",
      "\u001b[91mtop:\u001b[39m\n",
      "\u001b[90m;  @ In[11]:3 within `testloop`\u001b[39m\n",
      "\u001b[90m; ┌ @ simdloop.jl:69 within `macro expansion`\u001b[39m\n",
      "\u001b[90m; │┌ @ abstractarray.jl:324 within `eachindex` @ abstractarray.jl:334\u001b[39m\n",
      "\u001b[90m; ││┌ @ array.jl:215 within `length`\u001b[39m\n",
      "     \u001b[0m%4 \u001b[0m= \u001b[96m\u001b[1mbitcast\u001b[22m\u001b[39m \u001b[33m{\u001b[39m\u001b[33m}\u001b[39m\u001b[0m* \u001b[0m%0 \u001b[95mto\u001b[39m \u001b[33m{\u001b[39m \u001b[36mi8\u001b[39m\u001b[0m*\u001b[0m, \u001b[36mi64\u001b[39m\u001b[0m, \u001b[36mi16\u001b[39m\u001b[0m, \u001b[36mi16\u001b[39m\u001b[0m, \u001b[36mi32\u001b[39m \u001b[33m}\u001b[39m\u001b[0m*\n",
      "     \u001b[0m%5 \u001b[0m= \u001b[96m\u001b[1mgetelementptr\u001b[22m\u001b[39m \u001b[95minbounds\u001b[39m \u001b[33m{\u001b[39m \u001b[36mi8\u001b[39m\u001b[0m*\u001b[0m, \u001b[36mi64\u001b[39m\u001b[0m, \u001b[36mi16\u001b[39m\u001b[0m, \u001b[36mi16\u001b[39m\u001b[0m, \u001b[36mi32\u001b[39m \u001b[33m}\u001b[39m\u001b[0m, \u001b[33m{\u001b[39m \u001b[36mi8\u001b[39m\u001b[0m*\u001b[0m, \u001b[36mi64\u001b[39m\u001b[0m, \u001b[36mi16\u001b[39m\u001b[0m, \u001b[36mi16\u001b[39m\u001b[0m, \u001b[36mi32\u001b[39m \u001b[33m}\u001b[39m\u001b[0m* \u001b[0m%4\u001b[0m, \u001b[36mi64\u001b[39m \u001b[33m0\u001b[39m\u001b[0m, \u001b[36mi32\u001b[39m \u001b[33m1\u001b[39m\n",
      "     \u001b[0m%6 \u001b[0m= \u001b[96m\u001b[1mload\u001b[22m\u001b[39m \u001b[36mi64\u001b[39m\u001b[0m, \u001b[36mi64\u001b[39m\u001b[0m* \u001b[0m%5\u001b[0m, \u001b[95malign\u001b[39m \u001b[33m8\u001b[39m\n",
      "\u001b[90m; └└└\u001b[39m\n",
      "\u001b[90m; ┌ @ simdloop.jl:72 within `macro expansion`\u001b[39m\n",
      "\u001b[90m; │┌ @ int.jl:83 within `<`\u001b[39m\n",
      "    \u001b[0m%.not \u001b[0m= \u001b[96m\u001b[1micmp\u001b[22m\u001b[39m \u001b[96m\u001b[1meq\u001b[22m\u001b[39m \u001b[36mi64\u001b[39m \u001b[0m%6\u001b[0m, \u001b[33m0\u001b[39m\n",
      "\u001b[90m; │└\u001b[39m\n",
      "   \u001b[96m\u001b[1mbr\u001b[22m\u001b[39m \u001b[36mi1\u001b[39m \u001b[0m%.not\u001b[0m, \u001b[36mlabel\u001b[39m \u001b[91m%L37\u001b[39m\u001b[0m, \u001b[36mlabel\u001b[39m \u001b[91m%L13.lr.ph\u001b[39m\n",
      "\n",
      "\u001b[91mL13.lr.ph:\u001b[39m                                        \u001b[90m; preds = %top\u001b[39m\n",
      "   \u001b[0m%7 \u001b[0m= \u001b[96m\u001b[1mbitcast\u001b[22m\u001b[39m \u001b[33m{\u001b[39m\u001b[33m}\u001b[39m\u001b[0m* \u001b[0m%0 \u001b[95mto\u001b[39m \u001b[36mdouble\u001b[39m\u001b[0m**\n",
      "   \u001b[0m%8 \u001b[0m= \u001b[96m\u001b[1mload\u001b[22m\u001b[39m \u001b[36mdouble\u001b[39m\u001b[0m*\u001b[0m, \u001b[36mdouble\u001b[39m\u001b[0m** \u001b[0m%7\u001b[0m, \u001b[95malign\u001b[39m \u001b[33m8\u001b[39m\n",
      "   \u001b[0m%9 \u001b[0m= \u001b[96m\u001b[1mbitcast\u001b[22m\u001b[39m \u001b[33m{\u001b[39m\u001b[33m}\u001b[39m\u001b[0m* \u001b[0m%1 \u001b[95mto\u001b[39m \u001b[36mdouble\u001b[39m\u001b[0m**\n",
      "   \u001b[0m%10 \u001b[0m= \u001b[96m\u001b[1mload\u001b[22m\u001b[39m \u001b[36mdouble\u001b[39m\u001b[0m*\u001b[0m, \u001b[36mdouble\u001b[39m\u001b[0m** \u001b[0m%9\u001b[0m, \u001b[95malign\u001b[39m \u001b[33m8\u001b[39m\n",
      "   \u001b[0m%11 \u001b[0m= \u001b[96m\u001b[1mbitcast\u001b[22m\u001b[39m \u001b[33m{\u001b[39m\u001b[33m}\u001b[39m\u001b[0m* \u001b[0m%2 \u001b[95mto\u001b[39m \u001b[36mdouble\u001b[39m\u001b[0m**\n",
      "   \u001b[0m%12 \u001b[0m= \u001b[96m\u001b[1mload\u001b[22m\u001b[39m \u001b[36mdouble\u001b[39m\u001b[0m*\u001b[0m, \u001b[36mdouble\u001b[39m\u001b[0m** \u001b[0m%11\u001b[0m, \u001b[95malign\u001b[39m \u001b[33m8\u001b[39m\n",
      "   \u001b[0m%13 \u001b[0m= \u001b[96m\u001b[1mbitcast\u001b[22m\u001b[39m \u001b[33m{\u001b[39m\u001b[33m}\u001b[39m\u001b[0m* \u001b[0m%3 \u001b[95mto\u001b[39m \u001b[36mdouble\u001b[39m\u001b[0m**\n",
      "   \u001b[0m%14 \u001b[0m= \u001b[96m\u001b[1mload\u001b[22m\u001b[39m \u001b[36mdouble\u001b[39m\u001b[0m*\u001b[0m, \u001b[36mdouble\u001b[39m\u001b[0m** \u001b[0m%13\u001b[0m, \u001b[95malign\u001b[39m \u001b[33m8\u001b[39m\n",
      "\u001b[90m; └\u001b[39m\n",
      "\u001b[90m; ┌ @ simdloop.jl:75 within `macro expansion`\u001b[39m\n",
      "   \u001b[0m%min.iters.check \u001b[0m= \u001b[96m\u001b[1micmp\u001b[22m\u001b[39m \u001b[96m\u001b[1mult\u001b[22m\u001b[39m \u001b[36mi64\u001b[39m \u001b[0m%6\u001b[0m, \u001b[33m8\u001b[39m\n",
      "   \u001b[96m\u001b[1mbr\u001b[22m\u001b[39m \u001b[36mi1\u001b[39m \u001b[0m%min.iters.check\u001b[0m, \u001b[36mlabel\u001b[39m \u001b[91m%L13\u001b[39m\u001b[0m, \u001b[36mlabel\u001b[39m \u001b[91m%vector.ph\u001b[39m\n",
      "\n",
      "\u001b[91mvector.ph:\u001b[39m                                        \u001b[90m; preds = %L13.lr.ph\u001b[39m\n",
      "   \u001b[0m%n.vec \u001b[0m= \u001b[96m\u001b[1mand\u001b[22m\u001b[39m \u001b[36mi64\u001b[39m \u001b[0m%6\u001b[0m, \u001b[33m9223372036854775800\u001b[39m\n",
      "   \u001b[96m\u001b[1mbr\u001b[22m\u001b[39m \u001b[36mlabel\u001b[39m \u001b[91m%vector.body\u001b[39m\n",
      "\n",
      "\u001b[91mvector.body:\u001b[39m                                      \u001b[90m; preds = %vector.body, %vector.ph\u001b[39m\n",
      "\u001b[90m; └\u001b[39m\n",
      "\u001b[90m; ┌ @ simdloop.jl:78 within `macro expansion`\u001b[39m\n",
      "\u001b[90m; │┌ @ int.jl:87 within `+`\u001b[39m\n",
      "    \u001b[0m%index \u001b[0m= \u001b[96m\u001b[1mphi\u001b[22m\u001b[39m \u001b[36mi64\u001b[39m \u001b[33m[\u001b[39m \u001b[33m0\u001b[39m\u001b[0m, \u001b[91m%vector.ph\u001b[39m \u001b[33m]\u001b[39m\u001b[0m, \u001b[33m[\u001b[39m \u001b[0m%index.next\u001b[0m, \u001b[91m%vector.body\u001b[39m \u001b[33m]\u001b[39m\n",
      "    \u001b[0m%vec.phi \u001b[0m= \u001b[96m\u001b[1mphi\u001b[22m\u001b[39m \u001b[33m<\u001b[39m\u001b[33m4\u001b[39m \u001b[0mx \u001b[36mdouble\u001b[39m\u001b[33m>\u001b[39m \u001b[33m[\u001b[39m \u001b[95mzeroinitializer\u001b[39m\u001b[0m, \u001b[91m%vector.ph\u001b[39m \u001b[33m]\u001b[39m\u001b[0m, \u001b[33m[\u001b[39m \u001b[0m%39\u001b[0m, \u001b[91m%vector.body\u001b[39m \u001b[33m]\u001b[39m\n",
      "    \u001b[0m%vec.phi9 \u001b[0m= \u001b[96m\u001b[1mphi\u001b[22m\u001b[39m \u001b[33m<\u001b[39m\u001b[33m4\u001b[39m \u001b[0mx \u001b[36mdouble\u001b[39m\u001b[33m>\u001b[39m \u001b[33m[\u001b[39m \u001b[95mzeroinitializer\u001b[39m\u001b[0m, \u001b[91m%vector.ph\u001b[39m \u001b[33m]\u001b[39m\u001b[0m, \u001b[33m[\u001b[39m \u001b[0m%40\u001b[0m, \u001b[91m%vector.body\u001b[39m \u001b[33m]\u001b[39m\n",
      "\u001b[90m; └└\u001b[39m\n",
      "\u001b[90m; ┌ @ simdloop.jl:77 within `macro expansion` @ In[11]:4\u001b[39m\n",
      "\u001b[90m; │┌ @ array.jl:861 within `getindex`\u001b[39m\n",
      "    \u001b[0m%15 \u001b[0m= \u001b[96m\u001b[1mgetelementptr\u001b[22m\u001b[39m \u001b[95minbounds\u001b[39m \u001b[36mdouble\u001b[39m\u001b[0m, \u001b[36mdouble\u001b[39m\u001b[0m* \u001b[0m%8\u001b[0m, \u001b[36mi64\u001b[39m \u001b[0m%index\n",
      "    \u001b[0m%16 \u001b[0m= \u001b[96m\u001b[1mbitcast\u001b[22m\u001b[39m \u001b[36mdouble\u001b[39m\u001b[0m* \u001b[0m%15 \u001b[95mto\u001b[39m \u001b[33m<\u001b[39m\u001b[33m4\u001b[39m \u001b[0mx \u001b[36mdouble\u001b[39m\u001b[33m>\u001b[39m\u001b[0m*\n",
      "    \u001b[0m%wide.load \u001b[0m= \u001b[96m\u001b[1mload\u001b[22m\u001b[39m \u001b[33m<\u001b[39m\u001b[33m4\u001b[39m \u001b[0mx \u001b[36mdouble\u001b[39m\u001b[33m>\u001b[39m\u001b[0m, \u001b[33m<\u001b[39m\u001b[33m4\u001b[39m \u001b[0mx \u001b[36mdouble\u001b[39m\u001b[33m>\u001b[39m\u001b[0m* \u001b[0m%16\u001b[0m, \u001b[95malign\u001b[39m \u001b[33m8\u001b[39m\n",
      "    \u001b[0m%17 \u001b[0m= \u001b[96m\u001b[1mgetelementptr\u001b[22m\u001b[39m \u001b[95minbounds\u001b[39m \u001b[36mdouble\u001b[39m\u001b[0m, \u001b[36mdouble\u001b[39m\u001b[0m* \u001b[0m%15\u001b[0m, \u001b[36mi64\u001b[39m \u001b[33m4\u001b[39m\n",
      "    \u001b[0m%18 \u001b[0m= \u001b[96m\u001b[1mbitcast\u001b[22m\u001b[39m \u001b[36mdouble\u001b[39m\u001b[0m* \u001b[0m%17 \u001b[95mto\u001b[39m \u001b[33m<\u001b[39m\u001b[33m4\u001b[39m \u001b[0mx \u001b[36mdouble\u001b[39m\u001b[33m>\u001b[39m\u001b[0m*\n",
      "    \u001b[0m%wide.load10 \u001b[0m= \u001b[96m\u001b[1mload\u001b[22m\u001b[39m \u001b[33m<\u001b[39m\u001b[33m4\u001b[39m \u001b[0mx \u001b[36mdouble\u001b[39m\u001b[33m>\u001b[39m\u001b[0m, \u001b[33m<\u001b[39m\u001b[33m4\u001b[39m \u001b[0mx \u001b[36mdouble\u001b[39m\u001b[33m>\u001b[39m\u001b[0m* \u001b[0m%18\u001b[0m, \u001b[95malign\u001b[39m \u001b[33m8\u001b[39m\n",
      "    \u001b[0m%19 \u001b[0m= \u001b[96m\u001b[1mgetelementptr\u001b[22m\u001b[39m \u001b[95minbounds\u001b[39m \u001b[36mdouble\u001b[39m\u001b[0m, \u001b[36mdouble\u001b[39m\u001b[0m* \u001b[0m%10\u001b[0m, \u001b[36mi64\u001b[39m \u001b[0m%index\n",
      "    \u001b[0m%20 \u001b[0m= \u001b[96m\u001b[1mbitcast\u001b[22m\u001b[39m \u001b[36mdouble\u001b[39m\u001b[0m* \u001b[0m%19 \u001b[95mto\u001b[39m \u001b[33m<\u001b[39m\u001b[33m4\u001b[39m \u001b[0mx \u001b[36mdouble\u001b[39m\u001b[33m>\u001b[39m\u001b[0m*\n",
      "    \u001b[0m%wide.load11 \u001b[0m= \u001b[96m\u001b[1mload\u001b[22m\u001b[39m \u001b[33m<\u001b[39m\u001b[33m4\u001b[39m \u001b[0mx \u001b[36mdouble\u001b[39m\u001b[33m>\u001b[39m\u001b[0m, \u001b[33m<\u001b[39m\u001b[33m4\u001b[39m \u001b[0mx \u001b[36mdouble\u001b[39m\u001b[33m>\u001b[39m\u001b[0m* \u001b[0m%20\u001b[0m, \u001b[95malign\u001b[39m \u001b[33m8\u001b[39m\n",
      "    \u001b[0m%21 \u001b[0m= \u001b[96m\u001b[1mgetelementptr\u001b[22m\u001b[39m \u001b[95minbounds\u001b[39m \u001b[36mdouble\u001b[39m\u001b[0m, \u001b[36mdouble\u001b[39m\u001b[0m* \u001b[0m%19\u001b[0m, \u001b[36mi64\u001b[39m \u001b[33m4\u001b[39m\n",
      "    \u001b[0m%22 \u001b[0m= \u001b[96m\u001b[1mbitcast\u001b[22m\u001b[39m \u001b[36mdouble\u001b[39m\u001b[0m* \u001b[0m%21 \u001b[95mto\u001b[39m \u001b[33m<\u001b[39m\u001b[33m4\u001b[39m \u001b[0mx \u001b[36mdouble\u001b[39m\u001b[33m>\u001b[39m\u001b[0m*\n",
      "    \u001b[0m%wide.load12 \u001b[0m= \u001b[96m\u001b[1mload\u001b[22m\u001b[39m \u001b[33m<\u001b[39m\u001b[33m4\u001b[39m \u001b[0mx \u001b[36mdouble\u001b[39m\u001b[33m>\u001b[39m\u001b[0m, \u001b[33m<\u001b[39m\u001b[33m4\u001b[39m \u001b[0mx \u001b[36mdouble\u001b[39m\u001b[33m>\u001b[39m\u001b[0m* \u001b[0m%22\u001b[0m, \u001b[95malign\u001b[39m \u001b[33m8\u001b[39m\n",
      "\u001b[90m; │└\u001b[39m\n",
      "\u001b[90m; │┌ @ float.jl:405 within `*`\u001b[39m\n",
      "    \u001b[0m%23 \u001b[0m= \u001b[96m\u001b[1mfmul\u001b[22m\u001b[39m \u001b[33m<\u001b[39m\u001b[33m4\u001b[39m \u001b[0mx \u001b[36mdouble\u001b[39m\u001b[33m>\u001b[39m \u001b[0m%wide.load\u001b[0m, \u001b[0m%wide.load11\n",
      "    \u001b[0m%24 \u001b[0m= \u001b[96m\u001b[1mfmul\u001b[22m\u001b[39m \u001b[33m<\u001b[39m\u001b[33m4\u001b[39m \u001b[0mx \u001b[36mdouble\u001b[39m\u001b[33m>\u001b[39m \u001b[0m%wide.load10\u001b[0m, \u001b[0m%wide.load12\n",
      "\u001b[90m; │└\u001b[39m\n",
      "\u001b[90m; │┌ @ array.jl:861 within `getindex`\u001b[39m\n",
      "    \u001b[0m%25 \u001b[0m= \u001b[96m\u001b[1mgetelementptr\u001b[22m\u001b[39m \u001b[95minbounds\u001b[39m \u001b[36mdouble\u001b[39m\u001b[0m, \u001b[36mdouble\u001b[39m\u001b[0m* \u001b[0m%12\u001b[0m, \u001b[36mi64\u001b[39m \u001b[0m%index\n",
      "    \u001b[0m%26 \u001b[0m= \u001b[96m\u001b[1mbitcast\u001b[22m\u001b[39m \u001b[36mdouble\u001b[39m\u001b[0m* \u001b[0m%25 \u001b[95mto\u001b[39m \u001b[33m<\u001b[39m\u001b[33m4\u001b[39m \u001b[0mx \u001b[36mdouble\u001b[39m\u001b[33m>\u001b[39m\u001b[0m*\n",
      "    \u001b[0m%wide.load13 \u001b[0m= \u001b[96m\u001b[1mload\u001b[22m\u001b[39m \u001b[33m<\u001b[39m\u001b[33m4\u001b[39m \u001b[0mx \u001b[36mdouble\u001b[39m\u001b[33m>\u001b[39m\u001b[0m, \u001b[33m<\u001b[39m\u001b[33m4\u001b[39m \u001b[0mx \u001b[36mdouble\u001b[39m\u001b[33m>\u001b[39m\u001b[0m* \u001b[0m%26\u001b[0m, \u001b[95malign\u001b[39m \u001b[33m8\u001b[39m\n",
      "    \u001b[0m%27 \u001b[0m= \u001b[96m\u001b[1mgetelementptr\u001b[22m\u001b[39m \u001b[95minbounds\u001b[39m \u001b[36mdouble\u001b[39m\u001b[0m, \u001b[36mdouble\u001b[39m\u001b[0m* \u001b[0m%25\u001b[0m, \u001b[36mi64\u001b[39m \u001b[33m4\u001b[39m\n",
      "    \u001b[0m%28 \u001b[0m= \u001b[96m\u001b[1mbitcast\u001b[22m\u001b[39m \u001b[36mdouble\u001b[39m\u001b[0m* \u001b[0m%27 \u001b[95mto\u001b[39m \u001b[33m<\u001b[39m\u001b[33m4\u001b[39m \u001b[0mx \u001b[36mdouble\u001b[39m\u001b[33m>\u001b[39m\u001b[0m*\n",
      "    \u001b[0m%wide.load14 \u001b[0m= \u001b[96m\u001b[1mload\u001b[22m\u001b[39m \u001b[33m<\u001b[39m\u001b[33m4\u001b[39m \u001b[0mx \u001b[36mdouble\u001b[39m\u001b[33m>\u001b[39m\u001b[0m, \u001b[33m<\u001b[39m\u001b[33m4\u001b[39m \u001b[0mx \u001b[36mdouble\u001b[39m\u001b[33m>\u001b[39m\u001b[0m* \u001b[0m%28\u001b[0m, \u001b[95malign\u001b[39m \u001b[33m8\u001b[39m\n",
      "    \u001b[0m%29 \u001b[0m= \u001b[96m\u001b[1mgetelementptr\u001b[22m\u001b[39m \u001b[95minbounds\u001b[39m \u001b[36mdouble\u001b[39m\u001b[0m, \u001b[36mdouble\u001b[39m\u001b[0m* \u001b[0m%14\u001b[0m, \u001b[36mi64\u001b[39m \u001b[0m%index\n",
      "    \u001b[0m%30 \u001b[0m= \u001b[96m\u001b[1mbitcast\u001b[22m\u001b[39m \u001b[36mdouble\u001b[39m\u001b[0m* \u001b[0m%29 \u001b[95mto\u001b[39m \u001b[33m<\u001b[39m\u001b[33m4\u001b[39m \u001b[0mx \u001b[36mdouble\u001b[39m\u001b[33m>\u001b[39m\u001b[0m*\n",
      "    \u001b[0m%wide.load15 \u001b[0m= \u001b[96m\u001b[1mload\u001b[22m\u001b[39m \u001b[33m<\u001b[39m\u001b[33m4\u001b[39m \u001b[0mx \u001b[36mdouble\u001b[39m\u001b[33m>\u001b[39m\u001b[0m, \u001b[33m<\u001b[39m\u001b[33m4\u001b[39m \u001b[0mx \u001b[36mdouble\u001b[39m\u001b[33m>\u001b[39m\u001b[0m* \u001b[0m%30\u001b[0m, \u001b[95malign\u001b[39m \u001b[33m8\u001b[39m\n",
      "    \u001b[0m%31 \u001b[0m= \u001b[96m\u001b[1mgetelementptr\u001b[22m\u001b[39m \u001b[95minbounds\u001b[39m \u001b[36mdouble\u001b[39m\u001b[0m, \u001b[36mdouble\u001b[39m\u001b[0m* \u001b[0m%29\u001b[0m, \u001b[36mi64\u001b[39m \u001b[33m4\u001b[39m\n",
      "    \u001b[0m%32 \u001b[0m= \u001b[96m\u001b[1mbitcast\u001b[22m\u001b[39m \u001b[36mdouble\u001b[39m\u001b[0m* \u001b[0m%31 \u001b[95mto\u001b[39m \u001b[33m<\u001b[39m\u001b[33m4\u001b[39m \u001b[0mx \u001b[36mdouble\u001b[39m\u001b[33m>\u001b[39m\u001b[0m*\n",
      "    \u001b[0m%wide.load16 \u001b[0m= \u001b[96m\u001b[1mload\u001b[22m\u001b[39m \u001b[33m<\u001b[39m\u001b[33m4\u001b[39m \u001b[0mx \u001b[36mdouble\u001b[39m\u001b[33m>\u001b[39m\u001b[0m, \u001b[33m<\u001b[39m\u001b[33m4\u001b[39m \u001b[0mx \u001b[36mdouble\u001b[39m\u001b[33m>\u001b[39m\u001b[0m* \u001b[0m%32\u001b[0m, \u001b[95malign\u001b[39m \u001b[33m8\u001b[39m\n",
      "\u001b[90m; │└\u001b[39m\n",
      "\u001b[90m; │┌ @ float.jl:408 within `/`\u001b[39m\n",
      "    \u001b[0m%33 \u001b[0m= \u001b[96m\u001b[1mfdiv\u001b[22m\u001b[39m \u001b[33m<\u001b[39m\u001b[33m4\u001b[39m \u001b[0mx \u001b[36mdouble\u001b[39m\u001b[33m>\u001b[39m \u001b[0m%wide.load13\u001b[0m, \u001b[0m%wide.load15\n",
      "    \u001b[0m%34 \u001b[0m= \u001b[96m\u001b[1mfdiv\u001b[22m\u001b[39m \u001b[33m<\u001b[39m\u001b[33m4\u001b[39m \u001b[0mx \u001b[36mdouble\u001b[39m\u001b[33m>\u001b[39m \u001b[0m%wide.load14\u001b[0m, \u001b[0m%wide.load16\n",
      "\u001b[90m; │└\u001b[39m\n",
      "\u001b[90m; │┌ @ float.jl:399 within `+`\u001b[39m\n",
      "    \u001b[0m%35 \u001b[0m= \u001b[96m\u001b[1mfadd\u001b[22m\u001b[39m \u001b[33m<\u001b[39m\u001b[33m4\u001b[39m \u001b[0mx \u001b[36mdouble\u001b[39m\u001b[33m>\u001b[39m \u001b[0m%23\u001b[0m, \u001b[0m%33\n",
      "    \u001b[0m%36 \u001b[0m= \u001b[96m\u001b[1mfadd\u001b[22m\u001b[39m \u001b[33m<\u001b[39m\u001b[33m4\u001b[39m \u001b[0mx \u001b[36mdouble\u001b[39m\u001b[33m>\u001b[39m \u001b[0m%24\u001b[0m, \u001b[0m%34\n",
      "\u001b[90m; │└\u001b[39m\n",
      "\u001b[90m; │┌ @ promotion.jl:381 within `-` @ float.jl:402\u001b[39m\n",
      "    \u001b[0m%37 \u001b[0m= \u001b[96m\u001b[1mfadd\u001b[22m\u001b[39m \u001b[33m<\u001b[39m\u001b[33m4\u001b[39m \u001b[0mx \u001b[36mdouble\u001b[39m\u001b[33m>\u001b[39m \u001b[0m%35\u001b[0m, \u001b[33m<\u001b[39m\u001b[36mdouble\u001b[39m \u001b[33m-1.000000e+00\u001b[39m\u001b[0m, \u001b[36mdouble\u001b[39m \u001b[33m-1.000000e+00\u001b[39m\u001b[0m, \u001b[36mdouble\u001b[39m \u001b[33m-1.000000e+00\u001b[39m\u001b[0m, \u001b[36mdouble\u001b[39m \u001b[33m-1.000000e+00\u001b[39m\u001b[33m>\u001b[39m\n",
      "    \u001b[0m%38 \u001b[0m= \u001b[96m\u001b[1mfadd\u001b[22m\u001b[39m \u001b[33m<\u001b[39m\u001b[33m4\u001b[39m \u001b[0mx \u001b[36mdouble\u001b[39m\u001b[33m>\u001b[39m \u001b[0m%36\u001b[0m, \u001b[33m<\u001b[39m\u001b[36mdouble\u001b[39m \u001b[33m-1.000000e+00\u001b[39m\u001b[0m, \u001b[36mdouble\u001b[39m \u001b[33m-1.000000e+00\u001b[39m\u001b[0m, \u001b[36mdouble\u001b[39m \u001b[33m-1.000000e+00\u001b[39m\u001b[0m, \u001b[36mdouble\u001b[39m \u001b[33m-1.000000e+00\u001b[39m\u001b[33m>\u001b[39m\n",
      "\u001b[90m; │└\u001b[39m\n",
      "\u001b[90m; │┌ @ float.jl:399 within `+`\u001b[39m\n",
      "    \u001b[0m%39 \u001b[0m= \u001b[96m\u001b[1mfadd\u001b[22m\u001b[39m \u001b[95mfast\u001b[39m \u001b[33m<\u001b[39m\u001b[33m4\u001b[39m \u001b[0mx \u001b[36mdouble\u001b[39m\u001b[33m>\u001b[39m \u001b[0m%vec.phi\u001b[0m, \u001b[0m%37\n",
      "    \u001b[0m%40 \u001b[0m= \u001b[96m\u001b[1mfadd\u001b[22m\u001b[39m \u001b[95mfast\u001b[39m \u001b[33m<\u001b[39m\u001b[33m4\u001b[39m \u001b[0mx \u001b[36mdouble\u001b[39m\u001b[33m>\u001b[39m \u001b[0m%vec.phi9\u001b[0m, \u001b[0m%38\n",
      "\u001b[90m; └└\u001b[39m\n",
      "\u001b[90m; ┌ @ simdloop.jl:78 within `macro expansion`\u001b[39m\n",
      "\u001b[90m; │┌ @ int.jl:87 within `+`\u001b[39m\n",
      "    \u001b[0m%index.next \u001b[0m= \u001b[96m\u001b[1madd\u001b[22m\u001b[39m \u001b[36mi64\u001b[39m \u001b[0m%index\u001b[0m, \u001b[33m8\u001b[39m\n",
      "    \u001b[0m%41 \u001b[0m= \u001b[96m\u001b[1micmp\u001b[22m\u001b[39m \u001b[96m\u001b[1meq\u001b[22m\u001b[39m \u001b[36mi64\u001b[39m \u001b[0m%index.next\u001b[0m, \u001b[0m%n.vec\n",
      "    \u001b[96m\u001b[1mbr\u001b[22m\u001b[39m \u001b[36mi1\u001b[39m \u001b[0m%41\u001b[0m, \u001b[36mlabel\u001b[39m \u001b[91m%middle.block\u001b[39m\u001b[0m, \u001b[36mlabel\u001b[39m \u001b[91m%vector.body\u001b[39m\n",
      "\n",
      "\u001b[91mmiddle.block:\u001b[39m                                     \u001b[90m; preds = %vector.body\u001b[39m\n",
      "\u001b[90m; └└\u001b[39m\n",
      "\u001b[90m; ┌ @ simdloop.jl:75 within `macro expansion`\u001b[39m\n",
      "   \u001b[0m%bin.rdx \u001b[0m= \u001b[96m\u001b[1mfadd\u001b[22m\u001b[39m \u001b[95mfast\u001b[39m \u001b[33m<\u001b[39m\u001b[33m4\u001b[39m \u001b[0mx \u001b[36mdouble\u001b[39m\u001b[33m>\u001b[39m \u001b[0m%40\u001b[0m, \u001b[0m%39\n",
      "   \u001b[0m%42 \u001b[0m= \u001b[96m\u001b[1mcall\u001b[22m\u001b[39m \u001b[95mfast\u001b[39m \u001b[36mdouble\u001b[39m \u001b[93m@llvm.vector.reduce.fadd.v4f64\u001b[39m\u001b[33m(\u001b[39m\u001b[36mdouble\u001b[39m \u001b[33m-0.000000e+00\u001b[39m\u001b[0m, \u001b[33m<\u001b[39m\u001b[33m4\u001b[39m \u001b[0mx \u001b[36mdouble\u001b[39m\u001b[33m>\u001b[39m \u001b[0m%bin.rdx\u001b[33m)\u001b[39m\n",
      "   \u001b[0m%cmp.n \u001b[0m= \u001b[96m\u001b[1micmp\u001b[22m\u001b[39m \u001b[96m\u001b[1meq\u001b[22m\u001b[39m \u001b[36mi64\u001b[39m \u001b[0m%6\u001b[0m, \u001b[0m%n.vec\n",
      "   \u001b[96m\u001b[1mbr\u001b[22m\u001b[39m \u001b[36mi1\u001b[39m \u001b[0m%cmp.n\u001b[0m, \u001b[36mlabel\u001b[39m \u001b[91m%L37\u001b[39m\u001b[0m, \u001b[36mlabel\u001b[39m \u001b[91m%L13\u001b[39m\n",
      "\n",
      "\u001b[91mL13:\u001b[39m                                              \u001b[90m; preds = %L13, %middle.block, %L13.lr.ph\u001b[39m\n",
      "   \u001b[0m%value_phi18 \u001b[0m= \u001b[96m\u001b[1mphi\u001b[22m\u001b[39m \u001b[36mi64\u001b[39m \u001b[33m[\u001b[39m \u001b[0m%56\u001b[0m, \u001b[91m%L13\u001b[39m \u001b[33m]\u001b[39m\u001b[0m, \u001b[33m[\u001b[39m \u001b[0m%n.vec\u001b[0m, \u001b[91m%middle.block\u001b[39m \u001b[33m]\u001b[39m\u001b[0m, \u001b[33m[\u001b[39m \u001b[33m0\u001b[39m\u001b[0m, \u001b[91m%L13.lr.ph\u001b[39m \u001b[33m]\u001b[39m\n",
      "   \u001b[0m%value_phi7 \u001b[0m= \u001b[96m\u001b[1mphi\u001b[22m\u001b[39m \u001b[36mdouble\u001b[39m \u001b[33m[\u001b[39m \u001b[0m%55\u001b[0m, \u001b[91m%L13\u001b[39m \u001b[33m]\u001b[39m\u001b[0m, \u001b[33m[\u001b[39m \u001b[0m%42\u001b[0m, \u001b[91m%middle.block\u001b[39m \u001b[33m]\u001b[39m\u001b[0m, \u001b[33m[\u001b[39m \u001b[33m0.000000e+00\u001b[39m\u001b[0m, \u001b[91m%L13.lr.ph\u001b[39m \u001b[33m]\u001b[39m\n",
      "\u001b[90m; └\u001b[39m\n",
      "\u001b[90m; ┌ @ simdloop.jl:77 within `macro expansion` @ In[11]:4\u001b[39m\n",
      "\u001b[90m; │┌ @ array.jl:861 within `getindex`\u001b[39m\n",
      "    \u001b[0m%43 \u001b[0m= \u001b[96m\u001b[1mgetelementptr\u001b[22m\u001b[39m \u001b[95minbounds\u001b[39m \u001b[36mdouble\u001b[39m\u001b[0m, \u001b[36mdouble\u001b[39m\u001b[0m* \u001b[0m%8\u001b[0m, \u001b[36mi64\u001b[39m \u001b[0m%value_phi18\n",
      "    \u001b[0m%44 \u001b[0m= \u001b[96m\u001b[1mload\u001b[22m\u001b[39m \u001b[36mdouble\u001b[39m\u001b[0m, \u001b[36mdouble\u001b[39m\u001b[0m* \u001b[0m%43\u001b[0m, \u001b[95malign\u001b[39m \u001b[33m8\u001b[39m\n",
      "    \u001b[0m%45 \u001b[0m= \u001b[96m\u001b[1mgetelementptr\u001b[22m\u001b[39m \u001b[95minbounds\u001b[39m \u001b[36mdouble\u001b[39m\u001b[0m, \u001b[36mdouble\u001b[39m\u001b[0m* \u001b[0m%10\u001b[0m, \u001b[36mi64\u001b[39m \u001b[0m%value_phi18\n",
      "    \u001b[0m%46 \u001b[0m= \u001b[96m\u001b[1mload\u001b[22m\u001b[39m \u001b[36mdouble\u001b[39m\u001b[0m, \u001b[36mdouble\u001b[39m\u001b[0m* \u001b[0m%45\u001b[0m, \u001b[95malign\u001b[39m \u001b[33m8\u001b[39m\n",
      "\u001b[90m; │└\u001b[39m\n",
      "\u001b[90m; │┌ @ float.jl:405 within `*`\u001b[39m\n",
      "    \u001b[0m%47 \u001b[0m= \u001b[96m\u001b[1mfmul\u001b[22m\u001b[39m \u001b[36mdouble\u001b[39m \u001b[0m%44\u001b[0m, \u001b[0m%46\n",
      "\u001b[90m; │└\u001b[39m\n",
      "\u001b[90m; │┌ @ array.jl:861 within `getindex`\u001b[39m\n",
      "    \u001b[0m%48 \u001b[0m= \u001b[96m\u001b[1mgetelementptr\u001b[22m\u001b[39m \u001b[95minbounds\u001b[39m \u001b[36mdouble\u001b[39m\u001b[0m, \u001b[36mdouble\u001b[39m\u001b[0m* \u001b[0m%12\u001b[0m, \u001b[36mi64\u001b[39m \u001b[0m%value_phi18\n",
      "    \u001b[0m%49 \u001b[0m= \u001b[96m\u001b[1mload\u001b[22m\u001b[39m \u001b[36mdouble\u001b[39m\u001b[0m, \u001b[36mdouble\u001b[39m\u001b[0m* \u001b[0m%48\u001b[0m, \u001b[95malign\u001b[39m \u001b[33m8\u001b[39m\n",
      "    \u001b[0m%50 \u001b[0m= \u001b[96m\u001b[1mgetelementptr\u001b[22m\u001b[39m \u001b[95minbounds\u001b[39m \u001b[36mdouble\u001b[39m\u001b[0m, \u001b[36mdouble\u001b[39m\u001b[0m* \u001b[0m%14\u001b[0m, \u001b[36mi64\u001b[39m \u001b[0m%value_phi18\n",
      "    \u001b[0m%51 \u001b[0m= \u001b[96m\u001b[1mload\u001b[22m\u001b[39m \u001b[36mdouble\u001b[39m\u001b[0m, \u001b[36mdouble\u001b[39m\u001b[0m* \u001b[0m%50\u001b[0m, \u001b[95malign\u001b[39m \u001b[33m8\u001b[39m\n",
      "\u001b[90m; │└\u001b[39m\n",
      "\u001b[90m; │┌ @ float.jl:408 within `/`\u001b[39m\n",
      "    \u001b[0m%52 \u001b[0m= \u001b[96m\u001b[1mfdiv\u001b[22m\u001b[39m \u001b[36mdouble\u001b[39m \u001b[0m%49\u001b[0m, \u001b[0m%51\n",
      "\u001b[90m; │└\u001b[39m\n",
      "\u001b[90m; │┌ @ float.jl:399 within `+`\u001b[39m\n",
      "    \u001b[0m%53 \u001b[0m= \u001b[96m\u001b[1mfadd\u001b[22m\u001b[39m \u001b[36mdouble\u001b[39m \u001b[0m%47\u001b[0m, \u001b[0m%52\n",
      "\u001b[90m; │└\u001b[39m\n",
      "\u001b[90m; │┌ @ promotion.jl:381 within `-` @ float.jl:402\u001b[39m\n",
      "    \u001b[0m%54 \u001b[0m= \u001b[96m\u001b[1mfadd\u001b[22m\u001b[39m \u001b[36mdouble\u001b[39m \u001b[0m%53\u001b[0m, \u001b[33m-1.000000e+00\u001b[39m\n",
      "\u001b[90m; │└\u001b[39m\n",
      "\u001b[90m; │┌ @ float.jl:399 within `+`\u001b[39m\n",
      "    \u001b[0m%55 \u001b[0m= \u001b[96m\u001b[1mfadd\u001b[22m\u001b[39m \u001b[95mfast\u001b[39m \u001b[36mdouble\u001b[39m \u001b[0m%value_phi7\u001b[0m, \u001b[0m%54\n",
      "\u001b[90m; └└\u001b[39m\n",
      "\u001b[90m; ┌ @ simdloop.jl:78 within `macro expansion`\u001b[39m\n",
      "\u001b[90m; │┌ @ int.jl:87 within `+`\u001b[39m\n",
      "    \u001b[0m%56 \u001b[0m= \u001b[96m\u001b[1madd\u001b[22m\u001b[39m \u001b[95mnuw\u001b[39m \u001b[95mnsw\u001b[39m \u001b[36mi64\u001b[39m \u001b[0m%value_phi18\u001b[0m, \u001b[33m1\u001b[39m\n",
      "\u001b[90m; └└\u001b[39m\n",
      "\u001b[90m; ┌ @ simdloop.jl:75 within `macro expansion`\u001b[39m\n",
      "\u001b[90m; │┌ @ int.jl:83 within `<`\u001b[39m\n",
      "    \u001b[0m%exitcond.not \u001b[0m= \u001b[96m\u001b[1micmp\u001b[22m\u001b[39m \u001b[96m\u001b[1meq\u001b[22m\u001b[39m \u001b[36mi64\u001b[39m \u001b[0m%56\u001b[0m, \u001b[0m%6\n",
      "\u001b[90m; │└\u001b[39m\n",
      "   \u001b[96m\u001b[1mbr\u001b[22m\u001b[39m \u001b[36mi1\u001b[39m \u001b[0m%exitcond.not\u001b[0m, \u001b[36mlabel\u001b[39m \u001b[91m%L37\u001b[39m\u001b[0m, \u001b[36mlabel\u001b[39m \u001b[91m%L13\u001b[39m\n",
      "\n",
      "\u001b[91mL37:\u001b[39m                                              \u001b[90m; preds = %L13, %middle.block, %top\u001b[39m\n",
      "   \u001b[0m%value_phi2 \u001b[0m= \u001b[96m\u001b[1mphi\u001b[22m\u001b[39m \u001b[36mdouble\u001b[39m \u001b[33m[\u001b[39m \u001b[33m0.000000e+00\u001b[39m\u001b[0m, \u001b[91m%top\u001b[39m \u001b[33m]\u001b[39m\u001b[0m, \u001b[33m[\u001b[39m \u001b[0m%42\u001b[0m, \u001b[91m%middle.block\u001b[39m \u001b[33m]\u001b[39m\u001b[0m, \u001b[33m[\u001b[39m \u001b[0m%55\u001b[0m, \u001b[91m%L13\u001b[39m \u001b[33m]\u001b[39m\n",
      "\u001b[90m; └\u001b[39m\n",
      "\u001b[90m;  @ In[11]:6 within `testloop`\u001b[39m\n",
      "  \u001b[96m\u001b[1mret\u001b[22m\u001b[39m \u001b[36mdouble\u001b[39m \u001b[0m%value_phi2\n",
      "\u001b[33m}\u001b[39m\n"
     ]
    }
   ],
   "source": [
    "@code_llvm testloop(a, b, c, d)"
   ]
  },
  {
   "cell_type": "markdown",
   "id": "47f9698e",
   "metadata": {},
   "source": [
    "``` julia\n",
    "@llvm.experimental.vector.reduce.v2.fadd.f64.v4f64(double 0.000000e+00, <4 x double> %bin.rdx)\n",
    "```\n",
    "`@code_llvm`的结果里要是有上边那一行基本上就可以确定`@simd`发挥了作用\n",
    "\n",
    "`@simd`也有一些问题， 据我发现只能用于**加减乘除**操作， 当计算中有`sin, exp`这种形式时无法起作用\n",
    "\n",
    "LoopVectorization.jl包提供了`@turbo`宏， 这个宏命令提供的加速更加强大， 原理好像和`@simd`差不多"
   ]
  },
  {
   "cell_type": "markdown",
   "id": "2c10025e",
   "metadata": {},
   "source": [
    "## `@turbo`"
   ]
  },
  {
   "cell_type": "code",
   "execution_count": 13,
   "id": "88e16ea3",
   "metadata": {},
   "outputs": [],
   "source": [
    "using LoopVectorization"
   ]
  },
  {
   "cell_type": "markdown",
   "id": "d9e2f462",
   "metadata": {},
   "source": [
    "> “This library provides the `@turbo` macro, which may be used to **prefix a for loop or broadcast statement**. It then tries to vectorize the loop to improve runtime performance.”"
   ]
  },
  {
   "cell_type": "markdown",
   "id": "89e0a7c5",
   "metadata": {},
   "source": [
    "### 加速循环"
   ]
  },
  {
   "cell_type": "code",
   "execution_count": 14,
   "id": "34e57575",
   "metadata": {},
   "outputs": [
    {
     "data": {
      "text/plain": [
       "withturbo (generic function with 1 method)"
      ]
     },
     "execution_count": 14,
     "metadata": {},
     "output_type": "execute_result"
    }
   ],
   "source": [
    "function noturbo(x1, x2, x3, x4)\n",
    "    s = zero(eltype(x1))\n",
    "    for i in eachindex(x1)\n",
    "        s+= exp(x1[i]) * sin(x2[i]) + x3[i] / x4[i] + 1\n",
    "    end\n",
    "    return s\n",
    "end\n",
    "function withturbo(x1, x2,x3, x4)\n",
    "    s = zero(eltype(x1))\n",
    "    @turbo for i in eachindex(x1)\n",
    "        s+= exp(x1[i]) * sin(x2[i]) + x3[i] / x4[i] + 1\n",
    "    end\n",
    "    return s\n",
    "end"
   ]
  },
  {
   "cell_type": "code",
   "execution_count": 15,
   "id": "402af2f8",
   "metadata": {},
   "outputs": [],
   "source": [
    "N = 10000\n",
    "x1 = randn(N)\n",
    "x2 = randn(N)\n",
    "x3 = randn(N)\n",
    "x4 = randn(N);"
   ]
  },
  {
   "cell_type": "code",
   "execution_count": 16,
   "id": "2bee94dc",
   "metadata": {},
   "outputs": [
    {
     "name": "stdout",
     "output_type": "stream",
     "text": [
      "  144.700 μs (0 allocations: 0 bytes)\n"
     ]
    },
    {
     "data": {
      "text/plain": [
       "11704.6471947779"
      ]
     },
     "execution_count": 16,
     "metadata": {},
     "output_type": "execute_result"
    }
   ],
   "source": [
    "@btime noturbo($x1, $x2, $x3, $x4)"
   ]
  },
  {
   "cell_type": "code",
   "execution_count": 17,
   "id": "abe61a82",
   "metadata": {},
   "outputs": [
    {
     "name": "stdout",
     "output_type": "stream",
     "text": [
      "  25.900 μs (0 allocations: 0 bytes)\n"
     ]
    },
    {
     "data": {
      "text/plain": [
       "11704.647194777895"
      ]
     },
     "execution_count": 17,
     "metadata": {},
     "output_type": "execute_result"
    }
   ],
   "source": [
    "@btime withturbo($x1, $x2, $x3, $x4)"
   ]
  },
  {
   "cell_type": "markdown",
   "id": "8f1511dd",
   "metadata": {},
   "source": [
    "他可以加速`sin, exp`， 确实比`@simd`强大了很多"
   ]
  },
  {
   "cell_type": "markdown",
   "id": "623628e8",
   "metadata": {},
   "source": [
    "### 加速广播"
   ]
  },
  {
   "cell_type": "code",
   "execution_count": 18,
   "id": "2c9c6d2d",
   "metadata": {},
   "outputs": [
    {
     "data": {
      "text/plain": [
       "f2_turbo (generic function with 1 method)"
      ]
     },
     "execution_count": 18,
     "metadata": {},
     "output_type": "execute_result"
    }
   ],
   "source": [
    "f_noturbo(x1, x2, x3, x4) = sum(x1 .* x2 .* x3 ./ exp.(x4))\n",
    "f_turbo(x1, x2, x3, x4) = sum(@turbo x1 .* x2 .* x3 ./ exp.(x4))\n",
    "f2_turbo(x1, x2, x3, x4) = @turbo sum(x1 .* x2 .* x3 ./ exp.(x4))"
   ]
  },
  {
   "cell_type": "code",
   "execution_count": 19,
   "id": "2d7407c1",
   "metadata": {},
   "outputs": [
    {
     "name": "stdout",
     "output_type": "stream",
     "text": [
      "  63.900 μs (2 allocations: 78.17 KiB)\n"
     ]
    },
    {
     "data": {
      "text/plain": [
       "-295.24468897233237"
      ]
     },
     "execution_count": 19,
     "metadata": {},
     "output_type": "execute_result"
    }
   ],
   "source": [
    "@btime f_noturbo($x1, $x2, $x3, $x4)"
   ]
  },
  {
   "cell_type": "code",
   "execution_count": 20,
   "id": "2d778968",
   "metadata": {},
   "outputs": [
    {
     "name": "stdout",
     "output_type": "stream",
     "text": [
      "  13.100 μs (2 allocations: 78.17 KiB)\n"
     ]
    },
    {
     "data": {
      "text/plain": [
       "-295.24468897233214"
      ]
     },
     "execution_count": 20,
     "metadata": {},
     "output_type": "execute_result"
    }
   ],
   "source": [
    "@btime f_turbo($x1, $x2, $x3, $x4)"
   ]
  },
  {
   "cell_type": "code",
   "execution_count": 21,
   "id": "c6ec21a9",
   "metadata": {},
   "outputs": [
    {
     "name": "stdout",
     "output_type": "stream",
     "text": [
      "  13.300 μs (2 allocations: 78.17 KiB)\n"
     ]
    },
    {
     "data": {
      "text/plain": [
       "-295.24468897233214"
      ]
     },
     "execution_count": 21,
     "metadata": {},
     "output_type": "execute_result"
    }
   ],
   "source": [
    "@btime f2_turbo($x1, $x2, $x3, $x4)"
   ]
  },
  {
   "cell_type": "markdown",
   "id": "c144c823",
   "metadata": {},
   "source": [
    "确实是很牛， 广播也能加速的很快"
   ]
  },
  {
   "cell_type": "markdown",
   "id": "cf8e1b9f",
   "metadata": {},
   "source": [
    "### 额外测试"
   ]
  },
  {
   "cell_type": "markdown",
   "id": "b8f79ca5",
   "metadata": {},
   "source": [
    "在实际应用中， 我经常需要计算概率密度值， 看一下这种情况能不能算得快，有加速"
   ]
  },
  {
   "cell_type": "markdown",
   "id": "09fb85be",
   "metadata": {},
   "source": [
    "<font style=\"color:red;font-size:18pt\"> TL,DR: <br> 连续分布可以有加速， 效果还不错， <br> 离散分布会报错</font>"
   ]
  },
  {
   "cell_type": "code",
   "execution_count": 22,
   "id": "58239045",
   "metadata": {},
   "outputs": [
    {
     "data": {
      "text/plain": [
       "TaskLocalRNG()"
      ]
     },
     "execution_count": 22,
     "metadata": {},
     "output_type": "execute_result"
    }
   ],
   "source": [
    "using Distributions, Random\n",
    "seed = Random.seed!(2022 - 8 - 9)"
   ]
  },
  {
   "cell_type": "code",
   "execution_count": 23,
   "id": "804527c2",
   "metadata": {},
   "outputs": [
    {
     "data": {
      "text/plain": [
       "fd_turbo (generic function with 1 method)"
      ]
     },
     "execution_count": 23,
     "metadata": {},
     "output_type": "execute_result"
    }
   ],
   "source": [
    "fd_noturbo(x) = sum(logpdf.(Normal(), x))\n",
    "fd_turbo(x) = sum(@turbo logpdf.(Normal(), x))"
   ]
  },
  {
   "cell_type": "code",
   "execution_count": 24,
   "id": "729410a1",
   "metadata": {},
   "outputs": [],
   "source": [
    "X = randn(seed, N);"
   ]
  },
  {
   "cell_type": "code",
   "execution_count": 25,
   "id": "88afe3a5",
   "metadata": {},
   "outputs": [
    {
     "name": "stdout",
     "output_type": "stream",
     "text": [
      "  73.200 μs (2 allocations: 78.17 KiB)\n"
     ]
    },
    {
     "data": {
      "text/plain": [
       "-14260.761394916859"
      ]
     },
     "execution_count": 25,
     "metadata": {},
     "output_type": "execute_result"
    }
   ],
   "source": [
    "@btime fd_noturbo($X)"
   ]
  },
  {
   "cell_type": "code",
   "execution_count": 26,
   "id": "3cc115d5",
   "metadata": {},
   "outputs": [
    {
     "name": "stdout",
     "output_type": "stream",
     "text": [
      "  25.300 μs (2 allocations: 78.17 KiB)\n"
     ]
    },
    {
     "data": {
      "text/plain": [
       "-14260.761394916859"
      ]
     },
     "execution_count": 26,
     "metadata": {},
     "output_type": "execute_result"
    }
   ],
   "source": [
    "@btime fd_turbo($X)"
   ]
  },
  {
   "cell_type": "markdown",
   "id": "22ae747e",
   "metadata": {},
   "source": [
    "牛皮， 竟然快了接近三倍， 再试试负二项分布"
   ]
  },
  {
   "cell_type": "code",
   "execution_count": 27,
   "id": "27847707",
   "metadata": {},
   "outputs": [
    {
     "data": {
      "text/plain": [
       "fd2_turbo (generic function with 1 method)"
      ]
     },
     "execution_count": 27,
     "metadata": {},
     "output_type": "execute_result"
    }
   ],
   "source": [
    "fd2_noturbo(x) = sum(logpdf.(Poisson(10), x))\n",
    "fd2_turbo(x) = sum(@turbo logpdf.(Poisson(10), x))"
   ]
  },
  {
   "cell_type": "code",
   "execution_count": 28,
   "id": "cb2d3fe0",
   "metadata": {},
   "outputs": [],
   "source": [
    "X2 = rand(seed, Poisson(10), N);"
   ]
  },
  {
   "cell_type": "code",
   "execution_count": 29,
   "id": "baaddbff",
   "metadata": {},
   "outputs": [
    {
     "name": "stdout",
     "output_type": "stream",
     "text": [
      "  355.200 μs (2 allocations: 78.17 KiB)\n"
     ]
    },
    {
     "data": {
      "text/plain": [
       "-25611.709792507012"
      ]
     },
     "execution_count": 29,
     "metadata": {},
     "output_type": "execute_result"
    }
   ],
   "source": [
    "@btime fd2_noturbo($X2)"
   ]
  },
  {
   "cell_type": "code",
   "execution_count": 30,
   "id": "4618366b",
   "metadata": {},
   "outputs": [],
   "source": [
    "X2 = Vector{Float64}(X2);"
   ]
  },
  {
   "cell_type": "code",
   "execution_count": 31,
   "id": "ac4a4207",
   "metadata": {},
   "outputs": [],
   "source": [
    "using Test"
   ]
  },
  {
   "cell_type": "code",
   "execution_count": 63,
   "id": "6a86fe32",
   "metadata": {
    "scrolled": true
   },
   "outputs": [
    {
     "data": {
      "text/plain": [
       "\u001b[33m\u001b[1mTest Broken\u001b[22m\u001b[39m\n",
       "  Expression: fd2_turbo(X2)"
      ]
     },
     "execution_count": 63,
     "metadata": {},
     "output_type": "execute_result"
    }
   ],
   "source": [
    "@test_broken fd2_turbo(X2)"
   ]
  },
  {
   "cell_type": "markdown",
   "id": "cd12e9c6",
   "metadata": {},
   "source": [
    "## Val（）"
   ]
  },
  {
   "cell_type": "markdown",
   "id": "b8c78ea1",
   "metadata": {},
   "source": [
    "Val可以给Julia编译器提供额外的类型信息"
   ]
  },
  {
   "cell_type": "code",
   "execution_count": 33,
   "id": "b4075df6",
   "metadata": {},
   "outputs": [],
   "source": [
    "using StaticArrays"
   ]
  },
  {
   "cell_type": "code",
   "execution_count": 34,
   "id": "9c22f1c8",
   "metadata": {},
   "outputs": [
    {
     "data": {
      "text/plain": [
       "4-element SVector{4, Float64} with indices SOneTo(4):\n",
       " 1.0\n",
       " 2.0\n",
       " 3.0\n",
       " 4.0"
      ]
     },
     "execution_count": 34,
     "metadata": {},
     "output_type": "execute_result"
    }
   ],
   "source": [
    "SVector{4, Float64}(1:4)"
   ]
  },
  {
   "cell_type": "code",
   "execution_count": 35,
   "id": "f6f4e57b",
   "metadata": {},
   "outputs": [
    {
     "data": {
      "text/plain": [
       "static (generic function with 1 method)"
      ]
     },
     "execution_count": 35,
     "metadata": {},
     "output_type": "execute_result"
    }
   ],
   "source": [
    "function static(v::Vector)\n",
    "    return SVector{length(v), eltype(v)}(v)\n",
    "end"
   ]
  },
  {
   "cell_type": "code",
   "execution_count": 36,
   "id": "d92cd873",
   "metadata": {},
   "outputs": [
    {
     "name": "stdout",
     "output_type": "stream",
     "text": [
      "MethodInstance for static(::Vector{Float64})\n",
      "  from static(v::Vector) in Main at In[35]:1\n",
      "Arguments\n",
      "  #self#\u001b[36m::Core.Const(static)\u001b[39m\n",
      "  v\u001b[36m::Vector{Float64}\u001b[39m\n",
      "Body\u001b[91m\u001b[1m::Any\u001b[22m\u001b[39m\n",
      "\u001b[90m1 ─\u001b[39m %1 = Main.length(v)\u001b[36m::Int64\u001b[39m\n",
      "\u001b[90m│  \u001b[39m %2 = Main.eltype(v)\u001b[36m::Core.Const(Float64)\u001b[39m\n",
      "\u001b[90m│  \u001b[39m %3 = Core.apply_type(Main.SVector, %1, %2)\u001b[91m\u001b[1m::Type{SVector{_A, Float64}} where _A\u001b[22m\u001b[39m\n",
      "\u001b[90m│  \u001b[39m %4 = (%3)(v)\u001b[91m\u001b[1m::Any\u001b[22m\u001b[39m\n",
      "\u001b[90m└──\u001b[39m      return %4\n",
      "\n"
     ]
    }
   ],
   "source": [
    "@code_warntype static([1, 2, 3.0])"
   ]
  },
  {
   "cell_type": "markdown",
   "id": "a9f20176",
   "metadata": {},
   "source": [
    "为啥显示类型不稳定？程序在编译时仍然不知道length(v)是多少，运行时才知道，但是`eltype(v)`在编译时是知道的，julia能推断出`eltype(v)`"
   ]
  },
  {
   "cell_type": "markdown",
   "id": "2b11c548",
   "metadata": {},
   "source": [
    "Julia对于`Val`结构体的定义, 可以看出`Val(X)`实例化了一个结构体， 得到`Val{X}()`\n",
    "```julia\n",
    "struct Val{X} where X end\n",
    "Val(X) = Val{X}()\n",
    "```"
   ]
  },
  {
   "cell_type": "code",
   "execution_count": 37,
   "id": "f1ed2dc4",
   "metadata": {},
   "outputs": [
    {
     "data": {
      "text/plain": [
       "static2 (generic function with 1 method)"
      ]
     },
     "execution_count": 37,
     "metadata": {},
     "output_type": "execute_result"
    }
   ],
   "source": [
    "function static2(v::Vector, ::Val{l}) where {l}\n",
    "    return SVector{l, eltype(v)}(v)\n",
    "end"
   ]
  },
  {
   "cell_type": "code",
   "execution_count": 38,
   "id": "bf911602",
   "metadata": {},
   "outputs": [
    {
     "data": {
      "text/plain": [
       "static3 (generic function with 1 method)"
      ]
     },
     "execution_count": 38,
     "metadata": {},
     "output_type": "execute_result"
    }
   ],
   "source": [
    "function static3(v::Vector, l::Int64)\n",
    "    return SVector{l, eltype(v)}(v)\n",
    "end"
   ]
  },
  {
   "cell_type": "code",
   "execution_count": 39,
   "id": "9d51b86c",
   "metadata": {},
   "outputs": [
    {
     "name": "stdout",
     "output_type": "stream",
     "text": [
      "MethodInstance for static2(::Vector{Int64}, ::Val{3})\n",
      "  from static2(v::Vector, ::Val{l}) where l in Main at In[37]:1\n",
      "Static Parameters\n",
      "  l = \u001b[36m3\u001b[39m\n",
      "Arguments\n",
      "  #self#\u001b[36m::Core.Const(static2)\u001b[39m\n",
      "  v\u001b[36m::Vector{Int64}\u001b[39m\n",
      "  _\u001b[36m::Core.Const(Val{3}())\u001b[39m\n",
      "Body\u001b[36m::SVector{3, Int64}\u001b[39m\n",
      "\u001b[90m1 ─\u001b[39m %1 = $(Expr(:static_parameter, 1))\u001b[36m::Core.Const(3)\u001b[39m\n",
      "\u001b[90m│  \u001b[39m %2 = Main.eltype(v)\u001b[36m::Core.Const(Int64)\u001b[39m\n",
      "\u001b[90m│  \u001b[39m %3 = Core.apply_type(Main.SVector, %1, %2)\u001b[36m::Core.Const(SVector{3, Int64})\u001b[39m\n",
      "\u001b[90m│  \u001b[39m %4 = (%3)(v)\u001b[36m::SVector{3, Int64}\u001b[39m\n",
      "\u001b[90m└──\u001b[39m      return %4\n",
      "\n"
     ]
    }
   ],
   "source": [
    "@code_warntype static2([1, 2, 3], Val(3))"
   ]
  },
  {
   "cell_type": "markdown",
   "id": "3d05ce5f",
   "metadata": {},
   "source": [
    "上边的代码为啥类型稳定了？ “它将值l作为编译器就可以知道的类型信息告诉julia了” -JonnyChen"
   ]
  },
  {
   "cell_type": "code",
   "execution_count": 40,
   "id": "c9800421",
   "metadata": {},
   "outputs": [
    {
     "name": "stdout",
     "output_type": "stream",
     "text": [
      "MethodInstance for static3(::Vector{Float64}, ::Int64)\n",
      "  from static3(v::Vector, l::Int64) in Main at In[38]:1\n",
      "Arguments\n",
      "  #self#\u001b[36m::Core.Const(static3)\u001b[39m\n",
      "  v\u001b[36m::Vector{Float64}\u001b[39m\n",
      "  l\u001b[36m::Int64\u001b[39m\n",
      "Body\u001b[91m\u001b[1m::Any\u001b[22m\u001b[39m\n",
      "\u001b[90m1 ─\u001b[39m %1 = Main.eltype(v)\u001b[36m::Core.Const(Float64)\u001b[39m\n",
      "\u001b[90m│  \u001b[39m %2 = Core.apply_type(Main.SVector, l, %1)\u001b[91m\u001b[1m::Type{SVector{_A, Float64}} where _A\u001b[22m\u001b[39m\n",
      "\u001b[90m│  \u001b[39m %3 = (%2)(v)\u001b[91m\u001b[1m::Any\u001b[22m\u001b[39m\n",
      "\u001b[90m└──\u001b[39m      return %3\n",
      "\n"
     ]
    }
   ],
   "source": [
    "@code_warntype static3([1, 2, 3.0], 3)"
   ]
  },
  {
   "cell_type": "markdown",
   "id": "1d14edb9",
   "metadata": {},
   "source": [
    "这个为啥类型不稳定呢？ 貌似3是作为一个变量传进去的， 在llvm源码中看到 `_A = 3`这个代码， 应该是要先执行这个代码， 再去生成`SVector（）`"
   ]
  },
  {
   "cell_type": "markdown",
   "id": "cdb3eea3",
   "metadata": {},
   "source": [
    "## 避免声明容器内元素为抽象类型"
   ]
  },
  {
   "cell_type": "markdown",
   "id": "af9d2180",
   "metadata": {},
   "source": [
    "容器包含：数组，矩阵，向量，元组，命名元组，结构体，自定义结构体等"
   ]
  },
  {
   "cell_type": "code",
   "execution_count": 41,
   "id": "660cd8ac",
   "metadata": {},
   "outputs": [],
   "source": [
    "struct badstructs\n",
    "    apple::AbstractString \n",
    "end"
   ]
  },
  {
   "cell_type": "code",
   "execution_count": 42,
   "id": "4787e3de",
   "metadata": {},
   "outputs": [],
   "source": [
    "struct goodstructs{T<:AbstractString}\n",
    "    apple::T \n",
    "end"
   ]
  },
  {
   "cell_type": "code",
   "execution_count": 43,
   "id": "4eda2ba3",
   "metadata": {},
   "outputs": [
    {
     "data": {
      "text/plain": [
       "badstructs"
      ]
     },
     "execution_count": 43,
     "metadata": {},
     "output_type": "execute_result"
    }
   ],
   "source": [
    "typeof(badstructs(\"apple\"))"
   ]
  },
  {
   "cell_type": "code",
   "execution_count": 44,
   "id": "315bb2e0",
   "metadata": {},
   "outputs": [
    {
     "data": {
      "text/plain": [
       "goodstructs{String}"
      ]
     },
     "execution_count": 44,
     "metadata": {},
     "output_type": "execute_result"
    }
   ],
   "source": [
    "typeof(goodstructs(\"apple\"))"
   ]
  },
  {
   "cell_type": "markdown",
   "id": "fb37def7",
   "metadata": {},
   "source": [
    "## 避免声明容器内的元素为抽象类型"
   ]
  },
  {
   "cell_type": "code",
   "execution_count": 45,
   "id": "75ce70ff",
   "metadata": {},
   "outputs": [],
   "source": [
    "struct badstruct2\n",
    "    a::AbstractMatrix\n",
    "end"
   ]
  },
  {
   "cell_type": "code",
   "execution_count": 46,
   "id": "9198103b",
   "metadata": {},
   "outputs": [],
   "source": [
    "struct goodstruct2{T <: AbstractMatrix}\n",
    "    a::T\n",
    "end"
   ]
  },
  {
   "cell_type": "markdown",
   "id": "a5e6bdcc",
   "metadata": {},
   "source": [
    "## 必要时使用数组视图而不是切片"
   ]
  },
  {
   "cell_type": "code",
   "execution_count": 47,
   "id": "7947e26d",
   "metadata": {},
   "outputs": [],
   "source": [
    "a = rand(1000, 1000);"
   ]
  },
  {
   "cell_type": "code",
   "execution_count": 48,
   "id": "2e6a4e37",
   "metadata": {},
   "outputs": [
    {
     "name": "stdout",
     "output_type": "stream",
     "text": [
      "  122.009 ns (1 allocation: 736 bytes)\n"
     ]
    }
   ],
   "source": [
    "@btime a[1:10, 3:10];"
   ]
  },
  {
   "cell_type": "code",
   "execution_count": 49,
   "id": "64b9bc17",
   "metadata": {
    "scrolled": true
   },
   "outputs": [
    {
     "name": "stdout",
     "output_type": "stream",
     "text": [
      "  30.391 ns (1 allocation: 64 bytes)\n"
     ]
    }
   ],
   "source": [
    "@btime @view a[1:10, 3:10];"
   ]
  },
  {
   "cell_type": "code",
   "execution_count": 50,
   "id": "53e5f557",
   "metadata": {},
   "outputs": [
    {
     "name": "stdout",
     "output_type": "stream",
     "text": [
      "  434.673 ns (1 allocation: 2.50 KiB)\n"
     ]
    }
   ],
   "source": [
    "@btime a[1:100:1000, 3:30:900];"
   ]
  },
  {
   "cell_type": "code",
   "execution_count": 51,
   "id": "35d77be3",
   "metadata": {},
   "outputs": [
    {
     "name": "stdout",
     "output_type": "stream",
     "text": [
      "  32.362 ns (1 allocation: 80 bytes)\n"
     ]
    }
   ],
   "source": [
    "@btime @view a[1:100:1000, 3:30:900];"
   ]
  },
  {
   "cell_type": "markdown",
   "id": "736e75b9",
   "metadata": {},
   "source": [
    "尤其是不连续切片，这个的提升非常明显， 几乎是十几倍的提升"
   ]
  },
  {
   "cell_type": "markdown",
   "id": "8ab72ee6",
   "metadata": {},
   "source": [
    "## 不要在函数内部使用全局变量"
   ]
  },
  {
   "cell_type": "markdown",
   "id": "c9a7fc47",
   "metadata": {},
   "source": [
    "### 函数内部使用全局变量(Bad)"
   ]
  },
  {
   "cell_type": "code",
   "execution_count": 52,
   "id": "a22cb719",
   "metadata": {},
   "outputs": [
    {
     "data": {
      "text/plain": [
       "sumI1 (generic function with 1 method)"
      ]
     },
     "execution_count": 52,
     "metadata": {},
     "output_type": "execute_result"
    }
   ],
   "source": [
    "# Bad way\n",
    "I = 100\n",
    "x = randn(I)\n",
    "function sumI1()\n",
    "    s = zero(eltype(x))\n",
    "    for i in 1:I\n",
    "        s+=x[i]\n",
    "    end\n",
    "    return s\n",
    "end"
   ]
  },
  {
   "cell_type": "code",
   "execution_count": 53,
   "id": "2775e487",
   "metadata": {},
   "outputs": [
    {
     "name": "stdout",
     "output_type": "stream",
     "text": [
      "MethodInstance for sumI1()\n",
      "  from sumI1() in Main at In[52]:4\n",
      "Arguments\n",
      "  #self#\u001b[36m::Core.Const(sumI1)\u001b[39m\n",
      "Locals\n",
      "  @_2\u001b[91m\u001b[1m::Any\u001b[22m\u001b[39m\n",
      "  s\u001b[91m\u001b[1m::Any\u001b[22m\u001b[39m\n",
      "  i\u001b[91m\u001b[1m::Any\u001b[22m\u001b[39m\n",
      "Body\u001b[91m\u001b[1m::Any\u001b[22m\u001b[39m\n",
      "\u001b[90m1 ─\u001b[39m %1  = Main.eltype(Main.x)\u001b[91m\u001b[1m::Any\u001b[22m\u001b[39m\n",
      "\u001b[90m│  \u001b[39m       (s = Main.zero(%1))\n",
      "\u001b[90m│  \u001b[39m %3  = (1:Main.I)\u001b[91m\u001b[1m::Any\u001b[22m\u001b[39m\n",
      "\u001b[90m│  \u001b[39m       (@_2 = Base.iterate(%3))\n",
      "\u001b[90m│  \u001b[39m %5  = (@_2 === nothing)\u001b[36m::Bool\u001b[39m\n",
      "\u001b[90m│  \u001b[39m %6  = Base.not_int(%5)\u001b[36m::Bool\u001b[39m\n",
      "\u001b[90m└──\u001b[39m       goto #4 if not %6\n",
      "\u001b[90m2 ┄\u001b[39m %8  = @_2\u001b[91m\u001b[1m::Any\u001b[22m\u001b[39m\n",
      "\u001b[90m│  \u001b[39m       (i = Core.getfield(%8, 1))\n",
      "\u001b[90m│  \u001b[39m %10 = Core.getfield(%8, 2)\u001b[91m\u001b[1m::Any\u001b[22m\u001b[39m\n",
      "\u001b[90m│  \u001b[39m %11 = s\u001b[91m\u001b[1m::Any\u001b[22m\u001b[39m\n",
      "\u001b[90m│  \u001b[39m %12 = Base.getindex(Main.x, i)\u001b[91m\u001b[1m::Any\u001b[22m\u001b[39m\n",
      "\u001b[90m│  \u001b[39m       (s = %11 + %12)\n",
      "\u001b[90m│  \u001b[39m       (@_2 = Base.iterate(%3, %10))\n",
      "\u001b[90m│  \u001b[39m %15 = (@_2 === nothing)\u001b[36m::Bool\u001b[39m\n",
      "\u001b[90m│  \u001b[39m %16 = Base.not_int(%15)\u001b[36m::Bool\u001b[39m\n",
      "\u001b[90m└──\u001b[39m       goto #4 if not %16\n",
      "\u001b[90m3 ─\u001b[39m       goto #2\n",
      "\u001b[90m4 ┄\u001b[39m       return s\n",
      "\n"
     ]
    }
   ],
   "source": [
    "@code_warntype sumI1()"
   ]
  },
  {
   "cell_type": "markdown",
   "id": "f5f70c95",
   "metadata": {},
   "source": [
    "`I`和`x`是全局变量， 函数内部使用了全局变量， 运行时程序不会报错， 但是出现了类型不稳定的情况，原因是`s`和`I`在编译时不知道类型， 只有在执行时才知道"
   ]
  },
  {
   "cell_type": "markdown",
   "id": "3e90afa8",
   "metadata": {},
   "source": [
    "### 函数内部使用全局常量(Good)"
   ]
  },
  {
   "cell_type": "code",
   "execution_count": 54,
   "id": "e51d7706",
   "metadata": {},
   "outputs": [
    {
     "data": {
      "text/plain": [
       "sumI2 (generic function with 1 method)"
      ]
     },
     "execution_count": 54,
     "metadata": {},
     "output_type": "execute_result"
    }
   ],
   "source": [
    "# Good way 1\n",
    "const CI = 100\n",
    "const Cx = randn(CI)\n",
    "function sumI2()\n",
    "    s = zero(eltype(Cx))\n",
    "    for i in 1:CI\n",
    "        s+=Cx[i]\n",
    "    end\n",
    "    return s\n",
    "end"
   ]
  },
  {
   "cell_type": "code",
   "execution_count": 55,
   "id": "b4cafae8",
   "metadata": {},
   "outputs": [
    {
     "name": "stdout",
     "output_type": "stream",
     "text": [
      "MethodInstance for sumI2()\n",
      "  from sumI2() in Main at In[54]:4\n",
      "Arguments\n",
      "  #self#\u001b[36m::Core.Const(sumI2)\u001b[39m\n",
      "Locals\n",
      "  @_2\u001b[33m\u001b[1m::Union{Nothing, Tuple{Int64, Int64}}\u001b[22m\u001b[39m\n",
      "  s\u001b[36m::Float64\u001b[39m\n",
      "  i\u001b[36m::Int64\u001b[39m\n",
      "Body\u001b[36m::Float64\u001b[39m\n",
      "\u001b[90m1 ─\u001b[39m %1  = Main.eltype(Main.Cx)\u001b[36m::Core.Const(Float64)\u001b[39m\n",
      "\u001b[90m│  \u001b[39m       (s = Main.zero(%1))\n",
      "\u001b[90m│  \u001b[39m %3  = (1:Main.CI)\u001b[36m::Core.Const(1:100)\u001b[39m\n",
      "\u001b[90m│  \u001b[39m       (@_2 = Base.iterate(%3))\n",
      "\u001b[90m│  \u001b[39m %5  = (@_2::Core.Const((1, 1)) === nothing)\u001b[36m::Core.Const(false)\u001b[39m\n",
      "\u001b[90m│  \u001b[39m %6  = Base.not_int(%5)\u001b[36m::Core.Const(true)\u001b[39m\n",
      "\u001b[90m└──\u001b[39m       goto #4 if not %6\n",
      "\u001b[90m2 ┄\u001b[39m %8  = @_2\u001b[36m::Tuple{Int64, Int64}\u001b[39m\n",
      "\u001b[90m│  \u001b[39m       (i = Core.getfield(%8, 1))\n",
      "\u001b[90m│  \u001b[39m %10 = Core.getfield(%8, 2)\u001b[36m::Int64\u001b[39m\n",
      "\u001b[90m│  \u001b[39m %11 = s\u001b[36m::Float64\u001b[39m\n",
      "\u001b[90m│  \u001b[39m %12 = Base.getindex(Main.Cx, i)\u001b[36m::Float64\u001b[39m\n",
      "\u001b[90m│  \u001b[39m       (s = %11 + %12)\n",
      "\u001b[90m│  \u001b[39m       (@_2 = Base.iterate(%3, %10))\n",
      "\u001b[90m│  \u001b[39m %15 = (@_2 === nothing)\u001b[36m::Bool\u001b[39m\n",
      "\u001b[90m│  \u001b[39m %16 = Base.not_int(%15)\u001b[36m::Bool\u001b[39m\n",
      "\u001b[90m└──\u001b[39m       goto #4 if not %16\n",
      "\u001b[90m3 ─\u001b[39m       goto #2\n",
      "\u001b[90m4 ┄\u001b[39m       return s\n",
      "\n"
     ]
    }
   ],
   "source": [
    "@code_warntype sumI2()"
   ]
  },
  {
   "cell_type": "markdown",
   "id": "4f4d1d6f",
   "metadata": {},
   "source": [
    "将全局变量变为全局常量， 能够得到编译器充分优化的代码， julia能够在编译期推断出变量的类型"
   ]
  },
  {
   "cell_type": "markdown",
   "id": "c157e30b",
   "metadata": {},
   "source": [
    "### 函数通过结构体传入数据（Good如果结构体内的字段有类型标注）"
   ]
  },
  {
   "cell_type": "code",
   "execution_count": 56,
   "id": "1a19737a",
   "metadata": {},
   "outputs": [
    {
     "data": {
      "text/plain": [
       "sumI3 (generic function with 1 method)"
      ]
     },
     "execution_count": 56,
     "metadata": {},
     "output_type": "execute_result"
    }
   ],
   "source": [
    "# Good way 2\n",
    "Base.@kwdef mutable struct data\n",
    "    I::Int = 100                   # 必须进行类型标注\n",
    "    x::Vector{Float64} = randn(I)  # 必须进行类型标注\n",
    "end\n",
    "function sumI3(d::data)\n",
    "    x, I = d.x, d.I\n",
    "    s = zero(eltype(x))\n",
    "    for i in 1:I\n",
    "        s+=x[i]\n",
    "    end\n",
    "    return s\n",
    "end"
   ]
  },
  {
   "cell_type": "code",
   "execution_count": 57,
   "id": "3774eee1",
   "metadata": {},
   "outputs": [
    {
     "name": "stdout",
     "output_type": "stream",
     "text": [
      "MethodInstance for sumI3(::data)\n",
      "  from sumI3(d::data) in Main at In[56]:6\n",
      "Arguments\n",
      "  #self#\u001b[36m::Core.Const(sumI3)\u001b[39m\n",
      "  d\u001b[36m::data\u001b[39m\n",
      "Locals\n",
      "  @_3\u001b[33m\u001b[1m::Union{Nothing, Tuple{Int64, Int64}}\u001b[22m\u001b[39m\n",
      "  s\u001b[36m::Float64\u001b[39m\n",
      "  I\u001b[36m::Int64\u001b[39m\n",
      "  x\u001b[36m::Vector{Float64}\u001b[39m\n",
      "  i\u001b[36m::Int64\u001b[39m\n",
      "Body\u001b[36m::Float64\u001b[39m\n",
      "\u001b[90m1 ─\u001b[39m %1  = Base.getproperty(d, :x)\u001b[36m::Vector{Float64}\u001b[39m\n",
      "\u001b[90m│  \u001b[39m %2  = Base.getproperty(d, :I)\u001b[36m::Int64\u001b[39m\n",
      "\u001b[90m│  \u001b[39m       (x = %1)\n",
      "\u001b[90m│  \u001b[39m       (I = %2)\n",
      "\u001b[90m│  \u001b[39m %5  = Main.eltype(x)\u001b[36m::Core.Const(Float64)\u001b[39m\n",
      "\u001b[90m│  \u001b[39m       (s = Main.zero(%5))\n",
      "\u001b[90m│  \u001b[39m %7  = (1:I)\u001b[36m::Core.PartialStruct(UnitRange{Int64}, Any[Core.Const(1), Int64])\u001b[39m\n",
      "\u001b[90m│  \u001b[39m       (@_3 = Base.iterate(%7))\n",
      "\u001b[90m│  \u001b[39m %9  = (@_3 === nothing)\u001b[36m::Bool\u001b[39m\n",
      "\u001b[90m│  \u001b[39m %10 = Base.not_int(%9)\u001b[36m::Bool\u001b[39m\n",
      "\u001b[90m└──\u001b[39m       goto #4 if not %10\n",
      "\u001b[90m2 ┄\u001b[39m %12 = @_3\u001b[36m::Tuple{Int64, Int64}\u001b[39m\n",
      "\u001b[90m│  \u001b[39m       (i = Core.getfield(%12, 1))\n",
      "\u001b[90m│  \u001b[39m %14 = Core.getfield(%12, 2)\u001b[36m::Int64\u001b[39m\n",
      "\u001b[90m│  \u001b[39m %15 = s\u001b[36m::Float64\u001b[39m\n",
      "\u001b[90m│  \u001b[39m %16 = Base.getindex(x, i)\u001b[36m::Float64\u001b[39m\n",
      "\u001b[90m│  \u001b[39m       (s = %15 + %16)\n",
      "\u001b[90m│  \u001b[39m       (@_3 = Base.iterate(%7, %14))\n",
      "\u001b[90m│  \u001b[39m %19 = (@_3 === nothing)\u001b[36m::Bool\u001b[39m\n",
      "\u001b[90m│  \u001b[39m %20 = Base.not_int(%19)\u001b[36m::Bool\u001b[39m\n",
      "\u001b[90m└──\u001b[39m       goto #4 if not %20\n",
      "\u001b[90m3 ─\u001b[39m       goto #2\n",
      "\u001b[90m4 ┄\u001b[39m       return s\n",
      "\n"
     ]
    }
   ],
   "source": [
    "@code_warntype sumI3(data())"
   ]
  },
  {
   "cell_type": "markdown",
   "id": "3e9b9aeb",
   "metadata": {},
   "source": [
    "### 函数通过结构体传入数据（Bad如果结构体内的字段没有类型标注）"
   ]
  },
  {
   "cell_type": "code",
   "execution_count": 58,
   "id": "08eee2fe",
   "metadata": {},
   "outputs": [
    {
     "data": {
      "text/plain": [
       "sumI4 (generic function with 1 method)"
      ]
     },
     "execution_count": 58,
     "metadata": {},
     "output_type": "execute_result"
    }
   ],
   "source": [
    "# Bad way \n",
    "Base.@kwdef mutable struct data2\n",
    "    I = 100            \n",
    "    x = randn(I) \n",
    "end\n",
    "function sumI4(d::data2)\n",
    "    x, I = d.x, d.I\n",
    "    s = zero(eltype(x))\n",
    "    for i in 1:I\n",
    "        s+=x[i]\n",
    "    end\n",
    "    return s\n",
    "end"
   ]
  },
  {
   "cell_type": "code",
   "execution_count": 59,
   "id": "3e91f24c",
   "metadata": {},
   "outputs": [
    {
     "name": "stdout",
     "output_type": "stream",
     "text": [
      "MethodInstance for sumI4(::data2)\n",
      "  from sumI4(d::data2) in Main at In[58]:6\n",
      "Arguments\n",
      "  #self#\u001b[36m::Core.Const(sumI4)\u001b[39m\n",
      "  d\u001b[36m::data2\u001b[39m\n",
      "Locals\n",
      "  @_3\u001b[91m\u001b[1m::Any\u001b[22m\u001b[39m\n",
      "  s\u001b[91m\u001b[1m::Any\u001b[22m\u001b[39m\n",
      "  I\u001b[91m\u001b[1m::Any\u001b[22m\u001b[39m\n",
      "  x\u001b[91m\u001b[1m::Any\u001b[22m\u001b[39m\n",
      "  i\u001b[91m\u001b[1m::Any\u001b[22m\u001b[39m\n",
      "Body\u001b[91m\u001b[1m::Any\u001b[22m\u001b[39m\n",
      "\u001b[90m1 ─\u001b[39m %1  = Base.getproperty(d, :x)\u001b[91m\u001b[1m::Any\u001b[22m\u001b[39m\n",
      "\u001b[90m│  \u001b[39m %2  = Base.getproperty(d, :I)\u001b[91m\u001b[1m::Any\u001b[22m\u001b[39m\n",
      "\u001b[90m│  \u001b[39m       (x = %1)\n",
      "\u001b[90m│  \u001b[39m       (I = %2)\n",
      "\u001b[90m│  \u001b[39m %5  = Main.eltype(x)\u001b[91m\u001b[1m::Any\u001b[22m\u001b[39m\n",
      "\u001b[90m│  \u001b[39m       (s = Main.zero(%5))\n",
      "\u001b[90m│  \u001b[39m %7  = (1:I)\u001b[91m\u001b[1m::Any\u001b[22m\u001b[39m\n",
      "\u001b[90m│  \u001b[39m       (@_3 = Base.iterate(%7))\n",
      "\u001b[90m│  \u001b[39m %9  = (@_3 === nothing)\u001b[36m::Bool\u001b[39m\n",
      "\u001b[90m│  \u001b[39m %10 = Base.not_int(%9)\u001b[36m::Bool\u001b[39m\n",
      "\u001b[90m└──\u001b[39m       goto #4 if not %10\n",
      "\u001b[90m2 ┄\u001b[39m %12 = @_3\u001b[91m\u001b[1m::Any\u001b[22m\u001b[39m\n",
      "\u001b[90m│  \u001b[39m       (i = Core.getfield(%12, 1))\n",
      "\u001b[90m│  \u001b[39m %14 = Core.getfield(%12, 2)\u001b[91m\u001b[1m::Any\u001b[22m\u001b[39m\n",
      "\u001b[90m│  \u001b[39m %15 = s\u001b[91m\u001b[1m::Any\u001b[22m\u001b[39m\n",
      "\u001b[90m│  \u001b[39m %16 = Base.getindex(x, i)\u001b[91m\u001b[1m::Any\u001b[22m\u001b[39m\n",
      "\u001b[90m│  \u001b[39m       (s = %15 + %16)\n",
      "\u001b[90m│  \u001b[39m       (@_3 = Base.iterate(%7, %14))\n",
      "\u001b[90m│  \u001b[39m %19 = (@_3 === nothing)\u001b[36m::Bool\u001b[39m\n",
      "\u001b[90m│  \u001b[39m %20 = Base.not_int(%19)\u001b[36m::Bool\u001b[39m\n",
      "\u001b[90m└──\u001b[39m       goto #4 if not %20\n",
      "\u001b[90m3 ─\u001b[39m       goto #2\n",
      "\u001b[90m4 ┄\u001b[39m       return s\n",
      "\n"
     ]
    }
   ],
   "source": [
    "@code_warntype sumI4(data2())"
   ]
  }
 ],
 "metadata": {
  "kernelspec": {
   "display_name": "Julia 1.7.3",
   "language": "julia",
   "name": "julia-1.7"
  },
  "language_info": {
   "file_extension": ".jl",
   "mimetype": "application/julia",
   "name": "julia",
   "version": "1.7.3"
  },
  "latex_envs": {
   "LaTeX_envs_menu_present": true,
   "autoclose": false,
   "autocomplete": true,
   "bibliofile": "biblio.bib",
   "cite_by": "apalike",
   "current_citInitial": 1,
   "eqLabelWithNumbers": true,
   "eqNumInitial": 1,
   "hotkeys": {
    "equation": "Ctrl-E",
    "itemize": "Ctrl-I"
   },
   "labels_anchors": false,
   "latex_user_defs": false,
   "report_style_numbering": false,
   "user_envs_cfg": false
  },
  "toc": {
   "base_numbering": 1,
   "nav_menu": {},
   "number_sections": true,
   "sideBar": true,
   "skip_h1_title": false,
   "title_cell": "Table of Contents",
   "title_sidebar": "Contents",
   "toc_cell": false,
   "toc_position": {
    "height": "calc(100% - 180px)",
    "left": "10px",
    "top": "150px",
    "width": "392.148px"
   },
   "toc_section_display": true,
   "toc_window_display": true
  }
 },
 "nbformat": 4,
 "nbformat_minor": 5
}
